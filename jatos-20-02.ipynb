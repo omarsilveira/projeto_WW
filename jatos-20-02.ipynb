{
 "cells": [
  {
   "cell_type": "code",
   "execution_count": 1,
   "id": "498689dd",
   "metadata": {},
   "outputs": [
    {
     "name": "stdout",
     "output_type": "stream",
     "text": [
      "FPMC_WW_14TeV_a0w_0E0_aCw_0E0_noHADR_pt0_0_WWhadDecays_Delphes_PU200.root\r\n",
      "FPMC_WW_14TeV_a0w_0E0_aCw_0E0_noHADR_pt0_100_WWhadDecays_Delphes_PU200.root\r\n",
      "FPMC_WW_14TeV_a0w_0E0_aCw_0E0_noHADR_pt0_101_WWhadDecays_Delphes_PU200.root\r\n",
      "FPMC_WW_14TeV_a0w_0E0_aCw_0E0_noHADR_pt0_102_WWhadDecays_Delphes_PU200.root\r\n",
      "FPMC_WW_14TeV_a0w_0E0_aCw_0E0_noHADR_pt0_103_WWhadDecays_Delphes_PU200.root\r\n",
      "FPMC_WW_14TeV_a0w_0E0_aCw_0E0_noHADR_pt0_104_WWhadDecays_Delphes_PU200.root\r\n",
      "FPMC_WW_14TeV_a0w_0E0_aCw_0E0_noHADR_pt0_105_WWhadDecays_Delphes_PU200.root\r\n",
      "FPMC_WW_14TeV_a0w_0E0_aCw_0E0_noHADR_pt0_106_WWhadDecays_Delphes_PU200.root\r\n",
      "FPMC_WW_14TeV_a0w_0E0_aCw_0E0_noHADR_pt0_107_WWhadDecays_Delphes_PU200.root\r\n",
      "FPMC_WW_14TeV_a0w_0E0_aCw_0E0_noHADR_pt0_108_WWhadDecays_Delphes_PU200.root\r\n",
      "FPMC_WW_14TeV_a0w_0E0_aCw_0E0_noHADR_pt0_109_WWhadDecays_Delphes_PU200.root\r\n",
      "FPMC_WW_14TeV_a0w_0E0_aCw_0E0_noHADR_pt0_10_WWhadDecays_Delphes_PU200.root\r\n",
      "FPMC_WW_14TeV_a0w_0E0_aCw_0E0_noHADR_pt0_110_WWhadDecays_Delphes_PU200.root\r\n",
      "FPMC_WW_14TeV_a0w_0E0_aCw_0E0_noHADR_pt0_111_WWhadDecays_Delphes_PU200.root\r\n",
      "FPMC_WW_14TeV_a0w_0E0_aCw_0E0_noHADR_pt0_112_WWhadDecays_Delphes_PU200.root\r\n",
      "FPMC_WW_14TeV_a0w_0E0_aCw_0E0_noHADR_pt0_113_WWhadDecays_Delphes_PU200.root\r\n",
      "FPMC_WW_14TeV_a0w_0E0_aCw_0E0_noHADR_pt0_114_WWhadDecays_Delphes_PU200.root\r\n",
      "FPMC_WW_14TeV_a0w_0E0_aCw_0E0_noHADR_pt0_115_WWhadDecays_Delphes_PU200.root\r\n",
      "FPMC_WW_14TeV_a0w_0E0_aCw_0E0_noHADR_pt0_116_WWhadDecays_Delphes_PU200.root\r\n",
      "FPMC_WW_14TeV_a0w_0E0_aCw_0E0_noHADR_pt0_117_WWhadDecays_Delphes_PU200.root\r\n",
      "FPMC_WW_14TeV_a0w_0E0_aCw_0E0_noHADR_pt0_118_WWhadDecays_Delphes_PU200.root\r\n",
      "FPMC_WW_14TeV_a0w_0E0_aCw_0E0_noHADR_pt0_119_WWhadDecays_Delphes_PU200.root\r\n",
      "FPMC_WW_14TeV_a0w_0E0_aCw_0E0_noHADR_pt0_11_WWhadDecays_Delphes_PU200.root\r\n",
      "FPMC_WW_14TeV_a0w_0E0_aCw_0E0_noHADR_pt0_120_WWhadDecays_Delphes_PU200.root\r\n",
      "FPMC_WW_14TeV_a0w_0E0_aCw_0E0_noHADR_pt0_121_WWhadDecays_Delphes_PU200.root\r\n",
      "FPMC_WW_14TeV_a0w_0E0_aCw_0E0_noHADR_pt0_122_WWhadDecays_Delphes_PU200.root\r\n",
      "FPMC_WW_14TeV_a0w_0E0_aCw_0E0_noHADR_pt0_123_WWhadDecays_Delphes_PU200.root\r\n",
      "FPMC_WW_14TeV_a0w_0E0_aCw_0E0_noHADR_pt0_124_WWhadDecays_Delphes_PU200.root\r\n",
      "FPMC_WW_14TeV_a0w_0E0_aCw_0E0_noHADR_pt0_125_WWhadDecays_Delphes_PU200.root\r\n",
      "FPMC_WW_14TeV_a0w_0E0_aCw_0E0_noHADR_pt0_126_WWhadDecays_Delphes_PU200.root\r\n",
      "FPMC_WW_14TeV_a0w_0E0_aCw_0E0_noHADR_pt0_127_WWhadDecays_Delphes_PU200.root\r\n",
      "FPMC_WW_14TeV_a0w_0E0_aCw_0E0_noHADR_pt0_128_WWhadDecays_Delphes_PU200.root\r\n",
      "FPMC_WW_14TeV_a0w_0E0_aCw_0E0_noHADR_pt0_129_WWhadDecays_Delphes_PU200.root\r\n",
      "FPMC_WW_14TeV_a0w_0E0_aCw_0E0_noHADR_pt0_12_WWhadDecays_Delphes_PU200.root\r\n",
      "FPMC_WW_14TeV_a0w_0E0_aCw_0E0_noHADR_pt0_130_WWhadDecays_Delphes_PU200.root\r\n",
      "FPMC_WW_14TeV_a0w_0E0_aCw_0E0_noHADR_pt0_131_WWhadDecays_Delphes_PU200.root\r\n",
      "FPMC_WW_14TeV_a0w_0E0_aCw_0E0_noHADR_pt0_132_WWhadDecays_Delphes_PU200.root\r\n",
      "FPMC_WW_14TeV_a0w_0E0_aCw_0E0_noHADR_pt0_133_WWhadDecays_Delphes_PU200.root\r\n",
      "FPMC_WW_14TeV_a0w_0E0_aCw_0E0_noHADR_pt0_134_WWhadDecays_Delphes_PU200.root\r\n",
      "FPMC_WW_14TeV_a0w_0E0_aCw_0E0_noHADR_pt0_135_WWhadDecays_Delphes_PU200.root\r\n",
      "FPMC_WW_14TeV_a0w_0E0_aCw_0E0_noHADR_pt0_136_WWhadDecays_Delphes_PU200.root\r\n",
      "FPMC_WW_14TeV_a0w_0E0_aCw_0E0_noHADR_pt0_137_WWhadDecays_Delphes_PU200.root\r\n",
      "FPMC_WW_14TeV_a0w_0E0_aCw_0E0_noHADR_pt0_138_WWhadDecays_Delphes_PU200.root\r\n",
      "FPMC_WW_14TeV_a0w_0E0_aCw_0E0_noHADR_pt0_139_WWhadDecays_Delphes_PU200.root\r\n",
      "FPMC_WW_14TeV_a0w_0E0_aCw_0E0_noHADR_pt0_13_WWhadDecays_Delphes_PU200.root\r\n",
      "FPMC_WW_14TeV_a0w_0E0_aCw_0E0_noHADR_pt0_140_WWhadDecays_Delphes_PU200.root\r\n",
      "FPMC_WW_14TeV_a0w_0E0_aCw_0E0_noHADR_pt0_141_WWhadDecays_Delphes_PU200.root\r\n",
      "FPMC_WW_14TeV_a0w_0E0_aCw_0E0_noHADR_pt0_142_WWhadDecays_Delphes_PU200.root\r\n",
      "FPMC_WW_14TeV_a0w_0E0_aCw_0E0_noHADR_pt0_143_WWhadDecays_Delphes_PU200.root\r\n",
      "FPMC_WW_14TeV_a0w_0E0_aCw_0E0_noHADR_pt0_144_WWhadDecays_Delphes_PU200.root\r\n",
      "FPMC_WW_14TeV_a0w_0E0_aCw_0E0_noHADR_pt0_145_WWhadDecays_Delphes_PU200.root\r\n",
      "FPMC_WW_14TeV_a0w_0E0_aCw_0E0_noHADR_pt0_146_WWhadDecays_Delphes_PU200.root\r\n",
      "FPMC_WW_14TeV_a0w_0E0_aCw_0E0_noHADR_pt0_147_WWhadDecays_Delphes_PU200.root\r\n",
      "FPMC_WW_14TeV_a0w_0E0_aCw_0E0_noHADR_pt0_148_WWhadDecays_Delphes_PU200.root\r\n",
      "FPMC_WW_14TeV_a0w_0E0_aCw_0E0_noHADR_pt0_149_WWhadDecays_Delphes_PU200.root\r\n",
      "FPMC_WW_14TeV_a0w_0E0_aCw_0E0_noHADR_pt0_14_WWhadDecays_Delphes_PU200.root\r\n",
      "FPMC_WW_14TeV_a0w_0E0_aCw_0E0_noHADR_pt0_150_WWhadDecays_Delphes_PU200.root\r\n",
      "FPMC_WW_14TeV_a0w_0E0_aCw_0E0_noHADR_pt0_151_WWhadDecays_Delphes_PU200.root\r\n",
      "FPMC_WW_14TeV_a0w_0E0_aCw_0E0_noHADR_pt0_152_WWhadDecays_Delphes_PU200.root\r\n",
      "FPMC_WW_14TeV_a0w_0E0_aCw_0E0_noHADR_pt0_153_WWhadDecays_Delphes_PU200.root\r\n",
      "FPMC_WW_14TeV_a0w_0E0_aCw_0E0_noHADR_pt0_154_WWhadDecays_Delphes_PU200.root\r\n",
      "FPMC_WW_14TeV_a0w_0E0_aCw_0E0_noHADR_pt0_155_WWhadDecays_Delphes_PU200.root\r\n",
      "FPMC_WW_14TeV_a0w_0E0_aCw_0E0_noHADR_pt0_156_WWhadDecays_Delphes_PU200.root\r\n",
      "FPMC_WW_14TeV_a0w_0E0_aCw_0E0_noHADR_pt0_157_WWhadDecays_Delphes_PU200.root\r\n",
      "FPMC_WW_14TeV_a0w_0E0_aCw_0E0_noHADR_pt0_158_WWhadDecays_Delphes_PU200.root\r\n",
      "FPMC_WW_14TeV_a0w_0E0_aCw_0E0_noHADR_pt0_159_WWhadDecays_Delphes_PU200.root\r\n",
      "FPMC_WW_14TeV_a0w_0E0_aCw_0E0_noHADR_pt0_15_WWhadDecays_Delphes_PU200.root\r\n",
      "FPMC_WW_14TeV_a0w_0E0_aCw_0E0_noHADR_pt0_160_WWhadDecays_Delphes_PU200.root\r\n",
      "FPMC_WW_14TeV_a0w_0E0_aCw_0E0_noHADR_pt0_161_WWhadDecays_Delphes_PU200.root\r\n",
      "FPMC_WW_14TeV_a0w_0E0_aCw_0E0_noHADR_pt0_162_WWhadDecays_Delphes_PU200.root\r\n",
      "FPMC_WW_14TeV_a0w_0E0_aCw_0E0_noHADR_pt0_163_WWhadDecays_Delphes_PU200.root\r\n",
      "FPMC_WW_14TeV_a0w_0E0_aCw_0E0_noHADR_pt0_164_WWhadDecays_Delphes_PU200.root\r\n",
      "FPMC_WW_14TeV_a0w_0E0_aCw_0E0_noHADR_pt0_165_WWhadDecays_Delphes_PU200.root\r\n",
      "FPMC_WW_14TeV_a0w_0E0_aCw_0E0_noHADR_pt0_166_WWhadDecays_Delphes_PU200.root\r\n",
      "FPMC_WW_14TeV_a0w_0E0_aCw_0E0_noHADR_pt0_167_WWhadDecays_Delphes_PU200.root\r\n",
      "FPMC_WW_14TeV_a0w_0E0_aCw_0E0_noHADR_pt0_168_WWhadDecays_Delphes_PU200.root\r\n",
      "FPMC_WW_14TeV_a0w_0E0_aCw_0E0_noHADR_pt0_169_WWhadDecays_Delphes_PU200.root\r\n",
      "FPMC_WW_14TeV_a0w_0E0_aCw_0E0_noHADR_pt0_16_WWhadDecays_Delphes_PU200.root\r\n",
      "FPMC_WW_14TeV_a0w_0E0_aCw_0E0_noHADR_pt0_170_WWhadDecays_Delphes_PU200.root\r\n",
      "FPMC_WW_14TeV_a0w_0E0_aCw_0E0_noHADR_pt0_171_WWhadDecays_Delphes_PU200.root\r\n",
      "FPMC_WW_14TeV_a0w_0E0_aCw_0E0_noHADR_pt0_172_WWhadDecays_Delphes_PU200.root\r\n",
      "FPMC_WW_14TeV_a0w_0E0_aCw_0E0_noHADR_pt0_173_WWhadDecays_Delphes_PU200.root\r\n",
      "FPMC_WW_14TeV_a0w_0E0_aCw_0E0_noHADR_pt0_174_WWhadDecays_Delphes_PU200.root\r\n",
      "FPMC_WW_14TeV_a0w_0E0_aCw_0E0_noHADR_pt0_175_WWhadDecays_Delphes_PU200.root\r\n",
      "FPMC_WW_14TeV_a0w_0E0_aCw_0E0_noHADR_pt0_176_WWhadDecays_Delphes_PU200.root\r\n",
      "FPMC_WW_14TeV_a0w_0E0_aCw_0E0_noHADR_pt0_177_WWhadDecays_Delphes_PU200.root\r\n",
      "FPMC_WW_14TeV_a0w_0E0_aCw_0E0_noHADR_pt0_178_WWhadDecays_Delphes_PU200.root\r\n",
      "FPMC_WW_14TeV_a0w_0E0_aCw_0E0_noHADR_pt0_179_WWhadDecays_Delphes_PU200.root\r\n",
      "FPMC_WW_14TeV_a0w_0E0_aCw_0E0_noHADR_pt0_17_WWhadDecays_Delphes_PU200.root\r\n",
      "FPMC_WW_14TeV_a0w_0E0_aCw_0E0_noHADR_pt0_180_WWhadDecays_Delphes_PU200.root\r\n",
      "FPMC_WW_14TeV_a0w_0E0_aCw_0E0_noHADR_pt0_181_WWhadDecays_Delphes_PU200.root\r\n",
      "FPMC_WW_14TeV_a0w_0E0_aCw_0E0_noHADR_pt0_182_WWhadDecays_Delphes_PU200.root\r\n",
      "FPMC_WW_14TeV_a0w_0E0_aCw_0E0_noHADR_pt0_183_WWhadDecays_Delphes_PU200.root\r\n",
      "FPMC_WW_14TeV_a0w_0E0_aCw_0E0_noHADR_pt0_184_WWhadDecays_Delphes_PU200.root\r\n",
      "FPMC_WW_14TeV_a0w_0E0_aCw_0E0_noHADR_pt0_185_WWhadDecays_Delphes_PU200.root\r\n",
      "FPMC_WW_14TeV_a0w_0E0_aCw_0E0_noHADR_pt0_186_WWhadDecays_Delphes_PU200.root\r\n",
      "FPMC_WW_14TeV_a0w_0E0_aCw_0E0_noHADR_pt0_187_WWhadDecays_Delphes_PU200.root\r\n",
      "FPMC_WW_14TeV_a0w_0E0_aCw_0E0_noHADR_pt0_188_WWhadDecays_Delphes_PU200.root\r\n",
      "FPMC_WW_14TeV_a0w_0E0_aCw_0E0_noHADR_pt0_189_WWhadDecays_Delphes_PU200.root\r\n",
      "FPMC_WW_14TeV_a0w_0E0_aCw_0E0_noHADR_pt0_18_WWhadDecays_Delphes_PU200.root\r\n",
      "FPMC_WW_14TeV_a0w_0E0_aCw_0E0_noHADR_pt0_190_WWhadDecays_Delphes_PU200.root\r\n",
      "FPMC_WW_14TeV_a0w_0E0_aCw_0E0_noHADR_pt0_191_WWhadDecays_Delphes_PU200.root\r\n",
      "FPMC_WW_14TeV_a0w_0E0_aCw_0E0_noHADR_pt0_192_WWhadDecays_Delphes_PU200.root\r\n",
      "FPMC_WW_14TeV_a0w_0E0_aCw_0E0_noHADR_pt0_193_WWhadDecays_Delphes_PU200.root\r\n",
      "FPMC_WW_14TeV_a0w_0E0_aCw_0E0_noHADR_pt0_194_WWhadDecays_Delphes_PU200.root\r\n",
      "FPMC_WW_14TeV_a0w_0E0_aCw_0E0_noHADR_pt0_195_WWhadDecays_Delphes_PU200.root\r\n",
      "FPMC_WW_14TeV_a0w_0E0_aCw_0E0_noHADR_pt0_196_WWhadDecays_Delphes_PU200.root\r\n",
      "FPMC_WW_14TeV_a0w_0E0_aCw_0E0_noHADR_pt0_197_WWhadDecays_Delphes_PU200.root\r\n",
      "FPMC_WW_14TeV_a0w_0E0_aCw_0E0_noHADR_pt0_198_WWhadDecays_Delphes_PU200.root\r\n",
      "FPMC_WW_14TeV_a0w_0E0_aCw_0E0_noHADR_pt0_199_WWhadDecays_Delphes_PU200.root\r\n",
      "FPMC_WW_14TeV_a0w_0E0_aCw_0E0_noHADR_pt0_19_WWhadDecays_Delphes_PU200.root\r\n",
      "FPMC_WW_14TeV_a0w_0E0_aCw_0E0_noHADR_pt0_1_WWhadDecays_Delphes_PU200.root\r\n",
      "FPMC_WW_14TeV_a0w_0E0_aCw_0E0_noHADR_pt0_20_WWhadDecays_Delphes_PU200.root\r\n",
      "FPMC_WW_14TeV_a0w_0E0_aCw_0E0_noHADR_pt0_21_WWhadDecays_Delphes_PU200.root\r\n",
      "FPMC_WW_14TeV_a0w_0E0_aCw_0E0_noHADR_pt0_22_WWhadDecays_Delphes_PU200.root\r\n",
      "FPMC_WW_14TeV_a0w_0E0_aCw_0E0_noHADR_pt0_23_WWhadDecays_Delphes_PU200.root\r\n",
      "FPMC_WW_14TeV_a0w_0E0_aCw_0E0_noHADR_pt0_24_WWhadDecays_Delphes_PU200.root\r\n",
      "FPMC_WW_14TeV_a0w_0E0_aCw_0E0_noHADR_pt0_25_WWhadDecays_Delphes_PU200.root\r\n",
      "FPMC_WW_14TeV_a0w_0E0_aCw_0E0_noHADR_pt0_26_WWhadDecays_Delphes_PU200.root\r\n",
      "FPMC_WW_14TeV_a0w_0E0_aCw_0E0_noHADR_pt0_27_WWhadDecays_Delphes_PU200.root\r\n",
      "FPMC_WW_14TeV_a0w_0E0_aCw_0E0_noHADR_pt0_28_WWhadDecays_Delphes_PU200.root\r\n",
      "FPMC_WW_14TeV_a0w_0E0_aCw_0E0_noHADR_pt0_29_WWhadDecays_Delphes_PU200.root\r\n",
      "FPMC_WW_14TeV_a0w_0E0_aCw_0E0_noHADR_pt0_2_WWhadDecays_Delphes_PU200.root\r\n",
      "FPMC_WW_14TeV_a0w_0E0_aCw_0E0_noHADR_pt0_30_WWhadDecays_Delphes_PU200.root\r\n",
      "FPMC_WW_14TeV_a0w_0E0_aCw_0E0_noHADR_pt0_31_WWhadDecays_Delphes_PU200.root\r\n",
      "FPMC_WW_14TeV_a0w_0E0_aCw_0E0_noHADR_pt0_32_WWhadDecays_Delphes_PU200.root\r\n",
      "FPMC_WW_14TeV_a0w_0E0_aCw_0E0_noHADR_pt0_33_WWhadDecays_Delphes_PU200.root\r\n",
      "FPMC_WW_14TeV_a0w_0E0_aCw_0E0_noHADR_pt0_34_WWhadDecays_Delphes_PU200.root\r\n",
      "FPMC_WW_14TeV_a0w_0E0_aCw_0E0_noHADR_pt0_35_WWhadDecays_Delphes_PU200.root\r\n",
      "FPMC_WW_14TeV_a0w_0E0_aCw_0E0_noHADR_pt0_36_WWhadDecays_Delphes_PU200.root\r\n",
      "FPMC_WW_14TeV_a0w_0E0_aCw_0E0_noHADR_pt0_37_WWhadDecays_Delphes_PU200.root\r\n",
      "FPMC_WW_14TeV_a0w_0E0_aCw_0E0_noHADR_pt0_38_WWhadDecays_Delphes_PU200.root\r\n",
      "FPMC_WW_14TeV_a0w_0E0_aCw_0E0_noHADR_pt0_39_WWhadDecays_Delphes_PU200.root\r\n",
      "FPMC_WW_14TeV_a0w_0E0_aCw_0E0_noHADR_pt0_3_WWhadDecays_Delphes_PU200.root\r\n",
      "FPMC_WW_14TeV_a0w_0E0_aCw_0E0_noHADR_pt0_40_WWhadDecays_Delphes_PU200.root\r\n",
      "FPMC_WW_14TeV_a0w_0E0_aCw_0E0_noHADR_pt0_41_WWhadDecays_Delphes_PU200.root\r\n",
      "FPMC_WW_14TeV_a0w_0E0_aCw_0E0_noHADR_pt0_42_WWhadDecays_Delphes_PU200.root\r\n",
      "FPMC_WW_14TeV_a0w_0E0_aCw_0E0_noHADR_pt0_43_WWhadDecays_Delphes_PU200.root\r\n",
      "FPMC_WW_14TeV_a0w_0E0_aCw_0E0_noHADR_pt0_44_WWhadDecays_Delphes_PU200.root\r\n",
      "FPMC_WW_14TeV_a0w_0E0_aCw_0E0_noHADR_pt0_45_WWhadDecays_Delphes_PU200.root\r\n",
      "FPMC_WW_14TeV_a0w_0E0_aCw_0E0_noHADR_pt0_46_WWhadDecays_Delphes_PU200.root\r\n",
      "FPMC_WW_14TeV_a0w_0E0_aCw_0E0_noHADR_pt0_47_WWhadDecays_Delphes_PU200.root\r\n",
      "FPMC_WW_14TeV_a0w_0E0_aCw_0E0_noHADR_pt0_48_WWhadDecays_Delphes_PU200.root\r\n",
      "FPMC_WW_14TeV_a0w_0E0_aCw_0E0_noHADR_pt0_49_WWhadDecays_Delphes_PU200.root\r\n",
      "FPMC_WW_14TeV_a0w_0E0_aCw_0E0_noHADR_pt0_4_WWhadDecays_Delphes_PU200.root\r\n",
      "FPMC_WW_14TeV_a0w_0E0_aCw_0E0_noHADR_pt0_50_WWhadDecays_Delphes_PU200.root\r\n",
      "FPMC_WW_14TeV_a0w_0E0_aCw_0E0_noHADR_pt0_51_WWhadDecays_Delphes_PU200.root\r\n",
      "FPMC_WW_14TeV_a0w_0E0_aCw_0E0_noHADR_pt0_52_WWhadDecays_Delphes_PU200.root\r\n",
      "FPMC_WW_14TeV_a0w_0E0_aCw_0E0_noHADR_pt0_53_WWhadDecays_Delphes_PU200.root\r\n",
      "FPMC_WW_14TeV_a0w_0E0_aCw_0E0_noHADR_pt0_54_WWhadDecays_Delphes_PU200.root\r\n",
      "FPMC_WW_14TeV_a0w_0E0_aCw_0E0_noHADR_pt0_55_WWhadDecays_Delphes_PU200.root\r\n",
      "FPMC_WW_14TeV_a0w_0E0_aCw_0E0_noHADR_pt0_56_WWhadDecays_Delphes_PU200.root\r\n",
      "FPMC_WW_14TeV_a0w_0E0_aCw_0E0_noHADR_pt0_57_WWhadDecays_Delphes_PU200.root\r\n",
      "FPMC_WW_14TeV_a0w_0E0_aCw_0E0_noHADR_pt0_58_WWhadDecays_Delphes_PU200.root\r\n",
      "FPMC_WW_14TeV_a0w_0E0_aCw_0E0_noHADR_pt0_59_WWhadDecays_Delphes_PU200.root\r\n",
      "FPMC_WW_14TeV_a0w_0E0_aCw_0E0_noHADR_pt0_5_WWhadDecays_Delphes_PU200.root\r\n",
      "FPMC_WW_14TeV_a0w_0E0_aCw_0E0_noHADR_pt0_60_WWhadDecays_Delphes_PU200.root\r\n",
      "FPMC_WW_14TeV_a0w_0E0_aCw_0E0_noHADR_pt0_61_WWhadDecays_Delphes_PU200.root\r\n",
      "FPMC_WW_14TeV_a0w_0E0_aCw_0E0_noHADR_pt0_62_WWhadDecays_Delphes_PU200.root\r\n",
      "FPMC_WW_14TeV_a0w_0E0_aCw_0E0_noHADR_pt0_63_WWhadDecays_Delphes_PU200.root\r\n",
      "FPMC_WW_14TeV_a0w_0E0_aCw_0E0_noHADR_pt0_64_WWhadDecays_Delphes_PU200.root\r\n",
      "FPMC_WW_14TeV_a0w_0E0_aCw_0E0_noHADR_pt0_65_WWhadDecays_Delphes_PU200.root\r\n",
      "FPMC_WW_14TeV_a0w_0E0_aCw_0E0_noHADR_pt0_66_WWhadDecays_Delphes_PU200.root\r\n",
      "FPMC_WW_14TeV_a0w_0E0_aCw_0E0_noHADR_pt0_67_WWhadDecays_Delphes_PU200.root\r\n",
      "FPMC_WW_14TeV_a0w_0E0_aCw_0E0_noHADR_pt0_68_WWhadDecays_Delphes_PU200.root\r\n",
      "FPMC_WW_14TeV_a0w_0E0_aCw_0E0_noHADR_pt0_69_WWhadDecays_Delphes_PU200.root\r\n",
      "FPMC_WW_14TeV_a0w_0E0_aCw_0E0_noHADR_pt0_6_WWhadDecays_Delphes_PU200.root\r\n",
      "FPMC_WW_14TeV_a0w_0E0_aCw_0E0_noHADR_pt0_70_WWhadDecays_Delphes_PU200.root\r\n",
      "FPMC_WW_14TeV_a0w_0E0_aCw_0E0_noHADR_pt0_71_WWhadDecays_Delphes_PU200.root\r\n",
      "FPMC_WW_14TeV_a0w_0E0_aCw_0E0_noHADR_pt0_72_WWhadDecays_Delphes_PU200.root\r\n",
      "FPMC_WW_14TeV_a0w_0E0_aCw_0E0_noHADR_pt0_73_WWhadDecays_Delphes_PU200.root\r\n",
      "FPMC_WW_14TeV_a0w_0E0_aCw_0E0_noHADR_pt0_74_WWhadDecays_Delphes_PU200.root\r\n",
      "FPMC_WW_14TeV_a0w_0E0_aCw_0E0_noHADR_pt0_75_WWhadDecays_Delphes_PU200.root\r\n",
      "FPMC_WW_14TeV_a0w_0E0_aCw_0E0_noHADR_pt0_76_WWhadDecays_Delphes_PU200.root\r\n",
      "FPMC_WW_14TeV_a0w_0E0_aCw_0E0_noHADR_pt0_77_WWhadDecays_Delphes_PU200.root\r\n",
      "FPMC_WW_14TeV_a0w_0E0_aCw_0E0_noHADR_pt0_78_WWhadDecays_Delphes_PU200.root\r\n",
      "FPMC_WW_14TeV_a0w_0E0_aCw_0E0_noHADR_pt0_79_WWhadDecays_Delphes_PU200.root\r\n",
      "FPMC_WW_14TeV_a0w_0E0_aCw_0E0_noHADR_pt0_7_WWhadDecays_Delphes_PU200.root\r\n",
      "FPMC_WW_14TeV_a0w_0E0_aCw_0E0_noHADR_pt0_80_WWhadDecays_Delphes_PU200.root\r\n",
      "FPMC_WW_14TeV_a0w_0E0_aCw_0E0_noHADR_pt0_81_WWhadDecays_Delphes_PU200.root\r\n",
      "FPMC_WW_14TeV_a0w_0E0_aCw_0E0_noHADR_pt0_82_WWhadDecays_Delphes_PU200.root\r\n",
      "FPMC_WW_14TeV_a0w_0E0_aCw_0E0_noHADR_pt0_83_WWhadDecays_Delphes_PU200.root\r\n",
      "FPMC_WW_14TeV_a0w_0E0_aCw_0E0_noHADR_pt0_84_WWhadDecays_Delphes_PU200.root\r\n",
      "FPMC_WW_14TeV_a0w_0E0_aCw_0E0_noHADR_pt0_85_WWhadDecays_Delphes_PU200.root\r\n",
      "FPMC_WW_14TeV_a0w_0E0_aCw_0E0_noHADR_pt0_86_WWhadDecays_Delphes_PU200.root\r\n",
      "FPMC_WW_14TeV_a0w_0E0_aCw_0E0_noHADR_pt0_87_WWhadDecays_Delphes_PU200.root\r\n",
      "FPMC_WW_14TeV_a0w_0E0_aCw_0E0_noHADR_pt0_88_WWhadDecays_Delphes_PU200.root\r\n",
      "FPMC_WW_14TeV_a0w_0E0_aCw_0E0_noHADR_pt0_89_WWhadDecays_Delphes_PU200.root\r\n",
      "FPMC_WW_14TeV_a0w_0E0_aCw_0E0_noHADR_pt0_8_WWhadDecays_Delphes_PU200.root\r\n",
      "FPMC_WW_14TeV_a0w_0E0_aCw_0E0_noHADR_pt0_90_WWhadDecays_Delphes_PU200.root\r\n",
      "FPMC_WW_14TeV_a0w_0E0_aCw_0E0_noHADR_pt0_91_WWhadDecays_Delphes_PU200.root\r\n",
      "FPMC_WW_14TeV_a0w_0E0_aCw_0E0_noHADR_pt0_92_WWhadDecays_Delphes_PU200.root\r\n",
      "FPMC_WW_14TeV_a0w_0E0_aCw_0E0_noHADR_pt0_93_WWhadDecays_Delphes_PU200.root\r\n",
      "FPMC_WW_14TeV_a0w_0E0_aCw_0E0_noHADR_pt0_94_WWhadDecays_Delphes_PU200.root\r\n",
      "FPMC_WW_14TeV_a0w_0E0_aCw_0E0_noHADR_pt0_95_WWhadDecays_Delphes_PU200.root\r\n",
      "FPMC_WW_14TeV_a0w_0E0_aCw_0E0_noHADR_pt0_96_WWhadDecays_Delphes_PU200.root\r\n",
      "FPMC_WW_14TeV_a0w_0E0_aCw_0E0_noHADR_pt0_97_WWhadDecays_Delphes_PU200.root\r\n",
      "FPMC_WW_14TeV_a0w_0E0_aCw_0E0_noHADR_pt0_98_WWhadDecays_Delphes_PU200.root\r\n",
      "FPMC_WW_14TeV_a0w_0E0_aCw_0E0_noHADR_pt0_99_WWhadDecays_Delphes_PU200.root\r\n",
      "FPMC_WW_14TeV_a0w_0E0_aCw_0E0_noHADR_pt0_9_WWhadDecays_Delphes_PU200.root\r\n"
     ]
    }
   ],
   "source": [
    "ls /eos/cms/store/group/phys_pps/Phase2/Delphes/PU200/FPMC_WW_14TeV_a0w_0E0_aCw_0E0_noHADR_pt0_WWhadDecays_Delphes_PU200/"
   ]
  },
  {
   "cell_type": "code",
   "execution_count": 2,
   "id": "e1143094",
   "metadata": {},
   "outputs": [
    {
     "name": "stdout",
     "output_type": "stream",
     "text": [
      "/eos/cms/store/group/phys_pps/Phase2/Delphes/PU200/FPMC_WW_14TeV_a0w_0E0_aCw_0E0_noHADR_pt0_WWhadDecays_Delphes_PU200\n"
     ]
    }
   ],
   "source": [
    "cd /eos/cms/store/group/phys_pps/Phase2/Delphes/PU200/FPMC_WW_14TeV_a0w_0E0_aCw_0E0_noHADR_pt0_WWhadDecays_Delphes_PU200/"
   ]
  },
  {
   "cell_type": "code",
   "execution_count": 3,
   "id": "6f5026ad",
   "metadata": {},
   "outputs": [
    {
     "name": "stdout",
     "output_type": "stream",
     "text": [
      "FPMC_WW_14TeV_a0w_0E0_aCw_0E0_noHADR_pt0_0_WWhadDecays_Delphes_PU200.root\r\n",
      "FPMC_WW_14TeV_a0w_0E0_aCw_0E0_noHADR_pt0_100_WWhadDecays_Delphes_PU200.root\r\n",
      "FPMC_WW_14TeV_a0w_0E0_aCw_0E0_noHADR_pt0_101_WWhadDecays_Delphes_PU200.root\r\n",
      "FPMC_WW_14TeV_a0w_0E0_aCw_0E0_noHADR_pt0_102_WWhadDecays_Delphes_PU200.root\r\n",
      "FPMC_WW_14TeV_a0w_0E0_aCw_0E0_noHADR_pt0_103_WWhadDecays_Delphes_PU200.root\r\n",
      "FPMC_WW_14TeV_a0w_0E0_aCw_0E0_noHADR_pt0_104_WWhadDecays_Delphes_PU200.root\r\n",
      "FPMC_WW_14TeV_a0w_0E0_aCw_0E0_noHADR_pt0_105_WWhadDecays_Delphes_PU200.root\r\n",
      "FPMC_WW_14TeV_a0w_0E0_aCw_0E0_noHADR_pt0_106_WWhadDecays_Delphes_PU200.root\r\n",
      "FPMC_WW_14TeV_a0w_0E0_aCw_0E0_noHADR_pt0_107_WWhadDecays_Delphes_PU200.root\r\n",
      "FPMC_WW_14TeV_a0w_0E0_aCw_0E0_noHADR_pt0_108_WWhadDecays_Delphes_PU200.root\r\n",
      "FPMC_WW_14TeV_a0w_0E0_aCw_0E0_noHADR_pt0_109_WWhadDecays_Delphes_PU200.root\r\n",
      "FPMC_WW_14TeV_a0w_0E0_aCw_0E0_noHADR_pt0_10_WWhadDecays_Delphes_PU200.root\r\n",
      "FPMC_WW_14TeV_a0w_0E0_aCw_0E0_noHADR_pt0_110_WWhadDecays_Delphes_PU200.root\r\n",
      "FPMC_WW_14TeV_a0w_0E0_aCw_0E0_noHADR_pt0_111_WWhadDecays_Delphes_PU200.root\r\n",
      "FPMC_WW_14TeV_a0w_0E0_aCw_0E0_noHADR_pt0_112_WWhadDecays_Delphes_PU200.root\r\n",
      "FPMC_WW_14TeV_a0w_0E0_aCw_0E0_noHADR_pt0_113_WWhadDecays_Delphes_PU200.root\r\n",
      "FPMC_WW_14TeV_a0w_0E0_aCw_0E0_noHADR_pt0_114_WWhadDecays_Delphes_PU200.root\r\n",
      "FPMC_WW_14TeV_a0w_0E0_aCw_0E0_noHADR_pt0_115_WWhadDecays_Delphes_PU200.root\r\n",
      "FPMC_WW_14TeV_a0w_0E0_aCw_0E0_noHADR_pt0_116_WWhadDecays_Delphes_PU200.root\r\n",
      "FPMC_WW_14TeV_a0w_0E0_aCw_0E0_noHADR_pt0_117_WWhadDecays_Delphes_PU200.root\r\n",
      "FPMC_WW_14TeV_a0w_0E0_aCw_0E0_noHADR_pt0_118_WWhadDecays_Delphes_PU200.root\r\n",
      "FPMC_WW_14TeV_a0w_0E0_aCw_0E0_noHADR_pt0_119_WWhadDecays_Delphes_PU200.root\r\n",
      "FPMC_WW_14TeV_a0w_0E0_aCw_0E0_noHADR_pt0_11_WWhadDecays_Delphes_PU200.root\r\n",
      "FPMC_WW_14TeV_a0w_0E0_aCw_0E0_noHADR_pt0_120_WWhadDecays_Delphes_PU200.root\r\n",
      "FPMC_WW_14TeV_a0w_0E0_aCw_0E0_noHADR_pt0_121_WWhadDecays_Delphes_PU200.root\r\n",
      "FPMC_WW_14TeV_a0w_0E0_aCw_0E0_noHADR_pt0_122_WWhadDecays_Delphes_PU200.root\r\n",
      "FPMC_WW_14TeV_a0w_0E0_aCw_0E0_noHADR_pt0_123_WWhadDecays_Delphes_PU200.root\r\n",
      "FPMC_WW_14TeV_a0w_0E0_aCw_0E0_noHADR_pt0_124_WWhadDecays_Delphes_PU200.root\r\n",
      "FPMC_WW_14TeV_a0w_0E0_aCw_0E0_noHADR_pt0_125_WWhadDecays_Delphes_PU200.root\r\n",
      "FPMC_WW_14TeV_a0w_0E0_aCw_0E0_noHADR_pt0_126_WWhadDecays_Delphes_PU200.root\r\n",
      "FPMC_WW_14TeV_a0w_0E0_aCw_0E0_noHADR_pt0_127_WWhadDecays_Delphes_PU200.root\r\n",
      "FPMC_WW_14TeV_a0w_0E0_aCw_0E0_noHADR_pt0_128_WWhadDecays_Delphes_PU200.root\r\n",
      "FPMC_WW_14TeV_a0w_0E0_aCw_0E0_noHADR_pt0_129_WWhadDecays_Delphes_PU200.root\r\n",
      "FPMC_WW_14TeV_a0w_0E0_aCw_0E0_noHADR_pt0_12_WWhadDecays_Delphes_PU200.root\r\n",
      "FPMC_WW_14TeV_a0w_0E0_aCw_0E0_noHADR_pt0_130_WWhadDecays_Delphes_PU200.root\r\n",
      "FPMC_WW_14TeV_a0w_0E0_aCw_0E0_noHADR_pt0_131_WWhadDecays_Delphes_PU200.root\r\n",
      "FPMC_WW_14TeV_a0w_0E0_aCw_0E0_noHADR_pt0_132_WWhadDecays_Delphes_PU200.root\r\n",
      "FPMC_WW_14TeV_a0w_0E0_aCw_0E0_noHADR_pt0_133_WWhadDecays_Delphes_PU200.root\r\n",
      "FPMC_WW_14TeV_a0w_0E0_aCw_0E0_noHADR_pt0_134_WWhadDecays_Delphes_PU200.root\r\n",
      "FPMC_WW_14TeV_a0w_0E0_aCw_0E0_noHADR_pt0_135_WWhadDecays_Delphes_PU200.root\r\n",
      "FPMC_WW_14TeV_a0w_0E0_aCw_0E0_noHADR_pt0_136_WWhadDecays_Delphes_PU200.root\r\n",
      "FPMC_WW_14TeV_a0w_0E0_aCw_0E0_noHADR_pt0_137_WWhadDecays_Delphes_PU200.root\r\n",
      "FPMC_WW_14TeV_a0w_0E0_aCw_0E0_noHADR_pt0_138_WWhadDecays_Delphes_PU200.root\r\n",
      "FPMC_WW_14TeV_a0w_0E0_aCw_0E0_noHADR_pt0_139_WWhadDecays_Delphes_PU200.root\r\n",
      "FPMC_WW_14TeV_a0w_0E0_aCw_0E0_noHADR_pt0_13_WWhadDecays_Delphes_PU200.root\r\n",
      "FPMC_WW_14TeV_a0w_0E0_aCw_0E0_noHADR_pt0_140_WWhadDecays_Delphes_PU200.root\r\n",
      "FPMC_WW_14TeV_a0w_0E0_aCw_0E0_noHADR_pt0_141_WWhadDecays_Delphes_PU200.root\r\n",
      "FPMC_WW_14TeV_a0w_0E0_aCw_0E0_noHADR_pt0_142_WWhadDecays_Delphes_PU200.root\r\n",
      "FPMC_WW_14TeV_a0w_0E0_aCw_0E0_noHADR_pt0_143_WWhadDecays_Delphes_PU200.root\r\n",
      "FPMC_WW_14TeV_a0w_0E0_aCw_0E0_noHADR_pt0_144_WWhadDecays_Delphes_PU200.root\r\n",
      "FPMC_WW_14TeV_a0w_0E0_aCw_0E0_noHADR_pt0_145_WWhadDecays_Delphes_PU200.root\r\n",
      "FPMC_WW_14TeV_a0w_0E0_aCw_0E0_noHADR_pt0_146_WWhadDecays_Delphes_PU200.root\r\n",
      "FPMC_WW_14TeV_a0w_0E0_aCw_0E0_noHADR_pt0_147_WWhadDecays_Delphes_PU200.root\r\n",
      "FPMC_WW_14TeV_a0w_0E0_aCw_0E0_noHADR_pt0_148_WWhadDecays_Delphes_PU200.root\r\n",
      "FPMC_WW_14TeV_a0w_0E0_aCw_0E0_noHADR_pt0_149_WWhadDecays_Delphes_PU200.root\r\n",
      "FPMC_WW_14TeV_a0w_0E0_aCw_0E0_noHADR_pt0_14_WWhadDecays_Delphes_PU200.root\r\n",
      "FPMC_WW_14TeV_a0w_0E0_aCw_0E0_noHADR_pt0_150_WWhadDecays_Delphes_PU200.root\r\n",
      "FPMC_WW_14TeV_a0w_0E0_aCw_0E0_noHADR_pt0_151_WWhadDecays_Delphes_PU200.root\r\n",
      "FPMC_WW_14TeV_a0w_0E0_aCw_0E0_noHADR_pt0_152_WWhadDecays_Delphes_PU200.root\r\n",
      "FPMC_WW_14TeV_a0w_0E0_aCw_0E0_noHADR_pt0_153_WWhadDecays_Delphes_PU200.root\r\n",
      "FPMC_WW_14TeV_a0w_0E0_aCw_0E0_noHADR_pt0_154_WWhadDecays_Delphes_PU200.root\r\n",
      "FPMC_WW_14TeV_a0w_0E0_aCw_0E0_noHADR_pt0_155_WWhadDecays_Delphes_PU200.root\r\n",
      "FPMC_WW_14TeV_a0w_0E0_aCw_0E0_noHADR_pt0_156_WWhadDecays_Delphes_PU200.root\r\n",
      "FPMC_WW_14TeV_a0w_0E0_aCw_0E0_noHADR_pt0_157_WWhadDecays_Delphes_PU200.root\r\n",
      "FPMC_WW_14TeV_a0w_0E0_aCw_0E0_noHADR_pt0_158_WWhadDecays_Delphes_PU200.root\r\n",
      "FPMC_WW_14TeV_a0w_0E0_aCw_0E0_noHADR_pt0_159_WWhadDecays_Delphes_PU200.root\r\n",
      "FPMC_WW_14TeV_a0w_0E0_aCw_0E0_noHADR_pt0_15_WWhadDecays_Delphes_PU200.root\r\n",
      "FPMC_WW_14TeV_a0w_0E0_aCw_0E0_noHADR_pt0_160_WWhadDecays_Delphes_PU200.root\r\n",
      "FPMC_WW_14TeV_a0w_0E0_aCw_0E0_noHADR_pt0_161_WWhadDecays_Delphes_PU200.root\r\n",
      "FPMC_WW_14TeV_a0w_0E0_aCw_0E0_noHADR_pt0_162_WWhadDecays_Delphes_PU200.root\r\n",
      "FPMC_WW_14TeV_a0w_0E0_aCw_0E0_noHADR_pt0_163_WWhadDecays_Delphes_PU200.root\r\n",
      "FPMC_WW_14TeV_a0w_0E0_aCw_0E0_noHADR_pt0_164_WWhadDecays_Delphes_PU200.root\r\n",
      "FPMC_WW_14TeV_a0w_0E0_aCw_0E0_noHADR_pt0_165_WWhadDecays_Delphes_PU200.root\r\n",
      "FPMC_WW_14TeV_a0w_0E0_aCw_0E0_noHADR_pt0_166_WWhadDecays_Delphes_PU200.root\r\n",
      "FPMC_WW_14TeV_a0w_0E0_aCw_0E0_noHADR_pt0_167_WWhadDecays_Delphes_PU200.root\r\n",
      "FPMC_WW_14TeV_a0w_0E0_aCw_0E0_noHADR_pt0_168_WWhadDecays_Delphes_PU200.root\r\n",
      "FPMC_WW_14TeV_a0w_0E0_aCw_0E0_noHADR_pt0_169_WWhadDecays_Delphes_PU200.root\r\n",
      "FPMC_WW_14TeV_a0w_0E0_aCw_0E0_noHADR_pt0_16_WWhadDecays_Delphes_PU200.root\r\n",
      "FPMC_WW_14TeV_a0w_0E0_aCw_0E0_noHADR_pt0_170_WWhadDecays_Delphes_PU200.root\r\n",
      "FPMC_WW_14TeV_a0w_0E0_aCw_0E0_noHADR_pt0_171_WWhadDecays_Delphes_PU200.root\r\n",
      "FPMC_WW_14TeV_a0w_0E0_aCw_0E0_noHADR_pt0_172_WWhadDecays_Delphes_PU200.root\r\n",
      "FPMC_WW_14TeV_a0w_0E0_aCw_0E0_noHADR_pt0_173_WWhadDecays_Delphes_PU200.root\r\n",
      "FPMC_WW_14TeV_a0w_0E0_aCw_0E0_noHADR_pt0_174_WWhadDecays_Delphes_PU200.root\r\n",
      "FPMC_WW_14TeV_a0w_0E0_aCw_0E0_noHADR_pt0_175_WWhadDecays_Delphes_PU200.root\r\n",
      "FPMC_WW_14TeV_a0w_0E0_aCw_0E0_noHADR_pt0_176_WWhadDecays_Delphes_PU200.root\r\n",
      "FPMC_WW_14TeV_a0w_0E0_aCw_0E0_noHADR_pt0_177_WWhadDecays_Delphes_PU200.root\r\n",
      "FPMC_WW_14TeV_a0w_0E0_aCw_0E0_noHADR_pt0_178_WWhadDecays_Delphes_PU200.root\r\n",
      "FPMC_WW_14TeV_a0w_0E0_aCw_0E0_noHADR_pt0_179_WWhadDecays_Delphes_PU200.root\r\n",
      "FPMC_WW_14TeV_a0w_0E0_aCw_0E0_noHADR_pt0_17_WWhadDecays_Delphes_PU200.root\r\n",
      "FPMC_WW_14TeV_a0w_0E0_aCw_0E0_noHADR_pt0_180_WWhadDecays_Delphes_PU200.root\r\n",
      "FPMC_WW_14TeV_a0w_0E0_aCw_0E0_noHADR_pt0_181_WWhadDecays_Delphes_PU200.root\r\n",
      "FPMC_WW_14TeV_a0w_0E0_aCw_0E0_noHADR_pt0_182_WWhadDecays_Delphes_PU200.root\r\n",
      "FPMC_WW_14TeV_a0w_0E0_aCw_0E0_noHADR_pt0_183_WWhadDecays_Delphes_PU200.root\r\n",
      "FPMC_WW_14TeV_a0w_0E0_aCw_0E0_noHADR_pt0_184_WWhadDecays_Delphes_PU200.root\r\n",
      "FPMC_WW_14TeV_a0w_0E0_aCw_0E0_noHADR_pt0_185_WWhadDecays_Delphes_PU200.root\r\n",
      "FPMC_WW_14TeV_a0w_0E0_aCw_0E0_noHADR_pt0_186_WWhadDecays_Delphes_PU200.root\r\n",
      "FPMC_WW_14TeV_a0w_0E0_aCw_0E0_noHADR_pt0_187_WWhadDecays_Delphes_PU200.root\r\n",
      "FPMC_WW_14TeV_a0w_0E0_aCw_0E0_noHADR_pt0_188_WWhadDecays_Delphes_PU200.root\r\n",
      "FPMC_WW_14TeV_a0w_0E0_aCw_0E0_noHADR_pt0_189_WWhadDecays_Delphes_PU200.root\r\n",
      "FPMC_WW_14TeV_a0w_0E0_aCw_0E0_noHADR_pt0_18_WWhadDecays_Delphes_PU200.root\r\n",
      "FPMC_WW_14TeV_a0w_0E0_aCw_0E0_noHADR_pt0_190_WWhadDecays_Delphes_PU200.root\r\n",
      "FPMC_WW_14TeV_a0w_0E0_aCw_0E0_noHADR_pt0_191_WWhadDecays_Delphes_PU200.root\r\n",
      "FPMC_WW_14TeV_a0w_0E0_aCw_0E0_noHADR_pt0_192_WWhadDecays_Delphes_PU200.root\r\n",
      "FPMC_WW_14TeV_a0w_0E0_aCw_0E0_noHADR_pt0_193_WWhadDecays_Delphes_PU200.root\r\n",
      "FPMC_WW_14TeV_a0w_0E0_aCw_0E0_noHADR_pt0_194_WWhadDecays_Delphes_PU200.root\r\n",
      "FPMC_WW_14TeV_a0w_0E0_aCw_0E0_noHADR_pt0_195_WWhadDecays_Delphes_PU200.root\r\n",
      "FPMC_WW_14TeV_a0w_0E0_aCw_0E0_noHADR_pt0_196_WWhadDecays_Delphes_PU200.root\r\n",
      "FPMC_WW_14TeV_a0w_0E0_aCw_0E0_noHADR_pt0_197_WWhadDecays_Delphes_PU200.root\r\n",
      "FPMC_WW_14TeV_a0w_0E0_aCw_0E0_noHADR_pt0_198_WWhadDecays_Delphes_PU200.root\r\n",
      "FPMC_WW_14TeV_a0w_0E0_aCw_0E0_noHADR_pt0_199_WWhadDecays_Delphes_PU200.root\r\n",
      "FPMC_WW_14TeV_a0w_0E0_aCw_0E0_noHADR_pt0_19_WWhadDecays_Delphes_PU200.root\r\n",
      "FPMC_WW_14TeV_a0w_0E0_aCw_0E0_noHADR_pt0_1_WWhadDecays_Delphes_PU200.root\r\n",
      "FPMC_WW_14TeV_a0w_0E0_aCw_0E0_noHADR_pt0_20_WWhadDecays_Delphes_PU200.root\r\n",
      "FPMC_WW_14TeV_a0w_0E0_aCw_0E0_noHADR_pt0_21_WWhadDecays_Delphes_PU200.root\r\n",
      "FPMC_WW_14TeV_a0w_0E0_aCw_0E0_noHADR_pt0_22_WWhadDecays_Delphes_PU200.root\r\n",
      "FPMC_WW_14TeV_a0w_0E0_aCw_0E0_noHADR_pt0_23_WWhadDecays_Delphes_PU200.root\r\n",
      "FPMC_WW_14TeV_a0w_0E0_aCw_0E0_noHADR_pt0_24_WWhadDecays_Delphes_PU200.root\r\n",
      "FPMC_WW_14TeV_a0w_0E0_aCw_0E0_noHADR_pt0_25_WWhadDecays_Delphes_PU200.root\r\n",
      "FPMC_WW_14TeV_a0w_0E0_aCw_0E0_noHADR_pt0_26_WWhadDecays_Delphes_PU200.root\r\n",
      "FPMC_WW_14TeV_a0w_0E0_aCw_0E0_noHADR_pt0_27_WWhadDecays_Delphes_PU200.root\r\n",
      "FPMC_WW_14TeV_a0w_0E0_aCw_0E0_noHADR_pt0_28_WWhadDecays_Delphes_PU200.root\r\n",
      "FPMC_WW_14TeV_a0w_0E0_aCw_0E0_noHADR_pt0_29_WWhadDecays_Delphes_PU200.root\r\n",
      "FPMC_WW_14TeV_a0w_0E0_aCw_0E0_noHADR_pt0_2_WWhadDecays_Delphes_PU200.root\r\n",
      "FPMC_WW_14TeV_a0w_0E0_aCw_0E0_noHADR_pt0_30_WWhadDecays_Delphes_PU200.root\r\n",
      "FPMC_WW_14TeV_a0w_0E0_aCw_0E0_noHADR_pt0_31_WWhadDecays_Delphes_PU200.root\r\n",
      "FPMC_WW_14TeV_a0w_0E0_aCw_0E0_noHADR_pt0_32_WWhadDecays_Delphes_PU200.root\r\n",
      "FPMC_WW_14TeV_a0w_0E0_aCw_0E0_noHADR_pt0_33_WWhadDecays_Delphes_PU200.root\r\n",
      "FPMC_WW_14TeV_a0w_0E0_aCw_0E0_noHADR_pt0_34_WWhadDecays_Delphes_PU200.root\r\n",
      "FPMC_WW_14TeV_a0w_0E0_aCw_0E0_noHADR_pt0_35_WWhadDecays_Delphes_PU200.root\r\n",
      "FPMC_WW_14TeV_a0w_0E0_aCw_0E0_noHADR_pt0_36_WWhadDecays_Delphes_PU200.root\r\n",
      "FPMC_WW_14TeV_a0w_0E0_aCw_0E0_noHADR_pt0_37_WWhadDecays_Delphes_PU200.root\r\n",
      "FPMC_WW_14TeV_a0w_0E0_aCw_0E0_noHADR_pt0_38_WWhadDecays_Delphes_PU200.root\r\n",
      "FPMC_WW_14TeV_a0w_0E0_aCw_0E0_noHADR_pt0_39_WWhadDecays_Delphes_PU200.root\r\n",
      "FPMC_WW_14TeV_a0w_0E0_aCw_0E0_noHADR_pt0_3_WWhadDecays_Delphes_PU200.root\r\n",
      "FPMC_WW_14TeV_a0w_0E0_aCw_0E0_noHADR_pt0_40_WWhadDecays_Delphes_PU200.root\r\n",
      "FPMC_WW_14TeV_a0w_0E0_aCw_0E0_noHADR_pt0_41_WWhadDecays_Delphes_PU200.root\r\n",
      "FPMC_WW_14TeV_a0w_0E0_aCw_0E0_noHADR_pt0_42_WWhadDecays_Delphes_PU200.root\r\n",
      "FPMC_WW_14TeV_a0w_0E0_aCw_0E0_noHADR_pt0_43_WWhadDecays_Delphes_PU200.root\r\n",
      "FPMC_WW_14TeV_a0w_0E0_aCw_0E0_noHADR_pt0_44_WWhadDecays_Delphes_PU200.root\r\n",
      "FPMC_WW_14TeV_a0w_0E0_aCw_0E0_noHADR_pt0_45_WWhadDecays_Delphes_PU200.root\r\n",
      "FPMC_WW_14TeV_a0w_0E0_aCw_0E0_noHADR_pt0_46_WWhadDecays_Delphes_PU200.root\r\n",
      "FPMC_WW_14TeV_a0w_0E0_aCw_0E0_noHADR_pt0_47_WWhadDecays_Delphes_PU200.root\r\n",
      "FPMC_WW_14TeV_a0w_0E0_aCw_0E0_noHADR_pt0_48_WWhadDecays_Delphes_PU200.root\r\n",
      "FPMC_WW_14TeV_a0w_0E0_aCw_0E0_noHADR_pt0_49_WWhadDecays_Delphes_PU200.root\r\n",
      "FPMC_WW_14TeV_a0w_0E0_aCw_0E0_noHADR_pt0_4_WWhadDecays_Delphes_PU200.root\r\n",
      "FPMC_WW_14TeV_a0w_0E0_aCw_0E0_noHADR_pt0_50_WWhadDecays_Delphes_PU200.root\r\n",
      "FPMC_WW_14TeV_a0w_0E0_aCw_0E0_noHADR_pt0_51_WWhadDecays_Delphes_PU200.root\r\n",
      "FPMC_WW_14TeV_a0w_0E0_aCw_0E0_noHADR_pt0_52_WWhadDecays_Delphes_PU200.root\r\n",
      "FPMC_WW_14TeV_a0w_0E0_aCw_0E0_noHADR_pt0_53_WWhadDecays_Delphes_PU200.root\r\n",
      "FPMC_WW_14TeV_a0w_0E0_aCw_0E0_noHADR_pt0_54_WWhadDecays_Delphes_PU200.root\r\n",
      "FPMC_WW_14TeV_a0w_0E0_aCw_0E0_noHADR_pt0_55_WWhadDecays_Delphes_PU200.root\r\n",
      "FPMC_WW_14TeV_a0w_0E0_aCw_0E0_noHADR_pt0_56_WWhadDecays_Delphes_PU200.root\r\n",
      "FPMC_WW_14TeV_a0w_0E0_aCw_0E0_noHADR_pt0_57_WWhadDecays_Delphes_PU200.root\r\n",
      "FPMC_WW_14TeV_a0w_0E0_aCw_0E0_noHADR_pt0_58_WWhadDecays_Delphes_PU200.root\r\n",
      "FPMC_WW_14TeV_a0w_0E0_aCw_0E0_noHADR_pt0_59_WWhadDecays_Delphes_PU200.root\r\n",
      "FPMC_WW_14TeV_a0w_0E0_aCw_0E0_noHADR_pt0_5_WWhadDecays_Delphes_PU200.root\r\n",
      "FPMC_WW_14TeV_a0w_0E0_aCw_0E0_noHADR_pt0_60_WWhadDecays_Delphes_PU200.root\r\n",
      "FPMC_WW_14TeV_a0w_0E0_aCw_0E0_noHADR_pt0_61_WWhadDecays_Delphes_PU200.root\r\n",
      "FPMC_WW_14TeV_a0w_0E0_aCw_0E0_noHADR_pt0_62_WWhadDecays_Delphes_PU200.root\r\n",
      "FPMC_WW_14TeV_a0w_0E0_aCw_0E0_noHADR_pt0_63_WWhadDecays_Delphes_PU200.root\r\n",
      "FPMC_WW_14TeV_a0w_0E0_aCw_0E0_noHADR_pt0_64_WWhadDecays_Delphes_PU200.root\r\n",
      "FPMC_WW_14TeV_a0w_0E0_aCw_0E0_noHADR_pt0_65_WWhadDecays_Delphes_PU200.root\r\n",
      "FPMC_WW_14TeV_a0w_0E0_aCw_0E0_noHADR_pt0_66_WWhadDecays_Delphes_PU200.root\r\n",
      "FPMC_WW_14TeV_a0w_0E0_aCw_0E0_noHADR_pt0_67_WWhadDecays_Delphes_PU200.root\r\n",
      "FPMC_WW_14TeV_a0w_0E0_aCw_0E0_noHADR_pt0_68_WWhadDecays_Delphes_PU200.root\r\n",
      "FPMC_WW_14TeV_a0w_0E0_aCw_0E0_noHADR_pt0_69_WWhadDecays_Delphes_PU200.root\r\n",
      "FPMC_WW_14TeV_a0w_0E0_aCw_0E0_noHADR_pt0_6_WWhadDecays_Delphes_PU200.root\r\n",
      "FPMC_WW_14TeV_a0w_0E0_aCw_0E0_noHADR_pt0_70_WWhadDecays_Delphes_PU200.root\r\n",
      "FPMC_WW_14TeV_a0w_0E0_aCw_0E0_noHADR_pt0_71_WWhadDecays_Delphes_PU200.root\r\n",
      "FPMC_WW_14TeV_a0w_0E0_aCw_0E0_noHADR_pt0_72_WWhadDecays_Delphes_PU200.root\r\n",
      "FPMC_WW_14TeV_a0w_0E0_aCw_0E0_noHADR_pt0_73_WWhadDecays_Delphes_PU200.root\r\n",
      "FPMC_WW_14TeV_a0w_0E0_aCw_0E0_noHADR_pt0_74_WWhadDecays_Delphes_PU200.root\r\n",
      "FPMC_WW_14TeV_a0w_0E0_aCw_0E0_noHADR_pt0_75_WWhadDecays_Delphes_PU200.root\r\n",
      "FPMC_WW_14TeV_a0w_0E0_aCw_0E0_noHADR_pt0_76_WWhadDecays_Delphes_PU200.root\r\n",
      "FPMC_WW_14TeV_a0w_0E0_aCw_0E0_noHADR_pt0_77_WWhadDecays_Delphes_PU200.root\r\n",
      "FPMC_WW_14TeV_a0w_0E0_aCw_0E0_noHADR_pt0_78_WWhadDecays_Delphes_PU200.root\r\n",
      "FPMC_WW_14TeV_a0w_0E0_aCw_0E0_noHADR_pt0_79_WWhadDecays_Delphes_PU200.root\r\n",
      "FPMC_WW_14TeV_a0w_0E0_aCw_0E0_noHADR_pt0_7_WWhadDecays_Delphes_PU200.root\r\n",
      "FPMC_WW_14TeV_a0w_0E0_aCw_0E0_noHADR_pt0_80_WWhadDecays_Delphes_PU200.root\r\n",
      "FPMC_WW_14TeV_a0w_0E0_aCw_0E0_noHADR_pt0_81_WWhadDecays_Delphes_PU200.root\r\n",
      "FPMC_WW_14TeV_a0w_0E0_aCw_0E0_noHADR_pt0_82_WWhadDecays_Delphes_PU200.root\r\n",
      "FPMC_WW_14TeV_a0w_0E0_aCw_0E0_noHADR_pt0_83_WWhadDecays_Delphes_PU200.root\r\n",
      "FPMC_WW_14TeV_a0w_0E0_aCw_0E0_noHADR_pt0_84_WWhadDecays_Delphes_PU200.root\r\n",
      "FPMC_WW_14TeV_a0w_0E0_aCw_0E0_noHADR_pt0_85_WWhadDecays_Delphes_PU200.root\r\n",
      "FPMC_WW_14TeV_a0w_0E0_aCw_0E0_noHADR_pt0_86_WWhadDecays_Delphes_PU200.root\r\n",
      "FPMC_WW_14TeV_a0w_0E0_aCw_0E0_noHADR_pt0_87_WWhadDecays_Delphes_PU200.root\r\n",
      "FPMC_WW_14TeV_a0w_0E0_aCw_0E0_noHADR_pt0_88_WWhadDecays_Delphes_PU200.root\r\n",
      "FPMC_WW_14TeV_a0w_0E0_aCw_0E0_noHADR_pt0_89_WWhadDecays_Delphes_PU200.root\r\n",
      "FPMC_WW_14TeV_a0w_0E0_aCw_0E0_noHADR_pt0_8_WWhadDecays_Delphes_PU200.root\r\n",
      "FPMC_WW_14TeV_a0w_0E0_aCw_0E0_noHADR_pt0_90_WWhadDecays_Delphes_PU200.root\r\n",
      "FPMC_WW_14TeV_a0w_0E0_aCw_0E0_noHADR_pt0_91_WWhadDecays_Delphes_PU200.root\r\n",
      "FPMC_WW_14TeV_a0w_0E0_aCw_0E0_noHADR_pt0_92_WWhadDecays_Delphes_PU200.root\r\n",
      "FPMC_WW_14TeV_a0w_0E0_aCw_0E0_noHADR_pt0_93_WWhadDecays_Delphes_PU200.root\r\n",
      "FPMC_WW_14TeV_a0w_0E0_aCw_0E0_noHADR_pt0_94_WWhadDecays_Delphes_PU200.root\r\n",
      "FPMC_WW_14TeV_a0w_0E0_aCw_0E0_noHADR_pt0_95_WWhadDecays_Delphes_PU200.root\r\n",
      "FPMC_WW_14TeV_a0w_0E0_aCw_0E0_noHADR_pt0_96_WWhadDecays_Delphes_PU200.root\r\n",
      "FPMC_WW_14TeV_a0w_0E0_aCw_0E0_noHADR_pt0_97_WWhadDecays_Delphes_PU200.root\r\n",
      "FPMC_WW_14TeV_a0w_0E0_aCw_0E0_noHADR_pt0_98_WWhadDecays_Delphes_PU200.root\r\n",
      "FPMC_WW_14TeV_a0w_0E0_aCw_0E0_noHADR_pt0_99_WWhadDecays_Delphes_PU200.root\r\n",
      "FPMC_WW_14TeV_a0w_0E0_aCw_0E0_noHADR_pt0_9_WWhadDecays_Delphes_PU200.root\r\n"
     ]
    }
   ],
   "source": [
    "ls"
   ]
  },
  {
   "cell_type": "code",
   "execution_count": 4,
   "id": "8a5ff465",
   "metadata": {},
   "outputs": [],
   "source": [
    " #root_files = open('root_files.txt','w') \n"
   ]
  },
  {
   "cell_type": "code",
   "execution_count": 5,
   "id": "2ece9d23",
   "metadata": {},
   "outputs": [],
   "source": [
    "#root_files.write('FPMC_WW_14TeV_a0w_0E0_aCw_0E0_noHADR_pt0_0_WWhadDecays_Delphes_PU200.root')\n",
    "#root_files.write('\\nFPMC_WW_14TeV_a0w_0E0_aCw_0E0_noHADR_pt0_101_WWhadDecays_Delphes_PU200.root')\n",
    "#root_files.write('\\nFPMC_WW_14TeV_a0w_0E0_aCw_0E0_noHADR_pt0_102_WWhadDecays_Delphes_PU200.root')\n",
    "#root_files.write('\\nFPMC_WW_14TeV_a0w_0E0_aCw_0E0_noHADR_pt0_103_WWhadDecays_Delphes_PU200.root')\n",
    "#root_files.write('\\nFPMC_WW_14TeV_a0w_0E0_aCw_0E0_noHADR_pt0_104_WWhadDecays_Delphes_PU200.root')\n",
    "#root_files.write('\\nFPMC_WW_14TeV_a0w_0E0_aCw_0E0_noHADR_pt0_105_WWhadDecays_Delphes_PU200.root')\n",
    "\n",
    "#root_files.close()"
   ]
  },
  {
   "cell_type": "code",
   "execution_count": 6,
   "id": "90b19620",
   "metadata": {},
   "outputs": [
    {
     "name": "stdout",
     "output_type": "stream",
     "text": [
      "Welcome to JupyROOT 6.30/02\n"
     ]
    }
   ],
   "source": [
    "import uproot4 #trocar o pt0_9\n",
    "import awkward as ak\n",
    "import numpy as np\n",
    "import matplotlib.pyplot as plt\n",
    "from tqdm import tqdm\n",
    "from ROOT import TLorentzVector"
   ]
  },
  {
   "cell_type": "code",
   "execution_count": 7,
   "id": "e7e8f9e2",
   "metadata": {},
   "outputs": [],
   "source": [
    "path='/eos/cms/store/group/phys_pps/Phase2/Delphes/PU200/FPMC_WW_14TeV_a0w_0E0_aCw_0E0_noHADR_pt0_WWhadDecays_Delphes_PU200/'\n",
    "name='FPMC_WW_14TeV_a0w_0E0_aCw_0E0_noHADR_pt0_9_WWhadDecays_Delphes_PU200.root'\n",
    "\n",
    "\n",
    "file=path+name\n",
    "root=uproot4.open(file)\n",
    "\n",
    "tree=root['Delphes']\n"
   ]
  },
  {
   "cell_type": "code",
   "execution_count": 8,
   "id": "6ad6bc6d",
   "metadata": {},
   "outputs": [],
   "source": [
    "#\n",
    "vtx_size=tree['Vertex_size'].array()\n",
    "n_events=len(vtx_size)\n",
    "\n",
    "\n",
    "#JetPUPPITight\n",
    "\n",
    "JetPUPPITight_PT=tree['JetPUPPITight.PT'].array()\n",
    "JetPUPPITight_Eta=tree['JetPUPPITight.Eta'].array()\n",
    "JetPUPPITight_Phi=tree['JetPUPPITight.Phi'].array()\n",
    "JetPUPPITight_Mass=tree['JetPUPPITight.Mass'].array()\n",
    "JetPUPPITight_T=tree['JetPUPPITight.T'].array()\n",
    "JetPUPPITight=tree['JetPUPPITight'].array()"
   ]
  },
  {
   "cell_type": "markdown",
   "id": "6805cbc2",
   "metadata": {},
   "source": [
    "# Taking all possible pairs from JetPUPPITight and making the TLorentzVectors\n"
   ]
  },
  {
   "cell_type": "code",
   "execution_count": 9,
   "id": "3d133335",
   "metadata": {},
   "outputs": [],
   "source": [
    "TLorentz_Sum=[]\n",
    "\n",
    "temp=[]\n",
    "\n",
    "J1 = TLorentzVector()\n",
    "J2 = TLorentzVector()\n",
    "\n",
    "for _ev in range(len(JetPUPPITight)):\n",
    "    temp=[]\n",
    "    for i in range(JetPUPPITight[_ev]):\n",
    "        for j in range(i+1,JetPUPPITight[_ev]):\n",
    "            \n",
    "            J1.SetPtEtaPhiM(JetPUPPITight_PT[_ev][i],JetPUPPITight_Eta[_ev][i],JetPUPPITight_Phi[_ev][i],JetPUPPITight_Mass[_ev][i])\n",
    "            J2.SetPtEtaPhiM(JetPUPPITight_PT[_ev][j],JetPUPPITight_Eta[_ev][j],JetPUPPITight_Phi[_ev][j],JetPUPPITight_Mass[_ev][j])\n",
    "            \n",
    "            temp.append(J1+J2)\n",
    "    \n",
    "    TLorentz_Sum.append(temp)"
   ]
  },
  {
   "cell_type": "markdown",
   "id": "932fdee6",
   "metadata": {},
   "source": [
    "Filling a vector with the mass of each JetPair to make some plots:"
   ]
  },
  {
   "cell_type": "code",
   "execution_count": 10,
   "id": "1f542048",
   "metadata": {
    "scrolled": true
   },
   "outputs": [],
   "source": [
    "Jet_Pairs_Mass=[]\n",
    "for _ev in range(len(TLorentz_Sum)):\n",
    "    for _pair in range(len(TLorentz_Sum[_ev])):\n",
    "        Jet_Pairs_Mass.append(TLorentz_Sum[_ev][_pair].M())"
   ]
  },
  {
   "cell_type": "code",
   "execution_count": 11,
   "id": "b6815223",
   "metadata": {},
   "outputs": [
    {
     "data": {
      "image/png": "[encoded data removed]",
      "text/plain": [
       "<Figure size 432x288 with 1 Axes>"
      ]
     },
     "metadata": {
      "needs_background": "light"
     },
     "output_type": "display_data"
    }
   ],
   "source": [
    "plt.hist(Jet_Pairs_Mass, range=(0,1000), bins=50)\n",
    "plt.ylabel('Número de pare de Jatos')\n",
    "plt.xlabel('Massa')\n",
    "plt.title(\"Massa dos pares com JetPUPPITight\")\n",
    "plt.show()"
   ]
  },
  {
   "cell_type": "code",
   "execution_count": 12,
   "id": "3ac5e840",
   "metadata": {},
   "outputs": [
    {
     "data": {
      "image/png": "[encoded data removed]",
      "text/plain": [
       "<Figure size 432x288 with 1 Axes>"
      ]
     },
     "metadata": {
      "needs_background": "light"
     },
     "output_type": "display_data"
    }
   ],
   "source": [
    "plt.hist(Jet_Pairs_Mass, range=(60,150), bins=20)\n",
    "plt.ylabel('Número de pare de Jatos')\n",
    "plt.xlabel('Massa')\n",
    "plt.title(\"Massa dos pares com JetPUPPITight\")\n",
    "plt.show()"
   ]
  },
  {
   "cell_type": "markdown",
   "id": "7dcfeef7",
   "metadata": {},
   "source": [
    "# Preparing to make te PPS cut"
   ]
  },
  {
   "cell_type": "code",
   "execution_count": 13,
   "id": "b9009826",
   "metadata": {},
   "outputs": [
    {
     "name": "stdout",
     "output_type": "stream",
     "text": [
      "For xi range of (0.015,0.196) proton pz is in range from 5628.00 to 6897.10 GeV\n",
      "5518.24\n",
      "6905.332\n"
     ]
    }
   ],
   "source": [
    "convert_nanosec=1e9\n",
    "zpos=23400\n",
    "tvertex=40e-12 # time resolution for main vertex:\n",
    "tpps=30e-12 # time resolution for proton in PPS:\n",
    "\n",
    "trP=(convert_nanosec)*tpps\n",
    "trM=(convert_nanosec)*tvertex\n",
    "\n",
    "VertexT_CMS=(convert_nanosec)*tree['Vertex.T'].array() # converted to nanosec\n",
    "\n",
    "GenJet_Vz=tree['Vertex.Z'].array()\n",
    "GenJet_VT=VertexT_CMS+np.random.normal(0,trM,len(VertexT_CMS)) \n",
    " \n",
    "JetPUPPITight_Vz=tree['Vertex.Z'].array() \n",
    "JetPUPPITight_VT=VertexT_CMS+np.random.normal(0,trM,len(VertexT_CMS)) \n",
    "\n",
    "# single beam energy:\n",
    "ebeam=7000.\n",
    "# collision energy:\n",
    "ecms=2*ebeam\n",
    "# xi acceptance from Table 4 on page 40 of https://cds.cern.ch/record/2750358/files/NOTE2020_008.pdf:\n",
    "_mode='vertical'\n",
    "xi_min = 0.0147 # using the 234m station\n",
    "xi_max = 0.196 # using the 196m station\n",
    "pz_min = (1-xi_max)*ebeam\n",
    "pz_max = (1-xi_min)*ebeam\n",
    "# print limiting xi and pz:\n",
    "pz_min1 =(1-1.08*xi_max)*ebeam\n",
    "pz_max1 =(1-0.92*xi_min)*ebeam\n",
    "print('For xi range of (%2.3f,%2.3f) proton pz is in range from %2.2f to %2.2f GeV'%(xi_min,xi_max,pz_min,pz_max))\n",
    "print(pz_min1)\n",
    "print(pz_max1)"
   ]
  },
  {
   "cell_type": "markdown",
   "id": "b5b688ca",
   "metadata": {},
   "source": [
    "# Selecting only protons that pass the PPS acceptance"
   ]
  },
  {
   "cell_type": "code",
   "execution_count": 14,
   "id": "ddf978b6",
   "metadata": {},
   "outputs": [],
   "source": [
    "protons = tree.arrays(['GenProton.Pz','GenProton.Z','GenProton.IsPU','GenProton.T','GenProton.P'],  cut=\"(abs(GenProton.Pz)>%g) & (abs(GenProton.Pz)<%g)\"%(pz_min,pz_max))"
   ]
  },
  {
   "cell_type": "code",
   "execution_count": 15,
   "id": "dbaa2bd7",
   "metadata": {},
   "outputs": [],
   "source": [
    "Protons_Pz=protons['GenProton.Pz']"
   ]
  },
  {
   "cell_type": "code",
   "execution_count": 16,
   "id": "7c8c666a",
   "metadata": {},
   "outputs": [],
   "source": [
    "# setting initial vars:\n",
    "N_Protons=np.zeros(len(protons)).astype(int) # number of protons in each event that pass the PPS criteria\n",
    "GenProton_pz=protons['GenProton.Pz']\n",
    "GenProton_vz=protons['GenProton.Z']\n",
    "GenProton_ispu=protons['GenProton.IsPU']\n",
    "GenProton_t=(convert_nanosec)*protons['GenProton.T'] # convert timing to nanosec\n",
    "\n",
    "# setting vars for elements passing criteria of pz_min and pz_max of protons:\n",
    "PassPz_Proton_pz=[]\n",
    "PassPz_Proton_vz=[]\n",
    "PassPz_Proton_ispu=[]\n",
    "PassPz_Proton_t=[]\n",
    "PassPz_Proton_tsmeared=[]\n",
    "PassPz_Proton_xi=[]\n",
    "PassPz_Proton_PU=[]\n",
    "\n",
    "# store sign of proton:\n",
    "sig=[]"
   ]
  },
  {
   "cell_type": "code",
   "execution_count": 17,
   "id": "2a4c9415",
   "metadata": {},
   "outputs": [
    {
     "name": "stderr",
     "output_type": "stream",
     "text": [
      "100%|██████████| 250/250 [00:01<00:00, 142.80it/s]\n"
     ]
    }
   ],
   "source": [
    "# loop over events in GenProton_pz branch:\n",
    "for i in tqdm(range(len(GenProton_pz))):\n",
    "    _pz=GenProton_pz[i]\n",
    "    _xi=1-np.abs(_pz)/ebeam\n",
    "    # smear with 2% uncertainty:\n",
    "    _uncert=0.02\n",
    "    _xi_smear=_xi*(1+np.random.normal(0,_uncert,len(_xi)))\n",
    "    _pz_smear=ebeam*(1-_xi_smear)\n",
    "    _t=np.zeros(len(_pz))\n",
    "    \n",
    "    # converting light speed from m/s to cm/ns:\n",
    "    convert_m_to_cm=1e2\n",
    "    c=3e8 # why not 299 792 458 m/s ?\n",
    "    lightspeed=c*convert_m_to_cm/convert_nanosec\n",
    "    \n",
    "    # loop over proton pz and store timing:\n",
    "    for k in range(len(_pz)):\n",
    "        if _pz[k]>0:\n",
    "            _t[k]=(GenProton_t[i][k]+(zpos-GenProton_vz[i][k])/lightspeed)\n",
    "        else: \n",
    "            _t[k]=(GenProton_t[i][k]+(zpos+GenProton_vz[i][k])/lightspeed)\n",
    "\n",
    "    # smear timing around PPS resolution:\n",
    "    _tsmear=_t+np.random.normal(0,trP,len(_t))\n",
    "    \n",
    "    # a counter for protons:\n",
    "    _Npr=0\n",
    "\n",
    "    # PassPz :: loop over proton pz and store passing events within smearing:\n",
    "    # [i] == event\n",
    "    # [k] == proton in event\n",
    "    for k in range(len(_pz)):\n",
    "        if (abs(_pz_smear[k])>pz_min) and (abs(_pz_smear[k])<pz_max):\n",
    "            sig.append(np.sign(_pz[k])) #Storing the Pz sign of each proton\n",
    "            PassPz_Proton_pz.append(_pz_smear[k])\n",
    "            PassPz_Proton_xi.append(_xi_smear[k])\n",
    "            PassPz_Proton_vz.append(GenProton_vz[i][k])\n",
    "            PassPz_Proton_PU.append(GenProton_ispu[i][k])\n",
    "            PassPz_Proton_t.append(_t[k])\n",
    "            PassPz_Proton_tsmeared.append(_tsmear[k])\n",
    "            _Npr=_Npr+1\n",
    "    \n",
    "    # count number of protons passing PPS criteria after the smearing\n",
    "    N_Protons[i]=_Npr"
   ]
  },
  {
   "cell_type": "markdown",
   "id": "8b61ccc3",
   "metadata": {},
   "source": [
    "Checking how many protons pass the PPS criteria:"
   ]
  },
  {
   "cell_type": "code",
   "execution_count": 18,
   "id": "f06d3156",
   "metadata": {
    "scrolled": true
   },
   "outputs": [
    {
     "name": "stdout",
     "output_type": "stream",
     "text": [
      "The total number of protons that passed the criteria is 2592\n"
     ]
    },
    {
     "data": {
      "text/plain": [
       "(array([ 2.,  3., 18., 23., 53., 68., 24., 37., 13.,  8.]),\n",
       " array([ 1. ,  2.7,  4.4,  6.1,  7.8,  9.5, 11.2, 12.9, 14.6, 16.3, 18. ]),\n",
       " <BarContainer object of 10 artists>)"
      ]
     },
     "execution_count": 18,
     "metadata": {},
     "output_type": "execute_result"
    },
    {
     "data": {
      "image/png": "[encoded data removed]",
      "text/plain": [
       "<Figure size 432x288 with 1 Axes>"
      ]
     },
     "metadata": {
      "needs_background": "light"
     },
     "output_type": "display_data"
    }
   ],
   "source": [
    "print('The total number of protons that passed the criteria is', np.sum(N_Protons))\n",
    "plt.hist(N_Protons, bins=10, range=(1,18))\n",
    "#for i in range(len(N_Protons)):\n",
    " #   print(N_Protons[i])"
   ]
  },
  {
   "cell_type": "markdown",
   "id": "c2bb390a",
   "metadata": {},
   "source": [
    "Sorting Protons by Direction"
   ]
  },
  {
   "cell_type": "code",
   "execution_count": 19,
   "id": "14ceea18",
   "metadata": {
    "scrolled": true
   },
   "outputs": [
    {
     "name": "stderr",
     "output_type": "stream",
     "text": [
      "250it [00:00, 76276.71it/s]\n"
     ]
    }
   ],
   "source": [
    "# prep store for proton sign and pairs:\n",
    "ProtonsNeg = np.zeros(n_events)\n",
    "ProtonsPos = np.zeros(n_events)\n",
    "N_Pairs = np.zeros(n_events) # possible combinations for 2 protons on both sectors\n",
    "###nprot = np.zeros(n_events) # can be removed?\n",
    "\n",
    "# simple counter:\n",
    "_count=0\n",
    "\n",
    "# loop over protons that passed the PassPz criteria:\n",
    "# ev == event (first index)\n",
    "# nprotons == secondary index to loop over protons in event (ev)\n",
    "for ev,_nprotons in tqdm(enumerate(N_Protons)):\n",
    "    # check sign:\n",
    "    for i in range(_nprotons):\n",
    "        if (sig[_count+i]>0):\n",
    "            ProtonsPos[ev] = ProtonsPos[ev]+1\n",
    "        else:\n",
    "            ProtonsNeg[ev] = ProtonsNeg[ev]+1\n",
    "        N_Pairs = ProtonsPos*ProtonsNeg\n",
    "    _count = _count + _nprotons"
   ]
  },
  {
   "cell_type": "code",
   "execution_count": 20,
   "id": "0f36e7f1",
   "metadata": {},
   "outputs": [
    {
     "name": "stdout",
     "output_type": "stream",
     "text": [
      "\n",
      "Evento: 4 \n",
      "Número de Protons: 0.0\n"
     ]
    }
   ],
   "source": [
    "for _ev in range(len(ProtonsPos)):\n",
    "    if ProtonsPos[_ev]<1:\n",
    "        print('\\nEvento:', _ev,'\\nNúmero de Protons:', ProtonsPos[_ev])"
   ]
  },
  {
   "cell_type": "code",
   "execution_count": 21,
   "id": "820823cf",
   "metadata": {},
   "outputs": [],
   "source": [
    "for _ev in range(len(ProtonsNeg)):\n",
    "    if ProtonsNeg[_ev]<1:\n",
    "        print('\\nEvento:', _ev,'\\nNúmero de Protons:', ProtonsNeg[_ev])"
   ]
  },
  {
   "cell_type": "code",
   "execution_count": 22,
   "id": "5093e54d",
   "metadata": {},
   "outputs": [
    {
     "name": "stdout",
     "output_type": "stream",
     "text": [
      "110\n"
     ]
    }
   ],
   "source": [
    "count=0\n",
    "for _ev in range(len(TLorentz_Sum)):\n",
    "    if len(TLorentz_Sum[_ev])>=2:\n",
    "        count=count+1\n",
    "    #print('Evento:', _ev)\n",
    "    #print(len(TLorentz_Sum[_ev]))\n",
    "print(count)"
   ]
  },
  {
   "cell_type": "code",
   "execution_count": 23,
   "id": "520fb8af",
   "metadata": {},
   "outputs": [
    {
     "name": "stdout",
     "output_type": "stream",
     "text": [
      "[<cppyy.gbl.TLorentzVector object at 0x61924f0>, <cppyy.gbl.TLorentzVector object at 0xac894e0>, <cppyy.gbl.TLorentzVector object at 0x96d17f0>]\n",
      "Name: TLorentzVector Title: A four vector with (-,-,-,+) metric\n",
      "772.2759149066326\n"
     ]
    }
   ],
   "source": [
    "print(TLorentz_Sum[0])\n",
    "print(TLorentz_Sum[0][0])\n",
    "print(TLorentz_Sum[0][0].M())\n"
   ]
  },
  {
   "cell_type": "code",
   "execution_count": 24,
   "id": "9d8718b9",
   "metadata": {},
   "outputs": [
    {
     "name": "stdout",
     "output_type": "stream",
     "text": [
      "[[<cppyy.gbl.TLorentzVector object at 0x61924f0>, <cppyy.gbl.TLorentzVector object at 0xac894e0>, <cppyy.gbl.TLorentzVector object at 0x96d17f0>], [<cppyy.gbl.TLorentzVector object at 0xac31100>, <cppyy.gbl.TLorentzVector object at 0xac56070>, <cppyy.gbl.TLorentzVector object at 0xac88890>], [<cppyy.gbl.TLorentzVector object at 0xac47e60>], [<cppyy.gbl.TLorentzVector object at 0xac4f9c0>, <cppyy.gbl.TLorentzVector object at 0xac30c10>, <cppyy.gbl.TLorentzVector object at 0xac04810>], [<cppyy.gbl.TLorentzVector object at 0xac042c0>], [<cppyy.gbl.TLorentzVector object at 0xac7eb70>], [<cppyy.gbl.TLorentzVector object at 0xac54680>], [<cppyy.gbl.TLorentzVector object at 0xac32550>, <cppyy.gbl.TLorentzVector object at 0xac520e0>, <cppyy.gbl.TLorentzVector object at 0xac8a1a0>], [<cppyy.gbl.TLorentzVector object at 0xac88420>, <cppyy.gbl.TLorentzVector object at 0xac80370>, <cppyy.gbl.TLorentzVector object at 0xac0a690>], [<cppyy.gbl.TLorentzVector object at 0xac544c0>, <cppyy.gbl.TLorentzVector object at 0xac0e2b0>, <cppyy.gbl.TLorentzVector object at 0xac807f0>], [<cppyy.gbl.TLorentzVector object at 0x72ae590>, <cppyy.gbl.TLorentzVector object at 0xac05160>, <cppyy.gbl.TLorentzVector object at 0xac12610>], [<cppyy.gbl.TLorentzVector object at 0xac53340>, <cppyy.gbl.TLorentzVector object at 0xa804db0>, <cppyy.gbl.TLorentzVector object at 0xac01c80>], [<cppyy.gbl.TLorentzVector object at 0x96d2d90>], [<cppyy.gbl.TLorentzVector object at 0xac473e0>, <cppyy.gbl.TLorentzVector object at 0xac56a10>, <cppyy.gbl.TLorentzVector object at 0x96d1aa0>, <cppyy.gbl.TLorentzVector object at 0xac4ed50>, <cppyy.gbl.TLorentzVector object at 0xac17890>, <cppyy.gbl.TLorentzVector object at 0xac59200>], [<cppyy.gbl.TLorentzVector object at 0xac05030>], [<cppyy.gbl.TLorentzVector object at 0xabff8e0>, <cppyy.gbl.TLorentzVector object at 0xac472f0>, <cppyy.gbl.TLorentzVector object at 0xac039a0>, <cppyy.gbl.TLorentzVector object at 0xac54040>, <cppyy.gbl.TLorentzVector object at 0xac25ff0>, <cppyy.gbl.TLorentzVector object at 0x96d2c50>], [<cppyy.gbl.TLorentzVector object at 0xac45a10>, <cppyy.gbl.TLorentzVector object at 0xac827e0>, <cppyy.gbl.TLorentzVector object at 0xac17d90>], [<cppyy.gbl.TLorentzVector object at 0xac80f10>, <cppyy.gbl.TLorentzVector object at 0xac801e0>, <cppyy.gbl.TLorentzVector object at 0xac80290>, <cppyy.gbl.TLorentzVector object at 0xac55f20>, <cppyy.gbl.TLorentzVector object at 0xac57bf0>, <cppyy.gbl.TLorentzVector object at 0xac57c40>], [], [<cppyy.gbl.TLorentzVector object at 0xac56c30>, <cppyy.gbl.TLorentzVector object at 0xac57400>, <cppyy.gbl.TLorentzVector object at 0xac57450>], [<cppyy.gbl.TLorentzVector object at 0xac56fb0>, <cppyy.gbl.TLorentzVector object at 0xac57020>, <cppyy.gbl.TLorentzVector object at 0xa885b70>], [<cppyy.gbl.TLorentzVector object at 0xa885b00>, <cppyy.gbl.TLorentzVector object at 0xac05aa0>, <cppyy.gbl.TLorentzVector object at 0xa8a35a0>, <cppyy.gbl.TLorentzVector object at 0xa8a3690>, <cppyy.gbl.TLorentzVector object at 0xac0de50>, <cppyy.gbl.TLorentzVector object at 0xac0dda0>], [<cppyy.gbl.TLorentzVector object at 0xac80000>], [], [<cppyy.gbl.TLorentzVector object at 0xac80050>], [<cppyy.gbl.TLorentzVector object at 0xac01f40>, <cppyy.gbl.TLorentzVector object at 0xac89ef0>, <cppyy.gbl.TLorentzVector object at 0xac89fe0>], [], [<cppyy.gbl.TLorentzVector object at 0xac89f40>], [], [<cppyy.gbl.TLorentzVector object at 0xac7e960>], [<cppyy.gbl.TLorentzVector object at 0xac54840>], [], [<cppyy.gbl.TLorentzVector object at 0xac54890>], [<cppyy.gbl.TLorentzVector object at 0xac58f00>, <cppyy.gbl.TLorentzVector object at 0xac58e50>, <cppyy.gbl.TLorentzVector object at 0xac46ef0>], [<cppyy.gbl.TLorentzVector object at 0xac46f60>], [<cppyy.gbl.TLorentzVector object at 0xac51da0>, <cppyy.gbl.TLorentzVector object at 0xac51df0>, <cppyy.gbl.TLorentzVector object at 0xac7da80>], [<cppyy.gbl.TLorentzVector object at 0xac458f0>, <cppyy.gbl.TLorentzVector object at 0xac457a0>, <cppyy.gbl.TLorentzVector object at 0xac594a0>], [<cppyy.gbl.TLorentzVector object at 0xac59350>, <cppyy.gbl.TLorentzVector object at 0xac593a0>, <cppyy.gbl.TLorentzVector object at 0xabff2a0>], [<cppyy.gbl.TLorentzVector object at 0xabff150>], [], [<cppyy.gbl.TLorentzVector object at 0xac329e0>, <cppyy.gbl.TLorentzVector object at 0xac32890>, <cppyy.gbl.TLorentzVector object at 0xac328e0>], [<cppyy.gbl.TLorentzVector object at 0xac50460>, <cppyy.gbl.TLorentzVector object at 0xac504b0>, <cppyy.gbl.TLorentzVector object at 0xac82b80>], [<cppyy.gbl.TLorentzVector object at 0xac82a30>, <cppyy.gbl.TLorentzVector object at 0xac82a80>, <cppyy.gbl.TLorentzVector object at 0xac81ce0>, <cppyy.gbl.TLorentzVector object at 0xac81b50>, <cppyy.gbl.TLorentzVector object at 0xac54e20>, <cppyy.gbl.TLorentzVector object at 0xac54e70>], [<cppyy.gbl.TLorentzVector object at 0xac54cd0>], [<cppyy.gbl.TLorentzVector object at 0xac51c80>, <cppyy.gbl.TLorentzVector object at 0xac51cd0>, <cppyy.gbl.TLorentzVector object at 0xac51b30>], [<cppyy.gbl.TLorentzVector object at 0xac511c0>], [<cppyy.gbl.TLorentzVector object at 0xac51210>, <cppyy.gbl.TLorentzVector object at 0xac51070>, <cppyy.gbl.TLorentzVector object at 0xac8ad30>], [], [], [<cppyy.gbl.TLorentzVector object at 0xac8adc0>, <cppyy.gbl.TLorentzVector object at 0xac8ae80>, <cppyy.gbl.TLorentzVector object at 0xa83a450>], [<cppyy.gbl.TLorentzVector object at 0xa83a5a0>, <cppyy.gbl.TLorentzVector object at 0xa83a4a0>, <cppyy.gbl.TLorentzVector object at 0xa83a510>], [<cppyy.gbl.TLorentzVector object at 0xac896e0>], [<cppyy.gbl.TLorentzVector object at 0xac89770>], [], [], [<cppyy.gbl.TLorentzVector object at 0xac89830>, <cppyy.gbl.TLorentzVector object at 0xabfd680>, <cppyy.gbl.TLorentzVector object at 0xabfd6d0>, <cppyy.gbl.TLorentzVector object at 0xabfd8c0>, <cppyy.gbl.TLorentzVector object at 0xabfd850>, <cppyy.gbl.TLorentzVector object at 0xac47ac0>], [<cppyy.gbl.TLorentzVector object at 0xac47c10>, <cppyy.gbl.TLorentzVector object at 0xac47c60>, <cppyy.gbl.TLorentzVector object at 0xac47cf0>], [<cppyy.gbl.TLorentzVector object at 0xa7dbcb0>], [<cppyy.gbl.TLorentzVector object at 0xac44e90>], [<cppyy.gbl.TLorentzVector object at 0xac44bf0>], [<cppyy.gbl.TLorentzVector object at 0xac44c40>, <cppyy.gbl.TLorentzVector object at 0xac3ac20>, <cppyy.gbl.TLorentzVector object at 0xac80bc0>, <cppyy.gbl.TLorentzVector object at 0xac44d40>, <cppyy.gbl.TLorentzVector object at 0xac88eb0>, <cppyy.gbl.TLorentzVector object at 0xac88d60>, <cppyy.gbl.TLorentzVector object at 0xac88db0>, <cppyy.gbl.TLorentzVector object at 0xacd3e20>, <cppyy.gbl.TLorentzVector object at 0xacd3e70>, <cppyy.gbl.TLorentzVector object at 0xacd3fb0>], [<cppyy.gbl.TLorentzVector object at 0xac88c50>], [<cppyy.gbl.TLorentzVector object at 0xac88ca0>, <cppyy.gbl.TLorentzVector object at 0xac89090>, <cppyy.gbl.TLorentzVector object at 0xac891a0>], [<cppyy.gbl.TLorentzVector object at 0xac891f0>, <cppyy.gbl.TLorentzVector object at 0xac89280>, <cppyy.gbl.TLorentzVector object at 0xac892f0>], [<cppyy.gbl.TLorentzVector object at 0xac7dc10>, <cppyy.gbl.TLorentzVector object at 0xac7dca0>, <cppyy.gbl.TLorentzVector object at 0xac7dd60>], [<cppyy.gbl.TLorentzVector object at 0xac7ddb0>], [<cppyy.gbl.TLorentzVector object at 0xac7deb0>], [<cppyy.gbl.TLorentzVector object at 0xac183a0>, <cppyy.gbl.TLorentzVector object at 0xac18250>, <cppyy.gbl.TLorentzVector object at 0xac182a0>], [], [<cppyy.gbl.TLorentzVector object at 0xac8a680>, <cppyy.gbl.TLorentzVector object at 0xac8a6d0>, <cppyy.gbl.TLorentzVector object at 0xac8a810>, <cppyy.gbl.TLorentzVector object at 0xac8a920>, <cppyy.gbl.TLorentzVector object at 0xac8a970>, <cppyy.gbl.TLorentzVector object at 0xa838480>], [<cppyy.gbl.TLorentzVector object at 0xa8384d0>, <cppyy.gbl.TLorentzVector object at 0xa8385d0>, <cppyy.gbl.TLorentzVector object at 0xa838620>, <cppyy.gbl.TLorentzVector object at 0xa838720>, <cppyy.gbl.TLorentzVector object at 0xa838790>, <cppyy.gbl.TLorentzVector object at 0xac089d0>, <cppyy.gbl.TLorentzVector object at 0xac08ae0>, <cppyy.gbl.TLorentzVector object at 0xac08b30>, <cppyy.gbl.TLorentzVector object at 0xac08c30>, <cppyy.gbl.TLorentzVector object at 0xac08c80>], [<cppyy.gbl.TLorentzVector object at 0xac31730>, <cppyy.gbl.TLorentzVector object at 0xac31780>, <cppyy.gbl.TLorentzVector object at 0xac318c0>], [<cppyy.gbl.TLorentzVector object at 0xac319d0>], [<cppyy.gbl.TLorentzVector object at 0xac31a20>, <cppyy.gbl.TLorentzVector object at 0xac31a90>, <cppyy.gbl.TLorentzVector object at 0xac7efa0>], [], [<cppyy.gbl.TLorentzVector object at 0xac7f0b0>, <cppyy.gbl.TLorentzVector object at 0xacd40c0>, <cppyy.gbl.TLorentzVector object at 0xacd4150>], [], [<cppyy.gbl.TLorentzVector object at 0xac7f200>, <cppyy.gbl.TLorentzVector object at 0xac7f250>, <cppyy.gbl.TLorentzVector object at 0xac19730>], [<cppyy.gbl.TLorentzVector object at 0xac19780>, <cppyy.gbl.TLorentzVector object at 0xac18020>, <cppyy.gbl.TLorentzVector object at 0xac18130>], [<cppyy.gbl.TLorentzVector object at 0xac18180>, <cppyy.gbl.TLorentzVector object at 0xac899d0>, <cppyy.gbl.TLorentzVector object at 0xac89ae0>], [], [<cppyy.gbl.TLorentzVector object at 0xac89b30>], [<cppyy.gbl.TLorentzVector object at 0xac89d80>, <cppyy.gbl.TLorentzVector object at 0xac89c30>, <cppyy.gbl.TLorentzVector object at 0xac89c80>], [], [<cppyy.gbl.TLorentzVector object at 0xac29c20>, <cppyy.gbl.TLorentzVector object at 0xac29d30>, <cppyy.gbl.TLorentzVector object at 0xac29d80>], [<cppyy.gbl.TLorentzVector object at 0xac29e80>], [<cppyy.gbl.TLorentzVector object at 0xac29f10>, <cppyy.gbl.TLorentzVector object at 0xac7f140>, <cppyy.gbl.TLorentzVector object at 0xac58610>], [<cppyy.gbl.TLorentzVector object at 0xac58660>], [<cppyy.gbl.TLorentzVector object at 0xac587a0>], [<cppyy.gbl.TLorentzVector object at 0xac588b0>], [<cppyy.gbl.TLorentzVector object at 0xac58900>, <cppyy.gbl.TLorentzVector object at 0xac58b50>, <cppyy.gbl.TLorentzVector object at 0xac58a00>], [], [], [<cppyy.gbl.TLorentzVector object at 0xac58a50>], [], [<cppyy.gbl.TLorentzVector object at 0x96d5580>, <cppyy.gbl.TLorentzVector object at 0x96d5690>, <cppyy.gbl.TLorentzVector object at 0x96d5780>], [<cppyy.gbl.TLorentzVector object at 0xac19440>], [], [<cppyy.gbl.TLorentzVector object at 0xac196e0>], [<cppyy.gbl.TLorentzVector object at 0xac19490>, <cppyy.gbl.TLorentzVector object at 0xac19590>, <cppyy.gbl.TLorentzVector object at 0xac450e0>], [<cppyy.gbl.TLorentzVector object at 0xac45170>, <cppyy.gbl.TLorentzVector object at 0xac45230>, <cppyy.gbl.TLorentzVector object at 0xac45280>], [<cppyy.gbl.TLorentzVector object at 0xac453c0>, <cppyy.gbl.TLorentzVector object at 0xac45450>, <cppyy.gbl.TLorentzVector object at 0xac45510>], [<cppyy.gbl.TLorentzVector object at 0xac45620>, <cppyy.gbl.TLorentzVector object at 0xac45690>, <cppyy.gbl.TLorentzVector object at 0xac681c0>], [<cppyy.gbl.TLorentzVector object at 0xac68250>, <cppyy.gbl.TLorentzVector object at 0xac68310>, <cppyy.gbl.TLorentzVector object at 0xac68420>], [], [<cppyy.gbl.TLorentzVector object at 0xac68470>], [<cppyy.gbl.TLorentzVector object at 0xac68570>, <cppyy.gbl.TLorentzVector object at 0xac68600>, <cppyy.gbl.TLorentzVector object at 0xac686c0>], [<cppyy.gbl.TLorentzVector object at 0xac68960>, <cppyy.gbl.TLorentzVector object at 0xac68810>, <cppyy.gbl.TLorentzVector object at 0xac68860>, <cppyy.gbl.TLorentzVector object at 0xac442e0>, <cppyy.gbl.TLorentzVector object at 0xac44330>, <cppyy.gbl.TLorentzVector object at 0xac44470>], [<cppyy.gbl.TLorentzVector object at 0xac44500>], [<cppyy.gbl.TLorentzVector object at 0xac44ae0>], [], [<cppyy.gbl.TLorentzVector object at 0xac445c0>, <cppyy.gbl.TLorentzVector object at 0x96d51d0>, <cppyy.gbl.TLorentzVector object at 0x96d5220>, <cppyy.gbl.TLorentzVector object at 0x96d5470>, <cppyy.gbl.TLorentzVector object at 0x96d5320>, <cppyy.gbl.TLorentzVector object at 0x96d5370>], [<cppyy.gbl.TLorentzVector object at 0xacda210>, <cppyy.gbl.TLorentzVector object at 0xacda260>, <cppyy.gbl.TLorentzVector object at 0xacda3a0>, <cppyy.gbl.TLorentzVector object at 0xacda4b0>, <cppyy.gbl.TLorentzVector object at 0xacda500>, <cppyy.gbl.TLorentzVector object at 0xacda600>, <cppyy.gbl.TLorentzVector object at 0xacda690>, <cppyy.gbl.TLorentzVector object at 0xacda750>, <cppyy.gbl.TLorentzVector object at 0xacda7a0>, <cppyy.gbl.TLorentzVector object at 0xacda8e0>], [<cppyy.gbl.TLorentzVector object at 0xacda9f0>], [<cppyy.gbl.TLorentzVector object at 0xacdaa40>, <cppyy.gbl.TLorentzVector object at 0xacdab40>, <cppyy.gbl.TLorentzVector object at 0xacdabd0>], [], [<cppyy.gbl.TLorentzVector object at 0xacdad80>, <cppyy.gbl.TLorentzVector object at 0xacdacd0>, <cppyy.gbl.TLorentzVector object at 0x96d4670>], [<cppyy.gbl.TLorentzVector object at 0x96d46c0>], [], [<cppyy.gbl.TLorentzVector object at 0x96d47c0>, <cppyy.gbl.TLorentzVector object at 0xac16ef0>, <cppyy.gbl.TLorentzVector object at 0xac16f40>], [<cppyy.gbl.TLorentzVector object at 0xac17040>, <cppyy.gbl.TLorentzVector object at 0xac170d0>, <cppyy.gbl.TLorentzVector object at 0xac17190>, <cppyy.gbl.TLorentzVector object at 0xac171e0>, <cppyy.gbl.TLorentzVector object at 0xac17320>, <cppyy.gbl.TLorentzVector object at 0xac17430>], [<cppyy.gbl.TLorentzVector object at 0xac17480>], [<cppyy.gbl.TLorentzVector object at 0xac17580>, <cppyy.gbl.TLorentzVector object at 0xac175d0>, <cppyy.gbl.TLorentzVector object at 0xacd9580>], [<cppyy.gbl.TLorentzVector object at 0xacd9610>, <cppyy.gbl.TLorentzVector object at 0xacd96d0>, <cppyy.gbl.TLorentzVector object at 0xacd9720>], [<cppyy.gbl.TLorentzVector object at 0xacd9860>], [<cppyy.gbl.TLorentzVector object at 0xacd9970>, <cppyy.gbl.TLorentzVector object at 0xacd99c0>, <cppyy.gbl.TLorentzVector object at 0xacd9ac0>, <cppyy.gbl.TLorentzVector object at 0xacd9b50>, <cppyy.gbl.TLorentzVector object at 0xacd9c10>, <cppyy.gbl.TLorentzVector object at 0xacd9c60>], [<cppyy.gbl.TLorentzVector object at 0xacd9da0>, <cppyy.gbl.TLorentzVector object at 0xacd9eb0>, <cppyy.gbl.TLorentzVector object at 0xacd9f00>, <cppyy.gbl.TLorentzVector object at 0xacda150>, <cppyy.gbl.TLorentzVector object at 0xacda040>, <cppyy.gbl.TLorentzVector object at 0xac1e700>], [<cppyy.gbl.TLorentzVector object at 0xac1e750>], [<cppyy.gbl.TLorentzVector object at 0xac1e850>], [], [<cppyy.gbl.TLorentzVector object at 0xac1e8e0>, <cppyy.gbl.TLorentzVector object at 0xac446d0>, <cppyy.gbl.TLorentzVector object at 0xac44720>], [], [], [<cppyy.gbl.TLorentzVector object at 0xac44860>, <cppyy.gbl.TLorentzVector object at 0xac44970>, <cppyy.gbl.TLorentzVector object at 0xac449c0>], [<cppyy.gbl.TLorentzVector object at 0xac1ee50>, <cppyy.gbl.TLorentzVector object at 0xac1eea0>, <cppyy.gbl.TLorentzVector object at 0xac1efa0>], [<cppyy.gbl.TLorentzVector object at 0xac1eff0>], [<cppyy.gbl.TLorentzVector object at 0xac1f130>], [], [], [<cppyy.gbl.TLorentzVector object at 0xac1f240>], [<cppyy.gbl.TLorentzVector object at 0xac1f290>, <cppyy.gbl.TLorentzVector object at 0xac1f390>, <cppyy.gbl.TLorentzVector object at 0xac1f420>, <cppyy.gbl.TLorentzVector object at 0xac1f4e0>, <cppyy.gbl.TLorentzVector object at 0xac1f530>, <cppyy.gbl.TLorentzVector object at 0xac1f670>], [<cppyy.gbl.TLorentzVector object at 0xac1f780>, <cppyy.gbl.TLorentzVector object at 0xac1f7d0>, <cppyy.gbl.TLorentzVector object at 0xac1f8d0>], [<cppyy.gbl.TLorentzVector object at 0xac1f960>], [<cppyy.gbl.TLorentzVector object at 0xac1fa20>], [], [], [], [<cppyy.gbl.TLorentzVector object at 0xac1fa70>], [], [], [<cppyy.gbl.TLorentzVector object at 0xac1fbb0>, <cppyy.gbl.TLorentzVector object at 0xac1fcc0>, <cppyy.gbl.TLorentzVector object at 0xac1fd10>], [], [<cppyy.gbl.TLorentzVector object at 0xac1fd80>, <cppyy.gbl.TLorentzVector object at 0xac1e9e0>, <cppyy.gbl.TLorentzVector object at 0xac1ea70>, <cppyy.gbl.TLorentzVector object at 0xac1eb30>, <cppyy.gbl.TLorentzVector object at 0xac1ed90>, <cppyy.gbl.TLorentzVector object at 0xac1ede0>], [], [], [], [<cppyy.gbl.TLorentzVector object at 0xac1ec40>, <cppyy.gbl.TLorentzVector object at 0xac41680>, <cppyy.gbl.TLorentzVector object at 0xac416d0>, <cppyy.gbl.TLorentzVector object at 0xac417d0>, <cppyy.gbl.TLorentzVector object at 0xac41860>, <cppyy.gbl.TLorentzVector object at 0xac41920>], [<cppyy.gbl.TLorentzVector object at 0xac41970>], [<cppyy.gbl.TLorentzVector object at 0xac41ab0>, <cppyy.gbl.TLorentzVector object at 0xac41bc0>, <cppyy.gbl.TLorentzVector object at 0xac41c10>], [<cppyy.gbl.TLorentzVector object at 0xac41d10>], [<cppyy.gbl.TLorentzVector object at 0xac41da0>, <cppyy.gbl.TLorentzVector object at 0xac41e60>, <cppyy.gbl.TLorentzVector object at 0xac41eb0>], [], [<cppyy.gbl.TLorentzVector object at 0xac41ff0>], [<cppyy.gbl.TLorentzVector object at 0xac42100>, <cppyy.gbl.TLorentzVector object at 0xac42150>, <cppyy.gbl.TLorentzVector object at 0xac42250>], [<cppyy.gbl.TLorentzVector object at 0xac422e0>], [<cppyy.gbl.TLorentzVector object at 0xac423a0>, <cppyy.gbl.TLorentzVector object at 0xac423f0>, <cppyy.gbl.TLorentzVector object at 0xac42530>], [<cppyy.gbl.TLorentzVector object at 0xac42640>], [], [], [], [<cppyy.gbl.TLorentzVector object at 0xac42690>, <cppyy.gbl.TLorentzVector object at 0xac42790>, <cppyy.gbl.TLorentzVector object at 0xac42820>], [<cppyy.gbl.TLorentzVector object at 0xac428e0>, <cppyy.gbl.TLorentzVector object at 0xac42930>, <cppyy.gbl.TLorentzVector object at 0xac42a70>], [<cppyy.gbl.TLorentzVector object at 0xac42b80>, <cppyy.gbl.TLorentzVector object at 0xac42bd0>, <cppyy.gbl.TLorentzVector object at 0xac42cd0>], [<cppyy.gbl.TLorentzVector object at 0xac42d60>], [], [<cppyy.gbl.TLorentzVector object at 0xac42e20>], [<cppyy.gbl.TLorentzVector object at 0xac42e70>, <cppyy.gbl.TLorentzVector object at 0xac42fb0>, <cppyy.gbl.TLorentzVector object at 0xac430c0>, <cppyy.gbl.TLorentzVector object at 0xac431b0>, <cppyy.gbl.TLorentzVector object at 0xac41110>, <cppyy.gbl.TLorentzVector object at 0xac41160>, <cppyy.gbl.TLorentzVector object at 0xac41260>, <cppyy.gbl.TLorentzVector object at 0xac412b0>, <cppyy.gbl.TLorentzVector object at 0xac413f0>, <cppyy.gbl.TLorentzVector object at 0xac41480>], [<cppyy.gbl.TLorentzVector object at 0xac41540>, <cppyy.gbl.TLorentzVector object at 0xac85660>, <cppyy.gbl.TLorentzVector object at 0xac856b0>], [<cppyy.gbl.TLorentzVector object at 0xac857b0>], [<cppyy.gbl.TLorentzVector object at 0xac85840>], [], [], [<cppyy.gbl.TLorentzVector object at 0xac85900>], [<cppyy.gbl.TLorentzVector object at 0xac85950>, <cppyy.gbl.TLorentzVector object at 0xac85a90>, <cppyy.gbl.TLorentzVector object at 0xac85ba0>], [<cppyy.gbl.TLorentzVector object at 0xac85bf0>], [<cppyy.gbl.TLorentzVector object at 0xac85cf0>], [<cppyy.gbl.TLorentzVector object at 0xac85d80>, <cppyy.gbl.TLorentzVector object at 0xac85e40>, <cppyy.gbl.TLorentzVector object at 0xac85e90>], [], [<cppyy.gbl.TLorentzVector object at 0xac85fd0>, <cppyy.gbl.TLorentzVector object at 0xac860e0>, <cppyy.gbl.TLorentzVector object at 0xac86130>], [<cppyy.gbl.TLorentzVector object at 0xac86230>, <cppyy.gbl.TLorentzVector object at 0xac862c0>, <cppyy.gbl.TLorentzVector object at 0xac86380>], [<cppyy.gbl.TLorentzVector object at 0xac863d0>], [<cppyy.gbl.TLorentzVector object at 0xac86510>, <cppyy.gbl.TLorentzVector object at 0xac86620>, <cppyy.gbl.TLorentzVector object at 0xac86670>, <cppyy.gbl.TLorentzVector object at 0xac86770>, <cppyy.gbl.TLorentzVector object at 0xac86800>, <cppyy.gbl.TLorentzVector object at 0xac868c0>, <cppyy.gbl.TLorentzVector object at 0xac86910>, <cppyy.gbl.TLorentzVector object at 0xac86a50>, <cppyy.gbl.TLorentzVector object at 0xac86b60>, <cppyy.gbl.TLorentzVector object at 0xac86bb0>, <cppyy.gbl.TLorentzVector object at 0xac86cb0>, <cppyy.gbl.TLorentzVector object at 0xac86d40>, <cppyy.gbl.TLorentzVector object at 0xac86e00>, <cppyy.gbl.TLorentzVector object at 0xac86e50>, <cppyy.gbl.TLorentzVector object at 0xac86f90>], [<cppyy.gbl.TLorentzVector object at 0xac870a0>, <cppyy.gbl.TLorentzVector object at 0xac870f0>, <cppyy.gbl.TLorentzVector object at 0xac871f0>], [<cppyy.gbl.TLorentzVector object at 0xac87280>], [<cppyy.gbl.TLorentzVector object at 0xac87340>, <cppyy.gbl.TLorentzVector object at 0xac87390>, <cppyy.gbl.TLorentzVector object at 0xac874d0>], [<cppyy.gbl.TLorentzVector object at 0xac875e0>, <cppyy.gbl.TLorentzVector object at 0xac87630>, <cppyy.gbl.TLorentzVector object at 0xac87730>], [<cppyy.gbl.TLorentzVector object at 0xac877c0>, <cppyy.gbl.TLorentzVector object at 0xac87880>, <cppyy.gbl.TLorentzVector object at 0xac878d0>], [], [<cppyy.gbl.TLorentzVector object at 0xac87a10>, <cppyy.gbl.TLorentzVector object at 0xac87b20>, <cppyy.gbl.TLorentzVector object at 0xac87b70>, <cppyy.gbl.TLorentzVector object at 0xac87c70>, <cppyy.gbl.TLorentzVector object at 0xac87d00>, <cppyy.gbl.TLorentzVector object at 0xac87dc0>], [<cppyy.gbl.TLorentzVector object at 0xac87e10>, <cppyy.gbl.TLorentzVector object at 0xac87f50>, <cppyy.gbl.TLorentzVector object at 0xac88060>], [], [<cppyy.gbl.TLorentzVector object at 0xac880b0>, <cppyy.gbl.TLorentzVector object at 0xac881b0>, <cppyy.gbl.TLorentzVector object at 0xac88200>], [<cppyy.gbl.TLorentzVector object at 0xac85010>], [<cppyy.gbl.TLorentzVector object at 0xac85060>, <cppyy.gbl.TLorentzVector object at 0xac851a0>, <cppyy.gbl.TLorentzVector object at 0xac852b0>, <cppyy.gbl.TLorentzVector object at 0xac85300>, <cppyy.gbl.TLorentzVector object at 0xac85400>, <cppyy.gbl.TLorentzVector object at 0xac85490>], [<cppyy.gbl.TLorentzVector object at 0xac85590>], [<cppyy.gbl.TLorentzVector object at 0xac26830>], [<cppyy.gbl.TLorentzVector object at 0xac268c0>], [<cppyy.gbl.TLorentzVector object at 0xac26980>, <cppyy.gbl.TLorentzVector object at 0xac269d0>, <cppyy.gbl.TLorentzVector object at 0xac26b10>, <cppyy.gbl.TLorentzVector object at 0xac26ba0>, <cppyy.gbl.TLorentzVector object at 0xac26c60>, <cppyy.gbl.TLorentzVector object at 0xac26d70>], [<cppyy.gbl.TLorentzVector object at 0xac26dc0>], [<cppyy.gbl.TLorentzVector object at 0xac26ec0>, <cppyy.gbl.TLorentzVector object at 0xac26f50>, <cppyy.gbl.TLorentzVector object at 0xac27010>], [<cppyy.gbl.TLorentzVector object at 0xac27060>, <cppyy.gbl.TLorentzVector object at 0xac271a0>, <cppyy.gbl.TLorentzVector object at 0xac272b0>], [<cppyy.gbl.TLorentzVector object at 0xac27300>, <cppyy.gbl.TLorentzVector object at 0xac27400>, <cppyy.gbl.TLorentzVector object at 0xac27490>, <cppyy.gbl.TLorentzVector object at 0xac27550>, <cppyy.gbl.TLorentzVector object at 0xac275a0>, <cppyy.gbl.TLorentzVector object at 0xac276e0>], [<cppyy.gbl.TLorentzVector object at 0xac277f0>], [], [<cppyy.gbl.TLorentzVector object at 0xac27840>, <cppyy.gbl.TLorentzVector object at 0xac27940>, <cppyy.gbl.TLorentzVector object at 0xac279d0>], [], [], [<cppyy.gbl.TLorentzVector object at 0xac27a90>], [], [<cppyy.gbl.TLorentzVector object at 0xac27ae0>], [<cppyy.gbl.TLorentzVector object at 0xac27c20>], [<cppyy.gbl.TLorentzVector object at 0xac27d30>, <cppyy.gbl.TLorentzVector object at 0xac27d80>, <cppyy.gbl.TLorentzVector object at 0xac27e80>, <cppyy.gbl.TLorentzVector object at 0xac27f10>, <cppyy.gbl.TLorentzVector object at 0xac27fd0>, <cppyy.gbl.TLorentzVector object at 0xac28020>], [<cppyy.gbl.TLorentzVector object at 0xac28160>, <cppyy.gbl.TLorentzVector object at 0xac28270>, <cppyy.gbl.TLorentzVector object at 0xac282c0>, <cppyy.gbl.TLorentzVector object at 0xac283c0>, <cppyy.gbl.TLorentzVector object at 0xac28450>, <cppyy.gbl.TLorentzVector object at 0xac28510>], [<cppyy.gbl.TLorentzVector object at 0xac28560>, <cppyy.gbl.TLorentzVector object at 0xac286a0>, <cppyy.gbl.TLorentzVector object at 0xac287b0>, <cppyy.gbl.TLorentzVector object at 0xac28800>, <cppyy.gbl.TLorentzVector object at 0xac28900>, <cppyy.gbl.TLorentzVector object at 0xac28990>], [], [<cppyy.gbl.TLorentzVector object at 0xac28a50>], [<cppyy.gbl.TLorentzVector object at 0xac28aa0>, <cppyy.gbl.TLorentzVector object at 0xac28be0>, <cppyy.gbl.TLorentzVector object at 0xac28cf0>], [<cppyy.gbl.TLorentzVector object at 0xac28d40>], [<cppyy.gbl.TLorentzVector object at 0xac28e40>, <cppyy.gbl.TLorentzVector object at 0xac28ed0>, <cppyy.gbl.TLorentzVector object at 0xac28f90>], [<cppyy.gbl.TLorentzVector object at 0xac28fe0>, <cppyy.gbl.TLorentzVector object at 0xac29120>, <cppyy.gbl.TLorentzVector object at 0xac29230>, <cppyy.gbl.TLorentzVector object at 0xac29280>, <cppyy.gbl.TLorentzVector object at 0xac29380>, <cppyy.gbl.TLorentzVector object at 0xac29410>], [<cppyy.gbl.TLorentzVector object at 0xac294d0>, <cppyy.gbl.TLorentzVector object at 0xac29520>, <cppyy.gbl.TLorentzVector object at 0xac29660>, <cppyy.gbl.TLorentzVector object at 0xac29770>, <cppyy.gbl.TLorentzVector object at 0xac297c0>, <cppyy.gbl.TLorentzVector object at 0xac298c0>], [<cppyy.gbl.TLorentzVector object at 0xac29950>, <cppyy.gbl.TLorentzVector object at 0xac29b00>, <cppyy.gbl.TLorentzVector object at 0xac29a50>], [<cppyy.gbl.TLorentzVector object at 0xac68ae0>], [<cppyy.gbl.TLorentzVector object at 0xac68b30>], [<cppyy.gbl.TLorentzVector object at 0xac26120>, <cppyy.gbl.TLorentzVector object at 0xac26230>, <cppyy.gbl.TLorentzVector object at 0xac26280>, <cppyy.gbl.TLorentzVector object at 0xac26380>, <cppyy.gbl.TLorentzVector object at 0xac26410>, <cppyy.gbl.TLorentzVector object at 0xac264d0>], [<cppyy.gbl.TLorentzVector object at 0xac26520>], [<cppyy.gbl.TLorentzVector object at 0xac267b0>], [<cppyy.gbl.TLorentzVector object at 0xac26620>], [], [<cppyy.gbl.TLorentzVector object at 0xac694a0>], [], [], [<cppyy.gbl.TLorentzVector object at 0xac69530>], [<cppyy.gbl.TLorentzVector object at 0xac695f0>], [], [<cppyy.gbl.TLorentzVector object at 0xac69640>], [<cppyy.gbl.TLorentzVector object at 0xac69780>, <cppyy.gbl.TLorentzVector object at 0xac69810>, <cppyy.gbl.TLorentzVector object at 0xac698d0>], [<cppyy.gbl.TLorentzVector object at 0xac699e0>], [<cppyy.gbl.TLorentzVector object at 0xac69a30>], [<cppyy.gbl.TLorentzVector object at 0xac69b30>, <cppyy.gbl.TLorentzVector object at 0xac69bc0>, <cppyy.gbl.TLorentzVector object at 0xac69c80>, <cppyy.gbl.TLorentzVector object at 0xac69cd0>, <cppyy.gbl.TLorentzVector object at 0xac69e10>, <cppyy.gbl.TLorentzVector object at 0xac69f20>]]\n"
     ]
    }
   ],
   "source": [
    "print(TLorentz_Sum)"
   ]
  },
  {
   "cell_type": "markdown",
   "id": "d90047ab",
   "metadata": {},
   "source": [
    "# Checking events with 2 Jet Pairs and 2 Protons in PPS:"
   ]
  },
  {
   "cell_type": "code",
   "execution_count": 25,
   "id": "74189b3b",
   "metadata": {
    "scrolled": true
   },
   "outputs": [
    {
     "name": "stdout",
     "output_type": "stream",
     "text": [
      "The number of events with 2 Jet Pairs and 2 Protons in PPS is: 110\n"
     ]
    }
   ],
   "source": [
    "TLorentz_valid=[] #Listing all TLorentz for events with 2 JetPairs and 2 Protons in PPS\n",
    "valid_events=[] #making a list of the events that have 2 JetPairs and 2 Protons in PPS\n",
    "count=0\n",
    "\n",
    "for _ev in range(len(TLorentz_Sum)):\n",
    "    temp=[]\n",
    "    if len(TLorentz_Sum[_ev])>=2 and ProtonsPos[_ev]>=1 and ProtonsNeg[_ev]>=1:\n",
    "        count=count+1\n",
    "        for _pair in range(len(TLorentz_Sum[_ev])):\n",
    "            temp.append(TLorentz_Sum[_ev][_pair])\n",
    "    else:\n",
    "        temp.append(-999)\n",
    "        \n",
    "    TLorentz_valid.append(temp)\n",
    "        \n",
    "print('The number of events with 2 Jet Pairs and 2 Protons in PPS is:', count)"
   ]
  },
  {
   "cell_type": "code",
   "execution_count": 26,
   "id": "3390a3b4",
   "metadata": {},
   "outputs": [
    {
     "name": "stdout",
     "output_type": "stream",
     "text": [
      "772.2759149066326\n"
     ]
    }
   ],
   "source": [
    "print(TLorentz_valid[0][0].M())"
   ]
  },
  {
   "cell_type": "markdown",
   "id": "9fe9aba5",
   "metadata": {},
   "source": [
    "Checking how many of those events have Jet Pairs inside the Boson W mass window:"
   ]
  },
  {
   "cell_type": "code",
   "execution_count": 27,
   "id": "5b914eb0",
   "metadata": {},
   "outputs": [
    {
     "name": "stdout",
     "output_type": "stream",
     "text": [
      "O número de eventos com pelo menos 2 JetPairs com massa dentro da janela e 2 Prótons no PPS é: 25\n"
     ]
    }
   ],
   "source": [
    "mass_window=20\n",
    "real_mass=80\n",
    "max_mass=real_mass+mass_window\n",
    "min_mass=real_mass-mass_window\n",
    "\n",
    "TLorentz_in=[] #Storing the TLorentz vectors of JetPairs inside the mass window\n",
    "count=0 #Counting how many events have 2 JetPairs inside the window\n",
    "\n",
    "\n",
    "for _ev in range(len(TLorentz_valid)):\n",
    "    temp=[]\n",
    "    if TLorentz_valid[_ev]!=[-999]:\n",
    "        for _pair in range(len(TLorentz_valid[_ev])):\n",
    "            if TLorentz_valid[_ev][_pair].M()>=min_mass and TLorentz_valid[_ev][_pair].M()<=max_mass:\n",
    "                temp.append(TLorentz_valid[_ev][_pair])\n",
    "        if len(temp)>=2:\n",
    "            count=count+1\n",
    "            TLorentz_in.append(temp)\n",
    "        else:\n",
    "            TLorentz_in.append([-999])\n",
    "    else:\n",
    "        TLorentz_in.append([-999])\n",
    "\n",
    "print('O número de eventos com pelo menos 2 JetPairs com massa dentro da janela e 2 Prótons no PPS é:', count)"
   ]
  },
  {
   "cell_type": "code",
   "execution_count": 28,
   "id": "3c104a0d",
   "metadata": {
    "scrolled": true
   },
   "outputs": [
    {
     "name": "stdout",
     "output_type": "stream",
     "text": [
      "25\n",
      "250\n",
      "[[-999], [-999], [-999], [-999], [-999], [-999], [-999], [-999], [-999], [-999], [-999], [<cppyy.gbl.TLorentzVector object at 0xa804db0>, <cppyy.gbl.TLorentzVector object at 0xac01c80>], [-999], [-999], [-999], [-999], [-999], [<cppyy.gbl.TLorentzVector object at 0xac80290>, <cppyy.gbl.TLorentzVector object at 0xac55f20>], [-999], [-999], [<cppyy.gbl.TLorentzVector object at 0xac57020>, <cppyy.gbl.TLorentzVector object at 0xa885b70>], [-999], [-999], [-999], [-999], [-999], [-999], [-999], [-999], [-999], [-999], [-999], [-999], [-999], [-999], [-999], [-999], [-999], [-999], [-999], [-999], [-999], [<cppyy.gbl.TLorentzVector object at 0xac82a80>, <cppyy.gbl.TLorentzVector object at 0xac81ce0>, <cppyy.gbl.TLorentzVector object at 0xac54e70>], [-999], [-999], [-999], [-999], [-999], [-999], [-999], [<cppyy.gbl.TLorentzVector object at 0xa83a4a0>, <cppyy.gbl.TLorentzVector object at 0xa83a510>], [-999], [-999], [-999], [-999], [<cppyy.gbl.TLorentzVector object at 0xabfd6d0>, <cppyy.gbl.TLorentzVector object at 0xabfd850>], [-999], [-999], [-999], [-999], [-999], [-999], [-999], [<cppyy.gbl.TLorentzVector object at 0xac891f0>, <cppyy.gbl.TLorentzVector object at 0xac89280>], [-999], [-999], [-999], [-999], [-999], [<cppyy.gbl.TLorentzVector object at 0xac8a6d0>, <cppyy.gbl.TLorentzVector object at 0xac8a810>, <cppyy.gbl.TLorentzVector object at 0xac8a920>, <cppyy.gbl.TLorentzVector object at 0xac8a970>, <cppyy.gbl.TLorentzVector object at 0xa838480>], [<cppyy.gbl.TLorentzVector object at 0xa838620>, <cppyy.gbl.TLorentzVector object at 0xa838790>], [-999], [-999], [-999], [-999], [-999], [-999], [<cppyy.gbl.TLorentzVector object at 0xac7f200>, <cppyy.gbl.TLorentzVector object at 0xac7f250>], [<cppyy.gbl.TLorentzVector object at 0xac19780>, <cppyy.gbl.TLorentzVector object at 0xac18130>], [-999], [-999], [-999], [-999], [-999], [<cppyy.gbl.TLorentzVector object at 0xac29d30>, <cppyy.gbl.TLorentzVector object at 0xac29d80>], [-999], [-999], [-999], [-999], [-999], [-999], [-999], [-999], [-999], [-999], [-999], [-999], [-999], [-999], [-999], [-999], [-999], [<cppyy.gbl.TLorentzVector object at 0xac45690>, <cppyy.gbl.TLorentzVector object at 0xac681c0>], [-999], [-999], [-999], [-999], [<cppyy.gbl.TLorentzVector object at 0xac68860>, <cppyy.gbl.TLorentzVector object at 0xac442e0>, <cppyy.gbl.TLorentzVector object at 0xac44330>, <cppyy.gbl.TLorentzVector object at 0xac44470>], [-999], [-999], [-999], [<cppyy.gbl.TLorentzVector object at 0x96d51d0>, <cppyy.gbl.TLorentzVector object at 0x96d5470>], [-999], [-999], [-999], [-999], [-999], [-999], [-999], [<cppyy.gbl.TLorentzVector object at 0x96d47c0>, <cppyy.gbl.TLorentzVector object at 0xac16f40>], [<cppyy.gbl.TLorentzVector object at 0xac170d0>, <cppyy.gbl.TLorentzVector object at 0xac17320>, <cppyy.gbl.TLorentzVector object at 0xac17430>], [-999], [-999], [-999], [-999], [<cppyy.gbl.TLorentzVector object at 0xacd9ac0>, <cppyy.gbl.TLorentzVector object at 0xacd9b50>], [-999], [-999], [-999], [-999], [-999], [-999], [-999], [-999], [-999], [-999], [-999], [-999], [-999], [-999], [-999], [-999], [-999], [-999], [-999], [-999], [-999], [-999], [-999], [-999], [-999], [-999], [-999], [-999], [-999], [-999], [<cppyy.gbl.TLorentzVector object at 0xac416d0>, <cppyy.gbl.TLorentzVector object at 0xac417d0>, <cppyy.gbl.TLorentzVector object at 0xac41920>], [-999], [-999], [-999], [-999], [-999], [-999], [-999], [-999], [-999], [-999], [-999], [-999], [-999], [-999], [-999], [<cppyy.gbl.TLorentzVector object at 0xac42b80>, <cppyy.gbl.TLorentzVector object at 0xac42bd0>], [-999], [-999], [-999], [<cppyy.gbl.TLorentzVector object at 0xac42fb0>, <cppyy.gbl.TLorentzVector object at 0xac413f0>, <cppyy.gbl.TLorentzVector object at 0xac41480>], [-999], [-999], [-999], [-999], [-999], [-999], [-999], [-999], [-999], [-999], [-999], [-999], [-999], [-999], [<cppyy.gbl.TLorentzVector object at 0xac86800>, <cppyy.gbl.TLorentzVector object at 0xac868c0>], [-999], [-999], [-999], [-999], [-999], [-999], [-999], [-999], [-999], [-999], [-999], [-999], [-999], [-999], [-999], [-999], [-999], [-999], [-999], [<cppyy.gbl.TLorentzVector object at 0xac27400>, <cppyy.gbl.TLorentzVector object at 0xac275a0>], [-999], [-999], [-999], [-999], [-999], [-999], [-999], [-999], [-999], [-999], [-999], [<cppyy.gbl.TLorentzVector object at 0xac286a0>, <cppyy.gbl.TLorentzVector object at 0xac287b0>], [-999], [-999], [-999], [-999], [-999], [<cppyy.gbl.TLorentzVector object at 0xac29230>, <cppyy.gbl.TLorentzVector object at 0xac29280>, <cppyy.gbl.TLorentzVector object at 0xac29410>], [-999], [-999], [-999], [-999], [-999], [-999], [-999], [-999], [-999], [-999], [-999], [-999], [-999], [-999], [-999], [-999], [-999], [-999], [-999], [-999]]\n",
      "None\n"
     ]
    }
   ],
   "source": [
    "print(count)\n",
    "print(len(TLorentz_in))\n",
    "print(print(TLorentz_in))"
   ]
  },
  {
   "cell_type": "code",
   "execution_count": 29,
   "id": "cebd28bd",
   "metadata": {},
   "outputs": [
    {
     "name": "stdout",
     "output_type": "stream",
     "text": [
      "O número de eventos com MAIS de 2 JetPairs e 2 Prótons no PPS é: 7\n",
      "Os eventos são: [42, 69, 107, 120, 156, 176, 229]\n"
     ]
    }
   ],
   "source": [
    "count=0\n",
    "big_evs=[]\n",
    "\n",
    "for _ev in range(len(TLorentz_in)):\n",
    "    if len(TLorentz_in[_ev])>2:\n",
    "        big_evs.append(_ev)\n",
    "        \n",
    "print('O número de eventos com MAIS de 2 JetPairs e 2 Prótons no PPS é:', len(big_evs))\n",
    "print('Os eventos são:', big_evs)"
   ]
  },
  {
   "cell_type": "markdown",
   "id": "db5dd59f",
   "metadata": {},
   "source": [
    "# Matching the Boson Candidates with the Protons:"
   ]
  },
  {
   "cell_type": "code",
   "execution_count": 30,
   "id": "a35bd6c8",
   "metadata": {},
   "outputs": [],
   "source": [
    "#Modelo para pegar o valor mínimo de uma lista:\n",
    "\n",
    "#vector=[3,4,2,0,5,9,1]\n",
    "\n",
    "#minimize=1000000000\n",
    "\n",
    "#for i in range(len(vector)):\n",
    " #   for j in range(i+1,len(vector)):\n",
    "        \n",
    "  #      aux=vector[i]+vector[j]\n",
    "        \n",
    "   #     if aux<minimize:\n",
    "            \n",
    "    #        minimize=aux        \n",
    "        \n",
    "#print(minimize)\n"
   ]
  },
  {
   "cell_type": "code",
   "execution_count": 31,
   "id": "c4b2893a",
   "metadata": {},
   "outputs": [],
   "source": [
    "ecms=14000\n",
    "diff=0\n",
    "aux=0\n",
    "minimize=1000000000\n",
    "vetor=[]\n",
    "\n",
    "X=[] #storing the X1 and X2\n",
    "temp_X=[]\n",
    "\n",
    "non_valid_events=0\n",
    "valid_events=0\n",
    "n=0\n",
    "c=0\n",
    "\n",
    "for _ev in range(len(TLorentz_in)):\n",
    "    c=c+1\n",
    "    if TLorentz_in[_ev]==[-999]:\n",
    "        #print('Nada')\n",
    "        X.append(-999)\n",
    "    \n",
    "    if (len(TLorentz_in[_ev]))==2:\n",
    "    \n",
    "        #Preparing to use Eqs(1) and (2) from Thomas:\n",
    "        \n",
    "        sumE=TLorentz_in[_ev][0].E() + TLorentz_in[_ev][1].E()\n",
    "\n",
    "        PT1=TLorentz_in[_ev][0].Pt()\n",
    "        PT2=TLorentz_in[_ev][1].Pt()\n",
    "        \n",
    "        Eta1=TLorentz_in[_ev][0].Eta()\n",
    "        Eta2=TLorentz_in[_ev][1].Eta()\n",
    "        \n",
    "        Pz1=PT1*np.sinh(Eta1)\n",
    "        Pz2=PT2*np.sinh(Eta2)\n",
    "        \n",
    "        #Aparentemente essa coisa não funciona:\n",
    "        #Pz1=PT1*np.sinh(TLorentz_in[_ev][0].Eta) \n",
    "        #Pz2=PT2*np.sinh(TLorentz_in[_ev][1].Eta)\n",
    "        \n",
    "        Pz1=1\n",
    "        Pz2=2\n",
    "        \n",
    "        sumPz=(Pz1+Pz2)\n",
    "\n",
    "        X1=(1/ecms)*(sumE+sumPz) #Thomas Eq1\n",
    "        X2=(1/ecms)*(sumE-sumPz) #Thomas Eq2\n",
    "        \n",
    "        X.append([X1,X2])\n",
    "    \n",
    "    #If there are more than 2 W-Bosons inside the window, we should minimize Eq(7)\n",
    "    \n",
    "    if (len(TLorentz_in[_ev]))>2:\n",
    "              \n",
    "        for i in range(len(TLorentz_in[_ev])):\n",
    "            for j in range(i+1,len(TLorentz_in[_ev])):\n",
    "                \n",
    "                sumE=TLorentz_in[_ev][0].E() + TLorentz_in[_ev][1].E()\n",
    "\n",
    "                PT1=TLorentz_in[_ev][0].Pt()\n",
    "                PT2=TLorentz_in[_ev][1].Pt()\n",
    "\n",
    "                Eta1=TLorentz_in[_ev][0].Eta()\n",
    "                Eta2=TLorentz_in[_ev][1].Eta()\n",
    "\n",
    "                Pz1=PT1*np.sinh(Eta1)\n",
    "                Pz2=PT2*np.sinh(Eta2)\n",
    "\n",
    "                Pz1=1\n",
    "                Pz2=2\n",
    "\n",
    "                sumPz=(Pz1+Pz2)\n",
    "\n",
    "                X1=(1/ecms)*(sumE+sumPz) #This should be X1 calculated from the Protons in PPS\n",
    "                X2=(1/ecms)*(sumE-sumPz) #This should be X2 calculated from the Protons in PPS\n",
    "                                                  \n",
    "                aux=(X1-(sumE+sumPz)/ecms)**2+(X2-(sumE-sumPz)/ecms)**2 #Eq(7)\n",
    "                \n",
    "                if aux<minimize:\n",
    "                    \n",
    "                    minimize=aux\n",
    "                    \n",
    "                    temp_X.append(X1)\n",
    "                    temp_X.append(X2)\n",
    "        \n",
    "        X.append(temp_X)\n",
    "   "
   ]
  },
  {
   "cell_type": "code",
   "execution_count": 32,
   "id": "65e7a981",
   "metadata": {},
   "outputs": [
    {
     "name": "stdout",
     "output_type": "stream",
     "text": [
      "O número de eventos válidos é: 25\n"
     ]
    }
   ],
   "source": [
    "count=0 \n",
    "\n",
    "for _ev in range(len(X)):\n",
    "    if X[_ev]==-999:\n",
    "        count=count+1\n",
    "print('O número de eventos válidos é:', len(X)-count)"
   ]
  },
  {
   "cell_type": "code",
   "execution_count": 33,
   "id": "9fae0e17",
   "metadata": {
    "scrolled": true
   },
   "outputs": [
    {
     "name": "stdout",
     "output_type": "stream",
     "text": [
      "[-999, -999, -999, -999, -999, -999, -999, -999, -999, -999, -999, [0.02822371329869905, 0.02779514187012762], -999, -999, -999, -999, -999, [0.08659838112027463, 0.0861698096917032], -999, -999, [0.03166768780548015, 0.031239116376908717], -999, -999, -999, -999, -999, -999, -999, -999, -999, -999, -999, -999, -999, -999, -999, -999, -999, -999, -999, -999, -999, [0.015324443457401797, 0.01489587202883037], -999, -999, -999, -999, -999, -999, -999, [0.02346334486560286, 0.023034773437031433], -999, -999, -999, -999, [0.015375195133598946, 0.014946623705027516], -999, -999, -999, -999, -999, -999, -999, [0.015916848763984588, 0.015488277335413159], -999, -999, -999, -999, -999, [0.015324443457401797, 0.01489587202883037], [0.05902752363153347, 0.058598952202962046], -999, -999, -999, -999, -999, -999, [0.011593002947354415, 0.011164431518782988], [0.014841356065627516, 0.014412784637056086], -999, -999, -999, -999, -999, [0.050821080767200516, 0.05039250933862909], -999, -999, -999, -999, -999, -999, -999, -999, -999, -999, -999, -999, -999, -999, -999, -999, -999, [0.021279897006402152, 0.02085132557783072], -999, -999, -999, -999, [0.015324443457401797, 0.01489587202883037], -999, -999, -999, [0.01572430512485966, 0.015295733696288233], -999, -999, -999, -999, -999, -999, -999, [0.016139950915825523, 0.015711379487254096], [0.015324443457401797, 0.01489587202883037], -999, -999, -999, -999, [0.023945039047793625, 0.023516467619222194], -999, -999, -999, -999, -999, -999, -999, -999, -999, -999, -999, -999, -999, -999, -999, -999, -999, -999, -999, -999, -999, -999, -999, -999, -999, -999, -999, -999, -999, -999, [0.015324443457401797, 0.01489587202883037], -999, -999, -999, -999, -999, -999, -999, -999, -999, -999, -999, -999, -999, -999, -999, [0.015637318572870904, 0.015208747144299475], -999, -999, -999, [0.015324443457401797, 0.01489587202883037], -999, -999, -999, -999, -999, -999, -999, -999, -999, -999, -999, -999, -999, -999, [0.06028807858705314, 0.059859507158481706], -999, -999, -999, -999, -999, -999, -999, -999, -999, -999, -999, -999, -999, -999, -999, -999, -999, -999, -999, [0.0396648212421977, 0.03923624981362628], -999, -999, -999, -999, -999, -999, -999, -999, -999, -999, -999, [0.02489696822759064, 0.024468396799019212], -999, -999, -999, -999, -999, [0.015324443457401797, 0.01489587202883037], -999, -999, -999, -999, -999, -999, -999, -999, -999, -999, -999, -999, -999, -999, -999, -999, -999, -999, -999, -999]\n"
     ]
    }
   ],
   "source": [
    "print(X)"
   ]
  },
  {
   "cell_type": "code",
   "execution_count": null,
   "id": "a23bb6a6",
   "metadata": {},
   "outputs": [],
   "source": []
  }
 ],
 "metadata": {
  "@webio": {
   "lastCommId": null,
   "lastKernelId": null
  },
  "kernelspec": {
   "display_name": "Python 3",
   "language": "python",
   "name": "python3"
  },
  "language_info": {
   "codemirror_mode": {
    "name": "ipython",
    "version": 3
   },
   "file_extension": ".py",
   "mimetype": "text/x-python",
   "name": "python",
   "nbconvert_exporter": "python",
   "pygments_lexer": "ipython3",
   "version": "3.9.12"
  }
 },
 "nbformat": 4,
 "nbformat_minor": 5
}
