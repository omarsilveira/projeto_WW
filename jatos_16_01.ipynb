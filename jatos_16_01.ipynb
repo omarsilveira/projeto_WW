{
 "cells": [
  {
   "cell_type": "code",
   "execution_count": 1,
   "id": "e1143094",
   "metadata": {},
   "outputs": [
    {
     "name": "stdout",
     "output_type": "stream",
     "text": [
      "/eos/cms/store/group/phys_pps/Phase2/Delphes/PU200/FPMC_WW_14TeV_a0w_0E0_aCw_0E0_noHADR_pt0_WWhadDecays_Delphes_PU200/FPMC_WW_14TeV_a0w_0E0_aCw_0E0_noHADR_pt0_9_WWhadDecays_Delphes_PU200.root\r\n"
     ]
    }
   ],
   "source": [
    "ls /eos/cms/store/group/phys_pps/Phase2/Delphes/PU200/FPMC_WW_14TeV_a0w_0E0_aCw_0E0_noHADR_pt0_WWhadDecays_Delphes_PU200/FPMC_WW_14TeV_a0w_0E0_aCw_0E0_noHADR_pt0_9_WWhadDecays_Delphes_PU200.root"
   ]
  },
  {
   "cell_type": "code",
   "execution_count": 2,
   "id": "90b19620",
   "metadata": {},
   "outputs": [
    {
     "name": "stdout",
     "output_type": "stream",
     "text": [
      "Welcome to JupyROOT 6.28/06\n"
     ]
    }
   ],
   "source": [
    "import uproot4 #trocar o pt0_9\n",
    "import awkward as ak\n",
    "import numpy as np\n",
    "import matplotlib.pyplot as plt\n",
    "from tqdm import tqdm\n",
    "from ROOT import TLorentzVector"
   ]
  },
  {
   "cell_type": "code",
   "execution_count": 94,
   "id": "969b5a63",
   "metadata": {},
   "outputs": [
    {
     "name": "stdout",
     "output_type": "stream",
     "text": [
      "0.9999999999999999\n",
      "2.0000000000000004\n",
      "3.0\n",
      "3.999999999999999\n"
     ]
    }
   ],
   "source": [
    "teste=TLorentzVector()\n",
    "teste.SetPtEtaPhiM(1.0,2.0,3.0,4.0)\n",
    "print(teste.Pt())\n",
    "print(teste.Eta())\n",
    "print(teste.Phi())\n",
    "print(teste.M())"
   ]
  },
  {
   "cell_type": "code",
   "execution_count": 3,
   "id": "e7e8f9e2",
   "metadata": {},
   "outputs": [],
   "source": [
    "path='/eos/cms/store/group/phys_pps/Phase2/Delphes/PU200/FPMC_WW_14TeV_a0w_0E0_aCw_0E0_noHADR_pt0_WWhadDecays_Delphes_PU200/'\n",
    "name='FPMC_WW_14TeV_a0w_0E0_aCw_0E0_noHADR_pt0_9_WWhadDecays_Delphes_PU200.root'\n",
    "\n",
    "\n",
    "file=path+name\n",
    "root=uproot4.open(file)"
   ]
  },
  {
   "cell_type": "code",
   "execution_count": 4,
   "id": "f349b031",
   "metadata": {},
   "outputs": [
    {
     "data": {
      "text/plain": [
       "['ProcessID0;1', 'Delphes;1']"
      ]
     },
     "execution_count": 4,
     "metadata": {},
     "output_type": "execute_result"
    }
   ],
   "source": [
    "root.keys()"
   ]
  },
  {
   "cell_type": "code",
   "execution_count": 5,
   "id": "861e59d1",
   "metadata": {
    "scrolled": true
   },
   "outputs": [
    {
     "data": {
      "text/plain": [
       "['Event',\n",
       " 'Event/Event.fUniqueID',\n",
       " 'Event/Event.fBits',\n",
       " 'Event/Event.Number',\n",
       " 'Event/Event.ReadTime',\n",
       " 'Event/Event.ProcTime',\n",
       " 'Event/Event.ProcessID',\n",
       " 'Event/Event.MPI',\n",
       " 'Event/Event.Weight',\n",
       " 'Event/Event.CrossSection',\n",
       " 'Event/Event.CrossSectionError',\n",
       " 'Event/Event.Scale',\n",
       " 'Event/Event.AlphaQED',\n",
       " 'Event/Event.AlphaQCD',\n",
       " 'Event/Event.ID1',\n",
       " 'Event/Event.ID2',\n",
       " 'Event/Event.X1',\n",
       " 'Event/Event.X2',\n",
       " 'Event/Event.ScalePDF',\n",
       " 'Event/Event.PDF1',\n",
       " 'Event/Event.PDF2',\n",
       " 'Event_size',\n",
       " 'Weight',\n",
       " 'Weight/Weight.fUniqueID',\n",
       " 'Weight/Weight.fBits',\n",
       " 'Weight/Weight.Weight',\n",
       " 'Weight_size',\n",
       " 'GenProton',\n",
       " 'GenProton/GenProton.fUniqueID',\n",
       " 'GenProton/GenProton.fBits',\n",
       " 'GenProton/GenProton.PID',\n",
       " 'GenProton/GenProton.Status',\n",
       " 'GenProton/GenProton.IsPU',\n",
       " 'GenProton/GenProton.M1',\n",
       " 'GenProton/GenProton.M2',\n",
       " 'GenProton/GenProton.D1',\n",
       " 'GenProton/GenProton.D2',\n",
       " 'GenProton/GenProton.Charge',\n",
       " 'GenProton/GenProton.Mass',\n",
       " 'GenProton/GenProton.E',\n",
       " 'GenProton/GenProton.Px',\n",
       " 'GenProton/GenProton.Py',\n",
       " 'GenProton/GenProton.Pz',\n",
       " 'GenProton/GenProton.P',\n",
       " 'GenProton/GenProton.PT',\n",
       " 'GenProton/GenProton.Eta',\n",
       " 'GenProton/GenProton.Phi',\n",
       " 'GenProton/GenProton.Rapidity',\n",
       " 'GenProton/GenProton.T',\n",
       " 'GenProton/GenProton.X',\n",
       " 'GenProton/GenProton.Y',\n",
       " 'GenProton/GenProton.Z',\n",
       " 'GenProton_size',\n",
       " 'Particle',\n",
       " 'Particle/Particle.fUniqueID',\n",
       " 'Particle/Particle.fBits',\n",
       " 'Particle/Particle.PID',\n",
       " 'Particle/Particle.Status',\n",
       " 'Particle/Particle.IsPU',\n",
       " 'Particle/Particle.M1',\n",
       " 'Particle/Particle.M2',\n",
       " 'Particle/Particle.D1',\n",
       " 'Particle/Particle.D2',\n",
       " 'Particle/Particle.Charge',\n",
       " 'Particle/Particle.Mass',\n",
       " 'Particle/Particle.E',\n",
       " 'Particle/Particle.Px',\n",
       " 'Particle/Particle.Py',\n",
       " 'Particle/Particle.Pz',\n",
       " 'Particle/Particle.P',\n",
       " 'Particle/Particle.PT',\n",
       " 'Particle/Particle.Eta',\n",
       " 'Particle/Particle.Phi',\n",
       " 'Particle/Particle.Rapidity',\n",
       " 'Particle/Particle.T',\n",
       " 'Particle/Particle.X',\n",
       " 'Particle/Particle.Y',\n",
       " 'Particle/Particle.Z',\n",
       " 'Particle_size',\n",
       " 'Vertex',\n",
       " 'Vertex/Vertex.fUniqueID',\n",
       " 'Vertex/Vertex.fBits',\n",
       " 'Vertex/Vertex.T',\n",
       " 'Vertex/Vertex.X',\n",
       " 'Vertex/Vertex.Y',\n",
       " 'Vertex/Vertex.Z',\n",
       " 'Vertex/Vertex.ErrorT',\n",
       " 'Vertex/Vertex.ErrorX',\n",
       " 'Vertex/Vertex.ErrorY',\n",
       " 'Vertex/Vertex.ErrorZ',\n",
       " 'Vertex/Vertex.Index',\n",
       " 'Vertex/Vertex.NDF',\n",
       " 'Vertex/Vertex.Sigma',\n",
       " 'Vertex/Vertex.SumPT2',\n",
       " 'Vertex/Vertex.GenSumPT2',\n",
       " 'Vertex/Vertex.GenDeltaZ',\n",
       " 'Vertex/Vertex.BTVSumPT2',\n",
       " 'Vertex/Vertex.Constituents',\n",
       " 'Vertex_size',\n",
       " 'GenJet',\n",
       " 'GenJet/GenJet.fUniqueID',\n",
       " 'GenJet/GenJet.fBits',\n",
       " 'GenJet/GenJet.PT',\n",
       " 'GenJet/GenJet.Eta',\n",
       " 'GenJet/GenJet.Phi',\n",
       " 'GenJet/GenJet.T',\n",
       " 'GenJet/GenJet.Mass',\n",
       " 'GenJet/GenJet.DeltaEta',\n",
       " 'GenJet/GenJet.DeltaPhi',\n",
       " 'GenJet/GenJet.Flavor',\n",
       " 'GenJet/GenJet.FlavorAlgo',\n",
       " 'GenJet/GenJet.FlavorPhys',\n",
       " 'GenJet/GenJet.TauFlavor',\n",
       " 'GenJet/GenJet.BTag',\n",
       " 'GenJet/GenJet.BTagAlgo',\n",
       " 'GenJet/GenJet.BTagPhys',\n",
       " 'GenJet/GenJet.TauTag',\n",
       " 'GenJet/GenJet.TauWeight',\n",
       " 'GenJet/GenJet.Charge',\n",
       " 'GenJet/GenJet.EhadOverEem',\n",
       " 'GenJet/GenJet.NCharged',\n",
       " 'GenJet/GenJet.NNeutrals',\n",
       " 'GenJet/GenJet.NeutralEnergyFraction',\n",
       " 'GenJet/GenJet.ChargedEnergyFraction',\n",
       " 'GenJet/GenJet.Beta',\n",
       " 'GenJet/GenJet.BetaStar',\n",
       " 'GenJet/GenJet.MeanSqDeltaR',\n",
       " 'GenJet/GenJet.PTD',\n",
       " 'GenJet/GenJet.FracPt[5]',\n",
       " 'GenJet/GenJet.Tau[5]',\n",
       " 'GenJet/GenJet.SoftDroppedJet',\n",
       " 'GenJet/GenJet.SoftDroppedSubJet1',\n",
       " 'GenJet/GenJet.SoftDroppedSubJet2',\n",
       " 'GenJet/GenJet.TrimmedP4[5]',\n",
       " 'GenJet/GenJet.PrunedP4[5]',\n",
       " 'GenJet/GenJet.SoftDroppedP4[5]',\n",
       " 'GenJet/GenJet.NSubJetsTrimmed',\n",
       " 'GenJet/GenJet.NSubJetsPruned',\n",
       " 'GenJet/GenJet.NSubJetsSoftDropped',\n",
       " 'GenJet/GenJet.ExclYmerge12',\n",
       " 'GenJet/GenJet.ExclYmerge23',\n",
       " 'GenJet/GenJet.ExclYmerge34',\n",
       " 'GenJet/GenJet.ExclYmerge45',\n",
       " 'GenJet/GenJet.ExclYmerge56',\n",
       " 'GenJet/GenJet.Constituents',\n",
       " 'GenJet/GenJet.Particles',\n",
       " 'GenJet/GenJet.Area',\n",
       " 'GenJet_size',\n",
       " 'GenJetAK8',\n",
       " 'GenJetAK8/GenJetAK8.fUniqueID',\n",
       " 'GenJetAK8/GenJetAK8.fBits',\n",
       " 'GenJetAK8/GenJetAK8.PT',\n",
       " 'GenJetAK8/GenJetAK8.Eta',\n",
       " 'GenJetAK8/GenJetAK8.Phi',\n",
       " 'GenJetAK8/GenJetAK8.T',\n",
       " 'GenJetAK8/GenJetAK8.Mass',\n",
       " 'GenJetAK8/GenJetAK8.DeltaEta',\n",
       " 'GenJetAK8/GenJetAK8.DeltaPhi',\n",
       " 'GenJetAK8/GenJetAK8.Flavor',\n",
       " 'GenJetAK8/GenJetAK8.FlavorAlgo',\n",
       " 'GenJetAK8/GenJetAK8.FlavorPhys',\n",
       " 'GenJetAK8/GenJetAK8.TauFlavor',\n",
       " 'GenJetAK8/GenJetAK8.BTag',\n",
       " 'GenJetAK8/GenJetAK8.BTagAlgo',\n",
       " 'GenJetAK8/GenJetAK8.BTagPhys',\n",
       " 'GenJetAK8/GenJetAK8.TauTag',\n",
       " 'GenJetAK8/GenJetAK8.TauWeight',\n",
       " 'GenJetAK8/GenJetAK8.Charge',\n",
       " 'GenJetAK8/GenJetAK8.EhadOverEem',\n",
       " 'GenJetAK8/GenJetAK8.NCharged',\n",
       " 'GenJetAK8/GenJetAK8.NNeutrals',\n",
       " 'GenJetAK8/GenJetAK8.NeutralEnergyFraction',\n",
       " 'GenJetAK8/GenJetAK8.ChargedEnergyFraction',\n",
       " 'GenJetAK8/GenJetAK8.Beta',\n",
       " 'GenJetAK8/GenJetAK8.BetaStar',\n",
       " 'GenJetAK8/GenJetAK8.MeanSqDeltaR',\n",
       " 'GenJetAK8/GenJetAK8.PTD',\n",
       " 'GenJetAK8/GenJetAK8.FracPt[5]',\n",
       " 'GenJetAK8/GenJetAK8.Tau[5]',\n",
       " 'GenJetAK8/GenJetAK8.SoftDroppedJet',\n",
       " 'GenJetAK8/GenJetAK8.SoftDroppedSubJet1',\n",
       " 'GenJetAK8/GenJetAK8.SoftDroppedSubJet2',\n",
       " 'GenJetAK8/GenJetAK8.TrimmedP4[5]',\n",
       " 'GenJetAK8/GenJetAK8.PrunedP4[5]',\n",
       " 'GenJetAK8/GenJetAK8.SoftDroppedP4[5]',\n",
       " 'GenJetAK8/GenJetAK8.NSubJetsTrimmed',\n",
       " 'GenJetAK8/GenJetAK8.NSubJetsPruned',\n",
       " 'GenJetAK8/GenJetAK8.NSubJetsSoftDropped',\n",
       " 'GenJetAK8/GenJetAK8.ExclYmerge12',\n",
       " 'GenJetAK8/GenJetAK8.ExclYmerge23',\n",
       " 'GenJetAK8/GenJetAK8.ExclYmerge34',\n",
       " 'GenJetAK8/GenJetAK8.ExclYmerge45',\n",
       " 'GenJetAK8/GenJetAK8.ExclYmerge56',\n",
       " 'GenJetAK8/GenJetAK8.Constituents',\n",
       " 'GenJetAK8/GenJetAK8.Particles',\n",
       " 'GenJetAK8/GenJetAK8.Area',\n",
       " 'GenJetAK8_size',\n",
       " 'GenMissingET',\n",
       " 'GenMissingET/GenMissingET.fUniqueID',\n",
       " 'GenMissingET/GenMissingET.fBits',\n",
       " 'GenMissingET/GenMissingET.MET',\n",
       " 'GenMissingET/GenMissingET.Eta',\n",
       " 'GenMissingET/GenMissingET.Phi',\n",
       " 'GenMissingET_size',\n",
       " 'ParticleFlowCandidate',\n",
       " 'ParticleFlowCandidate/ParticleFlowCandidate.fUniqueID',\n",
       " 'ParticleFlowCandidate/ParticleFlowCandidate.fBits',\n",
       " 'ParticleFlowCandidate/ParticleFlowCandidate.PID',\n",
       " 'ParticleFlowCandidate/ParticleFlowCandidate.Charge',\n",
       " 'ParticleFlowCandidate/ParticleFlowCandidate.E',\n",
       " 'ParticleFlowCandidate/ParticleFlowCandidate.P',\n",
       " 'ParticleFlowCandidate/ParticleFlowCandidate.PT',\n",
       " 'ParticleFlowCandidate/ParticleFlowCandidate.Eta',\n",
       " 'ParticleFlowCandidate/ParticleFlowCandidate.Phi',\n",
       " 'ParticleFlowCandidate/ParticleFlowCandidate.CtgTheta',\n",
       " 'ParticleFlowCandidate/ParticleFlowCandidate.C',\n",
       " 'ParticleFlowCandidate/ParticleFlowCandidate.Mass',\n",
       " 'ParticleFlowCandidate/ParticleFlowCandidate.EtaOuter',\n",
       " 'ParticleFlowCandidate/ParticleFlowCandidate.PhiOuter',\n",
       " 'ParticleFlowCandidate/ParticleFlowCandidate.T',\n",
       " 'ParticleFlowCandidate/ParticleFlowCandidate.X',\n",
       " 'ParticleFlowCandidate/ParticleFlowCandidate.Y',\n",
       " 'ParticleFlowCandidate/ParticleFlowCandidate.Z',\n",
       " 'ParticleFlowCandidate/ParticleFlowCandidate.TOuter',\n",
       " 'ParticleFlowCandidate/ParticleFlowCandidate.XOuter',\n",
       " 'ParticleFlowCandidate/ParticleFlowCandidate.YOuter',\n",
       " 'ParticleFlowCandidate/ParticleFlowCandidate.ZOuter',\n",
       " 'ParticleFlowCandidate/ParticleFlowCandidate.Xd',\n",
       " 'ParticleFlowCandidate/ParticleFlowCandidate.Yd',\n",
       " 'ParticleFlowCandidate/ParticleFlowCandidate.Zd',\n",
       " 'ParticleFlowCandidate/ParticleFlowCandidate.XFirstHit',\n",
       " 'ParticleFlowCandidate/ParticleFlowCandidate.YFirstHit',\n",
       " 'ParticleFlowCandidate/ParticleFlowCandidate.ZFirstHit',\n",
       " 'ParticleFlowCandidate/ParticleFlowCandidate.L',\n",
       " 'ParticleFlowCandidate/ParticleFlowCandidate.D0',\n",
       " 'ParticleFlowCandidate/ParticleFlowCandidate.DZ',\n",
       " 'ParticleFlowCandidate/ParticleFlowCandidate.Nclusters',\n",
       " 'ParticleFlowCandidate/ParticleFlowCandidate.dNdx',\n",
       " 'ParticleFlowCandidate/ParticleFlowCandidate.ErrorP',\n",
       " 'ParticleFlowCandidate/ParticleFlowCandidate.ErrorPT',\n",
       " 'ParticleFlowCandidate/ParticleFlowCandidate.ErrorPhi',\n",
       " 'ParticleFlowCandidate/ParticleFlowCandidate.ErrorCtgTheta',\n",
       " 'ParticleFlowCandidate/ParticleFlowCandidate.ErrorT',\n",
       " 'ParticleFlowCandidate/ParticleFlowCandidate.ErrorD0',\n",
       " 'ParticleFlowCandidate/ParticleFlowCandidate.ErrorDZ',\n",
       " 'ParticleFlowCandidate/ParticleFlowCandidate.ErrorC',\n",
       " 'ParticleFlowCandidate/ParticleFlowCandidate.ErrorD0Phi',\n",
       " 'ParticleFlowCandidate/ParticleFlowCandidate.ErrorD0C',\n",
       " 'ParticleFlowCandidate/ParticleFlowCandidate.ErrorD0DZ',\n",
       " 'ParticleFlowCandidate/ParticleFlowCandidate.ErrorD0CtgTheta',\n",
       " 'ParticleFlowCandidate/ParticleFlowCandidate.ErrorPhiC',\n",
       " 'ParticleFlowCandidate/ParticleFlowCandidate.ErrorPhiDZ',\n",
       " 'ParticleFlowCandidate/ParticleFlowCandidate.ErrorPhiCtgTheta',\n",
       " 'ParticleFlowCandidate/ParticleFlowCandidate.ErrorCDZ',\n",
       " 'ParticleFlowCandidate/ParticleFlowCandidate.ErrorCCtgTheta',\n",
       " 'ParticleFlowCandidate/ParticleFlowCandidate.ErrorDZCtgTheta',\n",
       " 'ParticleFlowCandidate/ParticleFlowCandidate.VertexIndex',\n",
       " 'ParticleFlowCandidate/ParticleFlowCandidate.NTimeHits',\n",
       " 'ParticleFlowCandidate/ParticleFlowCandidate.Eem',\n",
       " 'ParticleFlowCandidate/ParticleFlowCandidate.Ehad',\n",
       " 'ParticleFlowCandidate/ParticleFlowCandidate.Etrk',\n",
       " 'ParticleFlowCandidate/ParticleFlowCandidate.Edges[4]',\n",
       " 'ParticleFlowCandidate/ParticleFlowCandidate.Particles',\n",
       " 'ParticleFlowCandidate_size',\n",
       " 'Photon',\n",
       " 'Photon/Photon.fUniqueID',\n",
       " 'Photon/Photon.fBits',\n",
       " 'Photon/Photon.PT',\n",
       " 'Photon/Photon.Eta',\n",
       " 'Photon/Photon.Phi',\n",
       " 'Photon/Photon.E',\n",
       " 'Photon/Photon.T',\n",
       " 'Photon/Photon.EhadOverEem',\n",
       " 'Photon/Photon.Particles',\n",
       " 'Photon/Photon.IsolationVar',\n",
       " 'Photon/Photon.IsolationVarRhoCorr',\n",
       " 'Photon/Photon.SumPtCharged',\n",
       " 'Photon/Photon.SumPtNeutral',\n",
       " 'Photon/Photon.SumPtChargedPU',\n",
       " 'Photon/Photon.SumPt',\n",
       " 'Photon/Photon.Status',\n",
       " 'Photon_size',\n",
       " 'PhotonLoose',\n",
       " 'PhotonLoose/PhotonLoose.fUniqueID',\n",
       " 'PhotonLoose/PhotonLoose.fBits',\n",
       " 'PhotonLoose/PhotonLoose.PT',\n",
       " 'PhotonLoose/PhotonLoose.Eta',\n",
       " 'PhotonLoose/PhotonLoose.Phi',\n",
       " 'PhotonLoose/PhotonLoose.E',\n",
       " 'PhotonLoose/PhotonLoose.T',\n",
       " 'PhotonLoose/PhotonLoose.EhadOverEem',\n",
       " 'PhotonLoose/PhotonLoose.Particles',\n",
       " 'PhotonLoose/PhotonLoose.IsolationVar',\n",
       " 'PhotonLoose/PhotonLoose.IsolationVarRhoCorr',\n",
       " 'PhotonLoose/PhotonLoose.SumPtCharged',\n",
       " 'PhotonLoose/PhotonLoose.SumPtNeutral',\n",
       " 'PhotonLoose/PhotonLoose.SumPtChargedPU',\n",
       " 'PhotonLoose/PhotonLoose.SumPt',\n",
       " 'PhotonLoose/PhotonLoose.Status',\n",
       " 'PhotonLoose_size',\n",
       " 'PhotonMedium',\n",
       " 'PhotonMedium/PhotonMedium.fUniqueID',\n",
       " 'PhotonMedium/PhotonMedium.fBits',\n",
       " 'PhotonMedium/PhotonMedium.PT',\n",
       " 'PhotonMedium/PhotonMedium.Eta',\n",
       " 'PhotonMedium/PhotonMedium.Phi',\n",
       " 'PhotonMedium/PhotonMedium.E',\n",
       " 'PhotonMedium/PhotonMedium.T',\n",
       " 'PhotonMedium/PhotonMedium.EhadOverEem',\n",
       " 'PhotonMedium/PhotonMedium.Particles',\n",
       " 'PhotonMedium/PhotonMedium.IsolationVar',\n",
       " 'PhotonMedium/PhotonMedium.IsolationVarRhoCorr',\n",
       " 'PhotonMedium/PhotonMedium.SumPtCharged',\n",
       " 'PhotonMedium/PhotonMedium.SumPtNeutral',\n",
       " 'PhotonMedium/PhotonMedium.SumPtChargedPU',\n",
       " 'PhotonMedium/PhotonMedium.SumPt',\n",
       " 'PhotonMedium/PhotonMedium.Status',\n",
       " 'PhotonMedium_size',\n",
       " 'PhotonTight',\n",
       " 'PhotonTight/PhotonTight.fUniqueID',\n",
       " 'PhotonTight/PhotonTight.fBits',\n",
       " 'PhotonTight/PhotonTight.PT',\n",
       " 'PhotonTight/PhotonTight.Eta',\n",
       " 'PhotonTight/PhotonTight.Phi',\n",
       " 'PhotonTight/PhotonTight.E',\n",
       " 'PhotonTight/PhotonTight.T',\n",
       " 'PhotonTight/PhotonTight.EhadOverEem',\n",
       " 'PhotonTight/PhotonTight.Particles',\n",
       " 'PhotonTight/PhotonTight.IsolationVar',\n",
       " 'PhotonTight/PhotonTight.IsolationVarRhoCorr',\n",
       " 'PhotonTight/PhotonTight.SumPtCharged',\n",
       " 'PhotonTight/PhotonTight.SumPtNeutral',\n",
       " 'PhotonTight/PhotonTight.SumPtChargedPU',\n",
       " 'PhotonTight/PhotonTight.SumPt',\n",
       " 'PhotonTight/PhotonTight.Status',\n",
       " 'PhotonTight_size',\n",
       " 'Electron',\n",
       " 'Electron/Electron.fUniqueID',\n",
       " 'Electron/Electron.fBits',\n",
       " 'Electron/Electron.PT',\n",
       " 'Electron/Electron.Eta',\n",
       " 'Electron/Electron.Phi',\n",
       " 'Electron/Electron.T',\n",
       " 'Electron/Electron.Charge',\n",
       " 'Electron/Electron.EhadOverEem',\n",
       " 'Electron/Electron.Particle',\n",
       " 'Electron/Electron.IsolationVar',\n",
       " 'Electron/Electron.IsolationVarRhoCorr',\n",
       " 'Electron/Electron.SumPtCharged',\n",
       " 'Electron/Electron.SumPtNeutral',\n",
       " 'Electron/Electron.SumPtChargedPU',\n",
       " 'Electron/Electron.SumPt',\n",
       " 'Electron/Electron.D0',\n",
       " 'Electron/Electron.DZ',\n",
       " 'Electron/Electron.ErrorD0',\n",
       " 'Electron/Electron.ErrorDZ',\n",
       " 'Electron_size',\n",
       " 'ElectronLoose',\n",
       " 'ElectronLoose/ElectronLoose.fUniqueID',\n",
       " 'ElectronLoose/ElectronLoose.fBits',\n",
       " 'ElectronLoose/ElectronLoose.PT',\n",
       " 'ElectronLoose/ElectronLoose.Eta',\n",
       " 'ElectronLoose/ElectronLoose.Phi',\n",
       " 'ElectronLoose/ElectronLoose.T',\n",
       " 'ElectronLoose/ElectronLoose.Charge',\n",
       " 'ElectronLoose/ElectronLoose.EhadOverEem',\n",
       " 'ElectronLoose/ElectronLoose.Particle',\n",
       " 'ElectronLoose/ElectronLoose.IsolationVar',\n",
       " 'ElectronLoose/ElectronLoose.IsolationVarRhoCorr',\n",
       " 'ElectronLoose/ElectronLoose.SumPtCharged',\n",
       " 'ElectronLoose/ElectronLoose.SumPtNeutral',\n",
       " 'ElectronLoose/ElectronLoose.SumPtChargedPU',\n",
       " 'ElectronLoose/ElectronLoose.SumPt',\n",
       " 'ElectronLoose/ElectronLoose.D0',\n",
       " 'ElectronLoose/ElectronLoose.DZ',\n",
       " 'ElectronLoose/ElectronLoose.ErrorD0',\n",
       " 'ElectronLoose/ElectronLoose.ErrorDZ',\n",
       " 'ElectronLoose_size',\n",
       " 'ElectronMedium',\n",
       " 'ElectronMedium/ElectronMedium.fUniqueID',\n",
       " 'ElectronMedium/ElectronMedium.fBits',\n",
       " 'ElectronMedium/ElectronMedium.PT',\n",
       " 'ElectronMedium/ElectronMedium.Eta',\n",
       " 'ElectronMedium/ElectronMedium.Phi',\n",
       " 'ElectronMedium/ElectronMedium.T',\n",
       " 'ElectronMedium/ElectronMedium.Charge',\n",
       " 'ElectronMedium/ElectronMedium.EhadOverEem',\n",
       " 'ElectronMedium/ElectronMedium.Particle',\n",
       " 'ElectronMedium/ElectronMedium.IsolationVar',\n",
       " 'ElectronMedium/ElectronMedium.IsolationVarRhoCorr',\n",
       " 'ElectronMedium/ElectronMedium.SumPtCharged',\n",
       " 'ElectronMedium/ElectronMedium.SumPtNeutral',\n",
       " 'ElectronMedium/ElectronMedium.SumPtChargedPU',\n",
       " 'ElectronMedium/ElectronMedium.SumPt',\n",
       " 'ElectronMedium/ElectronMedium.D0',\n",
       " 'ElectronMedium/ElectronMedium.DZ',\n",
       " 'ElectronMedium/ElectronMedium.ErrorD0',\n",
       " 'ElectronMedium/ElectronMedium.ErrorDZ',\n",
       " 'ElectronMedium_size',\n",
       " 'ElectronTight',\n",
       " 'ElectronTight/ElectronTight.fUniqueID',\n",
       " 'ElectronTight/ElectronTight.fBits',\n",
       " 'ElectronTight/ElectronTight.PT',\n",
       " 'ElectronTight/ElectronTight.Eta',\n",
       " 'ElectronTight/ElectronTight.Phi',\n",
       " 'ElectronTight/ElectronTight.T',\n",
       " 'ElectronTight/ElectronTight.Charge',\n",
       " 'ElectronTight/ElectronTight.EhadOverEem',\n",
       " 'ElectronTight/ElectronTight.Particle',\n",
       " 'ElectronTight/ElectronTight.IsolationVar',\n",
       " 'ElectronTight/ElectronTight.IsolationVarRhoCorr',\n",
       " 'ElectronTight/ElectronTight.SumPtCharged',\n",
       " 'ElectronTight/ElectronTight.SumPtNeutral',\n",
       " 'ElectronTight/ElectronTight.SumPtChargedPU',\n",
       " 'ElectronTight/ElectronTight.SumPt',\n",
       " 'ElectronTight/ElectronTight.D0',\n",
       " 'ElectronTight/ElectronTight.DZ',\n",
       " 'ElectronTight/ElectronTight.ErrorD0',\n",
       " 'ElectronTight/ElectronTight.ErrorDZ',\n",
       " 'ElectronTight_size',\n",
       " 'Muon',\n",
       " 'Muon/Muon.fUniqueID',\n",
       " 'Muon/Muon.fBits',\n",
       " 'Muon/Muon.PT',\n",
       " 'Muon/Muon.Eta',\n",
       " 'Muon/Muon.Phi',\n",
       " 'Muon/Muon.T',\n",
       " 'Muon/Muon.Charge',\n",
       " 'Muon/Muon.Particle',\n",
       " 'Muon/Muon.IsolationVar',\n",
       " 'Muon/Muon.IsolationVarRhoCorr',\n",
       " 'Muon/Muon.SumPtCharged',\n",
       " 'Muon/Muon.SumPtNeutral',\n",
       " 'Muon/Muon.SumPtChargedPU',\n",
       " 'Muon/Muon.SumPt',\n",
       " 'Muon/Muon.D0',\n",
       " 'Muon/Muon.DZ',\n",
       " 'Muon/Muon.ErrorD0',\n",
       " 'Muon/Muon.ErrorDZ',\n",
       " 'Muon_size',\n",
       " 'MuonLoose',\n",
       " 'MuonLoose/MuonLoose.fUniqueID',\n",
       " 'MuonLoose/MuonLoose.fBits',\n",
       " 'MuonLoose/MuonLoose.PT',\n",
       " 'MuonLoose/MuonLoose.Eta',\n",
       " 'MuonLoose/MuonLoose.Phi',\n",
       " 'MuonLoose/MuonLoose.T',\n",
       " 'MuonLoose/MuonLoose.Charge',\n",
       " 'MuonLoose/MuonLoose.Particle',\n",
       " 'MuonLoose/MuonLoose.IsolationVar',\n",
       " 'MuonLoose/MuonLoose.IsolationVarRhoCorr',\n",
       " 'MuonLoose/MuonLoose.SumPtCharged',\n",
       " 'MuonLoose/MuonLoose.SumPtNeutral',\n",
       " 'MuonLoose/MuonLoose.SumPtChargedPU',\n",
       " 'MuonLoose/MuonLoose.SumPt',\n",
       " 'MuonLoose/MuonLoose.D0',\n",
       " 'MuonLoose/MuonLoose.DZ',\n",
       " 'MuonLoose/MuonLoose.ErrorD0',\n",
       " 'MuonLoose/MuonLoose.ErrorDZ',\n",
       " 'MuonLoose_size',\n",
       " 'MuonMedium',\n",
       " 'MuonMedium/MuonMedium.fUniqueID',\n",
       " 'MuonMedium/MuonMedium.fBits',\n",
       " 'MuonMedium/MuonMedium.PT',\n",
       " 'MuonMedium/MuonMedium.Eta',\n",
       " 'MuonMedium/MuonMedium.Phi',\n",
       " 'MuonMedium/MuonMedium.T',\n",
       " 'MuonMedium/MuonMedium.Charge',\n",
       " 'MuonMedium/MuonMedium.Particle',\n",
       " 'MuonMedium/MuonMedium.IsolationVar',\n",
       " 'MuonMedium/MuonMedium.IsolationVarRhoCorr',\n",
       " 'MuonMedium/MuonMedium.SumPtCharged',\n",
       " 'MuonMedium/MuonMedium.SumPtNeutral',\n",
       " 'MuonMedium/MuonMedium.SumPtChargedPU',\n",
       " 'MuonMedium/MuonMedium.SumPt',\n",
       " 'MuonMedium/MuonMedium.D0',\n",
       " 'MuonMedium/MuonMedium.DZ',\n",
       " 'MuonMedium/MuonMedium.ErrorD0',\n",
       " 'MuonMedium/MuonMedium.ErrorDZ',\n",
       " 'MuonMedium_size',\n",
       " 'MuonTight',\n",
       " 'MuonTight/MuonTight.fUniqueID',\n",
       " 'MuonTight/MuonTight.fBits',\n",
       " 'MuonTight/MuonTight.PT',\n",
       " 'MuonTight/MuonTight.Eta',\n",
       " 'MuonTight/MuonTight.Phi',\n",
       " 'MuonTight/MuonTight.T',\n",
       " 'MuonTight/MuonTight.Charge',\n",
       " 'MuonTight/MuonTight.Particle',\n",
       " 'MuonTight/MuonTight.IsolationVar',\n",
       " 'MuonTight/MuonTight.IsolationVarRhoCorr',\n",
       " 'MuonTight/MuonTight.SumPtCharged',\n",
       " 'MuonTight/MuonTight.SumPtNeutral',\n",
       " 'MuonTight/MuonTight.SumPtChargedPU',\n",
       " 'MuonTight/MuonTight.SumPt',\n",
       " 'MuonTight/MuonTight.D0',\n",
       " 'MuonTight/MuonTight.DZ',\n",
       " 'MuonTight/MuonTight.ErrorD0',\n",
       " 'MuonTight/MuonTight.ErrorDZ',\n",
       " 'MuonTight_size',\n",
       " 'JetPUPPI',\n",
       " 'JetPUPPI/JetPUPPI.fUniqueID',\n",
       " 'JetPUPPI/JetPUPPI.fBits',\n",
       " 'JetPUPPI/JetPUPPI.PT',\n",
       " 'JetPUPPI/JetPUPPI.Eta',\n",
       " 'JetPUPPI/JetPUPPI.Phi',\n",
       " 'JetPUPPI/JetPUPPI.T',\n",
       " 'JetPUPPI/JetPUPPI.Mass',\n",
       " 'JetPUPPI/JetPUPPI.DeltaEta',\n",
       " 'JetPUPPI/JetPUPPI.DeltaPhi',\n",
       " 'JetPUPPI/JetPUPPI.Flavor',\n",
       " 'JetPUPPI/JetPUPPI.FlavorAlgo',\n",
       " 'JetPUPPI/JetPUPPI.FlavorPhys',\n",
       " 'JetPUPPI/JetPUPPI.TauFlavor',\n",
       " 'JetPUPPI/JetPUPPI.BTag',\n",
       " 'JetPUPPI/JetPUPPI.BTagAlgo',\n",
       " 'JetPUPPI/JetPUPPI.BTagPhys',\n",
       " 'JetPUPPI/JetPUPPI.TauTag',\n",
       " 'JetPUPPI/JetPUPPI.TauWeight',\n",
       " 'JetPUPPI/JetPUPPI.Charge',\n",
       " 'JetPUPPI/JetPUPPI.EhadOverEem',\n",
       " 'JetPUPPI/JetPUPPI.NCharged',\n",
       " 'JetPUPPI/JetPUPPI.NNeutrals',\n",
       " 'JetPUPPI/JetPUPPI.NeutralEnergyFraction',\n",
       " 'JetPUPPI/JetPUPPI.ChargedEnergyFraction',\n",
       " 'JetPUPPI/JetPUPPI.Beta',\n",
       " 'JetPUPPI/JetPUPPI.BetaStar',\n",
       " 'JetPUPPI/JetPUPPI.MeanSqDeltaR',\n",
       " 'JetPUPPI/JetPUPPI.PTD',\n",
       " 'JetPUPPI/JetPUPPI.FracPt[5]',\n",
       " 'JetPUPPI/JetPUPPI.Tau[5]',\n",
       " 'JetPUPPI/JetPUPPI.SoftDroppedJet',\n",
       " 'JetPUPPI/JetPUPPI.SoftDroppedSubJet1',\n",
       " 'JetPUPPI/JetPUPPI.SoftDroppedSubJet2',\n",
       " 'JetPUPPI/JetPUPPI.TrimmedP4[5]',\n",
       " 'JetPUPPI/JetPUPPI.PrunedP4[5]',\n",
       " 'JetPUPPI/JetPUPPI.SoftDroppedP4[5]',\n",
       " 'JetPUPPI/JetPUPPI.NSubJetsTrimmed',\n",
       " 'JetPUPPI/JetPUPPI.NSubJetsPruned',\n",
       " 'JetPUPPI/JetPUPPI.NSubJetsSoftDropped',\n",
       " 'JetPUPPI/JetPUPPI.ExclYmerge12',\n",
       " 'JetPUPPI/JetPUPPI.ExclYmerge23',\n",
       " 'JetPUPPI/JetPUPPI.ExclYmerge34',\n",
       " 'JetPUPPI/JetPUPPI.ExclYmerge45',\n",
       " 'JetPUPPI/JetPUPPI.ExclYmerge56',\n",
       " 'JetPUPPI/JetPUPPI.Constituents',\n",
       " 'JetPUPPI/JetPUPPI.Particles',\n",
       " 'JetPUPPI/JetPUPPI.Area',\n",
       " 'JetPUPPI_size',\n",
       " 'JetPUPPIAK8',\n",
       " 'JetPUPPIAK8/JetPUPPIAK8.fUniqueID',\n",
       " 'JetPUPPIAK8/JetPUPPIAK8.fBits',\n",
       " 'JetPUPPIAK8/JetPUPPIAK8.PT',\n",
       " 'JetPUPPIAK8/JetPUPPIAK8.Eta',\n",
       " 'JetPUPPIAK8/JetPUPPIAK8.Phi',\n",
       " 'JetPUPPIAK8/JetPUPPIAK8.T',\n",
       " 'JetPUPPIAK8/JetPUPPIAK8.Mass',\n",
       " 'JetPUPPIAK8/JetPUPPIAK8.DeltaEta',\n",
       " 'JetPUPPIAK8/JetPUPPIAK8.DeltaPhi',\n",
       " 'JetPUPPIAK8/JetPUPPIAK8.Flavor',\n",
       " 'JetPUPPIAK8/JetPUPPIAK8.FlavorAlgo',\n",
       " 'JetPUPPIAK8/JetPUPPIAK8.FlavorPhys',\n",
       " 'JetPUPPIAK8/JetPUPPIAK8.TauFlavor',\n",
       " 'JetPUPPIAK8/JetPUPPIAK8.BTag',\n",
       " 'JetPUPPIAK8/JetPUPPIAK8.BTagAlgo',\n",
       " 'JetPUPPIAK8/JetPUPPIAK8.BTagPhys',\n",
       " 'JetPUPPIAK8/JetPUPPIAK8.TauTag',\n",
       " 'JetPUPPIAK8/JetPUPPIAK8.TauWeight',\n",
       " 'JetPUPPIAK8/JetPUPPIAK8.Charge',\n",
       " 'JetPUPPIAK8/JetPUPPIAK8.EhadOverEem',\n",
       " 'JetPUPPIAK8/JetPUPPIAK8.NCharged',\n",
       " 'JetPUPPIAK8/JetPUPPIAK8.NNeutrals',\n",
       " 'JetPUPPIAK8/JetPUPPIAK8.NeutralEnergyFraction',\n",
       " 'JetPUPPIAK8/JetPUPPIAK8.ChargedEnergyFraction',\n",
       " 'JetPUPPIAK8/JetPUPPIAK8.Beta',\n",
       " 'JetPUPPIAK8/JetPUPPIAK8.BetaStar',\n",
       " 'JetPUPPIAK8/JetPUPPIAK8.MeanSqDeltaR',\n",
       " 'JetPUPPIAK8/JetPUPPIAK8.PTD',\n",
       " 'JetPUPPIAK8/JetPUPPIAK8.FracPt[5]',\n",
       " 'JetPUPPIAK8/JetPUPPIAK8.Tau[5]',\n",
       " 'JetPUPPIAK8/JetPUPPIAK8.SoftDroppedJet',\n",
       " 'JetPUPPIAK8/JetPUPPIAK8.SoftDroppedSubJet1',\n",
       " 'JetPUPPIAK8/JetPUPPIAK8.SoftDroppedSubJet2',\n",
       " 'JetPUPPIAK8/JetPUPPIAK8.TrimmedP4[5]',\n",
       " 'JetPUPPIAK8/JetPUPPIAK8.PrunedP4[5]',\n",
       " 'JetPUPPIAK8/JetPUPPIAK8.SoftDroppedP4[5]',\n",
       " 'JetPUPPIAK8/JetPUPPIAK8.NSubJetsTrimmed',\n",
       " 'JetPUPPIAK8/JetPUPPIAK8.NSubJetsPruned',\n",
       " 'JetPUPPIAK8/JetPUPPIAK8.NSubJetsSoftDropped',\n",
       " 'JetPUPPIAK8/JetPUPPIAK8.ExclYmerge12',\n",
       " 'JetPUPPIAK8/JetPUPPIAK8.ExclYmerge23',\n",
       " 'JetPUPPIAK8/JetPUPPIAK8.ExclYmerge34',\n",
       " 'JetPUPPIAK8/JetPUPPIAK8.ExclYmerge45',\n",
       " 'JetPUPPIAK8/JetPUPPIAK8.ExclYmerge56',\n",
       " 'JetPUPPIAK8/JetPUPPIAK8.Constituents',\n",
       " 'JetPUPPIAK8/JetPUPPIAK8.Particles',\n",
       " 'JetPUPPIAK8/JetPUPPIAK8.Area',\n",
       " 'JetPUPPIAK8_size',\n",
       " 'JetPUPPILoose',\n",
       " 'JetPUPPILoose/JetPUPPILoose.fUniqueID',\n",
       " 'JetPUPPILoose/JetPUPPILoose.fBits',\n",
       " 'JetPUPPILoose/JetPUPPILoose.PT',\n",
       " 'JetPUPPILoose/JetPUPPILoose.Eta',\n",
       " 'JetPUPPILoose/JetPUPPILoose.Phi',\n",
       " 'JetPUPPILoose/JetPUPPILoose.T',\n",
       " 'JetPUPPILoose/JetPUPPILoose.Mass',\n",
       " 'JetPUPPILoose/JetPUPPILoose.DeltaEta',\n",
       " 'JetPUPPILoose/JetPUPPILoose.DeltaPhi',\n",
       " 'JetPUPPILoose/JetPUPPILoose.Flavor',\n",
       " 'JetPUPPILoose/JetPUPPILoose.FlavorAlgo',\n",
       " 'JetPUPPILoose/JetPUPPILoose.FlavorPhys',\n",
       " 'JetPUPPILoose/JetPUPPILoose.TauFlavor',\n",
       " 'JetPUPPILoose/JetPUPPILoose.BTag',\n",
       " 'JetPUPPILoose/JetPUPPILoose.BTagAlgo',\n",
       " 'JetPUPPILoose/JetPUPPILoose.BTagPhys',\n",
       " 'JetPUPPILoose/JetPUPPILoose.TauTag',\n",
       " 'JetPUPPILoose/JetPUPPILoose.TauWeight',\n",
       " 'JetPUPPILoose/JetPUPPILoose.Charge',\n",
       " 'JetPUPPILoose/JetPUPPILoose.EhadOverEem',\n",
       " 'JetPUPPILoose/JetPUPPILoose.NCharged',\n",
       " 'JetPUPPILoose/JetPUPPILoose.NNeutrals',\n",
       " 'JetPUPPILoose/JetPUPPILoose.NeutralEnergyFraction',\n",
       " 'JetPUPPILoose/JetPUPPILoose.ChargedEnergyFraction',\n",
       " 'JetPUPPILoose/JetPUPPILoose.Beta',\n",
       " 'JetPUPPILoose/JetPUPPILoose.BetaStar',\n",
       " 'JetPUPPILoose/JetPUPPILoose.MeanSqDeltaR',\n",
       " 'JetPUPPILoose/JetPUPPILoose.PTD',\n",
       " 'JetPUPPILoose/JetPUPPILoose.FracPt[5]',\n",
       " 'JetPUPPILoose/JetPUPPILoose.Tau[5]',\n",
       " 'JetPUPPILoose/JetPUPPILoose.SoftDroppedJet',\n",
       " 'JetPUPPILoose/JetPUPPILoose.SoftDroppedSubJet1',\n",
       " 'JetPUPPILoose/JetPUPPILoose.SoftDroppedSubJet2',\n",
       " 'JetPUPPILoose/JetPUPPILoose.TrimmedP4[5]',\n",
       " 'JetPUPPILoose/JetPUPPILoose.PrunedP4[5]',\n",
       " 'JetPUPPILoose/JetPUPPILoose.SoftDroppedP4[5]',\n",
       " 'JetPUPPILoose/JetPUPPILoose.NSubJetsTrimmed',\n",
       " 'JetPUPPILoose/JetPUPPILoose.NSubJetsPruned',\n",
       " 'JetPUPPILoose/JetPUPPILoose.NSubJetsSoftDropped',\n",
       " 'JetPUPPILoose/JetPUPPILoose.ExclYmerge12',\n",
       " 'JetPUPPILoose/JetPUPPILoose.ExclYmerge23',\n",
       " 'JetPUPPILoose/JetPUPPILoose.ExclYmerge34',\n",
       " 'JetPUPPILoose/JetPUPPILoose.ExclYmerge45',\n",
       " 'JetPUPPILoose/JetPUPPILoose.ExclYmerge56',\n",
       " 'JetPUPPILoose/JetPUPPILoose.Constituents',\n",
       " 'JetPUPPILoose/JetPUPPILoose.Particles',\n",
       " 'JetPUPPILoose/JetPUPPILoose.Area',\n",
       " 'JetPUPPILoose_size',\n",
       " 'JetPUPPITight',\n",
       " 'JetPUPPITight/JetPUPPITight.fUniqueID',\n",
       " 'JetPUPPITight/JetPUPPITight.fBits',\n",
       " 'JetPUPPITight/JetPUPPITight.PT',\n",
       " 'JetPUPPITight/JetPUPPITight.Eta',\n",
       " 'JetPUPPITight/JetPUPPITight.Phi',\n",
       " 'JetPUPPITight/JetPUPPITight.T',\n",
       " 'JetPUPPITight/JetPUPPITight.Mass',\n",
       " 'JetPUPPITight/JetPUPPITight.DeltaEta',\n",
       " 'JetPUPPITight/JetPUPPITight.DeltaPhi',\n",
       " 'JetPUPPITight/JetPUPPITight.Flavor',\n",
       " 'JetPUPPITight/JetPUPPITight.FlavorAlgo',\n",
       " 'JetPUPPITight/JetPUPPITight.FlavorPhys',\n",
       " 'JetPUPPITight/JetPUPPITight.TauFlavor',\n",
       " 'JetPUPPITight/JetPUPPITight.BTag',\n",
       " 'JetPUPPITight/JetPUPPITight.BTagAlgo',\n",
       " 'JetPUPPITight/JetPUPPITight.BTagPhys',\n",
       " 'JetPUPPITight/JetPUPPITight.TauTag',\n",
       " 'JetPUPPITight/JetPUPPITight.TauWeight',\n",
       " 'JetPUPPITight/JetPUPPITight.Charge',\n",
       " 'JetPUPPITight/JetPUPPITight.EhadOverEem',\n",
       " 'JetPUPPITight/JetPUPPITight.NCharged',\n",
       " 'JetPUPPITight/JetPUPPITight.NNeutrals',\n",
       " 'JetPUPPITight/JetPUPPITight.NeutralEnergyFraction',\n",
       " 'JetPUPPITight/JetPUPPITight.ChargedEnergyFraction',\n",
       " 'JetPUPPITight/JetPUPPITight.Beta',\n",
       " 'JetPUPPITight/JetPUPPITight.BetaStar',\n",
       " 'JetPUPPITight/JetPUPPITight.MeanSqDeltaR',\n",
       " 'JetPUPPITight/JetPUPPITight.PTD',\n",
       " 'JetPUPPITight/JetPUPPITight.FracPt[5]',\n",
       " 'JetPUPPITight/JetPUPPITight.Tau[5]',\n",
       " 'JetPUPPITight/JetPUPPITight.SoftDroppedJet',\n",
       " 'JetPUPPITight/JetPUPPITight.SoftDroppedSubJet1',\n",
       " 'JetPUPPITight/JetPUPPITight.SoftDroppedSubJet2',\n",
       " 'JetPUPPITight/JetPUPPITight.TrimmedP4[5]',\n",
       " 'JetPUPPITight/JetPUPPITight.PrunedP4[5]',\n",
       " 'JetPUPPITight/JetPUPPITight.SoftDroppedP4[5]',\n",
       " 'JetPUPPITight/JetPUPPITight.NSubJetsTrimmed',\n",
       " 'JetPUPPITight/JetPUPPITight.NSubJetsPruned',\n",
       " 'JetPUPPITight/JetPUPPITight.NSubJetsSoftDropped',\n",
       " 'JetPUPPITight/JetPUPPITight.ExclYmerge12',\n",
       " 'JetPUPPITight/JetPUPPITight.ExclYmerge23',\n",
       " 'JetPUPPITight/JetPUPPITight.ExclYmerge34',\n",
       " 'JetPUPPITight/JetPUPPITight.ExclYmerge45',\n",
       " 'JetPUPPITight/JetPUPPITight.ExclYmerge56',\n",
       " 'JetPUPPITight/JetPUPPITight.Constituents',\n",
       " 'JetPUPPITight/JetPUPPITight.Particles',\n",
       " 'JetPUPPITight/JetPUPPITight.Area',\n",
       " 'JetPUPPITight_size',\n",
       " 'Rho',\n",
       " 'Rho/Rho.fUniqueID',\n",
       " 'Rho/Rho.fBits',\n",
       " 'Rho/Rho.Rho',\n",
       " 'Rho/Rho.Edges[2]',\n",
       " 'Rho_size',\n",
       " 'PuppiMissingET',\n",
       " 'PuppiMissingET/PuppiMissingET.fUniqueID',\n",
       " 'PuppiMissingET/PuppiMissingET.fBits',\n",
       " 'PuppiMissingET/PuppiMissingET.MET',\n",
       " 'PuppiMissingET/PuppiMissingET.Eta',\n",
       " 'PuppiMissingET/PuppiMissingET.Phi',\n",
       " 'PuppiMissingET_size',\n",
       " 'GenPileUpMissingET',\n",
       " 'GenPileUpMissingET/GenPileUpMissingET.fUniqueID',\n",
       " 'GenPileUpMissingET/GenPileUpMissingET.fBits',\n",
       " 'GenPileUpMissingET/GenPileUpMissingET.MET',\n",
       " 'GenPileUpMissingET/GenPileUpMissingET.Eta',\n",
       " 'GenPileUpMissingET/GenPileUpMissingET.Phi',\n",
       " 'GenPileUpMissingET_size',\n",
       " 'ScalarHT',\n",
       " 'ScalarHT/ScalarHT.fUniqueID',\n",
       " 'ScalarHT/ScalarHT.fBits',\n",
       " 'ScalarHT/ScalarHT.HT',\n",
       " 'ScalarHT_size']"
      ]
     },
     "execution_count": 5,
     "metadata": {},
     "output_type": "execute_result"
    }
   ],
   "source": [
    "tree=root['Delphes']\n",
    "root['Delphes']\n",
    "tree.keys()"
   ]
  },
  {
   "cell_type": "code",
   "execution_count": 6,
   "id": "048ae302",
   "metadata": {
    "scrolled": true
   },
   "outputs": [
    {
     "data": {
      "image/png": "[encoded data removed]",
      "text/plain": [
       "<Figure size 504x504 with 1 Axes>"
      ]
     },
     "metadata": {
      "needs_background": "light"
     },
     "output_type": "display_data"
    }
   ],
   "source": [
    "JetPUPPIAK8=tree['JetPUPPIAK8_size'].array()\n",
    "f,ax = plt.subplots(figsize=(7,7))\n",
    "plt.hist(JetPUPPIAK8, label='JetPUPPIAK8', bins=6, range=(0,6),alpha=1)\n",
    "ax.legend(); \n",
    "ax.set(xlabel='N Jatos', ylabel='Número de Eventos')\n",
    "plt.show()"
   ]
  },
  {
   "cell_type": "code",
   "execution_count": 7,
   "id": "52177e9e",
   "metadata": {},
   "outputs": [
    {
     "data": {
      "image/png": "[encoded data removed]",
      "text/plain": [
       "<Figure size 504x504 with 1 Axes>"
      ]
     },
     "metadata": {
      "needs_background": "light"
     },
     "output_type": "display_data"
    }
   ],
   "source": [
    "JetPUPPITight=tree['JetPUPPITight_size'].array()\n",
    "f,ax = plt.subplots(figsize=(7,7))\n",
    "plt.hist(JetPUPPITight, label='JetPUPPITight', bins=6, range=(0,6),alpha=1)\n",
    "ax.legend(); \n",
    "ax.set(xlabel='N Jatos', ylabel='Número de Eventos')\n",
    "plt.show()"
   ]
  },
  {
   "cell_type": "code",
   "execution_count": 8,
   "id": "82f097fb",
   "metadata": {},
   "outputs": [
    {
     "data": {
      "image/png": "[encoded data removed]",
      "text/plain": [
       "<Figure size 504x504 with 1 Axes>"
      ]
     },
     "metadata": {
      "needs_background": "light"
     },
     "output_type": "display_data"
    }
   ],
   "source": [
    "#PT:\n",
    "\n",
    "JetPUPPITight_PT=tree['JetPUPPITight.PT'].array()\n",
    "f,ax = plt.subplots(figsize=(7,7))\n",
    "plt.hist(ak.flatten(JetPUPPITight_PT), bins=32, range=(0, 160),label='JetPUPPITight.PT',alpha=1)\n",
    "ax.legend(); \n",
    "ax.set(xlabel='Jet PT', ylabel='Número de Eventos')\n",
    "plt.show()\n"
   ]
  },
  {
   "cell_type": "code",
   "execution_count": 9,
   "id": "0d231008",
   "metadata": {},
   "outputs": [
    {
     "data": {
      "image/png": "[encoded data removed]",
      "text/plain": [
       "<Figure size 504x504 with 1 Axes>"
      ]
     },
     "metadata": {
      "needs_background": "light"
     },
     "output_type": "display_data"
    }
   ],
   "source": [
    "JetPUPPILoose=tree['JetPUPPILoose_size'].array()\n",
    "f,ax = plt.subplots(figsize=(7,7))\n",
    "plt.hist(JetPUPPILoose, label='JetPUPPILoose', bins=6, range=(0,6),alpha=1)\n",
    "ax.legend(); \n",
    "ax.set(xlabel='N Jatos', ylabel='Número de Eventos')\n",
    "plt.show()"
   ]
  },
  {
   "cell_type": "code",
   "execution_count": 10,
   "id": "7daa53c4",
   "metadata": {},
   "outputs": [
    {
     "data": {
      "image/png": "[encoded data removed]",
      "text/plain": [
       "<Figure size 504x504 with 1 Axes>"
      ]
     },
     "metadata": {
      "needs_background": "light"
     },
     "output_type": "display_data"
    }
   ],
   "source": [
    "GenJetAK8=tree['GenJetAK8_size'].array()\n",
    "f,ax = plt.subplots(figsize=(7,7))\n",
    "plt.hist(GenJetAK8, label='GenJetAK8', bins=6, range=(0,6),alpha=1)\n",
    "ax.legend(); \n",
    "ax.set(xlabel='N Jatos', ylabel='Número de Eventos')\n",
    "plt.show()"
   ]
  },
  {
   "cell_type": "code",
   "execution_count": 11,
   "id": "ccc72a34",
   "metadata": {
    "scrolled": true
   },
   "outputs": [
    {
     "data": {
      "image/png": "[encoded data removed]",
      "text/plain": [
       "<Figure size 504x504 with 1 Axes>"
      ]
     },
     "metadata": {
      "needs_background": "light"
     },
     "output_type": "display_data"
    },
    {
     "name": "stdout",
     "output_type": "stream",
     "text": [
      "882\n"
     ]
    }
   ],
   "source": [
    "GenJet=tree['GenJet_size'].array()\n",
    "f,ax = plt.subplots(figsize=(7,7))\n",
    "plt.hist(GenJet, label='GenJet', bins=6, range=(0,6),alpha=1)\n",
    "ax.legend(); \n",
    "ax.set(xlabel='N Jatos', ylabel='Número de Eventos')\n",
    "plt.show()\n",
    "print(np.sum(GenJet))\n"
   ]
  },
  {
   "cell_type": "code",
   "execution_count": 12,
   "id": "6ad6bc6d",
   "metadata": {},
   "outputs": [],
   "source": [
    "#\n",
    "vtx_size=tree['Vertex_size'].array()\n",
    "n_events=len(vtx_size)\n",
    "\n",
    "#GenJet\n",
    "\n",
    "GenJet_PT=tree['GenJet.PT'].array() \n",
    "GenJet_Eta=tree['GenJet.Eta'].array() \n",
    "GenJet_Phi=tree['GenJet.Phi'].array() \n",
    "GenJet_Mass=tree['GenJet.Mass'].array()\n",
    "GenJet_T=tree['GenJet.T'].array()\n",
    "\n",
    "#JetPUPPITight\n",
    "\n",
    "JetPUPPITight_PT=tree['JetPUPPITight.PT'].array()\n",
    "JetPUPPITight_Eta=tree['JetPUPPITight.Eta'].array()\n",
    "JetPUPPITight_Phi=tree['JetPUPPITight.Phi'].array()\n",
    "JetPUPPITight_Mass=tree['JetPUPPITight.Mass'].array()\n",
    "JetPUPPITight_T=tree['JetPUPPITight.T'].array()\n"
   ]
  },
  {
   "cell_type": "code",
   "execution_count": 13,
   "id": "82dacc31",
   "metadata": {},
   "outputs": [
    {
     "name": "stdout",
     "output_type": "stream",
     "text": [
      "250\n"
     ]
    }
   ],
   "source": [
    "print(n_events)"
   ]
  },
  {
   "cell_type": "markdown",
   "id": "6805cbc2",
   "metadata": {},
   "source": [
    "# Taking all Jet pairs from GenJet and JetPUPPITight\n"
   ]
  },
  {
   "cell_type": "code",
   "execution_count": 14,
   "id": "22f116a5",
   "metadata": {},
   "outputs": [],
   "source": [
    "AllPairs_Mass=[]\n",
    "AllPairs_Sum=[]\n",
    "\n",
    "Tight_Pairs_PT=[]\n",
    "Tight_Pairs_Eta=[]\n",
    "Tight_Pairs_Phi=[]\n",
    "Tight_Pairs_Mass=[]\n",
    "\n",
    "GenJet_Pairs_PT=[]\n",
    "GenJet_Pairs_Eta=[]\n",
    "GenJet_Pairs_Phi=[]\n",
    "GenJet_Pairs_Mass=[]\n",
    "\n",
    "J1 = TLorentzVector()\n",
    "J2 = TLorentzVector()\n",
    "\n",
    "#Vectors to store the mass of each W \n",
    "\n",
    "m_W_GenJet=[]\n",
    "m_W_Tight=[]\n",
    "\n",
    "#Vectors to store the mass of each W but labeling the events from which they came from\n",
    "\n",
    "m_W_GenJet_ev=[]\n",
    "m_W_Tight_ev=[]"
   ]
  },
  {
   "cell_type": "code",
   "execution_count": 15,
   "id": "c7ccb53a",
   "metadata": {},
   "outputs": [],
   "source": [
    "#GenJet\n",
    "\n",
    "for _ev in range(len(GenJet)):\n",
    "    \n",
    "    #PT\n",
    "    _items_PT = GenJet_PT[_ev]\n",
    "    _pairs_PT=[(_ev,_items_PT[i],_items_PT[j]) for i in range(len(_items_PT)) for j in range(i+1, len(_items_PT))]\n",
    "    GenJet_Pairs_PT.append(_pairs_PT)\n",
    "    \n",
    "    #Eta\n",
    "    _items_Eta = GenJet_Eta[_ev]\n",
    "    _pairs_Eta=[(_ev,_items_Eta[i],_items_Eta[j]) for i in range(len(_items_Eta)) for j in range(i+1, len(_items_Eta))]\n",
    "    GenJet_Pairs_Eta.append(_pairs_Eta)\n",
    "    \n",
    "    #Phi\n",
    "    _items_Phi = GenJet_Phi[_ev]\n",
    "    _pairs_Phi=[(_ev,_items_Phi[i],_items_Phi[j]) for i in range(len(_items_Phi)) for j in range(i+1, len(_items_Phi))]\n",
    "    GenJet_Pairs_Phi.append(_pairs_Phi)\n",
    "    \n",
    "    #Mass\n",
    "    _items_Mass = GenJet_Mass[_ev]\n",
    "    _pairs_Mass=[(_ev,_items_Mass[i],_items_Mass[j]) for i in range(len(_items_Mass)) for j in range(i+1, len(_items_Mass))]\n",
    "    GenJet_Pairs_Mass.append(_pairs_Mass)\n",
    "    \n",
    "\n",
    "    for _pair in range(len(GenJet_Pairs_Mass[_ev])):\n",
    "        \n",
    "        J1.SetPtEtaPhiM(GenJet_Pairs_PT[_ev][_pair][1],GenJet_Pairs_Eta[_ev][_pair][1],GenJet_Pairs_Phi[_ev][_pair][1],GenJet_Pairs_Mass[_ev][_pair][1])\n",
    "        J2.SetPtEtaPhiM(GenJet_Pairs_PT[_ev][_pair][2],GenJet_Pairs_Eta[_ev][_pair][2],GenJet_Pairs_Phi[_ev][_pair][2],GenJet_Pairs_Mass[_ev][_pair][2])\n",
    "                \n",
    "        m_W_GenJet.append((J1+J2).M())\n",
    "        m_W_GenJet_ev.append([_ev,(J1+J2).M()])\n",
    "\n",
    "\n",
    "#JetPUPPITight:\n",
    "        \n",
    "for _ev in range(len(JetPUPPITight)):\n",
    "    \n",
    "    #PT\n",
    "    _items_PT = JetPUPPITight_PT[_ev]\n",
    "    _pairs_PT=[(_ev,_items_PT[i],_items_PT[j]) for i in range(len(_items_PT)) for j in range(i+1, len(_items_PT))]\n",
    "    Tight_Pairs_PT.append(_pairs_PT)\n",
    "    \n",
    "    #Eta\n",
    "    _items_Eta = JetPUPPITight_Eta[_ev]\n",
    "    _pairs_Eta=[(_ev,_items_Eta[i],_items_Eta[j]) for i in range(len(_items_Eta)) for j in range(i+1, len(_items_Eta))]\n",
    "    Tight_Pairs_Eta.append(_pairs_Eta)\n",
    "    \n",
    "    #Phi\n",
    "    _items_Phi = JetPUPPITight_Phi[_ev]\n",
    "    _pairs_Phi=[(_ev,_items_Phi[i],_items_Phi[j]) for i in range(len(_items_Phi)) for j in range(i+1, len(_items_Phi))]\n",
    "    Tight_Pairs_Phi.append(_pairs_Phi)\n",
    "    \n",
    "    #Mass\n",
    "    _items_Mass = JetPUPPITight_Mass[_ev]\n",
    "    _pairs_Mass=[(_ev,_items_Mass[i],_items_Mass[j]) for i in range(len(_items_Mass)) for j in range(i+1, len(_items_Mass))]\n",
    "    Tight_Pairs_Mass.append(_pairs_Mass)\n",
    "\n",
    "    for _pair in range(len(Tight_Pairs_Mass[_ev])):\n",
    "        \n",
    "        J1.SetPtEtaPhiM(Tight_Pairs_PT[_ev][_pair][1],Tight_Pairs_Eta[_ev][_pair][1],Tight_Pairs_Phi[_ev][_pair][1],Tight_Pairs_Mass[_ev][_pair][1])\n",
    "        J2.SetPtEtaPhiM(Tight_Pairs_PT[_ev][_pair][2],Tight_Pairs_Eta[_ev][_pair][2],Tight_Pairs_Phi[_ev][_pair][2],Tight_Pairs_Mass[_ev][_pair][2])\n",
    "                \n",
    "        m_W_Tight.append((J1+J2).M())\n",
    "        m_W_Tight_ev.append([_ev,(J1+J2).M()])\n",
    "\n",
    "        "
   ]
  },
  {
   "cell_type": "code",
   "execution_count": 16,
   "id": "32960097",
   "metadata": {
    "scrolled": true
   },
   "outputs": [
    {
     "name": "stdout",
     "output_type": "stream",
     "text": [
      "[(0, 19.884994506835938, 10.861930847167969), (0, 19.884994506835938, 2.8260254859924316), (0, 10.861930847167969, 2.8260254859924316)]\n",
      "3\n",
      "(0, 19.884994506835938, 2.8260254859924316)\n",
      "19.884994506835938\n",
      "2.8260254859924316\n"
     ]
    }
   ],
   "source": [
    "#Explicando como o vetor dos pares foi organizado:\n",
    "\n",
    "print(Tight_Pairs_Mass[0]) #Lista de pares que o evento zero gerou\n",
    "print(len(Tight_Pairs_Mass[0])) #Número de pares que o evento zero gerou\n",
    "print(Tight_Pairs_Mass[0][1]) #Selecionando um desses pares em específico\n",
    "print(Tight_Pairs_Mass[0][1][1]) #Selecionando um dos elementos do par\n",
    "print(Tight_Pairs_Mass[0][1][2]) #Selecionando o outro elemento do par"
   ]
  },
  {
   "cell_type": "markdown",
   "id": "fcff184b",
   "metadata": {},
   "source": [
    "Organizing 'm_W_GenJet_ev' and 'm_W_Tight_ev' new vectors:"
   ]
  },
  {
   "cell_type": "code",
   "execution_count": 17,
   "id": "39435ac6",
   "metadata": {},
   "outputs": [
    {
     "name": "stdout",
     "output_type": "stream",
     "text": [
      "250\n",
      "250\n",
      "[784.0730601548938, 587.1695826531886, 77.72903264396973, 475.1246764054651, 51.60948581837317, 581.8399441295105, 41.49639498204094, 439.3294159417032, 35.63849113909502, 354.98522805499647]\n",
      "[784.0730601548938, 587.1695826531886, 77.72903264396973, 475.1246764054651, 51.60948581837317, 581.8399441295105, 41.49639498204094, 439.3294159417032, 35.63849113909502, 354.98522805499647]\n",
      "[37.474200271485635, 63.025741528237376, 352.4946728177201, 365.24377834147754]\n",
      "[37.474200271485635, 63.025741528237376, 352.4946728177201, 365.24377834147754]\n"
     ]
    }
   ],
   "source": [
    "GenJeT_Mass=[]\n",
    "Tight_Mass=[]\n",
    "\n",
    "count1=0\n",
    "count2=0\n",
    "\n",
    "temp1=[]\n",
    "temp2=[]\n",
    "\n",
    "for _w in range(len(m_W_GenJet_ev)):\n",
    "    if (m_W_GenJet_ev[_w][0]==count1):\n",
    "        temp1.append(m_W_GenJet_ev[_w][1])\n",
    "    else:\n",
    "        GenJeT_Mass.append(temp1)\n",
    "        temp1=[]\n",
    "        temp1.append(m_W_GenJet_ev[_w][1])\n",
    "        count1=count1+1\n",
    "\n",
    "GenJeT_Mass.append(temp1) \n",
    "\n",
    "for _w in range(len(m_W_Tight_ev)):\n",
    "    if (m_W_Tight_ev[_w][0]==count2):\n",
    "        temp2.append(m_W_Tight_ev[_w][1])\n",
    "    else:\n",
    "        Tight_Mass.append(temp2)\n",
    "        temp2=[]\n",
    "        temp2.append(m_W_Tight_ev[_w][1])\n",
    "        count2=count2+1  \n",
    "\n",
    "Tight_Mass.append(temp2) \n",
    "\n",
    "#checking:\n",
    "        \n",
    "print(len(GenJeT_Mass))\n",
    "print(len(Tight_Mass))\n",
    "\n",
    "print(GenJeT_Mass[249])\n",
    "print(temp1)\n",
    "\n",
    "print(Tight_Mass[249])\n",
    "print(temp2)\n"
   ]
  },
  {
   "cell_type": "code",
   "execution_count": 18,
   "id": "4dfcc229",
   "metadata": {
    "scrolled": true
   },
   "outputs": [
    {
     "name": "stdout",
     "output_type": "stream",
     "text": [
      "O número de Bosons W GenJet é: 1182\n",
      "O número de Bosons W Tight é: 532\n"
     ]
    }
   ],
   "source": [
    "print('O número de Bosons W GenJet é:', len(m_W_GenJet))\n",
    "print('O número de Bosons W Tight é:', len(m_W_Tight))"
   ]
  },
  {
   "cell_type": "code",
   "execution_count": 19,
   "id": "b7015d15",
   "metadata": {},
   "outputs": [
    {
     "data": {
      "image/png": "[encoded data removed]",
      "text/plain": [
       "<Figure size 432x288 with 1 Axes>"
      ]
     },
     "metadata": {
      "needs_background": "light"
     },
     "output_type": "display_data"
    }
   ],
   "source": [
    "plt.hist(m_W_GenJet, range=(0,1000),bins=50)\n",
    "plt.ylabel('Número de Bósons W')\n",
    "plt.xlabel('Massa')\n",
    "plt.title(\"$W_{mass}$ com GenJet\")\n",
    "plt.show()"
   ]
  },
  {
   "cell_type": "code",
   "execution_count": 20,
   "id": "e51b18a5",
   "metadata": {
    "scrolled": true
   },
   "outputs": [
    {
     "data": {
      "image/png": "[encoded data removed]",
      "text/plain": [
       "<Figure size 432x288 with 1 Axes>"
      ]
     },
     "metadata": {
      "needs_background": "light"
     },
     "output_type": "display_data"
    }
   ],
   "source": [
    "plt.hist(m_W_GenJet, range=(70,90), bins=10)\n",
    "plt.ylabel('Número de Bósons W')\n",
    "plt.xlabel('Massa')\n",
    "plt.title(\"$W_{mass}$ com GenJet\")\n",
    "plt.show()"
   ]
  },
  {
   "cell_type": "code",
   "execution_count": 21,
   "id": "ea2e6a51",
   "metadata": {},
   "outputs": [
    {
     "data": {
      "image/png": "[encoded data removed]",
      "text/plain": [
       "<Figure size 432x288 with 1 Axes>"
      ]
     },
     "metadata": {
      "needs_background": "light"
     },
     "output_type": "display_data"
    }
   ],
   "source": [
    "plt.hist(m_W_Tight, range=(0,1000), bins=50)\n",
    "plt.ylabel('Número de Bósons W')\n",
    "plt.xlabel('Massa')\n",
    "plt.title(\"$W_{mass}$ com JetPUPPITight\")\n",
    "plt.show()"
   ]
  },
  {
   "cell_type": "code",
   "execution_count": 22,
   "id": "a02bf496",
   "metadata": {
    "scrolled": true
   },
   "outputs": [
    {
     "data": {
      "image/png": "[encoded data removed]",
      "text/plain": [
       "<Figure size 432x288 with 1 Axes>"
      ]
     },
     "metadata": {
      "needs_background": "light"
     },
     "output_type": "display_data"
    }
   ],
   "source": [
    "plt.hist(m_W_Tight, range=(70,90), bins=10)\n",
    "plt.ylabel('Número de Bósons W')\n",
    "plt.xlabel('Massa')\n",
    "plt.title(\"$W_{mass}$ com JetPUPPITight\")\n",
    "plt.show()"
   ]
  },
  {
   "cell_type": "code",
   "execution_count": 23,
   "id": "98a47156",
   "metadata": {
    "scrolled": true
   },
   "outputs": [
    {
     "name": "stdout",
     "output_type": "stream",
     "text": [
      "O número de bósons W_GenJet dentro da janela é: 290\n",
      "O número de bósons W_Tight dentro da janela é: 77\n"
     ]
    }
   ],
   "source": [
    "#Defining a window for the W_mass and the real mass:\n",
    "\n",
    "window=10\n",
    "real_W_mass=80\n",
    "\n",
    "#Storing W inside the window\n",
    "W_GenJet=[]\n",
    "W_Tight=[]\n",
    "\n",
    "#Counting how many W from GenJet are inside the window:\n",
    "for i in range(len(m_W_GenJet)):\n",
    "    if m_W_GenJet[i]<=real_W_mass+window and m_W_GenJet[i]>=real_W_mass-window:\n",
    "        W_GenJet.append(m_W_GenJet[i])\n",
    "        \n",
    "#Counting how many W from PUPPITight are inside the window:\n",
    "for i in range(len(m_W_Tight)):\n",
    "    if m_W_Tight[i]<=real_W_mass+window and m_W_Tight[i]>=real_W_mass-window:\n",
    "        W_Tight.append(m_W_Tight[i])\n",
    "        \n",
    "print('O número de bósons W_GenJet dentro da janela é:',len(W_GenJet))\n",
    "print('O número de bósons W_Tight dentro da janela é:',len(W_Tight))"
   ]
  },
  {
   "cell_type": "markdown",
   "id": "b5b688ca",
   "metadata": {},
   "source": [
    "# Selecting only protons that pass the PPS acceptance"
   ]
  },
  {
   "cell_type": "code",
   "execution_count": 24,
   "id": "b9009826",
   "metadata": {},
   "outputs": [
    {
     "name": "stdout",
     "output_type": "stream",
     "text": [
      "For xi range of (0.015,0.196) proton pz is in range from 5628.00 to 6897.10 GeV\n",
      "5518.24\n",
      "6905.332\n"
     ]
    }
   ],
   "source": [
    "convert_nanosec=1e9\n",
    "zpos=23400\n",
    "tvertex=40e-12 # time resolution for main vertex:\n",
    "tpps=30e-12 # time resolution for proton in PPS:\n",
    "\n",
    "trP=(convert_nanosec)*tpps\n",
    "trM=(convert_nanosec)*tvertex\n",
    "\n",
    "VertexT_CMS=(convert_nanosec)*tree['Vertex.T'].array() # converted to nanosec\n",
    "\n",
    "GenJet_Vz=tree['Vertex.Z'].array()\n",
    "GenJet_VT=VertexT_CMS+np.random.normal(0,trM,len(VertexT_CMS)) \n",
    " \n",
    "JetPUPPITight_Vz=tree['Vertex.Z'].array() \n",
    "JetPUPPITight_VT=VertexT_CMS+np.random.normal(0,trM,len(VertexT_CMS)) \n",
    "\n",
    "# single beam energy:\n",
    "ebeam=7000.\n",
    "# collision energy:\n",
    "ecms=2*ebeam\n",
    "# xi acceptance from Table 4 on page 40 of https://cds.cern.ch/record/2750358/files/NOTE2020_008.pdf:\n",
    "_mode='vertical'\n",
    "xi_min = 0.0147 # using the 234m station\n",
    "xi_max = 0.196 # using the 196m station\n",
    "pz_min = (1-xi_max)*ebeam\n",
    "pz_max = (1-xi_min)*ebeam\n",
    "# print limiting xi and pz:\n",
    "pz_min1 =(1-1.08*xi_max)*ebeam\n",
    "pz_max1 =(1-0.92*xi_min)*ebeam\n",
    "print('For xi range of (%2.3f,%2.3f) proton pz is in range from %2.2f to %2.2f GeV'%(xi_min,xi_max,pz_min,pz_max))\n",
    "print(pz_min1)\n",
    "print(pz_max1)"
   ]
  },
  {
   "cell_type": "code",
   "execution_count": 25,
   "id": "ddf978b6",
   "metadata": {},
   "outputs": [
    {
     "name": "stdout",
     "output_type": "stream",
     "text": [
      "The total number of events is: 250\n"
     ]
    }
   ],
   "source": [
    "protons = tree.arrays(['GenProton.Pz','GenProton.Z','GenProton.IsPU','GenProton.T'],  cut=\"(abs(GenProton.Pz)>%g) & (abs(GenProton.Pz)<%g)\"%(pz_min,pz_max))\n",
    "print('The total number of events is:', len(protons))"
   ]
  },
  {
   "cell_type": "code",
   "execution_count": 26,
   "id": "7c8c666a",
   "metadata": {},
   "outputs": [],
   "source": [
    "# setting initial vars:\n",
    "N_Protons=np.zeros(len(protons)).astype(int) # number of protons in each event that pass the PPS criteria\n",
    "GenProton_pz=protons['GenProton.Pz']\n",
    "GenProton_vz=protons['GenProton.Z']\n",
    "GenProton_ispu=protons['GenProton.IsPU']\n",
    "GenProton_t=(convert_nanosec)*protons['GenProton.T'] # convert timing to nanosec\n",
    "\n",
    "# setting vars for elements passing criteria of pz_min and pz_max of protons:\n",
    "PassPz_Proton_pz=[]\n",
    "PassPz_Proton_vz=[]\n",
    "PassPz_Proton_ispu=[]\n",
    "PassPz_Proton_t=[]\n",
    "PassPz_Proton_tsmeared=[]\n",
    "PassPz_Proton_xi=[]\n",
    "PassPz_Proton_PU=[]\n",
    "\n",
    "# store sign of proton:\n",
    "sig=[]"
   ]
  },
  {
   "cell_type": "code",
   "execution_count": 27,
   "id": "2a4c9415",
   "metadata": {},
   "outputs": [
    {
     "name": "stderr",
     "output_type": "stream",
     "text": [
      "100%|██████████| 250/250 [00:01<00:00, 142.71it/s]\n"
     ]
    }
   ],
   "source": [
    "# loop over events in GenProton_pz branch:\n",
    "for i in tqdm(range(len(GenProton_pz))):\n",
    "    _pz=GenProton_pz[i]\n",
    "    _xi=1-np.abs(_pz)/ebeam\n",
    "    # smear with 2% uncertainty:\n",
    "    _uncert=0.02\n",
    "    _xi_smear=_xi*(1+np.random.normal(0,_uncert,len(_xi)))\n",
    "    _pz_smear=ebeam*(1-_xi_smear)\n",
    "    _t=np.zeros(len(_pz))\n",
    "    \n",
    "    # converting light speed from m/s to cm/ns:\n",
    "    convert_m_to_cm=1e2\n",
    "    c=3e8 # why not 299 792 458 m/s ?\n",
    "    lightspeed=c*convert_m_to_cm/convert_nanosec\n",
    "    \n",
    "    # loop over proton pz and store timing:\n",
    "    for k in range(len(_pz)):\n",
    "        if _pz[k]>0:\n",
    "            _t[k]=(GenProton_t[i][k]+(zpos-GenProton_vz[i][k])/lightspeed)\n",
    "        else: \n",
    "            _t[k]=(GenProton_t[i][k]+(zpos+GenProton_vz[i][k])/lightspeed)\n",
    "\n",
    "    # smear timing around PPS resolution:\n",
    "    _tsmear=_t+np.random.normal(0,trP,len(_t))\n",
    "    \n",
    "    # a counter for protons:\n",
    "    _Npr=0\n",
    "\n",
    "    # PassPz :: loop over proton pz and store passing events within smearing:\n",
    "    # [i] == event\n",
    "    # [k] == proton in event\n",
    "    for k in range(len(_pz)):\n",
    "        if (abs(_pz_smear[k])>pz_min) and (abs(_pz_smear[k])<pz_max):\n",
    "            sig.append(np.sign(_pz[k])) #Storing the Pz sign of each proton\n",
    "            PassPz_Proton_pz.append(_pz_smear[k])\n",
    "            PassPz_Proton_xi.append(_xi_smear[k])\n",
    "            PassPz_Proton_vz.append(GenProton_vz[i][k])\n",
    "            PassPz_Proton_PU.append(GenProton_ispu[i][k])\n",
    "            PassPz_Proton_t.append(_t[k])\n",
    "            PassPz_Proton_tsmeared.append(_tsmear[k])\n",
    "            _Npr=_Npr+1\n",
    "    \n",
    "    # count number of protons passing PPS criteria after the smearing\n",
    "    N_Protons[i]=_Npr"
   ]
  },
  {
   "cell_type": "markdown",
   "id": "8b61ccc3",
   "metadata": {},
   "source": [
    "Checking how many protons pass the PPS criteria:"
   ]
  },
  {
   "cell_type": "code",
   "execution_count": 28,
   "id": "f06d3156",
   "metadata": {
    "scrolled": true
   },
   "outputs": [
    {
     "name": "stdout",
     "output_type": "stream",
     "text": [
      "The total number of protons that passed the criteria is 2587\n"
     ]
    },
    {
     "data": {
      "text/plain": [
       "(array([ 2.,  3., 18., 22., 53., 70., 25., 36., 11.,  9.]),\n",
       " array([ 1. ,  2.7,  4.4,  6.1,  7.8,  9.5, 11.2, 12.9, 14.6, 16.3, 18. ]),\n",
       " <BarContainer object of 10 artists>)"
      ]
     },
     "execution_count": 28,
     "metadata": {},
     "output_type": "execute_result"
    },
    {
     "data": {
      "image/png": "[encoded data removed]",
      "text/plain": [
       "<Figure size 432x288 with 1 Axes>"
      ]
     },
     "metadata": {
      "needs_background": "light"
     },
     "output_type": "display_data"
    }
   ],
   "source": [
    "print('The total number of protons that passed the criteria is', np.sum(N_Protons))\n",
    "plt.hist(N_Protons, bins=10, range=(1,18))\n",
    "#for i in range(len(N_Protons)):\n",
    " #   print(N_Protons[i])"
   ]
  },
  {
   "cell_type": "markdown",
   "id": "c2bb390a",
   "metadata": {},
   "source": [
    "Sorting Protons by Direction"
   ]
  },
  {
   "cell_type": "code",
   "execution_count": 29,
   "id": "14ceea18",
   "metadata": {},
   "outputs": [
    {
     "name": "stderr",
     "output_type": "stream",
     "text": [
      "250it [00:00, 76723.20it/s]\n"
     ]
    }
   ],
   "source": [
    "# prep store for proton sign and pairs:\n",
    "ProtonsNeg = np.zeros(n_events)\n",
    "ProtonsPos = np.zeros(n_events)\n",
    "N_Pairs = np.zeros(n_events) # possible combinations for 2 protons on both sectors\n",
    "###nprot = np.zeros(n_events) # can be removed?\n",
    "\n",
    "# simple counter:\n",
    "_count=0\n",
    "\n",
    "# loop over protons that passed the PassPz criteria:\n",
    "# ev == event (first index)\n",
    "# nprotons == secondary index to loop over protons in event (ev)\n",
    "for ev,_nprotons in tqdm(enumerate(N_Protons)):\n",
    "    # check sign:\n",
    "    for i in range(_nprotons):\n",
    "        if (sig[_count+i]>0):\n",
    "            ProtonsPos[ev] = ProtonsPos[ev]+1\n",
    "        else:\n",
    "            ProtonsNeg[ev] = ProtonsNeg[ev]+1\n",
    "        N_Pairs = ProtonsPos*ProtonsNeg\n",
    "    _count = _count + _nprotons"
   ]
  },
  {
   "cell_type": "markdown",
   "id": "d90047ab",
   "metadata": {},
   "source": [
    "# New W distribution after PPS cut: "
   ]
  },
  {
   "cell_type": "code",
   "execution_count": 30,
   "id": "0fa7ce99",
   "metadata": {},
   "outputs": [
    {
     "name": "stdout",
     "output_type": "stream",
     "text": [
      "[590, 652, 576, 561, 546, 622, 542, 625, ... 566, 554, 503, 580, 585, 560, 547, 687]\n",
      "250\n"
     ]
    }
   ],
   "source": [
    "GenProtons=tree['GenProton'].array()\n",
    "print(GenProtons)\n",
    "print(len(GenProtons))"
   ]
  },
  {
   "cell_type": "code",
   "execution_count": 31,
   "id": "4be7fbea",
   "metadata": {},
   "outputs": [
    {
     "name": "stdout",
     "output_type": "stream",
     "text": [
      "[ 4.  4.  3.  3.  0.  5.  3.  3.  5.  4.  7.  8.  4.  6.  5.  8.  3.  7.\n",
      "  7.  6.  7.  4.  5.  6.  9.  1.  8.  5.  9.  3.  3.  5.  9.  5.  9.  7.\n",
      "  4.  3.  3.  7.  6.  6.  3.  8.  4.  1.  5.  7.  8.  7.  6.  6.  5.  6.\n",
      "  3.  4.  8.  7.  3.  3.  5.  5.  4.  5.  8.  5.  4.  4.  4.  4.  5.  7.\n",
      "  3.  8.  4.  3.  5.  6.  5.  3.  5.  4.  6.  6.  4.  6.  5.  3.  2.  6.\n",
      "  8.  5.  6.  2.  6.  8.  5.  3.  4.  8.  7.  3.  3.  7.  4.  5.  9.  6.\n",
      "  8.  9. 11.  5.  9.  4.  7.  5.  8.  7.  4.  3.  7.  7.  7.  5.  6.  5.\n",
      "  7.  1.  4.  4.  6.  7.  5.  5.  4.  2.  2.  7.  5.  9.  9.  2.  5.  7.\n",
      "  8.  2.  9.  3.  6.  4.  5.  9.  3.  4.  2.  7.  4.  2.  4.  9.  3.  3.\n",
      "  4.  4.  5.  3.  3.  3.  7.  2.  4.  4.  7.  2.  5.  7.  8.  7.  8.  8.\n",
      "  8.  5.  3.  5.  5. 11.  4.  4.  7.  3.  4.  4.  5.  6.  5.  6.  4.  3.\n",
      "  2.  3.  7.  6.  5.  8.  5.  7.  8.  7.  3.  8.  3.  6.  3.  4.  9.  5.\n",
      "  6.  8.  7.  4.  3.  7.  3.  5.  2.  3.  4.  5.  7.  1.  4.  1.  5.  6.\n",
      "  3.  8.  6. 10.  6.  5.  4.  6.  7.  7.  3.  6.  4.  6.  5.  8.]\n"
     ]
    }
   ],
   "source": [
    "print(ProtonsPos)"
   ]
  },
  {
   "cell_type": "code",
   "execution_count": 32,
   "id": "96610996",
   "metadata": {
    "scrolled": false
   },
   "outputs": [
    {
     "name": "stdout",
     "output_type": "stream",
     "text": [
      "[ 8.  7.  7.  7.  1.  8.  4.  6.  5.  8.  5.  6. 12.  6.  5.  3.  4.  2.\n",
      "  6.  5.  5.  9.  3.  5.  7.  7.  4.  4. 10.  9.  5.  4.  9.  6.  4.  4.\n",
      "  1.  4.  6.  7.  3.  4.  1.  6.  7.  3.  4.  4.  6.  4.  7.  6.  3. 10.\n",
      "  4.  7.  4.  4.  4.  7.  6.  7.  1.  6.  9.  4.  7.  6.  3.  8.  2.  2.\n",
      "  4.  9.  6.  6.  3.  8.  7.  4.  2.  5. 11.  6.  5.  4.  5. 11.  3.  3.\n",
      "  6.  6.  3.  4.  4.  5.  5.  6.  1.  5.  9.  7.  4.  5.  6.  5.  9.  2.\n",
      "  5.  7.  5.  5.  4.  3.  4.  1.  6.  4.  4.  3.  4.  7.  6.  3.  7.  8.\n",
      "  5.  1.  4. 12.  4.  7.  5.  4.  5.  6.  7.  7.  3.  2.  4.  5.  3.  4.\n",
      "  4.  8.  5.  8.  5.  8.  5.  8.  6.  5.  3.  5.  4.  2.  2.  3.  4.  6.\n",
      "  7.  9.  6.  6.  7.  5.  6.  3.  3.  7.  3.  5.  7. 11.  3.  3.  6.  5.\n",
      "  9.  3.  6.  4.  6.  6.  1.  6.  3.  4.  4.  6.  6.  9.  7.  5.  7.  4.\n",
      "  4.  7.  3.  2.  9.  3.  3.  8.  4.  2.  3.  6.  5.  4.  7.  6.  5.  6.\n",
      "  5.  7.  8.  2.  5.  5.  6.  4.  8.  7.  4.  6.  5.  4.  4.  4.  2.  8.\n",
      "  6.  5.  1.  3.  6.  4.  1.  5.  2.  3.  4.  2.  1.  1.  5.  5.]\n"
     ]
    }
   ],
   "source": [
    "print(ProtonsNeg)"
   ]
  },
  {
   "cell_type": "markdown",
   "id": "c3ce8ee4",
   "metadata": {},
   "source": [
    "Building the TLorentzVector for each Jet pair (J1,J2) and storing their kinematics variables:"
   ]
  },
  {
   "cell_type": "code",
   "execution_count": 95,
   "id": "1e06ff93",
   "metadata": {},
   "outputs": [],
   "source": [
    "AllPairs_Mass=[]\n",
    "AllPairs_Sum=[]\n",
    "\n",
    "Tight_Pairs_PT=[]\n",
    "Tight_Pairs_Eta=[]\n",
    "Tight_Pairs_Phi=[]\n",
    "Tight_Pairs_Mass=[]\n",
    "\n",
    "GenJet_Pairs_PT=[]\n",
    "GenJet_Pairs_Eta=[]\n",
    "GenJet_Pairs_Phi=[]\n",
    "GenJet_Pairs_Mass=[]\n",
    "\n",
    "J1 = TLorentzVector()\n",
    "J2 = TLorentzVector()\n",
    "\n",
    "m_W_GenJet=[]\n",
    "    \n",
    "\n",
    "W_GenJet=[]\n",
    "W_Tight=[]\n",
    "\n",
    "_pairs_PT=[]\n",
    "_pairs_Eta=[]\n",
    "_pairs_Phi=[]\n",
    "_pairs_Mass=[]\n",
    "\n",
    "_items_PT=[]\n",
    "_items_Eta=[]\n",
    "_items_Phi=[]\n",
    "_items_Mass=[]\n",
    "\n",
    "n_pairs_GenJet=0\n",
    "n_pairs_Tight=0\n",
    "_ev=0\n",
    "_pair=0\n",
    "\n",
    "PT_W_Tight=[]\n",
    "Eta_W_Tight=[]\n",
    "Phi_W_Tight=[]\n",
    "m_W_Tight=[] \n",
    "Energy_Tight=[]\n",
    "\n",
    "#GenJet\n",
    "c=0\n",
    "for _ev in range(len(GenJet)):\n",
    "        \n",
    "    #PT\n",
    "    _items_PT = GenJet_PT[_ev]\n",
    "    _pairs_PT=[(_ev,_items_PT[i],_items_PT[j]) for i in range(len(_items_PT)) for j in range(i+1, len(_items_PT))]\n",
    "    GenJet_Pairs_PT.append(_pairs_PT)\n",
    "        \n",
    "    #Eta\n",
    "    _items_Eta = GenJet_Eta[_ev]\n",
    "    _pairs_Eta=[(_ev,_items_Eta[i],_items_Eta[j]) for i in range(len(_items_Eta)) for j in range(i+1, len(_items_Eta))]\n",
    "    GenJet_Pairs_Eta.append(_pairs_Eta)\n",
    "\n",
    "    #Phi\n",
    "    _items_Phi = GenJet_Phi[_ev]\n",
    "    _pairs_Phi=[(_ev,_items_Phi[i],_items_Phi[j]) for i in range(len(_items_Phi)) for j in range(i+1, len(_items_Phi))]\n",
    "    GenJet_Pairs_Phi.append(_pairs_Phi)\n",
    "\n",
    "    #Mass\n",
    "    _items_Mass = GenJet_Mass[_ev]\n",
    "    _pairs_Mass=[(_ev,_items_Mass[i],_items_Mass[j]) for i in range(len(_items_Mass)) for j in range(i+1, len(_items_Mass))]\n",
    "    GenJet_Pairs_Mass.append(_pairs_Mass)\n",
    "\n",
    "    n_pairs_GenJet=n_pairs_GenJet+len(GenJet_Pairs_PT[_ev])\n",
    "\n",
    "    if (ProtonsPos[_ev]!=0) and (ProtonsNeg[_ev]!=0):\n",
    "        \n",
    "        for _pair in range(len(GenJet_Pairs_Mass[_ev])):\n",
    "\n",
    "            J1.SetPtEtaPhiM(GenJet_Pairs_PT[_ev][_pair][1],GenJet_Pairs_Eta[_ev][_pair][1],GenJet_Pairs_Phi[_ev][_pair][1],GenJet_Pairs_Mass[_ev][_pair][1])\n",
    "            J2.SetPtEtaPhiM(GenJet_Pairs_PT[_ev][_pair][2],GenJet_Pairs_Eta[_ev][_pair][2],GenJet_Pairs_Phi[_ev][_pair][2],GenJet_Pairs_Mass[_ev][_pair][2])\n",
    "\n",
    "            m_W_GenJet.append((J1+J2).M())\n",
    "\n",
    "\n",
    "#JetPUPPITight:\n",
    "_ev=0\n",
    "for _ev in range(len(JetPUPPITight)):\n",
    "    \n",
    "    #PT\n",
    "    _items_PT = JetPUPPITight_PT[_ev]\n",
    "    _pairs_PT=[(_ev,_items_PT[i],_items_PT[j]) for i in range(len(_items_PT)) for j in range(i+1, len(_items_PT))]\n",
    "    Tight_Pairs_PT.append(_pairs_PT)\n",
    "\n",
    "    #Eta\n",
    "    _items_Eta = JetPUPPITight_Eta[_ev]\n",
    "    _pairs_Eta=[(_ev,_items_Eta[i],_items_Eta[j]) for i in range(len(_items_Eta)) for j in range(i+1, len(_items_Eta))]\n",
    "    Tight_Pairs_Eta.append(_pairs_Eta)\n",
    "\n",
    "    #Phi\n",
    "    _items_Phi = JetPUPPITight_Phi[_ev]\n",
    "    _pairs_Phi=[(_ev,_items_Phi[i],_items_Phi[j]) for i in range(len(_items_Phi)) for j in range(i+1, len(_items_Phi))]\n",
    "    Tight_Pairs_Phi.append(_pairs_Phi)\n",
    "\n",
    "    #Mass\n",
    "    _items_Mass = JetPUPPITight_Mass[_ev]\n",
    "    _pairs_Mass=[(_ev,_items_Mass[i],_items_Mass[j]) for i in range(len(_items_Mass)) for j in range(i+1, len(_items_Mass))]\n",
    "    Tight_Pairs_Mass.append(_pairs_Mass)\n",
    "\n",
    "    n_pairs_Tight=n_pairs_Tight+len(Tight_Pairs_PT[_ev])\n",
    "\n",
    "    if (ProtonsPos[_ev]!=0) and (ProtonsNeg[_ev]!=0):\n",
    "            \n",
    "        for _pair in range(len(Tight_Pairs_Mass[_ev])):\n",
    "\n",
    "            J1.SetPtEtaPhiM(Tight_Pairs_PT[_ev][_pair][1],Tight_Pairs_Eta[_ev][_pair][1],Tight_Pairs_Phi[_ev][_pair][1],Tight_Pairs_Mass[_ev][_pair][1])\n",
    "            J2.SetPtEtaPhiM(Tight_Pairs_PT[_ev][_pair][2],Tight_Pairs_Eta[_ev][_pair][2],Tight_Pairs_Phi[_ev][_pair][2],Tight_Pairs_Mass[_ev][_pair][2])\n",
    "            \n",
    "            PT_W_Tight.append([_ev,(J1+J2).Pt()])\n",
    "            Eta_W_Tight.append([_ev,(J1+J2).Eta()])\n",
    "            Phi_W_Tight.append([_ev,(J1+J2).Phi()])\n",
    "            m_W_Tight.append([_ev,(J1+J2).M()])\n",
    "            Energy_Tight.append([_ev,(J1+J2).E()])\n",
    "            \n",
    "    else:\n",
    "        \n",
    "        PT_W_Tight.append([_ev,-1])\n",
    "        Eta_W_Tight.append([_ev,-1])\n",
    "        Phi_W_Tight.append([_ev,-1])\n",
    "        m_W_Tight.append([_ev,-1])\n",
    "        Energy_Tight.append([_ev,-1])\n",
    "        "
   ]
  },
  {
   "cell_type": "markdown",
   "id": "51b792e4",
   "metadata": {},
   "source": [
    "Organizing for each event:"
   ]
  },
  {
   "cell_type": "code",
   "execution_count": 97,
   "id": "0196952a",
   "metadata": {
    "scrolled": true
   },
   "outputs": [
    {
     "name": "stdout",
     "output_type": "stream",
     "text": [
      "250\n",
      "250\n",
      "250\n",
      "250\n",
      "250\n"
     ]
    }
   ],
   "source": [
    "#organizing for each event:\n",
    "\n",
    "count=0\n",
    "\n",
    "Tight_PT=[]  ; temp_PT=[]\n",
    "Tight_Eta=[] ; temp_Eta=[]\n",
    "Tight_Phi=[] ; temp_Phi=[]\n",
    "Tight_Mass=[]; temp_Mass=[]\n",
    "Tight_E=[] ; temp_E=[]\n",
    "\n",
    "for _w in range(len(m_W_Tight)):\n",
    "    if (m_W_Tight[_w][0]==count):\n",
    "        temp_PT.append(PT_W_Tight[_w][1])\n",
    "        temp_Eta.append(Eta_W_Tight[_w][1])\n",
    "        temp_Phi.append(Phi_W_Tight[_w][1])\n",
    "        temp_Mass.append(m_W_Tight[_w][1])\n",
    "        temp_E.append(Energy_Tight[_w][1])\n",
    "        \n",
    "    else:\n",
    "        Tight_PT.append(temp_PT)\n",
    "        Tight_Eta.append(temp_Eta)\n",
    "        Tight_Phi.append(temp_Phi)\n",
    "        Tight_Mass.append(temp_Mass)\n",
    "        Tight_E.append(temp_E)\n",
    "        \n",
    "        temp_PT=[]\n",
    "        temp_Eta=[]\n",
    "        temp_Phi=[]\n",
    "        temp_Mass=[]\n",
    "        temp_E=[]\n",
    "        \n",
    "        temp_PT.append(PT_W_Tight[_w][1])\n",
    "        temp_Eta.append(Eta_W_Tight[_w][1])\n",
    "        temp_Phi.append(Phi_W_Tight[_w][1])\n",
    "        temp_Mass.append(m_W_Tight[_w][1])\n",
    "        temp_E.append(Energy_Tight[_w][1])\n",
    "        \n",
    "        count=count+1  \n",
    "\n",
    "Tight_PT.append(temp_PT)\n",
    "Tight_Eta.append(temp_Eta)\n",
    "Tight_Phi.append(temp_Phi)\n",
    "Tight_Mass.append(temp_Mass)\n",
    "Tight_E.append(temp_E)\n",
    "\n",
    "print(len(Tight_PT))\n",
    "print(len(Tight_Eta))\n",
    "print(len(Tight_Phi))\n",
    "print(len(Tight_Mass))\n",
    "print(len(Tight_E))\n",
    "\n"
   ]
  },
  {
   "cell_type": "code",
   "execution_count": 99,
   "id": "1402ca79",
   "metadata": {},
   "outputs": [
    {
     "name": "stdout",
     "output_type": "stream",
     "text": [
      "[[772.2759149066326, 514.242172507178, 46.725597642009355], [83.25854331247328, 232.1101768294969, 150.27285687625016], [123.21201546250958], [148.8612837620755, 114.18365265809584, 38.6311063468317], [-1], [136.49244842618583], [87.2039719587848], [178.32119027039195, 206.75170969951594, 49.323293629638265], [307.8297625583376, 896.9889810139874, 289.6289853414648], [311.1948565894169, 202.82374337965084, 62.92510878956603], [430.08465783666867, 400.6374559518049, 98.17282353359337], [195.6337490150361, 65.88217487679654, 89.51590132494678], [407.21368046765417], [368.0952757930179, 101.55751882771933, 298.16143917114016, 235.20701386248766, 84.2821863756644, 209.58968965662763], [64.84924866303525], [451.803378677227, 103.38344291283389, 728.5215108040713, 242.67100961807824, 79.67260665239803, 406.5762805236451], [265.861451298622, 87.35094083287721, 173.58341721073646], [824.0981080233206, 555.0719982462527, 86.77483862264417, 82.93779338078342, 516.5154725662235, 346.8317687501155], [165.34360621678175], [405.44597803382146, 97.6912464663117], [244.92010809603852, 91.98876662791483, 70.90026865585074], [231.82206468069876, 77.00857454032766, 220.25880794716437, 57.21509229502656, 475.368924164701, 109.76392462137797], [75.04305091030595], [308.9871933422071], [156.62743843431733], [212.80869129311432, 84.82625909453472], [85.80434860204564], [53.72962467444968], [154.54774963471007], [190.7573479373536], [164.04626458355045], [68.97199140162719], [43.60138842192767], [91.18723361077916], [264.02382371957435], [280.55291131941533, 54.90517876734362], [356.9801209467621, 87.82337883337252, 179.40652186768943], [278.3070606616459, 148.14672514069855, 75.90400203335565], [92.87006108063714], [118.6677722737112], [40.6062585078492, 53.87200528053848], [650.2545941437253, 72.19345693527258, 241.86692213444044], [106.81473991578967, 83.05223302236998, 90.20567504082231, 26.978317580429472, 52.196845060877486, 60.13151774984506], [50.65532963964947], [409.8009336013735, 220.25105279187048, 63.11902502296651], [275.8473051446131], [279.9413486897379, 365.48393437233557, 41.65725193751704], [106.0897912180596], [41.11399269156672], [47.097319791867804], [266.9057113765286, 66.78746080206425, 86.00526752469379], [1873.534436298057], [75.99947588662016], [134.70745632536918], [330.87067932138905], [82.50392448917144, 411.34150074722015, 69.04891648401647, 260.6353876385963], [429.5615163947011, 472.27755649393373, 54.92948407458205], [221.02674712226923], [214.74603783510042], [79.75391395622889], [377.3956588628927, 695.616139851409, 140.20218324532829, 49.55550114582186, 173.63611621580887, 63.37352357823119, 126.84618371778502, 129.12819678588718, 233.95661363400126, 39.87053696327931], [282.3735689101506], [169.57446102321205, 153.37701813932918, 54.83549084782768], [84.38327513901235, 80.49562810158102, 55.88193402064642], [485.5050193750493, 319.96896841338935, 58.65984580531175], [90.15936086026029], [95.65874593379992], [203.89072163095582, 139.63067094818697, 79.47687918218674], [151.00884764494387], [83.90919429195161, 88.26404719777176, 69.29506811007916, 67.10588823957374, 66.62554685557292], [179.26746974164823, 275.45768441730877, 75.20330690177731, 266.82892082242495, 81.44184203336468, 204.35391091022672, 907.1789645506365, 291.2084918311792, 1372.6192362726774, 202.61477090884551], [759.2762755042322, 92.11599127139097, 294.5122038824984], [58.336774721682104], [147.02225736147366, 192.24444212824054, 50.52298699672993], [149.81778494336444], [142.31559025857098, 57.41679955901283], [69.81627043111064], [66.88856281680947, 31.721887411502784], [89.89105175200778, 59.10914953162855, 86.52683319146115], [182.88820955246155, 146.3234620546931, 75.16468566787889], [580.1572657011272], [223.7612207984329], [114.63335735881299, 61.456626845699354], [232.3474895222813], [76.6938023811535, 85.16760292898009], [100.42005244365126], [484.6661994410133, 188.4450500691864, 101.94859588807665], [134.6313298802626], [131.53518651397295], [71.43864075568575], [1087.285559711144, 670.6979815732171, 74.29208501416015], [103.36500650524718], [301.2136310211604], [454.45936222426764], [79.30888818965813], [67.07165830312206], [225.59000344072481], [933.7887514452991], [1049.3372623967484], [75.09642602116176], [310.90832770539913, 361.3094766842367, 37.33111915325041], [139.30435085533855, 150.1179343039758, 56.09185723298301], [233.78081934539438, 84.18369024471312, 76.46737476946875], [64.92931754860075, 122.78265378977373, 51.426013350141545], [51.559095243600716], [488.45681056113835], [300.6398224630975, 47.61715289610445], [204.79523314270708, 197.2390540776504, 69.69553630852366, 70.86194446403734, 66.16153663910305, 70.91725234307602], [296.81473700003295], [65.23809473304604], [115.28912122221764], [63.696211497517915, 107.64542498916938, 88.70352698371778, 51.84367096001501, 55.4215715497669], [160.2543873882812, 137.97608216077788, 112.94768341060684, 92.82308388381084, 40.88199627080573, 20.87407558280596, 18.788570263987143, 21.015706566087623, 35.05841483975879, 19.066844758196137], [179.55759783160167], [78.60162756179666, 226.97786054776245, 127.2708141424604], [275.02717151969443], [52.007253178780324, 225.51742840031187], [181.9151571934852], [72.1768696759694], [156.28960148333917, 75.00612849410338], [161.7857854102355, 92.12326167035378, 117.92125401368283, 126.15769881339607, 70.14764175399789, 99.98190037477663], [519.5271165392969], [65.43845494334734, 52.568234025639136, 37.90672065598862], [716.8279073942593, 131.74788769216462, 412.5734971545584], [265.4609949678709], [171.00939643745036, 154.2672451044439, 99.17991883094778, 68.95250386574197, 59.01603979577625, 55.377443682707735], [358.33291920839685, 290.65854719381144, 657.8443584275313, 83.93573049236889, 1421.8798555768465, 1257.0757626046548], [71.30425588293151], [84.03084962546863], [324.46415825677843], [471.96497921531886, 87.39877300568436], [387.7060275242167], [84.13785895802108], [185.96962456819128], [72.33564461151626, 136.8753008310408, 114.09186105056516], [107.51595512532865], [296.8312885657398], [69.01058333087404], [439.2407126147652], [38.63820744083873], [185.19311125208782, 203.58790637276124, 57.15384724030784, 89.651680708216], [351.26449676616346, 314.7382005195762, 68.99919167592026], [305.24943972799497], [167.59724319109506], [376.6560995631775], [562.2851182622336], [84.58287489491212], [300.3795819762423], [215.39798141062911], [165.7417723823446], [58.743991707371634], [69.6690970291854], [168.3363965827865, 115.30363919570024], [768.6381726074054], [295.77386246296436], [72.79438051531291], [62.61997987031233, 205.59908360659702, 73.49744490205804], [258.56907535581985], [183.79589228318363, 83.04904975560292, 128.81752215988558], [294.4303493468413], [152.71171938493342, 163.02425534533734, 53.54211312701046], [79.5791379277728], [207.5095809422799], [239.8359185146676, 66.16376518780257], [87.19920613740062], [220.62852913807714, 168.51866434870783, 65.89929938035392], [52.20278094435789], [166.94247761436245], [79.04766973614748], [138.78656126561162], [434.7067894943836], [343.6887093943263, 71.92527534639606], [88.68133687490459, 98.50722960155603, 45.642344067646434], [110.23383147229691], [604.5805961346817], [313.68319076986853], [96.48216907188605, 490.5198542950015, 208.5501660462321, 156.18087430205026, 106.44970326398575, 50.116108173442846, 219.36398662677604, 90.6092388776083, 73.8227040050631], [274.903042601313, 335.64738959723775, 57.52906656318123], [47.73853928537587], [158.25448180719386], [78.99194410824033], [103.01722476312837], [423.90074447151636], [308.82342411251386], [325.4307468254934], [344.0232224160038], [245.50892104268408, 139.9547884624221, 60.203040054129595], [221.90613359351173], [285.6708401037387, 94.33147406545412], [146.38826507032826, 284.8802329074808, 90.50547951500896], [65.68986348241731], [383.8468823824622, 436.2627542422001, 529.5370751916012, 784.8182899497752, 75.51288718011003, 76.27998722883368, 1187.0614886464627, 248.61399191290224, 146.40519563320692, 1438.3836759268052, 138.91365544901345, 156.72886248535653, 2755.518408385182, 338.7364197080111, 277.60376792029825], [174.98169956419858, 166.44730762788296, 82.48801088838042], [87.99150249624229], [121.6991850035939, 117.8862928419867, 50.24110074670662], [380.9674475592839, 232.66776819425363, 64.3336706157914], [321.4324181357734, 73.98258926267823, 104.71331057752046], [610.8161142003192], [762.1387655994755, 54.763657135348, 57.02062187661718, 311.15794495491605, 387.59389542906723], [482.24856782224373, 463.98896458748766, 57.940234862233204], [266.8082195405323], [260.9494366696617, 47.24772352177891], [250.7281070099796], [710.1704252193625, 608.3535617252169, 126.54182784627574, 69.41909721573377, 346.8058950451255, 287.72435613899404], [137.90608730077136], [204.74448941760124], [116.45336089655854], [109.68376690994039, 109.14471042791509, 219.93376169855233, 132.86269385066026, 135.03618415618752, 378.4955118619258], [292.9571883756059], [94.10721421873278, 180.9277134465006, 149.8041043064576], [124.3085675270658, 48.42615410457107, 66.49118933960058], [279.3636936882025, 63.077435685013775, 401.4865652035551, 124.67454071770823, 72.93081463294618, 174.97113655369003], [143.7138134212118], [591.498800996118], [133.4113038885097, 659.5961689405939], [191.4774128913676], [345.3822711935564], [441.32542297777206], [80.69494467299573], [153.89783971715198], [194.53099396433043], [170.427709123327, 240.81748136185874, 53.01361655991833], [118.01489338146746, 104.97545922050757, 101.3201910757168, 27.328462575833843, 49.55764709320604, 24.25231675617429], [131.82572205080717, 82.91612891703961, 96.58902705899114, 264.2371350499659, 313.9701634071054, 44.506121599113364], [372.44342450429895], [127.45618927049672], [77.30048344296272, 145.51420895528548], [264.9074058377114], [780.0521408355901, 439.61133097921015, 114.43499622034295], [278.33514697956656, 103.2880562950883, 95.81361829906324, 94.44928476624396, 106.06795320526408, 66.94260265375492], [728.3704114047862, 317.7001445828805, 56.03775683855472, 56.12982936347491, 282.88818403487346, 127.59211312495967], [167.12440440775697, 77.45626310234077, 154.06663155806135], [85.9105095232794], [65.48911610652686], [449.14351514827734, 74.8705607689607, 282.8297111670477, 481.6253486279294, 972.892575088489, 179.6947248975961], [238.372602339935], [220.2296245013721], [201.65628981594938], [715.7216162221338], [92.8643789025907], [83.53690644875142], [305.5739499469491], [1130.3416515231472], [674.2243030110836], [69.92107868607607], [810.5336101486351], [205.03200051033832], [536.0190479121397], [551.2155300270034], [37.474200271485635, 63.025741528237376, 352.4946728177201, 365.24377834147754]]\n"
     ]
    }
   ],
   "source": [
    "print(Tight_Mass)"
   ]
  },
  {
   "cell_type": "code",
   "execution_count": 50,
   "id": "e1b2de75",
   "metadata": {},
   "outputs": [
    {
     "name": "stdout",
     "output_type": "stream",
     "text": [
      "O novo número de Bósons W_GenJet após o PPS é: 1179\n",
      "O novo número de Bósons W_Tight após o PPS é: 532\n"
     ]
    }
   ],
   "source": [
    "print('O novo número de Bósons W_GenJet após o PPS é:', len(m_W_GenJet))\n",
    "print('O novo número de Bósons W_Tight após o PPS é:', len(m_W_Tight))"
   ]
  },
  {
   "cell_type": "code",
   "execution_count": 54,
   "id": "6b1c037a",
   "metadata": {
    "scrolled": true
   },
   "outputs": [
    {
     "name": "stdout",
     "output_type": "stream",
     "text": [
      "532\n",
      "[[0, -1], [0, -1], [0, -1], [1, 83.25854331247328], [1, -1], [1, -1], [2, -1], [3, -1], [3, -1], [3, -1], [4, -1], [5, -1], [6, 87.2039719587848], [7, -1], [7, -1], [7, -1], [8, -1], [8, -1], [8, -1], [9, -1], [9, -1], [9, -1], [10, -1], [10, -1], [10, -1], [11, -1], [11, -1], [11, 89.51590132494678], [12, -1], [13, -1], [13, -1], [13, -1], [13, -1], [13, 84.2821863756644], [13, -1], [14, -1], [15, -1], [15, -1], [15, -1], [15, -1], [15, 79.67260665239803], [15, -1], [16, -1], [16, 87.35094083287721], [16, -1], [17, -1], [17, -1], [17, 86.77483862264417], [17, 82.93779338078342], [17, -1], [17, -1], [18, -1], [19, -1], [19, -1], [20, -1], [20, -1], [20, 70.90026865585074], [21, -1], [21, 77.00857454032766], [21, -1], [21, -1], [21, -1], [21, -1], [22, 75.04305091030595], [23, -1], [24, -1], [25, -1], [25, 84.82625909453472], [26, 85.80434860204564], [27, -1], [28, -1], [29, -1], [30, -1], [31, -1], [32, -1], [33, -1], [34, -1], [35, -1], [35, -1], [36, -1], [36, 87.82337883337252], [36, -1], [37, -1], [37, -1], [37, 75.90400203335565], [38, -1], [39, -1], [40, -1], [40, -1], [41, -1], [41, 72.19345693527258], [41, -1], [42, -1], [42, 83.05223302236998], [42, -1], [42, -1], [42, -1], [42, -1], [43, -1], [44, -1], [44, -1], [44, -1], [45, -1], [46, -1], [46, -1], [46, -1], [47, -1], [48, -1], [49, -1], [50, -1], [50, -1], [50, 86.00526752469379], [51, -1], [52, 75.99947588662016], [53, -1], [54, -1], [55, 82.50392448917144], [55, -1], [55, -1], [55, -1], [56, -1], [56, -1], [56, -1], [57, -1], [58, -1], [59, 79.75391395622889], [60, -1], [60, -1], [60, -1], [60, -1], [60, -1], [60, -1], [60, -1], [60, -1], [60, -1], [60, -1], [61, -1], [62, -1], [62, -1], [62, -1], [63, 84.38327513901235], [63, 80.49562810158102], [63, -1], [64, -1], [64, -1], [64, -1], [65, -1], [66, -1], [67, -1], [67, -1], [67, 79.47687918218674], [68, -1], [69, 83.90919429195161], [69, 88.26404719777176], [69, -1], [69, -1], [69, -1], [70, -1], [70, -1], [70, 75.20330690177731], [70, -1], [70, 81.44184203336468], [70, -1], [70, -1], [70, -1], [70, -1], [70, -1], [71, -1], [71, -1], [71, -1], [72, -1], [73, -1], [73, -1], [73, -1], [74, -1], [75, -1], [75, -1], [76, -1], [77, -1], [77, -1], [78, 89.89105175200778], [78, -1], [78, 86.52683319146115], [79, -1], [79, -1], [79, 75.16468566787889], [80, -1], [81, -1], [82, -1], [82, -1], [83, -1], [84, 76.6938023811535], [84, 85.16760292898009], [85, -1], [86, -1], [86, -1], [86, -1], [87, -1], [88, -1], [89, 71.43864075568575], [90, -1], [90, -1], [90, 74.29208501416015], [91, -1], [92, -1], [93, -1], [94, 79.30888818965813], [95, -1], [96, -1], [97, -1], [98, -1], [99, 75.09642602116176], [100, -1], [100, -1], [100, -1], [101, -1], [101, -1], [101, -1], [102, -1], [102, 84.18369024471312], [102, 76.46737476946875], [103, -1], [103, -1], [103, -1], [104, -1], [105, -1], [106, -1], [106, -1], [107, -1], [107, -1], [107, -1], [107, 70.86194446403734], [107, -1], [107, 70.91725234307602], [108, -1], [109, -1], [110, -1], [111, -1], [111, -1], [111, 88.70352698371778], [111, -1], [111, -1], [112, -1], [112, -1], [112, -1], [112, -1], [112, -1], [112, -1], [112, -1], [112, -1], [112, -1], [112, -1], [113, -1], [114, 78.60162756179666], [114, -1], [114, -1], [115, -1], [116, -1], [116, -1], [117, -1], [118, 72.1768696759694], [119, -1], [119, 75.00612849410338], [120, -1], [120, -1], [120, -1], [120, -1], [120, 70.14764175399789], [120, -1], [121, -1], [122, -1], [122, -1], [122, -1], [123, -1], [123, -1], [123, -1], [124, -1], [125, -1], [125, -1], [125, -1], [125, -1], [125, -1], [125, -1], [126, -1], [126, -1], [126, -1], [126, 83.93573049236889], [126, -1], [126, -1], [127, 71.30425588293151], [128, 84.03084962546863], [129, -1], [130, -1], [130, 87.39877300568436], [131, -1], [132, 84.13785895802108], [133, -1], [134, 72.33564461151626], [134, -1], [134, -1], [135, -1], [136, -1], [137, -1], [138, -1], [139, -1], [140, -1], [140, -1], [140, -1], [140, 89.651680708216], [141, -1], [141, -1], [141, -1], [142, -1], [143, -1], [144, -1], [145, -1], [146, 84.58287489491212], [147, -1], [148, -1], [149, -1], [150, -1], [151, -1], [152, -1], [152, -1], [153, -1], [154, -1], [155, 72.79438051531291], [156, -1], [156, -1], [156, 73.49744490205804], [157, -1], [158, -1], [158, 83.04904975560292], [158, -1], [159, -1], [160, -1], [160, -1], [160, -1], [161, 79.5791379277728], [162, -1], [163, -1], [163, -1], [164, 87.19920613740062], [165, -1], [165, -1], [165, -1], [166, -1], [167, -1], [168, 79.04766973614748], [169, -1], [170, -1], [171, -1], [171, 71.92527534639606], [172, 88.68133687490459], [172, -1], [172, -1], [173, -1], [174, -1], [175, -1], [176, -1], [176, -1], [176, -1], [176, -1], [176, -1], [176, -1], [176, -1], [176, -1], [176, 73.8227040050631], [177, -1], [177, -1], [177, -1], [178, -1], [179, -1], [180, 78.99194410824033], [181, -1], [182, -1], [183, -1], [184, -1], [185, -1], [186, -1], [186, -1], [186, -1], [187, -1], [188, -1], [188, -1], [189, -1], [189, -1], [189, -1], [190, -1], [191, -1], [191, -1], [191, -1], [191, -1], [191, 75.51288718011003], [191, 76.27998722883368], [191, -1], [191, -1], [191, -1], [191, -1], [191, -1], [191, -1], [191, -1], [191, -1], [191, -1], [192, -1], [192, -1], [192, 82.48801088838042], [193, 87.99150249624229], [194, -1], [194, -1], [194, -1], [195, -1], [195, -1], [195, -1], [196, -1], [196, 73.98258926267823], [196, -1], [197, -1], [198, -1], [198, -1], [198, -1], [198, -1], [198, -1], [199, -1], [199, -1], [199, -1], [200, -1], [201, -1], [201, -1], [202, -1], [203, -1], [203, -1], [203, -1], [203, -1], [203, -1], [203, -1], [204, -1], [205, -1], [206, -1], [207, -1], [207, -1], [207, -1], [207, -1], [207, -1], [207, -1], [208, -1], [209, -1], [209, -1], [209, -1], [210, -1], [210, -1], [210, -1], [211, -1], [211, -1], [211, -1], [211, -1], [211, 72.93081463294618], [211, -1], [212, -1], [213, -1], [214, -1], [214, -1], [215, -1], [216, -1], [217, -1], [218, 80.69494467299573], [219, -1], [220, -1], [221, -1], [221, -1], [221, -1], [222, -1], [222, -1], [222, -1], [222, -1], [222, -1], [222, -1], [223, -1], [223, 82.91612891703961], [223, -1], [223, -1], [223, -1], [223, -1], [224, -1], [225, -1], [226, 77.30048344296272], [226, -1], [227, -1], [228, -1], [228, -1], [228, -1], [229, -1], [229, -1], [229, -1], [229, -1], [229, -1], [229, -1], [230, -1], [230, -1], [230, -1], [230, -1], [230, -1], [230, -1], [231, -1], [231, 77.45626310234077], [231, -1], [232, 85.9105095232794], [233, -1], [234, -1], [234, 74.8705607689607], [234, -1], [234, -1], [234, -1], [234, -1], [235, -1], [236, -1], [237, -1], [238, -1], [239, -1], [240, 83.53690644875142], [241, -1], [242, -1], [243, -1], [244, -1], [245, -1], [246, -1], [247, -1], [248, -1], [249, -1], [249, -1], [249, -1], [249, -1]]\n"
     ]
    }
   ],
   "source": [
    "#Defining a window for the W_mass and the real mass:\n",
    "\n",
    "window=10\n",
    "real_mass=80\n",
    "\n",
    "#Storing W inside the window\n",
    "pairs_GenJet_in=[]\n",
    "pairs_Tight_in=[]\n",
    "        \n",
    "#GenJeT_Mass\n",
    "#Tight_Mass\n",
    "\n",
    "for _ev in range(len(Tight_Mass)):\n",
    "    for _pair in range(len(Tight_Mass[_ev])):\n",
    "        if (Tight_Mass[_ev][_pair]<=real_mass+window) and (Tight_Mass[_ev][_pair]>=real_mass-window):\n",
    "            pairs_Tight_in.append([_ev,Tight_Mass[_ev][_pair]])\n",
    "        else:\n",
    "            pairs_Tight_in.append([_ev,-1])\n",
    "\n",
    "print(len(pairs_Tight_in))\n",
    "print(pairs_Tight_in)\n",
    "            \n",
    "#print('O número de bósons W_GenJet dentro da janela é:',len(W_GenJet))\n",
    "#print('O número de bósons W_GenJet dentro da janela é:',len(W_Tight))"
   ]
  },
  {
   "cell_type": "code",
   "execution_count": 56,
   "id": "9fa0aedd",
   "metadata": {
    "scrolled": true
   },
   "outputs": [
    {
     "name": "stdout",
     "output_type": "stream",
     "text": [
      "250\n",
      "[[-1, -1, -1], [83.25854331247328, -1, -1], [-1], [-1, -1, -1], [-1], [-1], [87.2039719587848], [-1, -1, -1], [-1, -1, -1], [-1, -1, -1], [-1, -1, -1], [-1, -1, 89.51590132494678], [-1], [-1, -1, -1, -1, 84.2821863756644, -1], [-1], [-1, -1, -1, -1, 79.67260665239803, -1], [-1, 87.35094083287721, -1], [-1, -1, 86.77483862264417, 82.93779338078342, -1, -1], [-1], [-1, -1], [-1, -1, 70.90026865585074], [-1, 77.00857454032766, -1, -1, -1, -1], [75.04305091030595], [-1], [-1], [-1, 84.82625909453472], [85.80434860204564], [-1], [-1], [-1], [-1], [-1], [-1], [-1], [-1], [-1, -1], [-1, 87.82337883337252, -1], [-1, -1, 75.90400203335565], [-1], [-1], [-1, -1], [-1, 72.19345693527258, -1], [-1, 83.05223302236998, -1, -1, -1, -1], [-1], [-1, -1, -1], [-1], [-1, -1, -1], [-1], [-1], [-1], [-1, -1, 86.00526752469379], [-1], [75.99947588662016], [-1], [-1], [82.50392448917144, -1, -1, -1], [-1, -1, -1], [-1], [-1], [79.75391395622889], [-1, -1, -1, -1, -1, -1, -1, -1, -1, -1], [-1], [-1, -1, -1], [84.38327513901235, 80.49562810158102, -1], [-1, -1, -1], [-1], [-1], [-1, -1, 79.47687918218674], [-1], [83.90919429195161, 88.26404719777176, -1, -1, -1], [-1, -1, 75.20330690177731, -1, 81.44184203336468, -1, -1, -1, -1, -1], [-1, -1, -1], [-1], [-1, -1, -1], [-1], [-1, -1], [-1], [-1, -1], [89.89105175200778, -1, 86.52683319146115], [-1, -1, 75.16468566787889], [-1], [-1], [-1, -1], [-1], [76.6938023811535, 85.16760292898009], [-1], [-1, -1, -1], [-1], [-1], [71.43864075568575], [-1, -1, 74.29208501416015], [-1], [-1], [-1], [79.30888818965813], [-1], [-1], [-1], [-1], [75.09642602116176], [-1, -1, -1], [-1, -1, -1], [-1, 84.18369024471312, 76.46737476946875], [-1, -1, -1], [-1], [-1], [-1, -1], [-1, -1, -1, 70.86194446403734, -1, 70.91725234307602], [-1], [-1], [-1], [-1, -1, 88.70352698371778, -1, -1], [-1, -1, -1, -1, -1, -1, -1, -1, -1, -1], [-1], [78.60162756179666, -1, -1], [-1], [-1, -1], [-1], [72.1768696759694], [-1, 75.00612849410338], [-1, -1, -1, -1, 70.14764175399789, -1], [-1], [-1, -1, -1], [-1, -1, -1], [-1], [-1, -1, -1, -1, -1, -1], [-1, -1, -1, 83.93573049236889, -1, -1], [71.30425588293151], [84.03084962546863], [-1], [-1, 87.39877300568436], [-1], [84.13785895802108], [-1], [72.33564461151626, -1, -1], [-1], [-1], [-1], [-1], [-1], [-1, -1, -1, 89.651680708216], [-1, -1, -1], [-1], [-1], [-1], [-1], [84.58287489491212], [-1], [-1], [-1], [-1], [-1], [-1, -1], [-1], [-1], [72.79438051531291], [-1, -1, 73.49744490205804], [-1], [-1, 83.04904975560292, -1], [-1], [-1, -1, -1], [79.5791379277728], [-1], [-1, -1], [87.19920613740062], [-1, -1, -1], [-1], [-1], [79.04766973614748], [-1], [-1], [-1, 71.92527534639606], [88.68133687490459, -1, -1], [-1], [-1], [-1], [-1, -1, -1, -1, -1, -1, -1, -1, 73.8227040050631], [-1, -1, -1], [-1], [-1], [78.99194410824033], [-1], [-1], [-1], [-1], [-1], [-1, -1, -1], [-1], [-1, -1], [-1, -1, -1], [-1], [-1, -1, -1, -1, 75.51288718011003, 76.27998722883368, -1, -1, -1, -1, -1, -1, -1, -1, -1], [-1, -1, 82.48801088838042], [87.99150249624229], [-1, -1, -1], [-1, -1, -1], [-1, 73.98258926267823, -1], [-1], [-1, -1, -1, -1, -1], [-1, -1, -1], [-1], [-1, -1], [-1], [-1, -1, -1, -1, -1, -1], [-1], [-1], [-1], [-1, -1, -1, -1, -1, -1], [-1], [-1, -1, -1], [-1, -1, -1], [-1, -1, -1, -1, 72.93081463294618, -1], [-1], [-1], [-1, -1], [-1], [-1], [-1], [80.69494467299573], [-1], [-1], [-1, -1, -1], [-1, -1, -1, -1, -1, -1], [-1, 82.91612891703961, -1, -1, -1, -1], [-1], [-1], [77.30048344296272, -1], [-1], [-1, -1, -1], [-1, -1, -1, -1, -1, -1], [-1, -1, -1, -1, -1, -1], [-1, 77.45626310234077, -1], [85.9105095232794], [-1], [-1, 74.8705607689607, -1, -1, -1, -1], [-1], [-1], [-1], [-1], [-1], [83.53690644875142], [-1], [-1], [-1], [-1], [-1], [-1], [-1], [-1], [-1, -1, -1, -1]]\n"
     ]
    }
   ],
   "source": [
    "#organizing for each event:\n",
    "\n",
    "pairs_Tight=[]\n",
    "temp=[]\n",
    "count=0\n",
    "\n",
    "for _w in range(len(pairs_Tight_in)):    \n",
    "    if (pairs_Tight_in[_w][0]==count):\n",
    "        temp.append(pairs_Tight_in[_w][1])\n",
    "    else:\n",
    "        pairs_Tight.append(temp)\n",
    "        temp=[]\n",
    "        temp.append(pairs_Tight_in[_w][1])\n",
    "        count=count+1  \n",
    "\n",
    "pairs_Tight.append(temp) \n",
    "\n",
    "print(len(pairs_Tight))\n",
    "print(pairs_Tight)"
   ]
  },
  {
   "cell_type": "code",
   "execution_count": 66,
   "id": "1787082c",
   "metadata": {},
   "outputs": [
    {
     "name": "stdout",
     "output_type": "stream",
     "text": [
      "O número de eventos com pelo menos 2 pares de Jatos é: 9\n",
      "Os eventos são: [17, 63, 69, 70, 78, 84, 102, 107, 191]\n"
     ]
    }
   ],
   "source": [
    "#Counting how many events we have with at least two pairs of Jets inside the window AND two protons in PPS:\n",
    "\n",
    "valid_events=[] #vector to store which are the events with two pairs of Jets\n",
    "count=0 #counting how many pairs of jets in each events\n",
    "\n",
    "for _ev in range(len(pairs_Tight)):\n",
    "    count=0\n",
    "    for _pair in range(len(pairs_Tight[_ev])):\n",
    "        if pairs_Tight[_ev][_pair]!=(-1):\n",
    "            count=count+1\n",
    "    if (count>1) and (ProtonsPos[_ev]>0) and (ProtonsNeg[_ev]>0):\n",
    "        valid_events.append(_ev)\n",
    "        \n",
    "        \n",
    "print('O número de eventos com pelo menos 2 pares de Jatos e 2 protons no PPS é:',len(valid_events))\n",
    "print('Os eventos são:', valid_events)\n",
    "\n"
   ]
  },
  {
   "cell_type": "code",
   "execution_count": 86,
   "id": "f23b53ef",
   "metadata": {
    "scrolled": true
   },
   "outputs": [
    {
     "name": "stdout",
     "output_type": "stream",
     "text": [
      "17\n",
      "[[184.4803351759454, 278.74270137504, 178.9905807829767], [101.0427399309378, 59.32131291395563, 36.072206652228374], [44.51199218888598], [48.3081627136005, 75.24399122745145, 55.255819100134964], [-1], [9.732918394937284], [37.77015221765547], [35.9295552203953, 31.61191586436014, 11.704669348343646], [77.39088428021701, 117.5944038684802, 119.82904037603046], [70.87971327346492, 83.99620499094588, 122.0344265436503], [65.84493063664074, 101.54438250398356, 193.75955400895558], [53.810659927081524, 126.32264631807048, 65.82988836857825], [11.774567397319311], [28.323781512594202, 46.726283837841365, 76.87108224462796, 101.12709373384301, 58.34840626203302, 34.807856136630036], [15.018361814221404], [30.268293240371527, 27.125541043026463, 55.13817645321395, 83.8913883271724, 46.189688506651116, 46.317033463585254], [72.04634349760104, 45.97970496986054, 67.46977368299952], [78.18804048969044, 57.52193968881992, 232.40445640870135, 216.16936975248052, 39.12428118049704, 49.93359680235376], [33.19548599037118], [43.20904106104729, 68.30159234374288], [35.6576286470536, 61.4242917973225, 68.25307484722158], [16.623046815922283, 76.71297511540672, 106.91750299383129, 97.72950295704274, 68.09506002436797, 6.763804249385394], [45.95725297312403], [32.3370321950461], [58.212747566649035], [58.869283120856785, 106.36108822770812], [33.218567517839766], [32.31178172295261], [73.41751147444805], [39.21679311031389], [18.92547697191115], [49.35380003745809], [49.429432129743546], [43.30857006627561], [67.14091607506673], [70.58934210093884, 160.9622678961555], [37.34930283779557, 160.48724684871917, 55.39933386345781], [23.3017969434691, 106.24654165464636, 153.49924847934014], [10.385162934486498], [21.18287324218325], [76.24633440896945, 25.484690844589537], [34.25519434789419, 70.03657016178757, 57.59527489290817], [20.978602294324254, 34.0651110488869, 69.94272691558857, 60.24701989565507, 33.745950297306756, 14.22566235950941], [50.077801576599036], [89.15923685252072, 35.089934296308456, 47.609179451316926], [17.548730951403993], [34.77345485770135, 43.894051235029174, 77.19498553886037], [38.26893747232642], [80.09708871472455], [31.19366970891285], [8.370770762769183, 94.71679469839331, 52.69866803502734], [7.860024463416717], [69.99240566128289], [46.6389981241954], [103.66122487816334], [68.49753505302527, 62.620974287108254, 60.33135058142455, 14.7938367795869], [43.843737985614325, 71.72577886626792, 36.01347619567782], [65.47817682111939], [36.263327007792455], [23.946858532779544], [45.12917714370672, 107.16267470582605, 107.78094433796079, 128.9068577085523, 112.08929174520823, 100.77507382951805, 79.78273327400981, 27.76350994767491, 7.235441984108835, 33.31935232018006], [50.72564960450332], [75.13643052441157, 30.426569147222637, 33.24326759099769], [50.50883689067449, 56.18915812534038, 27.012541093975162], [85.01541398530229, 137.1079315672888, 188.90406798844458], [8.487918719971583], [33.910820375919045], [40.131430388703215, 89.33200048889506, 93.33213127832634], [26.367314667933044], [81.30384414332629, 66.98441222032633, 65.20534273848537, 84.11858323190302, 23.32617049286387], [65.63102461050593, 1.8976225209152278, 62.223962434545996, 74.30138094054057, 78.65184437990648, 18.728783081824425, 41.838333027725874, 73.2088955788008, 32.13641096312022, 55.29189862448099], [22.00235594511815, 113.39460843942076, 42.280370288483205], [32.95686248650005], [37.92878607841913, 51.08973153744158, 36.81724156057927], [80.47355428852661], [89.52281462783687, 76.3587321536604], [44.1704235155009], [30.22753822703662, 42.953082881303686], [45.07537956938433, 27.75358707058979, 24.740174650245777], [42.60715603812229, 78.82230821873675, 56.67445498048633], [59.96113094819789], [68.6496734349283], [102.66729825422716, 77.95788217812647], [93.80363813164341], [167.6707342377515, 26.087321393598195], [70.17141175189484], [90.27885623147479, 51.40194999537656, 44.51940340843811], [34.393136299335964], [48.56540492909662], [48.22285256122908], [29.51352948452531, 41.770294100658255, 124.12257044973968], [38.073890539157986], [33.87318614896394], [24.29078370569753], [123.25831681055067], [8.588937777463114], [60.984534029016125], [44.16254852767383], [54.705911617040414], [121.15668572278297], [25.79225856958176, 54.139872234740544, 80.01315993779406], [61.92343372844454, 60.65472678488684, 82.17272048072395], [50.92454223912153, 62.39405531707371, 28.32697797351659], [16.040376084046763, 20.89638154397977, 52.00201114072182], [61.101520638127724], [37.532785956211356], [40.45886409606834, 59.356521702504445], [49.38748741349068, 68.3074866852246, 133.25734733943207, 142.89768768081714, 78.23872416631168, 59.27308355781158], [21.78288109763892], [50.41816710968222], [81.47051342015378], [85.5046705324315, 42.38694509580179, 21.483495078081198, 67.56061603646715, 38.9998081257392], [49.445111512614275, 68.30974791888212, 66.21202272933421, 78.3255184387512, 77.42641111615968, 71.20376534674209, 61.715668514766584, 66.43855276369145, 49.437786409740404, 42.42693905031085], [8.103405235446887], [71.4210701753304, 48.63266246211279, 51.92005176786551], [6.937720690720721], [33.40964501536341, 47.65538154138487], [39.11192435290237], [20.637492390414838], [49.215526897194415, 33.023185968346226], [52.15148958228867, 42.31612546917232, 69.69979500704389, 69.11521910540996, 41.154305225227056, 47.87615578177506], [49.20817169491993], [47.52217914364742, 19.77481895560868, 37.85106686446115], [133.28699972297406, 495.93990114776705, 114.77437741345373], [55.41375631296554], [32.748270099187536, 90.98132353826766, 59.39931609323382, 9.58500792451092, 41.21202112238616, 42.60330245018274], [30.249428732010106, 89.18239434639197, 131.17377389746233, 182.82962883253387, 147.33282679490247, 101.82930465100172], [49.396955348722955], [33.02863134622137], [9.74138978809302], [35.10550401923944, 163.88952274393395], [43.2704730765687], [66.46131769535029], [69.95790237782012], [87.47157694793658, 30.684684155650906, 36.46046536068516], [54.19416345445145], [64.12997900487508], [22.647641758318844], [40.84286904444539], [122.23834275319594], [62.81067372325141, 25.013748402477127, 87.90430562633688, 2.36736832606331], [82.27473783750253, 121.79150032431724, 179.70483283825266], [22.928382656277204], [22.475660141877395], [111.2229002335269], [42.04535984925708], [196.72989925529725], [102.3522610709882], [20.963306359848875], [26.32839739134809], [112.08375721970799], [137.65142232838627], [49.148946877933625, 45.046534934443905], [58.71977935781405], [323.7262268788462], [395.19979759736543], [394.45108985643435, 323.11580267713833, 43.22401927449094], [48.40639151707396], [42.03687068962794, 129.08740630493898, 55.80742755419702], [58.42587635273277], [72.88111463394127, 74.28141801077807, 89.15786388760105], [19.545584867563484], [34.909672751622885], [69.78088497940996, 56.451715166785895], [94.36077944718004], [43.1082785559596, 71.44930235603114, 144.28805139179903], [2.165776143667876], [22.85188759355579], [57.55046047666783], [57.41929171422782], [90.72444872284953], [145.96711117770883, 263.4750648803003], [69.44864292039735, 30.683076900965336, 29.30380934540154], [15.283147210690876], [24.53579867731051], [55.83909270635286], [117.23621622963721, 99.79461178060684, 61.737736891728595, 19.74656455126865, 73.801423208048, 75.92974129154138, 47.423579444348746, 53.102465058259206, 11.009517560267062], [160.3646686346949, 160.73698648425625, 126.45899220728604], [48.068093007154886], [42.04474070072379], [26.366704305700114], [28.44649347606747], [64.46932416409653], [44.88291412799557], [59.25063371676092], [63.17105548568663], [70.95753744200444, 92.76411652942954, 114.28473874769264], [89.23605329623702], [100.6683118353482, 126.21338792543], [45.656783970958415, 48.95571255074412, 61.67507557054251], [11.843984285856502], [62.198529491109, 87.97701288988338, 196.63294985281104, 176.1667825579009, 178.941285811739, 165.838266234937, 71.52209064028351, 80.21072289893745, 75.44527201418907, 27.042287964870315, 64.9978435425966, 56.21475999029849, 62.10729986616028, 64.56592874571055, 73.36393326448264], [27.358807346141873, 96.02940287011873, 83.97852225499503], [26.525788860375044], [45.464538894564605, 72.3629301489044, 50.1849553140521], [14.85064577043297, 77.65363321169748, 36.62476958369586], [61.65712499922957, 77.45279111033472, 54.964903458172984], [57.11006374169467], [76.50469360503412, 185.41847780874963, 143.3214398669425, 40.165775920824665, 14.989872721758173], [49.205365237461955, 57.11192180103713, 135.95562067167353], [129.86042572368612], [134.0608805249956, 160.93268340596146], [25.092267871719457], [176.12841873981844, 169.67243721011832, 344.5269906076667, 216.2400696113158, 45.89010128851658, 86.50074256131435], [23.065213676559452], [33.87117800051208], [52.43883027148149], [39.14713184595243, 43.91983597785911, 58.095009394425944, 77.12707601708371, 39.36138015216413, 21.073905829470856], [18.663707348095286], [26.168135626482915, 71.03352427467232, 29.41150503258643], [36.69641990701203, 57.883080984715704, 25.75335536364059], [22.369379457141967, 84.31636435127716, 47.160017128488214, 45.89883200035, 85.21438136108172, 19.028795783385153], [18.63912564385983], [128.82380718530376], [21.814332444560346, 49.19360295749753], [8.231158227790981], [40.154649589209804], [46.348357779103445], [64.88210523468739], [28.469032646144584], [55.95664369791432], [59.34260884402199, 16.5478720919656, 40.344715346526066], [17.93546261999241, 23.538895353813746, 37.436214813648014, 93.91322506024613, 85.88126406038867, 79.1034698564533], [78.02212864856646, 35.97126842578967, 25.746331309470364, 38.586355356368784, 22.363197582310004, 34.70423880820545], [30.707512423800996], [61.95942279493903], [41.515795249415994, 22.92869446995175], [42.90652366589793], [27.48761118963632, 43.4370779981917, 219.14306808902634], [21.579789485407623, 101.10218804212775, 86.39448958761861, 95.40099605057819, 119.11989742324317, 16.645118912109748], [2.0438798738957376, 30.69592703782983, 46.18652421330957, 45.93585546022968, 27.926509251101578, 3.2614560009543125], [35.15155735226494, 107.21739010979397, 46.117699060721904], [53.80918471655748], [24.885866972230236], [31.564403224923783, 191.28314620305974, 94.10133450766513, 35.21785256938819, 136.44623554252234, 87.69512225313298], [32.591784268995454], [20.38525072826922], [23.96202663877586], [34.634133623340105], [33.13809623582653], [38.32109919646471], [45.06190765854326], [181.4148934319337], [197.40887472803288], [151.16813248548064], [44.165266600097105], [6.625111835429525], [17.563441852888666], [67.18821301073284], [152.67700324894005, 161.41146712422577, 71.8539584405763, 37.85983305826763]]\n"
     ]
    }
   ],
   "source": [
    "#Tight_Eta[valid_events[i]][_w]\n",
    "#Tight_Phi[valid_events[i]][_w]\n",
    "#Tight_Mass[valid_events[i]][_w]\n",
    "\n",
    "print(valid_events[0])\n",
    "print(Tight_PT)"
   ]
  },
  {
   "cell_type": "markdown",
   "id": "20d80874",
   "metadata": {},
   "source": [
    "## Checking the kinematics for the valid events (i.e. two protons and two in PPS and two W-Bosons)"
   ]
  },
  {
   "cell_type": "code",
   "execution_count": 100,
   "id": "de5e31f3",
   "metadata": {},
   "outputs": [
    {
     "ename": "SyntaxError",
     "evalue": "invalid syntax (3164837394.py, line 29)",
     "output_type": "error",
     "traceback": [
      "\u001b[0;36m  File \u001b[0;32m\"/tmp/ipykernel_848/3164837394.py\"\u001b[0;36m, line \u001b[0;32m29\u001b[0m\n\u001b[0;31m    E_w2=\u001b[0m\n\u001b[0m         ^\u001b[0m\n\u001b[0;31mSyntaxError\u001b[0m\u001b[0;31m:\u001b[0m invalid syntax\n"
     ]
    }
   ],
   "source": [
    "print(Tight_PT[valid_events[0]])\n",
    "print(Tight_PT[17])\n",
    "print(Tight_PT[63])\n",
    "print(Tight_PT[69])\n",
    "print(Tight_PT[70])\n",
    "print(Tight_PT[78])\n",
    "print(Tight_PT[84])\n",
    "print(Tight_PT[102])\n",
    "print(Tight_PT[107])\n",
    "print(Tight_PT[191],'\\n')\n",
    "\n",
    "s=14000\n",
    "\n",
    "for i in range(len(valid_events)):\n",
    "    for _w in range(len(Tight_PT[valid_events[i]])):\n",
    "        print(Tight_PT[valid_events[i]][_w])\n",
    "        \n",
    "        #p1=\n",
    "        #p2=\n",
    "        \n",
    "        #Calculating the Moment Loss Fraction 'Xi' via PPS:\n",
    "        \n",
    "        Xi1_pps=1-2*(p1/np.sqrt(s))\n",
    "        Xi2_pps=1-2*(p2/np.sqrt(s))\n",
    "        \n",
    "        #calculating the Xi of the protons via \"Bosons W\": \n",
    "        \n",
    "        E_w1=Tight_E[valid_events[i][_w]]\n",
    "        E_w2=\n",
    "        \n",
    "        pz_w1=\n",
    "        pz_w2=\n",
    "        \n",
    "        Xi1=(1/np.sqrt(s))*(E_w1+E_w2+pz_w1+pz_w2)\n",
    "        Xi2=(1/np.sqrt(s))*(E_w1+E_w2-pz_w1-pz_w2)\n",
    "        "
   ]
  },
  {
   "cell_type": "code",
   "execution_count": null,
   "id": "43217b3a",
   "metadata": {},
   "outputs": [],
   "source": []
  }
 ],
 "metadata": {
  "@webio": {
   "lastCommId": null,
   "lastKernelId": null
  },
  "kernelspec": {
   "display_name": "Python 3",
   "language": "python",
   "name": "python3"
  },
  "language_info": {
   "codemirror_mode": {
    "name": "ipython",
    "version": 3
   },
   "file_extension": ".py",
   "mimetype": "text/x-python",
   "name": "python",
   "nbconvert_exporter": "python",
   "pygments_lexer": "ipython3",
   "version": "3.9.12"
  }
 },
 "nbformat": 4,
 "nbformat_minor": 5
}
