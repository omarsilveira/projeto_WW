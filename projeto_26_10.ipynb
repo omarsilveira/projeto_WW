{
 "cells": [
  {
   "cell_type": "code",
   "execution_count": 1,
   "id": "c6fac4ca",
   "metadata": {},
   "outputs": [],
   "source": [
    "#selecionar prótons\n",
    "#selecionar eventons com 2 múons\n",
    "# '' com 2 elétrons\n",
    "# evento misto: 1 eletron e 1 múon com maior PT <- \n",
    "\n",
    "#import sys,os\n",
    "#os.system(\"cat /eos/cms/store/group/phys_pps/Phase2/LHE/EFT/AAWW/FPMC_WW_14TeV_a0w_0E0_aCw_0E0_noHADR_pt0/split/FPMC_WW_14TeV_a0w_0E0_aCw_0E0_noHADR_pt0_0.lhe.xz\")\n",
    "#ls /eos/cms/store/group/phys_pps/Phase2/Delphes/PU200/FPMC_WW_14TeV_a0w_0E0_aCw_0E0_noHADR_pt0_ZLepDecays_Delphes_PU200"
   ]
  },
  {
   "cell_type": "code",
   "execution_count": 2,
   "id": "84d1bf2f",
   "metadata": {},
   "outputs": [],
   "source": [
    "import uproot4\n",
    "import awkward as ak\n",
    "import numpy as np\n",
    "import matplotlib.pyplot as plt\n",
    "from tqdm import tqdm"
   ]
  },
  {
   "cell_type": "code",
   "execution_count": 3,
   "id": "8913809f",
   "metadata": {},
   "outputs": [],
   "source": [
    "path='/eos/cms/store/group/phys_pps/Phase2/Delphes/PU200/FPMC_WW_14TeV_a0w_0E0_aCw_0E0_noHADR_pt0_ZLepDecays_Delphes_PU200/'\n",
    "name='FPMC_WW_14TeV_a0w_0E0_aCw_0E0_noHADR_pt0_0_ZLepDecays_Delphes_PU200.root'\n",
    "\n",
    "file=path+name\n",
    "root=uproot4.open(file)"
   ]
  },
  {
   "cell_type": "code",
   "execution_count": 4,
   "id": "ac9de0ce",
   "metadata": {},
   "outputs": [
    {
     "data": {
      "text/plain": [
       "['ProcessID0;1', 'Delphes;1']"
      ]
     },
     "execution_count": 4,
     "metadata": {},
     "output_type": "execute_result"
    }
   ],
   "source": [
    "root.keys()"
   ]
  },
  {
   "cell_type": "code",
   "execution_count": 5,
   "id": "11042206",
   "metadata": {},
   "outputs": [
    {
     "data": {
      "text/plain": [
       "{'ProcessID0;1': 'TProcessID', 'Delphes;1': 'TTree'}"
      ]
     },
     "execution_count": 5,
     "metadata": {},
     "output_type": "execute_result"
    }
   ],
   "source": [
    "root.classnames()"
   ]
  },
  {
   "cell_type": "code",
   "execution_count": 6,
   "id": "383f9292",
   "metadata": {},
   "outputs": [
    {
     "data": {
      "text/plain": [
       "<TTree 'Delphes' (58 branches) at 0x7f5c80559310>"
      ]
     },
     "execution_count": 6,
     "metadata": {},
     "output_type": "execute_result"
    }
   ],
   "source": [
    "root['Delphes']"
   ]
  },
  {
   "cell_type": "code",
   "execution_count": 7,
   "id": "88372040",
   "metadata": {
    "scrolled": true
   },
   "outputs": [
    {
     "data": {
      "text/plain": [
       "['Event',\n",
       " 'Event/Event.fUniqueID',\n",
       " 'Event/Event.fBits',\n",
       " 'Event/Event.Number',\n",
       " 'Event/Event.ReadTime',\n",
       " 'Event/Event.ProcTime',\n",
       " 'Event/Event.ProcessID',\n",
       " 'Event/Event.MPI',\n",
       " 'Event/Event.Weight',\n",
       " 'Event/Event.CrossSection',\n",
       " 'Event/Event.CrossSectionError',\n",
       " 'Event/Event.Scale',\n",
       " 'Event/Event.AlphaQED',\n",
       " 'Event/Event.AlphaQCD',\n",
       " 'Event/Event.ID1',\n",
       " 'Event/Event.ID2',\n",
       " 'Event/Event.X1',\n",
       " 'Event/Event.X2',\n",
       " 'Event/Event.ScalePDF',\n",
       " 'Event/Event.PDF1',\n",
       " 'Event/Event.PDF2',\n",
       " 'Event_size',\n",
       " 'Weight',\n",
       " 'Weight/Weight.fUniqueID',\n",
       " 'Weight/Weight.fBits',\n",
       " 'Weight/Weight.Weight',\n",
       " 'Weight_size',\n",
       " 'GenProton',\n",
       " 'GenProton/GenProton.fUniqueID',\n",
       " 'GenProton/GenProton.fBits',\n",
       " 'GenProton/GenProton.PID',\n",
       " 'GenProton/GenProton.Status',\n",
       " 'GenProton/GenProton.IsPU',\n",
       " 'GenProton/GenProton.M1',\n",
       " 'GenProton/GenProton.M2',\n",
       " 'GenProton/GenProton.D1',\n",
       " 'GenProton/GenProton.D2',\n",
       " 'GenProton/GenProton.Charge',\n",
       " 'GenProton/GenProton.Mass',\n",
       " 'GenProton/GenProton.E',\n",
       " 'GenProton/GenProton.Px',\n",
       " 'GenProton/GenProton.Py',\n",
       " 'GenProton/GenProton.Pz',\n",
       " 'GenProton/GenProton.P',\n",
       " 'GenProton/GenProton.PT',\n",
       " 'GenProton/GenProton.Eta',\n",
       " 'GenProton/GenProton.Phi',\n",
       " 'GenProton/GenProton.Rapidity',\n",
       " 'GenProton/GenProton.T',\n",
       " 'GenProton/GenProton.X',\n",
       " 'GenProton/GenProton.Y',\n",
       " 'GenProton/GenProton.Z',\n",
       " 'GenProton_size',\n",
       " 'Particle',\n",
       " 'Particle/Particle.fUniqueID',\n",
       " 'Particle/Particle.fBits',\n",
       " 'Particle/Particle.PID',\n",
       " 'Particle/Particle.Status',\n",
       " 'Particle/Particle.IsPU',\n",
       " 'Particle/Particle.M1',\n",
       " 'Particle/Particle.M2',\n",
       " 'Particle/Particle.D1',\n",
       " 'Particle/Particle.D2',\n",
       " 'Particle/Particle.Charge',\n",
       " 'Particle/Particle.Mass',\n",
       " 'Particle/Particle.E',\n",
       " 'Particle/Particle.Px',\n",
       " 'Particle/Particle.Py',\n",
       " 'Particle/Particle.Pz',\n",
       " 'Particle/Particle.P',\n",
       " 'Particle/Particle.PT',\n",
       " 'Particle/Particle.Eta',\n",
       " 'Particle/Particle.Phi',\n",
       " 'Particle/Particle.Rapidity',\n",
       " 'Particle/Particle.T',\n",
       " 'Particle/Particle.X',\n",
       " 'Particle/Particle.Y',\n",
       " 'Particle/Particle.Z',\n",
       " 'Particle_size',\n",
       " 'Vertex',\n",
       " 'Vertex/Vertex.fUniqueID',\n",
       " 'Vertex/Vertex.fBits',\n",
       " 'Vertex/Vertex.T',\n",
       " 'Vertex/Vertex.X',\n",
       " 'Vertex/Vertex.Y',\n",
       " 'Vertex/Vertex.Z',\n",
       " 'Vertex/Vertex.ErrorT',\n",
       " 'Vertex/Vertex.ErrorX',\n",
       " 'Vertex/Vertex.ErrorY',\n",
       " 'Vertex/Vertex.ErrorZ',\n",
       " 'Vertex/Vertex.Index',\n",
       " 'Vertex/Vertex.NDF',\n",
       " 'Vertex/Vertex.Sigma',\n",
       " 'Vertex/Vertex.SumPT2',\n",
       " 'Vertex/Vertex.GenSumPT2',\n",
       " 'Vertex/Vertex.GenDeltaZ',\n",
       " 'Vertex/Vertex.BTVSumPT2',\n",
       " 'Vertex/Vertex.Constituents',\n",
       " 'Vertex_size',\n",
       " 'GenJet',\n",
       " 'GenJet/GenJet.fUniqueID',\n",
       " 'GenJet/GenJet.fBits',\n",
       " 'GenJet/GenJet.PT',\n",
       " 'GenJet/GenJet.Eta',\n",
       " 'GenJet/GenJet.Phi',\n",
       " 'GenJet/GenJet.T',\n",
       " 'GenJet/GenJet.Mass',\n",
       " 'GenJet/GenJet.DeltaEta',\n",
       " 'GenJet/GenJet.DeltaPhi',\n",
       " 'GenJet/GenJet.Flavor',\n",
       " 'GenJet/GenJet.FlavorAlgo',\n",
       " 'GenJet/GenJet.FlavorPhys',\n",
       " 'GenJet/GenJet.TauFlavor',\n",
       " 'GenJet/GenJet.BTag',\n",
       " 'GenJet/GenJet.BTagAlgo',\n",
       " 'GenJet/GenJet.BTagPhys',\n",
       " 'GenJet/GenJet.TauTag',\n",
       " 'GenJet/GenJet.TauWeight',\n",
       " 'GenJet/GenJet.Charge',\n",
       " 'GenJet/GenJet.EhadOverEem',\n",
       " 'GenJet/GenJet.NCharged',\n",
       " 'GenJet/GenJet.NNeutrals',\n",
       " 'GenJet/GenJet.NeutralEnergyFraction',\n",
       " 'GenJet/GenJet.ChargedEnergyFraction',\n",
       " 'GenJet/GenJet.Beta',\n",
       " 'GenJet/GenJet.BetaStar',\n",
       " 'GenJet/GenJet.MeanSqDeltaR',\n",
       " 'GenJet/GenJet.PTD',\n",
       " 'GenJet/GenJet.FracPt[5]',\n",
       " 'GenJet/GenJet.Tau[5]',\n",
       " 'GenJet/GenJet.SoftDroppedJet',\n",
       " 'GenJet/GenJet.SoftDroppedSubJet1',\n",
       " 'GenJet/GenJet.SoftDroppedSubJet2',\n",
       " 'GenJet/GenJet.TrimmedP4[5]',\n",
       " 'GenJet/GenJet.PrunedP4[5]',\n",
       " 'GenJet/GenJet.SoftDroppedP4[5]',\n",
       " 'GenJet/GenJet.NSubJetsTrimmed',\n",
       " 'GenJet/GenJet.NSubJetsPruned',\n",
       " 'GenJet/GenJet.NSubJetsSoftDropped',\n",
       " 'GenJet/GenJet.ExclYmerge12',\n",
       " 'GenJet/GenJet.ExclYmerge23',\n",
       " 'GenJet/GenJet.ExclYmerge34',\n",
       " 'GenJet/GenJet.ExclYmerge45',\n",
       " 'GenJet/GenJet.ExclYmerge56',\n",
       " 'GenJet/GenJet.Constituents',\n",
       " 'GenJet/GenJet.Particles',\n",
       " 'GenJet/GenJet.Area',\n",
       " 'GenJet_size',\n",
       " 'GenJetAK8',\n",
       " 'GenJetAK8/GenJetAK8.fUniqueID',\n",
       " 'GenJetAK8/GenJetAK8.fBits',\n",
       " 'GenJetAK8/GenJetAK8.PT',\n",
       " 'GenJetAK8/GenJetAK8.Eta',\n",
       " 'GenJetAK8/GenJetAK8.Phi',\n",
       " 'GenJetAK8/GenJetAK8.T',\n",
       " 'GenJetAK8/GenJetAK8.Mass',\n",
       " 'GenJetAK8/GenJetAK8.DeltaEta',\n",
       " 'GenJetAK8/GenJetAK8.DeltaPhi',\n",
       " 'GenJetAK8/GenJetAK8.Flavor',\n",
       " 'GenJetAK8/GenJetAK8.FlavorAlgo',\n",
       " 'GenJetAK8/GenJetAK8.FlavorPhys',\n",
       " 'GenJetAK8/GenJetAK8.TauFlavor',\n",
       " 'GenJetAK8/GenJetAK8.BTag',\n",
       " 'GenJetAK8/GenJetAK8.BTagAlgo',\n",
       " 'GenJetAK8/GenJetAK8.BTagPhys',\n",
       " 'GenJetAK8/GenJetAK8.TauTag',\n",
       " 'GenJetAK8/GenJetAK8.TauWeight',\n",
       " 'GenJetAK8/GenJetAK8.Charge',\n",
       " 'GenJetAK8/GenJetAK8.EhadOverEem',\n",
       " 'GenJetAK8/GenJetAK8.NCharged',\n",
       " 'GenJetAK8/GenJetAK8.NNeutrals',\n",
       " 'GenJetAK8/GenJetAK8.NeutralEnergyFraction',\n",
       " 'GenJetAK8/GenJetAK8.ChargedEnergyFraction',\n",
       " 'GenJetAK8/GenJetAK8.Beta',\n",
       " 'GenJetAK8/GenJetAK8.BetaStar',\n",
       " 'GenJetAK8/GenJetAK8.MeanSqDeltaR',\n",
       " 'GenJetAK8/GenJetAK8.PTD',\n",
       " 'GenJetAK8/GenJetAK8.FracPt[5]',\n",
       " 'GenJetAK8/GenJetAK8.Tau[5]',\n",
       " 'GenJetAK8/GenJetAK8.SoftDroppedJet',\n",
       " 'GenJetAK8/GenJetAK8.SoftDroppedSubJet1',\n",
       " 'GenJetAK8/GenJetAK8.SoftDroppedSubJet2',\n",
       " 'GenJetAK8/GenJetAK8.TrimmedP4[5]',\n",
       " 'GenJetAK8/GenJetAK8.PrunedP4[5]',\n",
       " 'GenJetAK8/GenJetAK8.SoftDroppedP4[5]',\n",
       " 'GenJetAK8/GenJetAK8.NSubJetsTrimmed',\n",
       " 'GenJetAK8/GenJetAK8.NSubJetsPruned',\n",
       " 'GenJetAK8/GenJetAK8.NSubJetsSoftDropped',\n",
       " 'GenJetAK8/GenJetAK8.ExclYmerge12',\n",
       " 'GenJetAK8/GenJetAK8.ExclYmerge23',\n",
       " 'GenJetAK8/GenJetAK8.ExclYmerge34',\n",
       " 'GenJetAK8/GenJetAK8.ExclYmerge45',\n",
       " 'GenJetAK8/GenJetAK8.ExclYmerge56',\n",
       " 'GenJetAK8/GenJetAK8.Constituents',\n",
       " 'GenJetAK8/GenJetAK8.Particles',\n",
       " 'GenJetAK8/GenJetAK8.Area',\n",
       " 'GenJetAK8_size',\n",
       " 'GenMissingET',\n",
       " 'GenMissingET/GenMissingET.fUniqueID',\n",
       " 'GenMissingET/GenMissingET.fBits',\n",
       " 'GenMissingET/GenMissingET.MET',\n",
       " 'GenMissingET/GenMissingET.Eta',\n",
       " 'GenMissingET/GenMissingET.Phi',\n",
       " 'GenMissingET_size',\n",
       " 'ParticleFlowCandidate',\n",
       " 'ParticleFlowCandidate/ParticleFlowCandidate.fUniqueID',\n",
       " 'ParticleFlowCandidate/ParticleFlowCandidate.fBits',\n",
       " 'ParticleFlowCandidate/ParticleFlowCandidate.PID',\n",
       " 'ParticleFlowCandidate/ParticleFlowCandidate.Charge',\n",
       " 'ParticleFlowCandidate/ParticleFlowCandidate.E',\n",
       " 'ParticleFlowCandidate/ParticleFlowCandidate.P',\n",
       " 'ParticleFlowCandidate/ParticleFlowCandidate.PT',\n",
       " 'ParticleFlowCandidate/ParticleFlowCandidate.Eta',\n",
       " 'ParticleFlowCandidate/ParticleFlowCandidate.Phi',\n",
       " 'ParticleFlowCandidate/ParticleFlowCandidate.CtgTheta',\n",
       " 'ParticleFlowCandidate/ParticleFlowCandidate.C',\n",
       " 'ParticleFlowCandidate/ParticleFlowCandidate.Mass',\n",
       " 'ParticleFlowCandidate/ParticleFlowCandidate.EtaOuter',\n",
       " 'ParticleFlowCandidate/ParticleFlowCandidate.PhiOuter',\n",
       " 'ParticleFlowCandidate/ParticleFlowCandidate.T',\n",
       " 'ParticleFlowCandidate/ParticleFlowCandidate.X',\n",
       " 'ParticleFlowCandidate/ParticleFlowCandidate.Y',\n",
       " 'ParticleFlowCandidate/ParticleFlowCandidate.Z',\n",
       " 'ParticleFlowCandidate/ParticleFlowCandidate.TOuter',\n",
       " 'ParticleFlowCandidate/ParticleFlowCandidate.XOuter',\n",
       " 'ParticleFlowCandidate/ParticleFlowCandidate.YOuter',\n",
       " 'ParticleFlowCandidate/ParticleFlowCandidate.ZOuter',\n",
       " 'ParticleFlowCandidate/ParticleFlowCandidate.Xd',\n",
       " 'ParticleFlowCandidate/ParticleFlowCandidate.Yd',\n",
       " 'ParticleFlowCandidate/ParticleFlowCandidate.Zd',\n",
       " 'ParticleFlowCandidate/ParticleFlowCandidate.XFirstHit',\n",
       " 'ParticleFlowCandidate/ParticleFlowCandidate.YFirstHit',\n",
       " 'ParticleFlowCandidate/ParticleFlowCandidate.ZFirstHit',\n",
       " 'ParticleFlowCandidate/ParticleFlowCandidate.L',\n",
       " 'ParticleFlowCandidate/ParticleFlowCandidate.D0',\n",
       " 'ParticleFlowCandidate/ParticleFlowCandidate.DZ',\n",
       " 'ParticleFlowCandidate/ParticleFlowCandidate.Nclusters',\n",
       " 'ParticleFlowCandidate/ParticleFlowCandidate.dNdx',\n",
       " 'ParticleFlowCandidate/ParticleFlowCandidate.ErrorP',\n",
       " 'ParticleFlowCandidate/ParticleFlowCandidate.ErrorPT',\n",
       " 'ParticleFlowCandidate/ParticleFlowCandidate.ErrorPhi',\n",
       " 'ParticleFlowCandidate/ParticleFlowCandidate.ErrorCtgTheta',\n",
       " 'ParticleFlowCandidate/ParticleFlowCandidate.ErrorT',\n",
       " 'ParticleFlowCandidate/ParticleFlowCandidate.ErrorD0',\n",
       " 'ParticleFlowCandidate/ParticleFlowCandidate.ErrorDZ',\n",
       " 'ParticleFlowCandidate/ParticleFlowCandidate.ErrorC',\n",
       " 'ParticleFlowCandidate/ParticleFlowCandidate.ErrorD0Phi',\n",
       " 'ParticleFlowCandidate/ParticleFlowCandidate.ErrorD0C',\n",
       " 'ParticleFlowCandidate/ParticleFlowCandidate.ErrorD0DZ',\n",
       " 'ParticleFlowCandidate/ParticleFlowCandidate.ErrorD0CtgTheta',\n",
       " 'ParticleFlowCandidate/ParticleFlowCandidate.ErrorPhiC',\n",
       " 'ParticleFlowCandidate/ParticleFlowCandidate.ErrorPhiDZ',\n",
       " 'ParticleFlowCandidate/ParticleFlowCandidate.ErrorPhiCtgTheta',\n",
       " 'ParticleFlowCandidate/ParticleFlowCandidate.ErrorCDZ',\n",
       " 'ParticleFlowCandidate/ParticleFlowCandidate.ErrorCCtgTheta',\n",
       " 'ParticleFlowCandidate/ParticleFlowCandidate.ErrorDZCtgTheta',\n",
       " 'ParticleFlowCandidate/ParticleFlowCandidate.VertexIndex',\n",
       " 'ParticleFlowCandidate/ParticleFlowCandidate.NTimeHits',\n",
       " 'ParticleFlowCandidate/ParticleFlowCandidate.Eem',\n",
       " 'ParticleFlowCandidate/ParticleFlowCandidate.Ehad',\n",
       " 'ParticleFlowCandidate/ParticleFlowCandidate.Etrk',\n",
       " 'ParticleFlowCandidate/ParticleFlowCandidate.Edges[4]',\n",
       " 'ParticleFlowCandidate/ParticleFlowCandidate.Particles',\n",
       " 'ParticleFlowCandidate_size',\n",
       " 'Photon',\n",
       " 'Photon/Photon.fUniqueID',\n",
       " 'Photon/Photon.fBits',\n",
       " 'Photon/Photon.PT',\n",
       " 'Photon/Photon.Eta',\n",
       " 'Photon/Photon.Phi',\n",
       " 'Photon/Photon.E',\n",
       " 'Photon/Photon.T',\n",
       " 'Photon/Photon.EhadOverEem',\n",
       " 'Photon/Photon.Particles',\n",
       " 'Photon/Photon.IsolationVar',\n",
       " 'Photon/Photon.IsolationVarRhoCorr',\n",
       " 'Photon/Photon.SumPtCharged',\n",
       " 'Photon/Photon.SumPtNeutral',\n",
       " 'Photon/Photon.SumPtChargedPU',\n",
       " 'Photon/Photon.SumPt',\n",
       " 'Photon/Photon.Status',\n",
       " 'Photon_size',\n",
       " 'PhotonLoose',\n",
       " 'PhotonLoose/PhotonLoose.fUniqueID',\n",
       " 'PhotonLoose/PhotonLoose.fBits',\n",
       " 'PhotonLoose/PhotonLoose.PT',\n",
       " 'PhotonLoose/PhotonLoose.Eta',\n",
       " 'PhotonLoose/PhotonLoose.Phi',\n",
       " 'PhotonLoose/PhotonLoose.E',\n",
       " 'PhotonLoose/PhotonLoose.T',\n",
       " 'PhotonLoose/PhotonLoose.EhadOverEem',\n",
       " 'PhotonLoose/PhotonLoose.Particles',\n",
       " 'PhotonLoose/PhotonLoose.IsolationVar',\n",
       " 'PhotonLoose/PhotonLoose.IsolationVarRhoCorr',\n",
       " 'PhotonLoose/PhotonLoose.SumPtCharged',\n",
       " 'PhotonLoose/PhotonLoose.SumPtNeutral',\n",
       " 'PhotonLoose/PhotonLoose.SumPtChargedPU',\n",
       " 'PhotonLoose/PhotonLoose.SumPt',\n",
       " 'PhotonLoose/PhotonLoose.Status',\n",
       " 'PhotonLoose_size',\n",
       " 'PhotonMedium',\n",
       " 'PhotonMedium/PhotonMedium.fUniqueID',\n",
       " 'PhotonMedium/PhotonMedium.fBits',\n",
       " 'PhotonMedium/PhotonMedium.PT',\n",
       " 'PhotonMedium/PhotonMedium.Eta',\n",
       " 'PhotonMedium/PhotonMedium.Phi',\n",
       " 'PhotonMedium/PhotonMedium.E',\n",
       " 'PhotonMedium/PhotonMedium.T',\n",
       " 'PhotonMedium/PhotonMedium.EhadOverEem',\n",
       " 'PhotonMedium/PhotonMedium.Particles',\n",
       " 'PhotonMedium/PhotonMedium.IsolationVar',\n",
       " 'PhotonMedium/PhotonMedium.IsolationVarRhoCorr',\n",
       " 'PhotonMedium/PhotonMedium.SumPtCharged',\n",
       " 'PhotonMedium/PhotonMedium.SumPtNeutral',\n",
       " 'PhotonMedium/PhotonMedium.SumPtChargedPU',\n",
       " 'PhotonMedium/PhotonMedium.SumPt',\n",
       " 'PhotonMedium/PhotonMedium.Status',\n",
       " 'PhotonMedium_size',\n",
       " 'PhotonTight',\n",
       " 'PhotonTight/PhotonTight.fUniqueID',\n",
       " 'PhotonTight/PhotonTight.fBits',\n",
       " 'PhotonTight/PhotonTight.PT',\n",
       " 'PhotonTight/PhotonTight.Eta',\n",
       " 'PhotonTight/PhotonTight.Phi',\n",
       " 'PhotonTight/PhotonTight.E',\n",
       " 'PhotonTight/PhotonTight.T',\n",
       " 'PhotonTight/PhotonTight.EhadOverEem',\n",
       " 'PhotonTight/PhotonTight.Particles',\n",
       " 'PhotonTight/PhotonTight.IsolationVar',\n",
       " 'PhotonTight/PhotonTight.IsolationVarRhoCorr',\n",
       " 'PhotonTight/PhotonTight.SumPtCharged',\n",
       " 'PhotonTight/PhotonTight.SumPtNeutral',\n",
       " 'PhotonTight/PhotonTight.SumPtChargedPU',\n",
       " 'PhotonTight/PhotonTight.SumPt',\n",
       " 'PhotonTight/PhotonTight.Status',\n",
       " 'PhotonTight_size',\n",
       " 'Electron',\n",
       " 'Electron/Electron.fUniqueID',\n",
       " 'Electron/Electron.fBits',\n",
       " 'Electron/Electron.PT',\n",
       " 'Electron/Electron.Eta',\n",
       " 'Electron/Electron.Phi',\n",
       " 'Electron/Electron.T',\n",
       " 'Electron/Electron.Charge',\n",
       " 'Electron/Electron.EhadOverEem',\n",
       " 'Electron/Electron.Particle',\n",
       " 'Electron/Electron.IsolationVar',\n",
       " 'Electron/Electron.IsolationVarRhoCorr',\n",
       " 'Electron/Electron.SumPtCharged',\n",
       " 'Electron/Electron.SumPtNeutral',\n",
       " 'Electron/Electron.SumPtChargedPU',\n",
       " 'Electron/Electron.SumPt',\n",
       " 'Electron/Electron.D0',\n",
       " 'Electron/Electron.DZ',\n",
       " 'Electron/Electron.ErrorD0',\n",
       " 'Electron/Electron.ErrorDZ',\n",
       " 'Electron_size',\n",
       " 'ElectronLoose',\n",
       " 'ElectronLoose/ElectronLoose.fUniqueID',\n",
       " 'ElectronLoose/ElectronLoose.fBits',\n",
       " 'ElectronLoose/ElectronLoose.PT',\n",
       " 'ElectronLoose/ElectronLoose.Eta',\n",
       " 'ElectronLoose/ElectronLoose.Phi',\n",
       " 'ElectronLoose/ElectronLoose.T',\n",
       " 'ElectronLoose/ElectronLoose.Charge',\n",
       " 'ElectronLoose/ElectronLoose.EhadOverEem',\n",
       " 'ElectronLoose/ElectronLoose.Particle',\n",
       " 'ElectronLoose/ElectronLoose.IsolationVar',\n",
       " 'ElectronLoose/ElectronLoose.IsolationVarRhoCorr',\n",
       " 'ElectronLoose/ElectronLoose.SumPtCharged',\n",
       " 'ElectronLoose/ElectronLoose.SumPtNeutral',\n",
       " 'ElectronLoose/ElectronLoose.SumPtChargedPU',\n",
       " 'ElectronLoose/ElectronLoose.SumPt',\n",
       " 'ElectronLoose/ElectronLoose.D0',\n",
       " 'ElectronLoose/ElectronLoose.DZ',\n",
       " 'ElectronLoose/ElectronLoose.ErrorD0',\n",
       " 'ElectronLoose/ElectronLoose.ErrorDZ',\n",
       " 'ElectronLoose_size',\n",
       " 'ElectronMedium',\n",
       " 'ElectronMedium/ElectronMedium.fUniqueID',\n",
       " 'ElectronMedium/ElectronMedium.fBits',\n",
       " 'ElectronMedium/ElectronMedium.PT',\n",
       " 'ElectronMedium/ElectronMedium.Eta',\n",
       " 'ElectronMedium/ElectronMedium.Phi',\n",
       " 'ElectronMedium/ElectronMedium.T',\n",
       " 'ElectronMedium/ElectronMedium.Charge',\n",
       " 'ElectronMedium/ElectronMedium.EhadOverEem',\n",
       " 'ElectronMedium/ElectronMedium.Particle',\n",
       " 'ElectronMedium/ElectronMedium.IsolationVar',\n",
       " 'ElectronMedium/ElectronMedium.IsolationVarRhoCorr',\n",
       " 'ElectronMedium/ElectronMedium.SumPtCharged',\n",
       " 'ElectronMedium/ElectronMedium.SumPtNeutral',\n",
       " 'ElectronMedium/ElectronMedium.SumPtChargedPU',\n",
       " 'ElectronMedium/ElectronMedium.SumPt',\n",
       " 'ElectronMedium/ElectronMedium.D0',\n",
       " 'ElectronMedium/ElectronMedium.DZ',\n",
       " 'ElectronMedium/ElectronMedium.ErrorD0',\n",
       " 'ElectronMedium/ElectronMedium.ErrorDZ',\n",
       " 'ElectronMedium_size',\n",
       " 'ElectronTight',\n",
       " 'ElectronTight/ElectronTight.fUniqueID',\n",
       " 'ElectronTight/ElectronTight.fBits',\n",
       " 'ElectronTight/ElectronTight.PT',\n",
       " 'ElectronTight/ElectronTight.Eta',\n",
       " 'ElectronTight/ElectronTight.Phi',\n",
       " 'ElectronTight/ElectronTight.T',\n",
       " 'ElectronTight/ElectronTight.Charge',\n",
       " 'ElectronTight/ElectronTight.EhadOverEem',\n",
       " 'ElectronTight/ElectronTight.Particle',\n",
       " 'ElectronTight/ElectronTight.IsolationVar',\n",
       " 'ElectronTight/ElectronTight.IsolationVarRhoCorr',\n",
       " 'ElectronTight/ElectronTight.SumPtCharged',\n",
       " 'ElectronTight/ElectronTight.SumPtNeutral',\n",
       " 'ElectronTight/ElectronTight.SumPtChargedPU',\n",
       " 'ElectronTight/ElectronTight.SumPt',\n",
       " 'ElectronTight/ElectronTight.D0',\n",
       " 'ElectronTight/ElectronTight.DZ',\n",
       " 'ElectronTight/ElectronTight.ErrorD0',\n",
       " 'ElectronTight/ElectronTight.ErrorDZ',\n",
       " 'ElectronTight_size',\n",
       " 'Muon',\n",
       " 'Muon/Muon.fUniqueID',\n",
       " 'Muon/Muon.fBits',\n",
       " 'Muon/Muon.PT',\n",
       " 'Muon/Muon.Eta',\n",
       " 'Muon/Muon.Phi',\n",
       " 'Muon/Muon.T',\n",
       " 'Muon/Muon.Charge',\n",
       " 'Muon/Muon.Particle',\n",
       " 'Muon/Muon.IsolationVar',\n",
       " 'Muon/Muon.IsolationVarRhoCorr',\n",
       " 'Muon/Muon.SumPtCharged',\n",
       " 'Muon/Muon.SumPtNeutral',\n",
       " 'Muon/Muon.SumPtChargedPU',\n",
       " 'Muon/Muon.SumPt',\n",
       " 'Muon/Muon.D0',\n",
       " 'Muon/Muon.DZ',\n",
       " 'Muon/Muon.ErrorD0',\n",
       " 'Muon/Muon.ErrorDZ',\n",
       " 'Muon_size',\n",
       " 'MuonLoose',\n",
       " 'MuonLoose/MuonLoose.fUniqueID',\n",
       " 'MuonLoose/MuonLoose.fBits',\n",
       " 'MuonLoose/MuonLoose.PT',\n",
       " 'MuonLoose/MuonLoose.Eta',\n",
       " 'MuonLoose/MuonLoose.Phi',\n",
       " 'MuonLoose/MuonLoose.T',\n",
       " 'MuonLoose/MuonLoose.Charge',\n",
       " 'MuonLoose/MuonLoose.Particle',\n",
       " 'MuonLoose/MuonLoose.IsolationVar',\n",
       " 'MuonLoose/MuonLoose.IsolationVarRhoCorr',\n",
       " 'MuonLoose/MuonLoose.SumPtCharged',\n",
       " 'MuonLoose/MuonLoose.SumPtNeutral',\n",
       " 'MuonLoose/MuonLoose.SumPtChargedPU',\n",
       " 'MuonLoose/MuonLoose.SumPt',\n",
       " 'MuonLoose/MuonLoose.D0',\n",
       " 'MuonLoose/MuonLoose.DZ',\n",
       " 'MuonLoose/MuonLoose.ErrorD0',\n",
       " 'MuonLoose/MuonLoose.ErrorDZ',\n",
       " 'MuonLoose_size',\n",
       " 'MuonMedium',\n",
       " 'MuonMedium/MuonMedium.fUniqueID',\n",
       " 'MuonMedium/MuonMedium.fBits',\n",
       " 'MuonMedium/MuonMedium.PT',\n",
       " 'MuonMedium/MuonMedium.Eta',\n",
       " 'MuonMedium/MuonMedium.Phi',\n",
       " 'MuonMedium/MuonMedium.T',\n",
       " 'MuonMedium/MuonMedium.Charge',\n",
       " 'MuonMedium/MuonMedium.Particle',\n",
       " 'MuonMedium/MuonMedium.IsolationVar',\n",
       " 'MuonMedium/MuonMedium.IsolationVarRhoCorr',\n",
       " 'MuonMedium/MuonMedium.SumPtCharged',\n",
       " 'MuonMedium/MuonMedium.SumPtNeutral',\n",
       " 'MuonMedium/MuonMedium.SumPtChargedPU',\n",
       " 'MuonMedium/MuonMedium.SumPt',\n",
       " 'MuonMedium/MuonMedium.D0',\n",
       " 'MuonMedium/MuonMedium.DZ',\n",
       " 'MuonMedium/MuonMedium.ErrorD0',\n",
       " 'MuonMedium/MuonMedium.ErrorDZ',\n",
       " 'MuonMedium_size',\n",
       " 'MuonTight',\n",
       " 'MuonTight/MuonTight.fUniqueID',\n",
       " 'MuonTight/MuonTight.fBits',\n",
       " 'MuonTight/MuonTight.PT',\n",
       " 'MuonTight/MuonTight.Eta',\n",
       " 'MuonTight/MuonTight.Phi',\n",
       " 'MuonTight/MuonTight.T',\n",
       " 'MuonTight/MuonTight.Charge',\n",
       " 'MuonTight/MuonTight.Particle',\n",
       " 'MuonTight/MuonTight.IsolationVar',\n",
       " 'MuonTight/MuonTight.IsolationVarRhoCorr',\n",
       " 'MuonTight/MuonTight.SumPtCharged',\n",
       " 'MuonTight/MuonTight.SumPtNeutral',\n",
       " 'MuonTight/MuonTight.SumPtChargedPU',\n",
       " 'MuonTight/MuonTight.SumPt',\n",
       " 'MuonTight/MuonTight.D0',\n",
       " 'MuonTight/MuonTight.DZ',\n",
       " 'MuonTight/MuonTight.ErrorD0',\n",
       " 'MuonTight/MuonTight.ErrorDZ',\n",
       " 'MuonTight_size',\n",
       " 'JetPUPPI',\n",
       " 'JetPUPPI/JetPUPPI.fUniqueID',\n",
       " 'JetPUPPI/JetPUPPI.fBits',\n",
       " 'JetPUPPI/JetPUPPI.PT',\n",
       " 'JetPUPPI/JetPUPPI.Eta',\n",
       " 'JetPUPPI/JetPUPPI.Phi',\n",
       " 'JetPUPPI/JetPUPPI.T',\n",
       " 'JetPUPPI/JetPUPPI.Mass',\n",
       " 'JetPUPPI/JetPUPPI.DeltaEta',\n",
       " 'JetPUPPI/JetPUPPI.DeltaPhi',\n",
       " 'JetPUPPI/JetPUPPI.Flavor',\n",
       " 'JetPUPPI/JetPUPPI.FlavorAlgo',\n",
       " 'JetPUPPI/JetPUPPI.FlavorPhys',\n",
       " 'JetPUPPI/JetPUPPI.TauFlavor',\n",
       " 'JetPUPPI/JetPUPPI.BTag',\n",
       " 'JetPUPPI/JetPUPPI.BTagAlgo',\n",
       " 'JetPUPPI/JetPUPPI.BTagPhys',\n",
       " 'JetPUPPI/JetPUPPI.TauTag',\n",
       " 'JetPUPPI/JetPUPPI.TauWeight',\n",
       " 'JetPUPPI/JetPUPPI.Charge',\n",
       " 'JetPUPPI/JetPUPPI.EhadOverEem',\n",
       " 'JetPUPPI/JetPUPPI.NCharged',\n",
       " 'JetPUPPI/JetPUPPI.NNeutrals',\n",
       " 'JetPUPPI/JetPUPPI.NeutralEnergyFraction',\n",
       " 'JetPUPPI/JetPUPPI.ChargedEnergyFraction',\n",
       " 'JetPUPPI/JetPUPPI.Beta',\n",
       " 'JetPUPPI/JetPUPPI.BetaStar',\n",
       " 'JetPUPPI/JetPUPPI.MeanSqDeltaR',\n",
       " 'JetPUPPI/JetPUPPI.PTD',\n",
       " 'JetPUPPI/JetPUPPI.FracPt[5]',\n",
       " 'JetPUPPI/JetPUPPI.Tau[5]',\n",
       " 'JetPUPPI/JetPUPPI.SoftDroppedJet',\n",
       " 'JetPUPPI/JetPUPPI.SoftDroppedSubJet1',\n",
       " 'JetPUPPI/JetPUPPI.SoftDroppedSubJet2',\n",
       " 'JetPUPPI/JetPUPPI.TrimmedP4[5]',\n",
       " 'JetPUPPI/JetPUPPI.PrunedP4[5]',\n",
       " 'JetPUPPI/JetPUPPI.SoftDroppedP4[5]',\n",
       " 'JetPUPPI/JetPUPPI.NSubJetsTrimmed',\n",
       " 'JetPUPPI/JetPUPPI.NSubJetsPruned',\n",
       " 'JetPUPPI/JetPUPPI.NSubJetsSoftDropped',\n",
       " 'JetPUPPI/JetPUPPI.ExclYmerge12',\n",
       " 'JetPUPPI/JetPUPPI.ExclYmerge23',\n",
       " 'JetPUPPI/JetPUPPI.ExclYmerge34',\n",
       " 'JetPUPPI/JetPUPPI.ExclYmerge45',\n",
       " 'JetPUPPI/JetPUPPI.ExclYmerge56',\n",
       " 'JetPUPPI/JetPUPPI.Constituents',\n",
       " 'JetPUPPI/JetPUPPI.Particles',\n",
       " 'JetPUPPI/JetPUPPI.Area',\n",
       " 'JetPUPPI_size',\n",
       " 'JetPUPPIAK8',\n",
       " 'JetPUPPIAK8/JetPUPPIAK8.fUniqueID',\n",
       " 'JetPUPPIAK8/JetPUPPIAK8.fBits',\n",
       " 'JetPUPPIAK8/JetPUPPIAK8.PT',\n",
       " 'JetPUPPIAK8/JetPUPPIAK8.Eta',\n",
       " 'JetPUPPIAK8/JetPUPPIAK8.Phi',\n",
       " 'JetPUPPIAK8/JetPUPPIAK8.T',\n",
       " 'JetPUPPIAK8/JetPUPPIAK8.Mass',\n",
       " 'JetPUPPIAK8/JetPUPPIAK8.DeltaEta',\n",
       " 'JetPUPPIAK8/JetPUPPIAK8.DeltaPhi',\n",
       " 'JetPUPPIAK8/JetPUPPIAK8.Flavor',\n",
       " 'JetPUPPIAK8/JetPUPPIAK8.FlavorAlgo',\n",
       " 'JetPUPPIAK8/JetPUPPIAK8.FlavorPhys',\n",
       " 'JetPUPPIAK8/JetPUPPIAK8.TauFlavor',\n",
       " 'JetPUPPIAK8/JetPUPPIAK8.BTag',\n",
       " 'JetPUPPIAK8/JetPUPPIAK8.BTagAlgo',\n",
       " 'JetPUPPIAK8/JetPUPPIAK8.BTagPhys',\n",
       " 'JetPUPPIAK8/JetPUPPIAK8.TauTag',\n",
       " 'JetPUPPIAK8/JetPUPPIAK8.TauWeight',\n",
       " 'JetPUPPIAK8/JetPUPPIAK8.Charge',\n",
       " 'JetPUPPIAK8/JetPUPPIAK8.EhadOverEem',\n",
       " 'JetPUPPIAK8/JetPUPPIAK8.NCharged',\n",
       " 'JetPUPPIAK8/JetPUPPIAK8.NNeutrals',\n",
       " 'JetPUPPIAK8/JetPUPPIAK8.NeutralEnergyFraction',\n",
       " 'JetPUPPIAK8/JetPUPPIAK8.ChargedEnergyFraction',\n",
       " 'JetPUPPIAK8/JetPUPPIAK8.Beta',\n",
       " 'JetPUPPIAK8/JetPUPPIAK8.BetaStar',\n",
       " 'JetPUPPIAK8/JetPUPPIAK8.MeanSqDeltaR',\n",
       " 'JetPUPPIAK8/JetPUPPIAK8.PTD',\n",
       " 'JetPUPPIAK8/JetPUPPIAK8.FracPt[5]',\n",
       " 'JetPUPPIAK8/JetPUPPIAK8.Tau[5]',\n",
       " 'JetPUPPIAK8/JetPUPPIAK8.SoftDroppedJet',\n",
       " 'JetPUPPIAK8/JetPUPPIAK8.SoftDroppedSubJet1',\n",
       " 'JetPUPPIAK8/JetPUPPIAK8.SoftDroppedSubJet2',\n",
       " 'JetPUPPIAK8/JetPUPPIAK8.TrimmedP4[5]',\n",
       " 'JetPUPPIAK8/JetPUPPIAK8.PrunedP4[5]',\n",
       " 'JetPUPPIAK8/JetPUPPIAK8.SoftDroppedP4[5]',\n",
       " 'JetPUPPIAK8/JetPUPPIAK8.NSubJetsTrimmed',\n",
       " 'JetPUPPIAK8/JetPUPPIAK8.NSubJetsPruned',\n",
       " 'JetPUPPIAK8/JetPUPPIAK8.NSubJetsSoftDropped',\n",
       " 'JetPUPPIAK8/JetPUPPIAK8.ExclYmerge12',\n",
       " 'JetPUPPIAK8/JetPUPPIAK8.ExclYmerge23',\n",
       " 'JetPUPPIAK8/JetPUPPIAK8.ExclYmerge34',\n",
       " 'JetPUPPIAK8/JetPUPPIAK8.ExclYmerge45',\n",
       " 'JetPUPPIAK8/JetPUPPIAK8.ExclYmerge56',\n",
       " 'JetPUPPIAK8/JetPUPPIAK8.Constituents',\n",
       " 'JetPUPPIAK8/JetPUPPIAK8.Particles',\n",
       " 'JetPUPPIAK8/JetPUPPIAK8.Area',\n",
       " 'JetPUPPIAK8_size',\n",
       " 'JetPUPPILoose',\n",
       " 'JetPUPPILoose/JetPUPPILoose.fUniqueID',\n",
       " 'JetPUPPILoose/JetPUPPILoose.fBits',\n",
       " 'JetPUPPILoose/JetPUPPILoose.PT',\n",
       " 'JetPUPPILoose/JetPUPPILoose.Eta',\n",
       " 'JetPUPPILoose/JetPUPPILoose.Phi',\n",
       " 'JetPUPPILoose/JetPUPPILoose.T',\n",
       " 'JetPUPPILoose/JetPUPPILoose.Mass',\n",
       " 'JetPUPPILoose/JetPUPPILoose.DeltaEta',\n",
       " 'JetPUPPILoose/JetPUPPILoose.DeltaPhi',\n",
       " 'JetPUPPILoose/JetPUPPILoose.Flavor',\n",
       " 'JetPUPPILoose/JetPUPPILoose.FlavorAlgo',\n",
       " 'JetPUPPILoose/JetPUPPILoose.FlavorPhys',\n",
       " 'JetPUPPILoose/JetPUPPILoose.TauFlavor',\n",
       " 'JetPUPPILoose/JetPUPPILoose.BTag',\n",
       " 'JetPUPPILoose/JetPUPPILoose.BTagAlgo',\n",
       " 'JetPUPPILoose/JetPUPPILoose.BTagPhys',\n",
       " 'JetPUPPILoose/JetPUPPILoose.TauTag',\n",
       " 'JetPUPPILoose/JetPUPPILoose.TauWeight',\n",
       " 'JetPUPPILoose/JetPUPPILoose.Charge',\n",
       " 'JetPUPPILoose/JetPUPPILoose.EhadOverEem',\n",
       " 'JetPUPPILoose/JetPUPPILoose.NCharged',\n",
       " 'JetPUPPILoose/JetPUPPILoose.NNeutrals',\n",
       " 'JetPUPPILoose/JetPUPPILoose.NeutralEnergyFraction',\n",
       " 'JetPUPPILoose/JetPUPPILoose.ChargedEnergyFraction',\n",
       " 'JetPUPPILoose/JetPUPPILoose.Beta',\n",
       " 'JetPUPPILoose/JetPUPPILoose.BetaStar',\n",
       " 'JetPUPPILoose/JetPUPPILoose.MeanSqDeltaR',\n",
       " 'JetPUPPILoose/JetPUPPILoose.PTD',\n",
       " 'JetPUPPILoose/JetPUPPILoose.FracPt[5]',\n",
       " 'JetPUPPILoose/JetPUPPILoose.Tau[5]',\n",
       " 'JetPUPPILoose/JetPUPPILoose.SoftDroppedJet',\n",
       " 'JetPUPPILoose/JetPUPPILoose.SoftDroppedSubJet1',\n",
       " 'JetPUPPILoose/JetPUPPILoose.SoftDroppedSubJet2',\n",
       " 'JetPUPPILoose/JetPUPPILoose.TrimmedP4[5]',\n",
       " 'JetPUPPILoose/JetPUPPILoose.PrunedP4[5]',\n",
       " 'JetPUPPILoose/JetPUPPILoose.SoftDroppedP4[5]',\n",
       " 'JetPUPPILoose/JetPUPPILoose.NSubJetsTrimmed',\n",
       " 'JetPUPPILoose/JetPUPPILoose.NSubJetsPruned',\n",
       " 'JetPUPPILoose/JetPUPPILoose.NSubJetsSoftDropped',\n",
       " 'JetPUPPILoose/JetPUPPILoose.ExclYmerge12',\n",
       " 'JetPUPPILoose/JetPUPPILoose.ExclYmerge23',\n",
       " 'JetPUPPILoose/JetPUPPILoose.ExclYmerge34',\n",
       " 'JetPUPPILoose/JetPUPPILoose.ExclYmerge45',\n",
       " 'JetPUPPILoose/JetPUPPILoose.ExclYmerge56',\n",
       " 'JetPUPPILoose/JetPUPPILoose.Constituents',\n",
       " 'JetPUPPILoose/JetPUPPILoose.Particles',\n",
       " 'JetPUPPILoose/JetPUPPILoose.Area',\n",
       " 'JetPUPPILoose_size',\n",
       " 'JetPUPPITight',\n",
       " 'JetPUPPITight/JetPUPPITight.fUniqueID',\n",
       " 'JetPUPPITight/JetPUPPITight.fBits',\n",
       " 'JetPUPPITight/JetPUPPITight.PT',\n",
       " 'JetPUPPITight/JetPUPPITight.Eta',\n",
       " 'JetPUPPITight/JetPUPPITight.Phi',\n",
       " 'JetPUPPITight/JetPUPPITight.T',\n",
       " 'JetPUPPITight/JetPUPPITight.Mass',\n",
       " 'JetPUPPITight/JetPUPPITight.DeltaEta',\n",
       " 'JetPUPPITight/JetPUPPITight.DeltaPhi',\n",
       " 'JetPUPPITight/JetPUPPITight.Flavor',\n",
       " 'JetPUPPITight/JetPUPPITight.FlavorAlgo',\n",
       " 'JetPUPPITight/JetPUPPITight.FlavorPhys',\n",
       " 'JetPUPPITight/JetPUPPITight.TauFlavor',\n",
       " 'JetPUPPITight/JetPUPPITight.BTag',\n",
       " 'JetPUPPITight/JetPUPPITight.BTagAlgo',\n",
       " 'JetPUPPITight/JetPUPPITight.BTagPhys',\n",
       " 'JetPUPPITight/JetPUPPITight.TauTag',\n",
       " 'JetPUPPITight/JetPUPPITight.TauWeight',\n",
       " 'JetPUPPITight/JetPUPPITight.Charge',\n",
       " 'JetPUPPITight/JetPUPPITight.EhadOverEem',\n",
       " 'JetPUPPITight/JetPUPPITight.NCharged',\n",
       " 'JetPUPPITight/JetPUPPITight.NNeutrals',\n",
       " 'JetPUPPITight/JetPUPPITight.NeutralEnergyFraction',\n",
       " 'JetPUPPITight/JetPUPPITight.ChargedEnergyFraction',\n",
       " 'JetPUPPITight/JetPUPPITight.Beta',\n",
       " 'JetPUPPITight/JetPUPPITight.BetaStar',\n",
       " 'JetPUPPITight/JetPUPPITight.MeanSqDeltaR',\n",
       " 'JetPUPPITight/JetPUPPITight.PTD',\n",
       " 'JetPUPPITight/JetPUPPITight.FracPt[5]',\n",
       " 'JetPUPPITight/JetPUPPITight.Tau[5]',\n",
       " 'JetPUPPITight/JetPUPPITight.SoftDroppedJet',\n",
       " 'JetPUPPITight/JetPUPPITight.SoftDroppedSubJet1',\n",
       " 'JetPUPPITight/JetPUPPITight.SoftDroppedSubJet2',\n",
       " 'JetPUPPITight/JetPUPPITight.TrimmedP4[5]',\n",
       " 'JetPUPPITight/JetPUPPITight.PrunedP4[5]',\n",
       " 'JetPUPPITight/JetPUPPITight.SoftDroppedP4[5]',\n",
       " 'JetPUPPITight/JetPUPPITight.NSubJetsTrimmed',\n",
       " 'JetPUPPITight/JetPUPPITight.NSubJetsPruned',\n",
       " 'JetPUPPITight/JetPUPPITight.NSubJetsSoftDropped',\n",
       " 'JetPUPPITight/JetPUPPITight.ExclYmerge12',\n",
       " 'JetPUPPITight/JetPUPPITight.ExclYmerge23',\n",
       " 'JetPUPPITight/JetPUPPITight.ExclYmerge34',\n",
       " 'JetPUPPITight/JetPUPPITight.ExclYmerge45',\n",
       " 'JetPUPPITight/JetPUPPITight.ExclYmerge56',\n",
       " 'JetPUPPITight/JetPUPPITight.Constituents',\n",
       " 'JetPUPPITight/JetPUPPITight.Particles',\n",
       " 'JetPUPPITight/JetPUPPITight.Area',\n",
       " 'JetPUPPITight_size',\n",
       " 'Rho',\n",
       " 'Rho/Rho.fUniqueID',\n",
       " 'Rho/Rho.fBits',\n",
       " 'Rho/Rho.Rho',\n",
       " 'Rho/Rho.Edges[2]',\n",
       " 'Rho_size',\n",
       " 'PuppiMissingET',\n",
       " 'PuppiMissingET/PuppiMissingET.fUniqueID',\n",
       " 'PuppiMissingET/PuppiMissingET.fBits',\n",
       " 'PuppiMissingET/PuppiMissingET.MET',\n",
       " 'PuppiMissingET/PuppiMissingET.Eta',\n",
       " 'PuppiMissingET/PuppiMissingET.Phi',\n",
       " 'PuppiMissingET_size',\n",
       " 'GenPileUpMissingET',\n",
       " 'GenPileUpMissingET/GenPileUpMissingET.fUniqueID',\n",
       " 'GenPileUpMissingET/GenPileUpMissingET.fBits',\n",
       " 'GenPileUpMissingET/GenPileUpMissingET.MET',\n",
       " 'GenPileUpMissingET/GenPileUpMissingET.Eta',\n",
       " 'GenPileUpMissingET/GenPileUpMissingET.Phi',\n",
       " 'GenPileUpMissingET_size',\n",
       " 'ScalarHT',\n",
       " 'ScalarHT/ScalarHT.fUniqueID',\n",
       " 'ScalarHT/ScalarHT.fBits',\n",
       " 'ScalarHT/ScalarHT.HT',\n",
       " 'ScalarHT_size']"
      ]
     },
     "execution_count": 7,
     "metadata": {},
     "output_type": "execute_result"
    }
   ],
   "source": [
    "tree = root['Delphes']\n",
    "tree.keys()"
   ]
  },
  {
   "cell_type": "code",
   "execution_count": 8,
   "id": "0d134ac8",
   "metadata": {
    "scrolled": false
   },
   "outputs": [
    {
     "name": "stdout",
     "output_type": "stream",
     "text": [
      "[201, 207, 198, 220, 187, 181, 225, 226, ... 196, 187, 193, 193, 186, 205, 201, 186]\n",
      "250\n",
      "50017\n"
     ]
    }
   ],
   "source": [
    "Vertex_Size=tree['Vertex_size'].array()\n",
    "n_events=len(Vertex_Size)\n",
    "print(Vertex_Size)\n",
    "print(n_events)\n",
    "print(np.sum(Vertex_Size))"
   ]
  },
  {
   "cell_type": "markdown",
   "id": "4fcb7064",
   "metadata": {},
   "source": [
    "# Making some plots \n"
   ]
  },
  {
   "cell_type": "code",
   "execution_count": 9,
   "id": "05aeff28",
   "metadata": {},
   "outputs": [
    {
     "data": {
      "text/plain": [
       "[Text(0.5, 0, 'Número de múons no evento'),\n",
       " Text(0, 0.5, 'Número de Muons eventos')]"
      ]
     },
     "execution_count": 9,
     "metadata": {},
     "output_type": "execute_result"
    },
    {
     "data": {
      "image/png": "[encoded data removed]",
      "text/plain": [
       "<Figure size 720x720 with 1 Axes>"
      ]
     },
     "metadata": {
      "needs_background": "light"
     },
     "output_type": "display_data"
    }
   ],
   "source": [
    "# Histogram for n_muons\n",
    "Muon=tree['Muon_size'].array()\n",
    "MuonLoose=tree['MuonLoose_size'].array()\n",
    "MuonTight=tree['MuonTight_size'].array()\n",
    "f,ax = plt.subplots(figsize=(10,10))\n",
    "plt.hist(Muon, bins=10, range=(0,10),label='Muon',alpha=1)\n",
    "plt.hist(MuonLoose, bins=10,label='MuonLoose',alpha=0.5)\n",
    "plt.hist(MuonTight, bins=10,label='MuonTight',alpha=0.5)\n",
    "ax.legend(); \n",
    "ax.set(xlabel='Número de múons no evento', ylabel='Número de Muons eventos')"
   ]
  },
  {
   "cell_type": "code",
   "execution_count": 10,
   "id": "84815cec",
   "metadata": {},
   "outputs": [
    {
     "name": "stdout",
     "output_type": "stream",
     "text": [
      "[585, 595, 563, 626, 537, 511, 691, 694, ... 546, 543, 539, 559, 554, 576, 565, 531]\n"
     ]
    },
    {
     "data": {
      "text/plain": [
       "(array([ 1.,  1.,  9., 51., 69., 55., 45., 12.,  5.,  2.]),\n",
       " array([419. , 452.4, 485.8, 519.2, 552.6, 586. , 619.4, 652.8, 686.2,\n",
       "        719.6, 753. ]),\n",
       " <BarContainer object of 10 artists>)"
      ]
     },
     "execution_count": 10,
     "metadata": {},
     "output_type": "execute_result"
    },
    {
     "data": {
      "image/png": "[encoded data removed]",
      "text/plain": [
       "<Figure size 432x288 with 1 Axes>"
      ]
     },
     "metadata": {
      "needs_background": "light"
     },
     "output_type": "display_data"
    }
   ],
   "source": [
    "protons_por_evento=tree['GenProton'].array()\n",
    "print(protons_por_evento)\n",
    "plt.hist(protons_por_evento,bins=10)"
   ]
  },
  {
   "cell_type": "code",
   "execution_count": 11,
   "id": "293d4d2f",
   "metadata": {},
   "outputs": [
    {
     "name": "stdout",
     "output_type": "stream",
     "text": [
      "For xi range of (0.015,0.196) proton pz is in range from 5628.00 to 6897.10 GeV\n",
      "5518.24\n",
      "6905.332\n"
     ]
    }
   ],
   "source": [
    "# single beam energy:\n",
    "ebeam=7000.\n",
    "# collision energy:\n",
    "ecms=2*ebeam\n",
    "# xi acceptance from Table 4 on page 40 of https://cds.cern.ch/record/2750358/files/NOTE2020_008.pdf:\n",
    "_mode='vertical'\n",
    "xi_min = 0.0147 # using the 234m station\n",
    "xi_max = 0.196 # using the 196m station\n",
    "pz_min = (1-xi_max)*ebeam\n",
    "pz_max = (1-xi_min)*ebeam\n",
    "# print limiting xi and pz:\n",
    "pz_min1 =(1-1.08*xi_max)*ebeam\n",
    "pz_max1 =(1-0.92*xi_min)*ebeam\n",
    "print('For xi range of (%2.3f,%2.3f) proton pz is in range from %2.2f to %2.2f GeV'%(xi_min,xi_max,pz_min,pz_max))\n",
    "print(pz_min1)\n",
    "print(pz_max1)"
   ]
  },
  {
   "cell_type": "code",
   "execution_count": 12,
   "id": "650f4f8a",
   "metadata": {},
   "outputs": [
    {
     "name": "stdout",
     "output_type": "stream",
     "text": [
      "[[6.73e+03, -6.78e+03, -1.52, -33.2, -1.72e+03, ... -9.81, -453, 1.2e+03, 3.15]]\n",
      "[[True, True, False, False, False, False, ... False, False, False, False, False]]\n"
     ]
    },
    {
     "data": {
      "text/plain": [
       "2568"
      ]
     },
     "execution_count": 12,
     "metadata": {},
     "output_type": "execute_result"
    }
   ],
   "source": [
    "Protons_Pz = tree['GenProton.Pz'].array()\n",
    "Pz_mask = (abs(Protons_Pz) > (pz_min)) & (abs(Protons_Pz) < (pz_max))\n",
    "\n",
    "print(Protons_Pz)\n",
    "print(Pz_mask)\n",
    "np.sum(Pz_mask)"
   ]
  },
  {
   "cell_type": "code",
   "execution_count": 13,
   "id": "76af10de",
   "metadata": {},
   "outputs": [
    {
     "name": "stdout",
     "output_type": "stream",
     "text": [
      "250\n"
     ]
    }
   ],
   "source": [
    "protons = tree.arrays(['GenProton.Pz','GenProton.Z','GenProton.IsPU','GenProton.T'],  cut=\"(abs(GenProton.Pz)>%g) & (abs(GenProton.Pz)<%g)\"%(pz_min,pz_max))\n",
    "print(len(protons))"
   ]
  },
  {
   "cell_type": "code",
   "execution_count": 14,
   "id": "ee947b07",
   "metadata": {},
   "outputs": [],
   "source": [
    "zpos=23400\n",
    "\n",
    "# time resolution for main vertex:\n",
    "tvertex=40e-12\n",
    "# time resolution for proton in PPS:\n",
    "tpps=30e-12\n",
    "\n",
    "convert_nanosec=1e9\n",
    "trP=(convert_nanosec)*tpps\n",
    "trM=(convert_nanosec)*tvertex\n",
    "\n",
    "\n",
    "# setting initial vars:\n",
    "N_Protons=np.zeros(len(protons)).astype(int) # number of protons in each event that pass the PPS criteria\n",
    "GenProton_pz=protons['GenProton.Pz']\n",
    "GenProton_vz=protons['GenProton.Z']\n",
    "GenProton_ispu=protons['GenProton.IsPU']\n",
    "GenProton_t=(convert_nanosec)*protons['GenProton.T'] # convert timing to nanosec\n",
    "\n",
    "# setting vars for elements passing criteria of pz_min and pz_max of protons:\n",
    "PassPz_Proton_pz=[]\n",
    "PassPz_Proton_vz=[]\n",
    "PassPz_Proton_ispu=[]\n",
    "PassPz_Proton_t=[]\n",
    "PassPz_Proton_tsmeared=[]\n",
    "PassPz_Proton_xi=[]\n",
    "PassPz_Proton_PU=[]\n",
    "\n",
    "# store sign of proton:\n",
    "sig=[]"
   ]
  },
  {
   "cell_type": "code",
   "execution_count": 15,
   "id": "66c5093b",
   "metadata": {},
   "outputs": [
    {
     "name": "stderr",
     "output_type": "stream",
     "text": [
      "100%|██████████| 250/250 [00:01<00:00, 141.70it/s]\n"
     ]
    }
   ],
   "source": [
    "# loop over events in GenProton_pz branch:\n",
    "for i in tqdm(range(len(GenProton_pz))):\n",
    "    _pz=GenProton_pz[i]\n",
    "    _xi=1-np.abs(_pz)/ebeam\n",
    "    # smear with 2% uncertainty:\n",
    "    _uncert=0.02\n",
    "    _xi_smear=_xi*(1+np.random.normal(0,_uncert,len(_xi)))\n",
    "    _pz_smear=ebeam*(1-_xi_smear)\n",
    "    _t=np.zeros(len(_pz))\n",
    "    \n",
    "    # converting light speed from m/s to cm/ns:\n",
    "    convert_m_to_cm=1e2\n",
    "    c=3e8 # why not 299 792 458 m/s ?\n",
    "    lightspeed=c*convert_m_to_cm/convert_nanosec\n",
    "    \n",
    "    # loop over proton pz and store timing:\n",
    "    for k in range(len(_pz)):\n",
    "        if _pz[k]>0:\n",
    "            _t[k]=(GenProton_t[i][k]+(zpos-GenProton_vz[i][k])/lightspeed)\n",
    "        else: \n",
    "            _t[k]=(GenProton_t[i][k]+(zpos+GenProton_vz[i][k])/lightspeed)\n",
    "\n",
    "    # smear timing around PPS resolution:\n",
    "    _tsmear=_t+np.random.normal(0,trP,len(_t))\n",
    "    \n",
    "    # a counter for protons:\n",
    "    _Npr=0\n",
    "\n",
    "    # PassPz :: loop over proton pz and store passing events within smearing:\n",
    "    # [i] == event\n",
    "    # [k] == proton in event\n",
    "    for k in range(len(_pz)):\n",
    "        if (abs(_pz_smear[k])>pz_min) and (abs(_pz_smear[k])<pz_max):\n",
    "            sig.append(np.sign(_pz[k])) #Storing the Pz sign of each proton\n",
    "            PassPz_Proton_pz.append(_pz_smear[k])\n",
    "            PassPz_Proton_xi.append(_xi_smear[k])\n",
    "            PassPz_Proton_vz.append(GenProton_vz[i][k])\n",
    "            PassPz_Proton_PU.append(GenProton_ispu[i][k])\n",
    "            PassPz_Proton_t.append(_t[k])\n",
    "            PassPz_Proton_tsmeared.append(_tsmear[k])\n",
    "            _Npr=_Npr+1\n",
    "    \n",
    "    # count number of protons passing PPS criteria after the smearing\n",
    "    N_Protons[i]=_Npr"
   ]
  },
  {
   "cell_type": "code",
   "execution_count": 16,
   "id": "23017207",
   "metadata": {},
   "outputs": [
    {
     "name": "stdout",
     "output_type": "stream",
     "text": [
      "O número de eventos é: 250\n",
      "The total number of protons that passed the criteria is 2549\n"
     ]
    },
    {
     "data": {
      "text/plain": [
       "(array([ 1.,  5., 16., 16., 69., 62., 33., 28., 15.,  4.]),\n",
       " array([ 1. ,  2.7,  4.4,  6.1,  7.8,  9.5, 11.2, 12.9, 14.6, 16.3, 18. ]),\n",
       " <BarContainer object of 10 artists>)"
      ]
     },
     "execution_count": 16,
     "metadata": {},
     "output_type": "execute_result"
    },
    {
     "data": {
      "image/png": "[encoded data removed]",
      "text/plain": [
       "<Figure size 432x288 with 1 Axes>"
      ]
     },
     "metadata": {
      "needs_background": "light"
     },
     "output_type": "display_data"
    }
   ],
   "source": [
    "print('O número de eventos é:', len(N_Protons))\n",
    "print('The total number of protons that passed the criteria is', np.sum(N_Protons))\n",
    "plt.hist(N_Protons, bins=10, range=(1,18))\n",
    "#for i in range(len(N_Protons)):\n",
    " #   print(N_Protons[i])"
   ]
  },
  {
   "cell_type": "markdown",
   "id": "91f5ea55",
   "metadata": {},
   "source": [
    "At this point the vector N_Protons has stored the number of protons on each event that passed the PPS criteria after the smearing. This vetor is important because it's order contains how many (and which) protons are present in each event. In the next steps, when analysing the leptons, we must keep track of which event those leptons came from. This is done by keeping the order of each of those 250 events in the vector. "
   ]
  },
  {
   "cell_type": "code",
   "execution_count": 17,
   "id": "59802b8f",
   "metadata": {},
   "outputs": [
    {
     "name": "stdout",
     "output_type": "stream",
     "text": [
      "The total number of protons lost after applying the smearing was 19\n"
     ]
    }
   ],
   "source": [
    "print(\"The total number of protons lost after applying the smearing was\",  np.sum(Pz_mask)-np.sum(N_Protons))"
   ]
  },
  {
   "cell_type": "markdown",
   "id": "454993df",
   "metadata": {},
   "source": [
    "# Sorting Protons by Pz Direction"
   ]
  },
  {
   "cell_type": "code",
   "execution_count": 18,
   "id": "b919d8f7",
   "metadata": {},
   "outputs": [
    {
     "name": "stderr",
     "output_type": "stream",
     "text": [
      "250it [00:00, 73347.51it/s]\n"
     ]
    }
   ],
   "source": [
    "# prep store for proton sign and pairs:\n",
    "ProtonsNeg = np.zeros(n_events)\n",
    "ProtonsPos = np.zeros(n_events)\n",
    "N_Pairs = np.zeros(n_events) # possible combinations for 2 protons on both sectors\n",
    "###nprot = np.zeros(n_events) # can be removed?\n",
    "\n",
    "# simple counter:\n",
    "_count=0\n",
    "\n",
    "# loop over protons that passed the PassPz criteria:\n",
    "# ev == event (first index)\n",
    "# nprotons == secondary index to loop over protons in event (ev)\n",
    "for ev,_nprotons in tqdm(enumerate(N_Protons)):\n",
    "    # check sign:\n",
    "    for i in range(_nprotons):\n",
    "        if (sig[_count+i]>0):\n",
    "            ProtonsPos[ev] = ProtonsPos[ev]+1\n",
    "        else:\n",
    "            ProtonsNeg[ev] = ProtonsNeg[ev]+1\n",
    "        N_Pairs = ProtonsPos*ProtonsNeg\n",
    "    _count = _count + _nprotons"
   ]
  },
  {
   "cell_type": "code",
   "execution_count": 19,
   "id": "4e24455e",
   "metadata": {},
   "outputs": [
    {
     "name": "stdout",
     "output_type": "stream",
     "text": [
      "2549.0\n"
     ]
    }
   ],
   "source": [
    "print(np.sum(ProtonsPos)+np.sum(ProtonsNeg))"
   ]
  },
  {
   "cell_type": "markdown",
   "id": "46fa747b",
   "metadata": {},
   "source": [
    "# Analyzing Electrons and Muons separetely "
   ]
  },
  {
   "cell_type": "markdown",
   "id": "fd03f002",
   "metadata": {},
   "source": [
    "Gathering variables for Electrons and Muons and defining usefull vectors."
   ]
  },
  {
   "cell_type": "code",
   "execution_count": 20,
   "id": "1f9f9804",
   "metadata": {},
   "outputs": [],
   "source": [
    "#ELECTRON TIGHT\n",
    "\n",
    "N_TElectrons=tree['ElectronTight_size'].array()\n",
    "TElectron_pt=tree['ElectronTight.PT'].array()\n",
    "TElectron_eta=tree['ElectronTight.Eta'].array()\n",
    "TElectron_phi=tree['ElectronTight.Phi'].array()\n",
    "TElectron_T=tree['ElectronTight.T'].array()\n",
    "\n",
    "\n",
    "VertexT_CMS=(convert_nanosec)*tree['Vertex.T'].array() # converted to nanosec\n",
    "\n",
    "TElectron_VT=VertexT_CMS+np.random.normal(0,trM,len(VertexT_CMS)) \n",
    "TElectron_Vz=tree['Vertex.Z'].array() #This is the same for all particles\n",
    "\n",
    "\n",
    "AllTElectron_eta=[]\n",
    "AllTElectron_pt=[]\n",
    "AllTElectron_phi=[]\n",
    "noTElectrons=np.zeros((len(N_TElectrons)))\n",
    "\n",
    "\n",
    "# Setting all variables for Electrons Tight:\n",
    "TElectron_yll=[]\n",
    "TElectron_yll=[]\n",
    "TElectron_SumET=[]\n",
    "TElectron_SumPz=[]\n",
    "TElectron_mll=[]\n",
    "TElectron_mll=[]\n",
    "TElectron_Lead_pt=[] # leading Electron\n",
    "TElectron_SubL_pt=[] # subleading Electron\n",
    "TElectron_T=[]\n",
    "TElectron_z=[]\n",
    "\n",
    "#MUONS\n",
    "\n",
    "N_Muons=tree['Muon_size'].array()\n",
    "Muon_pt=tree['Muon.PT'].array()\n",
    "Muon_eta=tree['Muon.Eta'].array()\n",
    "Muon_phi=tree['Muon.Phi'].array()\n",
    "Muon_T=tree['Muon.T'].array()\n",
    "#Muon_z=tree_['Vertex.Z'].array()\n",
    "\n",
    "#MUONS TIGHT\n",
    "N_TMuons=tree['MuonTight_size'].array()\n",
    "TMuon_pt=tree['MuonTight.PT'].array()\n",
    "TMuon_eta=tree['MuonTight.Eta'].array()\n",
    "TMuon_phi=tree['MuonTight.Phi'].array()\n",
    "VertexT_CMS=(convert_nanosec)*tree['Vertex.T'].array() # converted to nanosec\n",
    "TMuon_VT=VertexT_CMS+np.random.normal(0,trM,len(VertexT_CMS))\n",
    "TMuon_Vz=tree['Vertex.Z'].array()\n",
    "\n",
    "# setting initial vars for muons:\n",
    "Muon_yll=[]\n",
    "TMuon_yll=[]\n",
    "TMuon_SumET=[]\n",
    "TMuon_SumPz=[]\n",
    "Muon_mll=[]\n",
    "TMuon_mll=[]\n",
    "TMuon_Lead_pt=[] # leading muon\n",
    "TMuon_SubL_pt=[] # subleading muon\n",
    "TMuon_T=[]\n",
    "TMuon_z=[]\n",
    "\n",
    "# Definindo coisas pro Muon:\n",
    "Muon_Lead_pt=[]\n",
    "Muon_Sub_pt=[]\n",
    "\n",
    "# for muons before selection\n",
    "AllTMuon_eta=[]\n",
    "AllTMuon_pt=[]\n",
    "AllTMuon_phi=[]\n",
    "\n",
    "# save events without tight muon plus 2 protons:\n",
    "noMuons=np.zeros((len(N_TMuons)))"
   ]
  },
  {
   "cell_type": "markdown",
   "id": "12a15423",
   "metadata": {},
   "source": [
    "For event we must find the Muons and Electrons with greater 'pt' (leading) and second greater 'pt' (subleading)."
   ]
  },
  {
   "cell_type": "code",
   "execution_count": 21,
   "id": "57c1b21a",
   "metadata": {},
   "outputs": [
    {
     "name": "stderr",
     "output_type": "stream",
     "text": [
      "250it [00:00, 18171.95it/s]\n"
     ]
    }
   ],
   "source": [
    "#loop over electrons tight:\n",
    "\n",
    "for _ev,_nelec in tqdm(enumerate(N_TElectrons)):\n",
    "    # reset muon kinematics:\n",
    "    _e1_pt=0; _e1_eta=0; _e1_phi=0; _e1_t=0; _e1_z=0\n",
    "    _e2_pt=0; _e2_eta=0; _e2_phi=0; _e2_t=0; _e2_z=0\n",
    "\n",
    "    for i in range(_nelec):\n",
    "        # search for leading electron:\n",
    "        if TElectron_pt[_ev][i]>_e1_pt:\n",
    "            # store subleading electron:\n",
    "            _e2_pt = _e1_pt\n",
    "            _e2_eta = _e1_eta\n",
    "            _e2_phi = _e1_phi     \n",
    "            # store leading electron:\n",
    "            _e1_pt = TElectron_pt[_ev][i]\n",
    "            _e1_eta = TElectron_eta[_ev][i]\n",
    "            _e1_phi = TElectron_phi[_ev][i]\n",
    "        elif TElectron_pt[_ev][i]>_e2_pt:\n",
    "            # if last, store subleading muon:\n",
    "            _e2_pt = TElectron_pt[_ev][i]\n",
    "            _e2_eta = TElectron_eta[_ev][i]\n",
    "            _e2_phi = TElectron_phi[_ev][i]\n",
    "\n",
    "    # Eta for all Electrons\n",
    "    AllTElectron_eta.append(_e1_eta)\n",
    "    AllTElectron_eta.append(_e2_eta)\n",
    "    \n",
    "    #Pt for all Electrons\n",
    "    AllTElectron_pt.append(_e1_pt)\n",
    "    AllTElectron_pt.append(_e2_pt)\n",
    "    \n",
    "    #Phi for all Electrons\n",
    "    AllTElectron_phi.append(_e1_phi)\n",
    "    AllTElectron_phi.append(_e2_phi)\n",
    "    \n",
    "    # if valid event with 2 ELECTRONS and 2 PROTONS in PPS:\n",
    "    if (_e1_pt!=0) and (_e2_pt!=0) and (ProtonsPos[_ev]!=0) and (ProtonsNeg[_ev]!=0):\n",
    "        # save the leading and subleading electrons:\n",
    "        TElectron_Lead_pt.append(_e1_pt)\n",
    "        TElectron_SubL_pt.append(_e2_pt)\n",
    "        ########### compute invariant mass of lepton pair:\n",
    "        TElectron_SumET.append(_e1_pt*np.cosh(_e1_eta)+_e2_pt*np.cosh(_e2_eta)) # sumET = pt1*cosh(eta1) + pt2*cosh(eta2)\n",
    "        _sumTPx = _e1_pt*np.cos(_e1_phi)+_e2_pt*np.cos(_e2_phi) # sumTPx = pt1*cos(phi1) + pt2*cos(phi2)\n",
    "        _sumTPy = _e1_pt*np.sin(_e1_phi)+_e2_pt*np.sin(_e2_phi) # sumTPy = pt1*sin(phi1) + pt2*sin(phi2)\n",
    "        TElectron_SumPz.append(_e1_pt*np.sinh(_e1_eta)+_e2_pt*np.sinh(_e2_eta))  # sumTPz = pt1*sinh(eta1) + pt2*sinh(eta2)\n",
    "        # building the dilepton:\n",
    "        #_di_TMuonP = np.sqrt(_sumTPx**2 + _sumTPy**2 + ( _mu1_pt*np.sinh(_mu1_eta)+_mu2_pt*np.sinh(_mu2_eta) )**2)\n",
    "        _di_TElectronP = np.sqrt( _sumTPx**2 + _sumTPy**2 + TElectron_SumPz[-1]**2 )\n",
    "        #_mllt2 = (_mu1_pt*np.cosh(_mu1_eta)+_mu2_pt*np.cosh(_mu2_eta))**2 - _di_TMuonP**2  # - sumTPx**2 - sumTPy**2 - sumTPz**2\n",
    "        _mllt2 = TElectron_SumET[-1]**2 - _di_TElectronP**2\n",
    "        # physics check:\n",
    "        if(_mllt2<0): _mllt2=0\n",
    "        TElectron_mll.append(np.sqrt(_mllt2))\n",
    "        #TMuon_yll[_ev]=_mu1_eta+_mu2_eta\n",
    "        TElectron_T.append(TElectron_VT[_ev])\n",
    "        TElectron_z.append(TElectron_Vz[_ev])\n",
    "        # define rapidity of dilepton:\n",
    "        #TMuon_yll = (1/2) log (sumET+sumTPz/sumET-sumTPz)\n",
    "        #TMuon_yll.append(0.5*np.log(((_mu1_pt*np.cosh(_mu1_eta)+_mu2_pt*np.cosh(_mu2_eta))+(_mu1_pt*np.sinh(_mu1_eta)+_mu2_pt*np.sinh(_mu2_eta)))/((_mu1_pt*np.cosh(_mu1_eta)+_mu2_pt*np.cosh(_mu2_eta))-(_mu1_pt*np.sinh(_mu1_eta)+_mu2_pt*np.sinh(_mu2_eta)))))\n",
    "        # compute rapidity from last object appended ([-1])\n",
    "        TElectron_yll.append( 0.5*np.log( (TElectron_SumET[-1] + TElectron_SumPz[-1])/(TElectron_SumET[-1] - TElectron_SumPz[-1]) ) )\n",
    "    else: #if not 2 Electrons plus 2 protons:\n",
    "        noTElectrons[_ev] = 1\n",
    "    "
   ]
  },
  {
   "cell_type": "code",
   "execution_count": 22,
   "id": "1f1d1609",
   "metadata": {},
   "outputs": [
    {
     "name": "stdout",
     "output_type": "stream",
     "text": [
      "500\n"
     ]
    }
   ],
   "source": [
    "print(len(AllTElectron_eta))"
   ]
  },
  {
   "cell_type": "code",
   "execution_count": 23,
   "id": "a28ddafb",
   "metadata": {},
   "outputs": [
    {
     "name": "stderr",
     "output_type": "stream",
     "text": [
      "250it [00:00, 16350.79it/s]\n"
     ]
    }
   ],
   "source": [
    "# loop over tight muons:\n",
    "for _ev,_nmuons in tqdm(enumerate(N_TMuons)):\n",
    "    # reset muon kinematics:\n",
    "    _mu1_pt=0; _mu1_eta=0; _mu1_phi=0; _mu1_t=0; _mu1_z=0\n",
    "    _mu2_pt=0; _mu2_eta=0; _mu2_phi=0; _mu2_t=0; _mu2_z=0\n",
    "\n",
    "    for i in range(_nmuons):\n",
    "        # search for leading muon:\n",
    "        if TMuon_pt[_ev][i]>_mu1_pt:\n",
    "            # store subleading muon:\n",
    "            _mu2_pt = _mu1_pt\n",
    "            _mu2_eta = _mu1_eta\n",
    "            _mu2_phi = _mu1_phi     \n",
    "            # store leading muon:\n",
    "            _mu1_pt = TMuon_pt[_ev][i]\n",
    "            _mu1_eta = TMuon_eta[_ev][i]\n",
    "            _mu1_phi = TMuon_phi[_ev][i]\n",
    "        elif TMuon_pt[_ev][i]>_mu2_pt:\n",
    "            # if last, store subleading muon:\n",
    "            _mu2_pt = TMuon_pt[_ev][i]\n",
    "            _mu2_eta = TMuon_eta[_ev][i]\n",
    "            _mu2_phi = TMuon_phi[_ev][i]\n",
    "\n",
    "    # Eta for all muons:\n",
    "    AllTMuon_eta.append(_mu1_eta)\n",
    "    AllTMuon_eta.append(_mu2_eta)  \n",
    "        \n",
    "    # Pt for all muons:\n",
    "    AllTMuon_pt.append(_mu1_pt)\n",
    "    AllTMuon_pt.append(_mu2_pt)\n",
    "    \n",
    "    # Phi for all muons:\n",
    "    AllTMuon_phi.append(_mu1_phi)    \n",
    "    AllTMuon_phi.append(_mu2_phi)\n",
    "    \n",
    "    \n",
    "    \n",
    "    # if valid event with 2 muons and 2 protons in PPS:\n",
    "    if (_mu1_pt!=0) and (_mu2_pt!=0) and (ProtonsPos[_ev]!=0) and (ProtonsNeg[_ev]!=0):\n",
    "        # save the muons for leading and subleading:\n",
    "        TMuon_Lead_pt.append(_mu1_pt)\n",
    "        TMuon_SubL_pt.append(_mu2_pt)\n",
    "        # compute invariant mass of lepton pair:\n",
    "        TMuon_SumET.append(_mu1_pt*np.cosh(_mu1_eta)+_mu2_pt*np.cosh(_mu2_eta)) # sumET = pt1*cosh(eta1) + pt2*cosh(eta2)\n",
    "        _sumTPx = _mu1_pt*np.cos(_mu1_phi)+_mu2_pt*np.cos(_mu2_phi) # sumTPx = pt1*cos(phi1) + pt2*cos(phi2)\n",
    "        _sumTPy = _mu1_pt*np.sin(_mu1_phi)+_mu2_pt*np.sin(_mu2_phi) # sumTPy = pt1*sin(phi1) + pt2*sin(phi2)\n",
    "        TMuon_SumPz.append(_mu1_pt*np.sinh(_mu1_eta)+_mu2_pt*np.sinh(_mu2_eta))  # sumTPz = pt1*sinh(eta1) + pt2*sinh(eta2)\n",
    "        # building the dilepton:\n",
    "        #_di_TMuonP = np.sqrt(_sumTPx**2 + _sumTPy**2 + ( _mu1_pt*np.sinh(_mu1_eta)+_mu2_pt*np.sinh(_mu2_eta) )**2)\n",
    "        _di_TMuonP = np.sqrt( _sumTPx**2 + _sumTPy**2 + TMuon_SumPz[-1]**2 )\n",
    "        #_mllt2 = (_mu1_pt*np.cosh(_mu1_eta)+_mu2_pt*np.cosh(_mu2_eta))**2 - _di_TMuonP**2  # - sumTPx**2 - sumTPy**2 - sumTPz**2\n",
    "        _mllt2 = TMuon_SumET[-1]**2 - _di_TMuonP**2\n",
    "        # physics check:\n",
    "        if(_mllt2<0): _mllt2=0\n",
    "        TMuon_mll.append(np.sqrt(_mllt2))\n",
    "        #TMuon_yll[_ev]=_mu1_eta+_mu2_eta\n",
    "        TMuon_T.append(TMuon_VT[_ev])\n",
    "        TMuon_z.append(TMuon_Vz[_ev])\n",
    "        # define rapidity of dilepton:\n",
    "        #TMuon_yll = (1/2) log (sumET+sumTPz/sumET-sumTPz)\n",
    "        #TMuon_yll.append(0.5*np.log(((_mu1_pt*np.cosh(_mu1_eta)+_mu2_pt*np.cosh(_mu2_eta))+(_mu1_pt*np.sinh(_mu1_eta)+_mu2_pt*np.sinh(_mu2_eta)))/((_mu1_pt*np.cosh(_mu1_eta)+_mu2_pt*np.cosh(_mu2_eta))-(_mu1_pt*np.sinh(_mu1_eta)+_mu2_pt*np.sinh(_mu2_eta)))))\n",
    "        # compute rapidity from last object appended ([-1])\n",
    "        TMuon_yll.append( 0.5*np.log((TMuon_SumET[-1] + TMuon_SumPz[-1])/(TMuon_SumET[-1] - TMuon_SumPz[-1])))\n",
    "    else:\n",
    "        # if not 2 muons plus 2 protons:\n",
    "        noMuons[_ev] = 1\n"
   ]
  },
  {
   "cell_type": "code",
   "execution_count": 24,
   "id": "5192be66",
   "metadata": {},
   "outputs": [
    {
     "name": "stdout",
     "output_type": "stream",
     "text": [
      "500\n"
     ]
    }
   ],
   "source": [
    "print(len(AllTMuon_eta))"
   ]
  },
  {
   "cell_type": "markdown",
   "id": "f86a35f0",
   "metadata": {},
   "source": [
    "At this point we have two vectors that contain information for each lepton after the selection. \n",
    "  \n",
    "  For Muons:\n",
    "    \n",
    "    AllTMuon_eta;\n",
    "    noMuons;\n",
    "    \n",
    "  For Electrons:\n",
    "  \n",
    "    AllElectrons_eta;\n",
    "    noElectrons;\n",
    "    \n",
    "Note that in the vectors noMuons and noElectrons the components with 1 represent \"NO\" and those with 0 represent \"YES\" to the question: \"Are there at least 2 leptons and 2 protons in the event?\""
   ]
  },
  {
   "cell_type": "code",
   "execution_count": 25,
   "id": "b7ab5355",
   "metadata": {
    "scrolled": true
   },
   "outputs": [
    {
     "name": "stdout",
     "output_type": "stream",
     "text": [
      "Vector with all Muons_Eta: \n",
      " [0, 0, 0, 0, 0, 0, 0, 0, 0, 0, 0, 0, 0, 0, 0, 0, 0, 0, 0, 0, 1.3373587131500244, 0, -0.19804717600345612, 0, 0, 0, 0, 0, 0, 0, 0, 0, 0, 0, 0, 0, 0, 0, 0, 0, 0, 0, 0, 0, 0, 0, 0, 0, 0, 0, 0, 0, 0, 0, 0, 0, 0, 0, 0, 0, -1.1827458143234253, 0, 0, 0, 0, 0, 0, 0, 0, 0, 0, 0, 0, 0, 0, 0, 0, 0, 0, 0, 0, 0, 0, 0, 0, 0, 0.13084416091442108, 0, 1.5350030660629272, 0, 0, 0, 1.32538640499115, 0, 0, 0, 0, 0, 0, 0, 0, 0, 0, 0, 0, 0, 0, 0, 0, 0, 0, 0, -2.1882710456848145, 0, 0, 0, 0, 0, 0, 0, 0, 0, 0, 0, 0, 0, 0, 0, 0, 0, 0, 0, 0, 0, 0, 0, -0.5607466697692871, 0, 0, 0, -2.1467068195343018, 0, 0, 0, 1.83457612991333, 0, 0, 0, 0, 0, 0, 0, 0, 0, 0, 0, 0, 0, 0, 0, 0, 0, 0, 0, 1.6694610118865967, 0, 0, 0, 0, 0, 0, 0, 0, 0, 0, 0, 0, 0, 0, 0, 0, 0, -1.7816543579101562, 0, 0, 0, 0, 0, 0, 0, 0, 0, 0, 0, 0, 0, 0, 0, 0, 0, 0, 0, 0, 0, 0, 0, 0, 0, 0, 0, 0, 0, 0, 0, -0.8024969100952148, 0, 1.276990532875061, 0, 0, 0, 1.1716018915176392, 0, 0, 0, 0, 0, 0, 0, 1.9418410062789917, 0, 0, 0, 0, 0, 0, 0, 0, 0, -0.42711517214775085, 0, 0, 0, 0, 0, 0, 0, 0, 0, -1.3871937990188599, 0, 0, 0, 2.755866765975952, 0, -1.438021183013916, 0, 0, 0, 0, 0, -1.1255451440811157, 0, 0, 0, 0, 0, 0, 0, 0, 0, 0, 0, 0, 0, 0, 0, 0, 0, 0, 0, 0, 0, 0, 0, 0, 0, -1.2697921991348267, 0, 0, 0, 0, 0, 0, 0, -0.12142077833414078, 0, -0.05413172021508217, 0, 0, 0, 0, 0, 0, 0, 0, 0, 0, 0, 0, 0, 0, 0, -1.670309066772461, 0, 0, 0, 0, 0, -0.15108557045459747, 0, 0, 0, 0, 0, 0, 0, 0, 0, 0, 0, 0, 0, 0, 0, 0, 0, 0, 0, 0, 0, 0, 0, 0, 0, 0, 0, 0, 0, 0, 0, 0, 0, 0, 0, 0, 0, 0, 0, 0, 0, 1.5279945135116577, 0, 0, 0, -1.002720594406128, 0, 0, 0, 0, 0, 0, 0, 0, 0, 0, 0, 1.0374656915664673, 0, 0, 0, 0, 0, 0, 0, 0, 0, 0, 0, 0, 0, 0, 0, -0.09868989139795303, 0, 1.037222981452942, 1.3883651494979858, 0, 0, 0, 0, 0, 0, 0, 0, 0, 0, 0, 0, 0, 0, 0, 0, 0, 0, 0, 0, 0, 0, 0, 0, 0, 0, 0, 0, 0, 0, 0, 0, 0, 0, 0, 0, 0, 0, 2.069547414779663, 0, -0.6067466139793396, 0, 0, 0, 0, 0, 0, 0, 0, 0, 1.8640646934509277, 0, 0, 0, 0, 0, 0, 0, 0, 0, 0, 0, 1.0658365488052368, 0, 0, 0, 0, 0, 0, 0, 0, 0, 0, 0, -1.0189646482467651, 0, 0, 0, 0, 0, 0, 0, -1.3887907266616821, 0, 0, 0, 0, 0, 0, 0, 0, 0, 0, 0, 0, 0, -0.8602212071418762, 0, 0, 0, 0, 0, 0, 0]\n",
      "Vector lengh is: 500\n",
      "\n",
      " Vector with all Electrons_Eta: \n",
      " [0, 0, 0, 0, 0, 0, 0, 0, 0, 0, -2.282892942428589, 0, 0, 0, 0, 0, 0, 0, 0, 0, 0, 0, 0, 0, 0, 0, 0, 0, 0, 0, 0, 0, 0.9331031441688538, 0, 0, 0, 0, 0, 0, 0, 0, 0, 0, 0, 0, 0, 0, 0, 0, 0, 0, 0, 0, 0, 0, 0, 0, 0, 0, 0, 0, 0, 0, 0, 0, 0, 0, 0, 0, 0, 0, 0, -1.909106969833374, 0, 0, 0, 0, 0, 0, 0, 0, 0, 0, 0, 0, 0, 0, 0, 0, 0, 0, 0, 0, 0, 0, 0, 0, 0, 0, 0, 0, 0, 0, 0, 0, 0, 0, 0, 2.4154958724975586, 0, 0, 0, 0, 0, -1.6850110292434692, 0, 0.8941129446029663, 0, 0, 0, 0, 0, 0, 0, 0, 0, 0, 0, 0, 0, 0, 0, -0.2713879942893982, 0, 0, 0, 0, 0, 0, 0, 0, 0, 0, 0, 0, 0, 0, 0, 0, 0, 0, 0, 0, 0, 0, 0, 0, 0, 0, 0, -0.8016991019248962, 0, 0, 0, -2.10274076461792, 0, 0, 0, 0, 0, 0, 0, 0, 0, 0, 0, 0.8444575071334839, 0, 0, 0, 0, 0, 0, 0, -3.9844002723693848, 0, 0, 0, 0, 0, 0, 0, 0, 0, 0, 0, 0, 0, 0, 0, 0, 0, 0, 0, 0, 0, 0, 0, 0, 0, -0.5004829168319702, 0, 0, 0, 0, 0, 0, 0, 0, 0, 0, 0, 0, 0, 0, 0, 0, 0, 0, 0, -1.0238306522369385, 0, 0, 0, 0, 0, 0, 0, 0, 0, 0, 0, 0, 0, 0, 0, 0, 0, 0, 0, 0, 0, 0, 0, 0, 0, 0, 0, -0.8682654500007629, 0, 0, 0, 0, 0, 0, 0, 0, 0, 0, 0, 0, 0, 0, 0, 0, 0, 0, 0, 0, 0, 0, 0, 0, 0, 0, 0, 0, 0, 0.3434199392795563, 0, 0, 0, 0, 0, 0, 0, 0, 0, 0, 0, 0, 0, 0, 0, 0, 0, 0, 0, 0, 0, 0, 0, 0, 0, 0, 0, 0, 0, 0, 0, 0, 0, 0, 0, 0, 0, 0, 0, 0, 0, 0, 0, 0, 0, -1.7282754182815552, 0, 0, 0, 0, 0, 0, 0, 0, 0, 0, 0, 2.6597394943237305, 0, -2.0158426761627197, 0, 0, 0, 2.5524659156799316, 0, 0, 0, 0, 0, -0.891839861869812, 0, 0, 0, 0, 0, 0, 0, 0, 0, 0, 0, 0, 0, 0, 0, 0, 0, -0.3157176971435547, 0, 0, 0, -0.36871081590652466, 0, 0, 0, 0, 0, 0, 0, -1.1185953617095947, 0, 0, 0, 0, 0, 0, 0, 0, 0, 0, 0, 0, 0, 0, 0, 0, 0, 0, 0, 0, 0, 0, 0, 0, 0, 0, 0, -0.3292710483074188, 0, 0, 0, 0, 0, 0, 0, 0.5692036747932434, 0, 0, 0, 0, 0, 0, 0, 0, 0, -1.6665120124816895, 0, -1.2014142274856567, 0, 0, 0, 0, 0, 0, 0, 2.578335762023926, 0, 0, 0, 0, 0, 0, 0, 0, 0, 0, 0, 0, 0, -1.1288636922836304, 0, 0, 0, 0, 0, 1.1241339445114136, 0, 0, 0, 0, 0, 0, 0, -2.160879373550415, 0, 0.048395175486803055, 0, 0, 0, 0, 0, 0, 0, 0, 0, -1.6734561920166016, 1.8147324323654175, 0, 0, 0, 0, 0, 0, 0, 0, 0, 0, 0, 0, 0.657267689704895, 0]\n",
      "Vector lengh is: 500\n"
     ]
    }
   ],
   "source": [
    "print(\"Vector with all Muons_Eta: \\n\",AllTMuon_eta)\n",
    "\n",
    "print(\"Vector lengh is:\",len(AllTMuon_eta))\n",
    "\n",
    "print(\"\\n Vector with all Electrons_Eta: \\n\", AllTElectron_eta)\n",
    "\n",
    "print(\"Vector lengh is:\",len(AllTElectron_eta))"
   ]
  },
  {
   "cell_type": "markdown",
   "id": "47ff36f7",
   "metadata": {},
   "source": [
    "Now we must rearrange those vectors into arrays with 250 lines (one for each event) and 2 columns (for the leading and subleading)."
   ]
  },
  {
   "cell_type": "code",
   "execution_count": 26,
   "id": "0fb6f70a",
   "metadata": {
    "scrolled": true
   },
   "outputs": [
    {
     "name": "stdout",
     "output_type": "stream",
     "text": [
      "[0, 0, 0, 0, 0, 0, 0, 0, 0, 0, 0, 0, 0, 0, 0, 0, 0, 0, 0, 0, 1.3373587131500244, 0, -0.19804717600345612, 0, 0, 0, 0, 0, 0, 0, 0, 0, 0, 0, 0, 0, 0, 0, 0, 0, 0, 0, 0, 0, 0, 0, 0, 0, 0, 0, 0, 0, 0, 0, 0, 0, 0, 0, 0, 0, -1.1827458143234253, 0, 0, 0, 0, 0, 0, 0, 0, 0, 0, 0, 0, 0, 0, 0, 0, 0, 0, 0, 0, 0, 0, 0, 0, 0, 0.13084416091442108, 0, 1.5350030660629272, 0, 0, 0, 1.32538640499115, 0, 0, 0, 0, 0, 0, 0, 0, 0, 0, 0, 0, 0, 0, 0, 0, 0, 0, 0, -2.1882710456848145, 0, 0, 0, 0, 0, 0, 0, 0, 0, 0, 0, 0, 0, 0, 0, 0, 0, 0, 0, 0, 0, 0, 0, -0.5607466697692871, 0, 0, 0, -2.1467068195343018, 0, 0, 0, 1.83457612991333, 0, 0, 0, 0, 0, 0, 0, 0, 0, 0, 0, 0, 0, 0, 0, 0, 0, 0, 0, 1.6694610118865967, 0, 0, 0, 0, 0, 0, 0, 0, 0, 0, 0, 0, 0, 0, 0, 0, 0, -1.7816543579101562, 0, 0, 0, 0, 0, 0, 0, 0, 0, 0, 0, 0, 0, 0, 0, 0, 0, 0, 0, 0, 0, 0, 0, 0, 0, 0, 0, 0, 0, 0, 0, -0.8024969100952148, 0, 1.276990532875061, 0, 0, 0, 1.1716018915176392, 0, 0, 0, 0, 0, 0, 0, 1.9418410062789917, 0, 0, 0, 0, 0, 0, 0, 0, 0, -0.42711517214775085, 0, 0, 0, 0, 0, 0, 0, 0, 0, -1.3871937990188599, 0, 0, 0, 2.755866765975952, 0, -1.438021183013916, 0, 0, 0, 0, 0, -1.1255451440811157, 0, 0, 0, 0, 0, 0, 0, 0, 0, 0, 0, 0, 0, 0, 0, 0, 0, 0, 0, 0, 0, 0, 0, 0, 0, -1.2697921991348267, 0, 0, 0, 0, 0, 0, 0, -0.12142077833414078, 0, -0.05413172021508217, 0, 0, 0, 0, 0, 0, 0, 0, 0, 0, 0, 0, 0, 0, 0, -1.670309066772461, 0, 0, 0, 0, 0, -0.15108557045459747, 0, 0, 0, 0, 0, 0, 0, 0, 0, 0, 0, 0, 0, 0, 0, 0, 0, 0, 0, 0, 0, 0, 0, 0, 0, 0, 0, 0, 0, 0, 0, 0, 0, 0, 0, 0, 0, 0, 0, 0, 0, 1.5279945135116577, 0, 0, 0, -1.002720594406128, 0, 0, 0, 0, 0, 0, 0, 0, 0, 0, 0, 1.0374656915664673, 0, 0, 0, 0, 0, 0, 0, 0, 0, 0, 0, 0, 0, 0, 0, -0.09868989139795303, 0, 1.037222981452942, 1.3883651494979858, 0, 0, 0, 0, 0, 0, 0, 0, 0, 0, 0, 0, 0, 0, 0, 0, 0, 0, 0, 0, 0, 0, 0, 0, 0, 0, 0, 0, 0, 0, 0, 0, 0, 0, 0, 0, 0, 0, 2.069547414779663, 0, -0.6067466139793396, 0, 0, 0, 0, 0, 0, 0, 0, 0, 1.8640646934509277, 0, 0, 0, 0, 0, 0, 0, 0, 0, 0, 0, 1.0658365488052368, 0, 0, 0, 0, 0, 0, 0, 0, 0, 0, 0, -1.0189646482467651, 0, 0, 0, 0, 0, 0, 0, -1.3887907266616821, 0, 0, 0, 0, 0, 0, 0, 0, 0, 0, 0, 0, 0, -0.8602212071418762, 0, 0, 0, 0, 0, 0, 0]\n"
     ]
    }
   ],
   "source": [
    "print(AllTMuon_eta)"
   ]
  },
  {
   "cell_type": "markdown",
   "id": "c8d6ce98",
   "metadata": {},
   "source": [
    "An attempt to organize leptons information in arrays with two components, one for the Leading lepton and the other for Subleading. The final array must have len=250, which is the number of events. "
   ]
  },
  {
   "cell_type": "code",
   "execution_count": 27,
   "id": "ca219df9",
   "metadata": {
    "scrolled": true
   },
   "outputs": [
    {
     "name": "stdout",
     "output_type": "stream",
     "text": [
      "\n",
      " Vector containing pairs of Leading and Sub_Leading for Electrons: \n",
      " [[0, 0], [0, 0], [0, 0], [0, 0], [0, 0], [0, 0], [0, 0], [0, 0], [0, 0], [0, 0], [1.3373587131500244, 0], [-0.19804717600345612, 0], [0, 0], [0, 0], [0, 0], [0, 0], [0, 0], [0, 0], [0, 0], [0, 0], [0, 0], [0, 0], [0, 0], [0, 0], [0, 0], [0, 0], [0, 0], [0, 0], [0, 0], [0, 0], [-1.1827458143234253, 0], [0, 0], [0, 0], [0, 0], [0, 0], [0, 0], [0, 0], [0, 0], [0, 0], [0, 0], [0, 0], [0, 0], [0, 0], [0.13084416091442108, 0], [1.5350030660629272, 0], [0, 0], [1.32538640499115, 0], [0, 0], [0, 0], [0, 0], [0, 0], [0, 0], [0, 0], [0, 0], [0, 0], [0, 0], [-2.1882710456848145, 0], [0, 0], [0, 0], [0, 0], [0, 0], [0, 0], [0, 0], [0, 0], [0, 0], [0, 0], [0, 0], [0, 0], [-0.5607466697692871, 0], [0, 0], [-2.1467068195343018, 0], [0, 0], [1.83457612991333, 0], [0, 0], [0, 0], [0, 0], [0, 0], [0, 0], [0, 0], [0, 0], [0, 0], [0, 0], [1.6694610118865967, 0], [0, 0], [0, 0], [0, 0], [0, 0], [0, 0], [0, 0], [0, 0], [0, 0], [-1.7816543579101562, 0], [0, 0], [0, 0], [0, 0], [0, 0], [0, 0], [0, 0], [0, 0], [0, 0], [0, 0], [0, 0], [0, 0], [0, 0], [0, 0], [0, 0], [0, 0], [-0.8024969100952148, 0], [1.276990532875061, 0], [0, 0], [1.1716018915176392, 0], [0, 0], [0, 0], [0, 0], [1.9418410062789917, 0], [0, 0], [0, 0], [0, 0], [0, 0], [-0.42711517214775085, 0], [0, 0], [0, 0], [0, 0], [0, 0], [-1.3871937990188599, 0], [0, 0], [2.755866765975952, 0], [-1.438021183013916, 0], [0, 0], [0, 0], [-1.1255451440811157, 0], [0, 0], [0, 0], [0, 0], [0, 0], [0, 0], [0, 0], [0, 0], [0, 0], [0, 0], [0, 0], [0, 0], [0, 0], [-1.2697921991348267, 0], [0, 0], [0, 0], [0, 0], [-0.12142077833414078, 0], [-0.05413172021508217, 0], [0, 0], [0, 0], [0, 0], [0, 0], [0, 0], [0, 0], [0, 0], [-1.670309066772461, 0], [0, 0], [0, 0], [-0.15108557045459747, 0], [0, 0], [0, 0], [0, 0], [0, 0], [0, 0], [0, 0], [0, 0], [0, 0], [0, 0], [0, 0], [0, 0], [0, 0], [0, 0], [0, 0], [0, 0], [0, 0], [0, 0], [0, 0], [0, 0], [0, 0], [1.5279945135116577, 0], [0, 0], [-1.002720594406128, 0], [0, 0], [0, 0], [0, 0], [0, 0], [0, 0], [1.0374656915664673, 0], [0, 0], [0, 0], [0, 0], [0, 0], [0, 0], [0, 0], [0, 0], [-0.09868989139795303, 0], [1.037222981452942, 1.3883651494979858], [0, 0], [0, 0], [0, 0], [0, 0], [0, 0], [0, 0], [0, 0], [0, 0], [0, 0], [0, 0], [0, 0], [0, 0], [0, 0], [0, 0], [0, 0], [0, 0], [0, 0], [0, 0], [0, 0], [2.069547414779663, 0], [-0.6067466139793396, 0], [0, 0], [0, 0], [0, 0], [0, 0], [1.8640646934509277, 0], [0, 0], [0, 0], [0, 0], [0, 0], [0, 0], [1.0658365488052368, 0], [0, 0], [0, 0], [0, 0], [0, 0], [0, 0], [-1.0189646482467651, 0], [0, 0], [0, 0], [0, 0], [-1.3887907266616821, 0], [0, 0], [0, 0], [0, 0], [0, 0], [0, 0], [0, 0], [-0.8602212071418762, 0], [0, 0], [0, 0], [0, 0]]\n",
      "\n",
      " Vector containing pairs of Leading and Sub_Leading for Muons: \n",
      " [[0, 0], [0, 0], [0, 0], [0, 0], [0, 0], [-2.282892942428589, 0], [0, 0], [0, 0], [0, 0], [0, 0], [0, 0], [0, 0], [0, 0], [0, 0], [0, 0], [0, 0], [0.9331031441688538, 0], [0, 0], [0, 0], [0, 0], [0, 0], [0, 0], [0, 0], [0, 0], [0, 0], [0, 0], [0, 0], [0, 0], [0, 0], [0, 0], [0, 0], [0, 0], [0, 0], [0, 0], [0, 0], [0, 0], [-1.909106969833374, 0], [0, 0], [0, 0], [0, 0], [0, 0], [0, 0], [0, 0], [0, 0], [0, 0], [0, 0], [0, 0], [0, 0], [0, 0], [0, 0], [0, 0], [0, 0], [0, 0], [0, 0], [2.4154958724975586, 0], [0, 0], [0, 0], [-1.6850110292434692, 0], [0.8941129446029663, 0], [0, 0], [0, 0], [0, 0], [0, 0], [0, 0], [0, 0], [0, 0], [-0.2713879942893982, 0], [0, 0], [0, 0], [0, 0], [0, 0], [0, 0], [0, 0], [0, 0], [0, 0], [0, 0], [0, 0], [0, 0], [0, 0], [0, 0], [-0.8016991019248962, 0], [0, 0], [-2.10274076461792, 0], [0, 0], [0, 0], [0, 0], [0, 0], [0, 0], [0.8444575071334839, 0], [0, 0], [0, 0], [0, 0], [-3.9844002723693848, 0], [0, 0], [0, 0], [0, 0], [0, 0], [0, 0], [0, 0], [0, 0], [0, 0], [0, 0], [0, 0], [0, 0], [0, 0], [-0.5004829168319702, 0], [0, 0], [0, 0], [0, 0], [0, 0], [0, 0], [0, 0], [0, 0], [0, 0], [0, 0], [-1.0238306522369385, 0], [0, 0], [0, 0], [0, 0], [0, 0], [0, 0], [0, 0], [0, 0], [0, 0], [0, 0], [0, 0], [0, 0], [0, 0], [0, 0], [-0.8682654500007629, 0], [0, 0], [0, 0], [0, 0], [0, 0], [0, 0], [0, 0], [0, 0], [0, 0], [0, 0], [0, 0], [0, 0], [0, 0], [0, 0], [0, 0], [0.3434199392795563, 0], [0, 0], [0, 0], [0, 0], [0, 0], [0, 0], [0, 0], [0, 0], [0, 0], [0, 0], [0, 0], [0, 0], [0, 0], [0, 0], [0, 0], [0, 0], [0, 0], [0, 0], [0, 0], [0, 0], [0, 0], [0, 0], [0, 0], [-1.7282754182815552, 0], [0, 0], [0, 0], [0, 0], [0, 0], [0, 0], [2.6597394943237305, 0], [-2.0158426761627197, 0], [0, 0], [2.5524659156799316, 0], [0, 0], [0, 0], [-0.891839861869812, 0], [0, 0], [0, 0], [0, 0], [0, 0], [0, 0], [0, 0], [0, 0], [0, 0], [-0.3157176971435547, 0], [0, 0], [-0.36871081590652466, 0], [0, 0], [0, 0], [0, 0], [-1.1185953617095947, 0], [0, 0], [0, 0], [0, 0], [0, 0], [0, 0], [0, 0], [0, 0], [0, 0], [0, 0], [0, 0], [0, 0], [0, 0], [0, 0], [-0.3292710483074188, 0], [0, 0], [0, 0], [0, 0], [0.5692036747932434, 0], [0, 0], [0, 0], [0, 0], [0, 0], [-1.6665120124816895, 0], [-1.2014142274856567, 0], [0, 0], [0, 0], [0, 0], [2.578335762023926, 0], [0, 0], [0, 0], [0, 0], [0, 0], [0, 0], [0, 0], [-1.1288636922836304, 0], [0, 0], [0, 0], [1.1241339445114136, 0], [0, 0], [0, 0], [0, 0], [-2.160879373550415, 0], [0.048395175486803055, 0], [0, 0], [0, 0], [0, 0], [0, 0], [-1.6734561920166016, 1.8147324323654175], [0, 0], [0, 0], [0, 0], [0, 0], [0, 0], [0, 0], [0.657267689704895, 0]]\n"
     ]
    }
   ],
   "source": [
    "w, h = 2, 250\n",
    "Muon_eta = [[0] * w for i in range(h)]\n",
    "TElectron_eta = [[0] * w for i in range(h)]\n",
    "\n",
    "\n",
    "j=0\n",
    "for i in range(len(N_Protons)):\n",
    "         \n",
    "        Muon_eta[i][0]=AllTMuon_eta[j]\n",
    "        TElectron_eta[i][0]=AllTElectron_eta[j]\n",
    "        \n",
    "        Muon_eta[i][1]=AllTMuon_eta[j+1]\n",
    "        TElectron_eta[i][1]=AllTElectron_eta[j+1]\n",
    "\n",
    "        j=2*(i+1)\n",
    "\n",
    "print('\\n Vector containing pairs of Leading and Sub_Leading for Electrons: \\n', Muon_eta)\n",
    "\n",
    "print('\\n Vector containing pairs of Leading and Sub_Leading for Muons: \\n', TElectron_eta)\n"
   ]
  },
  {
   "cell_type": "code",
   "execution_count": 28,
   "id": "9e677cf8",
   "metadata": {},
   "outputs": [
    {
     "name": "stdout",
     "output_type": "stream",
     "text": [
      "Vector containing the number of valid events Muons: \n",
      " [1. 1. 1. 1. 1. 1. 1. 1. 1. 1. 1. 1. 1. 1. 1. 1. 1. 1. 1. 1. 1. 1. 1. 1.\n",
      " 1. 1. 1. 1. 1. 1. 1. 1. 1. 1. 1. 1. 1. 1. 1. 1. 1. 1. 1. 1. 1. 1. 1. 1.\n",
      " 1. 1. 1. 1. 1. 1. 1. 1. 1. 1. 1. 1. 1. 1. 1. 1. 1. 1. 1. 1. 1. 1. 1. 1.\n",
      " 1. 1. 1. 1. 1. 1. 1. 1. 1. 1. 1. 1. 1. 1. 1. 1. 1. 1. 1. 1. 1. 1. 1. 1.\n",
      " 1. 1. 1. 1. 1. 1. 1. 1. 1. 1. 1. 1. 1. 1. 1. 1. 1. 1. 1. 1. 1. 1. 1. 1.\n",
      " 1. 1. 1. 1. 1. 1. 1. 1. 1. 1. 1. 1. 1. 1. 1. 1. 1. 1. 1. 1. 1. 1. 1. 1.\n",
      " 1. 1. 1. 1. 1. 1. 1. 1. 1. 1. 1. 1. 1. 1. 1. 1. 1. 1. 1. 1. 1. 1. 1. 1.\n",
      " 1. 1. 1. 1. 1. 1. 1. 1. 1. 1. 1. 1. 1. 1. 1. 1. 1. 1. 1. 1. 1. 1. 1. 1.\n",
      " 1. 1. 1. 1. 1. 0. 1. 1. 1. 1. 1. 1. 1. 1. 1. 1. 1. 1. 1. 1. 1. 1. 1. 1.\n",
      " 1. 1. 1. 1. 1. 1. 1. 1. 1. 1. 1. 1. 1. 1. 1. 1. 1. 1. 1. 1. 1. 1. 1. 1.\n",
      " 1. 1. 1. 1. 1. 1. 1. 1. 1. 1.]\n",
      "\n",
      "Vector containing the number of valid events for Electrons: \n",
      " [1. 1. 1. 1. 1. 1. 1. 1. 1. 1. 1. 1. 1. 1. 1. 1. 1. 1. 1. 1. 1. 1. 1. 1.\n",
      " 1. 1. 1. 1. 1. 1. 1. 1. 1. 1. 1. 1. 1. 1. 1. 1. 1. 1. 1. 1. 1. 1. 1. 1.\n",
      " 1. 1. 1. 1. 1. 1. 1. 1. 1. 1. 1. 1. 1. 1. 1. 1. 1. 1. 1. 1. 1. 1. 1. 1.\n",
      " 1. 1. 1. 1. 1. 1. 1. 1. 1. 1. 1. 1. 1. 1. 1. 1. 1. 1. 1. 1. 1. 1. 1. 1.\n",
      " 1. 1. 1. 1. 1. 1. 1. 1. 1. 1. 1. 1. 1. 1. 1. 1. 1. 1. 1. 1. 1. 1. 1. 1.\n",
      " 1. 1. 1. 1. 1. 1. 1. 1. 1. 1. 1. 1. 1. 1. 1. 1. 1. 1. 1. 1. 1. 1. 1. 1.\n",
      " 1. 1. 1. 1. 1. 1. 1. 1. 1. 1. 1. 1. 1. 1. 1. 1. 1. 1. 1. 1. 1. 1. 1. 1.\n",
      " 1. 1. 1. 1. 1. 1. 1. 1. 1. 1. 1. 1. 1. 1. 1. 1. 1. 1. 1. 1. 1. 1. 1. 1.\n",
      " 1. 1. 1. 1. 1. 1. 1. 1. 1. 1. 1. 1. 1. 1. 1. 1. 1. 1. 1. 1. 1. 1. 1. 1.\n",
      " 1. 1. 1. 1. 1. 1. 1. 1. 1. 1. 1. 1. 1. 1. 1. 1. 1. 1. 1. 1. 1. 1. 1. 1.\n",
      " 1. 1. 0. 1. 1. 1. 1. 1. 1. 1.]\n",
      "\n",
      "\n",
      "The number of events with at least 2 Muons and 2 Protons is: 1\n",
      "The number of events with at least 2 Electrons and 2 Protons is: 1\n"
     ]
    }
   ],
   "source": [
    "#_valid_events_M (_valid_events_E) are the events with 2 Muons (Electrons) and 2 Protons\n",
    "\n",
    "print(\"Vector containing the number of valid events Muons: \\n\",noMuons)\n",
    "print(\"\\nVector containing the number of valid events for Electrons: \\n\", noTElectrons)\n",
    "\n",
    "_valid_events_M=0\n",
    "_valid_events_E=0\n",
    "\n",
    "for i in range(len(noMuons)):\n",
    "    if noMuons[i]==0:\n",
    "        _valid_events_M=_valid_events_M+1\n",
    "\n",
    "        \n",
    "for i in range(len(noTElectrons)):\n",
    "    if noTElectrons[i]==0:\n",
    "        _valid_events_E=_valid_events_E+1\n",
    "        \n",
    "\n",
    "print(\"\\n\\nThe number of events with at least 2 Muons and 2 Protons is:\", _valid_events_M)\n",
    "\n",
    "print(\"The number of events with at least 2 Electrons and 2 Protons is:\", _valid_events_E)"
   ]
  },
  {
   "cell_type": "code",
   "execution_count": 29,
   "id": "f25ce062",
   "metadata": {},
   "outputs": [
    {
     "name": "stdout",
     "output_type": "stream",
     "text": [
      "The number of TMuons is: 39\n",
      "The number of Electrons is: 35\n"
     ]
    }
   ],
   "source": [
    "#Counting the number of Muons and Electrons obtained:\n",
    "\n",
    "_n_TMuons=0\n",
    "_n_TElectrons=0\n",
    "\n",
    "for i in range(len(AllTMuon_eta)):\n",
    "    if AllTMuon_eta[i]!=0:\n",
    "        _n_TMuons=_n_TMuons+1\n",
    "    if AllTElectron_eta[i]!=0:\n",
    "        _n_TElectrons=_n_TElectrons+1\n",
    "\n",
    "print(\"The number of TMuons is:\", _n_TMuons)\n",
    "print(\"The number of Electrons is:\", _n_TElectrons)"
   ]
  },
  {
   "cell_type": "markdown",
   "id": "822446c6",
   "metadata": {},
   "source": [
    "Now we must find events that contain at least 1 Muon and 1 Electron together with 2 protons in PPS. For this purpouse we can use the vector that contains Muons and Electrons individually and compare them. After that, we must check kinematics with 'crossed variables'."
   ]
  },
  {
   "cell_type": "code",
   "execution_count": 30,
   "id": "962536b4",
   "metadata": {},
   "outputs": [
    {
     "name": "stdout",
     "output_type": "stream",
     "text": [
      "At least 2 protons = 1. Less than 2 protons = 0\n",
      "[1. 1. 1. 1. 1. 1. 1. 1. 1. 1. 1. 1. 1. 1. 1. 1. 1. 1. 1. 1. 1. 1. 1. 1.\n",
      " 1. 1. 1. 1. 1. 1. 1. 1. 1. 1. 1. 1. 1. 1. 1. 1. 1. 1. 1. 1. 1. 1. 1. 1.\n",
      " 1. 1. 1. 1. 1. 1. 1. 1. 1. 1. 1. 1. 1. 1. 1. 1. 1. 1. 1. 1. 1. 1. 1. 1.\n",
      " 1. 1. 1. 1. 1. 1. 1. 1. 1. 1. 1. 1. 1. 1. 1. 1. 1. 1. 1. 1. 1. 1. 1. 1.\n",
      " 1. 1. 1. 1. 1. 1. 1. 1. 1. 1. 1. 1. 1. 1. 1. 1. 1. 1. 1. 1. 1. 1. 1. 1.\n",
      " 1. 1. 1. 1. 1. 1. 1. 1. 1. 1. 1. 1. 1. 1. 1. 1. 1. 1. 1. 1. 1. 1. 1. 1.\n",
      " 1. 1. 1. 1. 1. 1. 1. 1. 1. 1. 1. 1. 1. 1. 1. 1. 1. 1. 1. 1. 1. 0. 1. 1.\n",
      " 1. 1. 1. 1. 1. 1. 1. 1. 1. 1. 1. 1. 1. 1. 1. 1. 1. 1. 1. 1. 1. 1. 1. 1.\n",
      " 1. 1. 1. 1. 1. 1. 1. 1. 1. 1. 1. 1. 1. 1. 1. 1. 1. 1. 1. 1. 1. 1. 1. 1.\n",
      " 1. 1. 1. 1. 1. 1. 1. 1. 1. 1. 0. 1. 1. 1. 1. 1. 1. 1. 1. 1. 1. 1. 1. 1.\n",
      " 1. 1. 1. 1. 1. 1. 1. 1. 1. 1.]\n"
     ]
    }
   ],
   "source": [
    "#Checking which events contain two protons:\n",
    "\n",
    "Yes_2Protons=np.zeros(n_events)\n",
    "\n",
    "for _ev in range(n_events): #250 is the number of events\n",
    "    if ((ProtonsPos[_ev]!=0) and (ProtonsNeg[_ev]!=0)):\n",
    "        Yes_2Protons[_ev]=1\n",
    "\n",
    "print('At least 2 protons = 1. Less than 2 protons = 0')\n",
    "print(Yes_2Protons)\n"
   ]
  },
  {
   "cell_type": "markdown",
   "id": "08016fef",
   "metadata": {},
   "source": [
    "Let's count how many events have 2 protons and 1 electron + 1 muon."
   ]
  },
  {
   "cell_type": "code",
   "execution_count": 31,
   "id": "279e9cad",
   "metadata": {},
   "outputs": [
    {
     "name": "stdout",
     "output_type": "stream",
     "text": [
      "[[0, 0], [0, 0], [0, 0], [0, 0], [0, 0], [0, 0], [0, 0], [0, 0], [0, 0], [0, 0], [0, 0], [0, 0], [0, 0], [0, 0], [0, 0], [0, 0], [0, 0], [0, 0], [0, 0], [0, 0], [0, 0], [0, 0], [0, 0], [0, 0], [0, 0], [0, 0], [0, 0], [0, 0], [0, 0], [0, 0], [0, 0], [0, 0], [0, 0], [0, 0], [0, 0], [0, 0], [0, 0], [0, 0], [0, 0], [0, 0], [0, 0], [0, 0], [0, 0], [0, 0], [0, 0], [0, 0], [0, 0], [0, 0], [0, 0], [0, 0], [0, 0], [0, 0], [0, 0], [0, 0], [0, 0], [0, 0], [0, 0], [0, 0], [0, 0], [0, 0], [0, 0], [0, 0], [0, 0], [0, 0], [0, 0], [0, 0], [0, 0], [0, 0], [0, 0], [0, 0], [0, 0], [0, 0], [0, 0], [0, 0], [0, 0], [0, 0], [0, 0], [0, 0], [0, 0], [0, 0], [0, 0], [0, 0], [0, 0], [0, 0], [0, 0], [0, 0], [0, 0], [0, 0], [0, 0], [0, 0], [0, 0], [0, 0], [0, 0], [0, 0], [0, 0], [0, 0], [0, 0], [0, 0], [0, 0], [0, 0], [0, 0], [0, 0], [0, 0], [0, 0], [0, 0], [0, 0], [0, 0], [0, 0], [0, 0], [0, 0], [0, 0], [0, 0], [0, 0], [0, 0], [0, 0], [0, 0], [0, 0], [0, 0], [0, 0], [0, 0], [0, 0], [0, 0], [0, 0], [0, 0], [0, 0], [0, 0], [0, 0], [0, 0], [0, 0], [0, 0], [0, 0], [0, 0], [0, 0], [0, 0], [0, 0], [0, 0], [0, 0], [0, 0], [0, 0], [0, 0], [0, 0], [0, 0], [0, 0], [0, 0], [0, 0], [0, 0], [0, 0], [0, 0], [0, 0], [0, 0], [0, 0], [0, 0], [0, 0], [0, 0], [0, 0], [0, 0], [0, 0], [0, 0], [0, 0], [0, 0], [0, 0], [0, 0], [0, 0], [0, 0], [0, 0], [0, 0], [0, 0], [0, 0], [0, 0], [0, 0], [0, 0], [0, 0], [0, 0], [0, 0], [0, 0], [0, 0], [0, 0], [0, 0], [0, 0], [0, 0], [0, 0], [0, 0], [0, 0], [0, 0], [0, 0], [0, 0], [0, 0], [0, 0], [0, 0], [0, 0], [0, 0], [0, 0], [0, 0], [0, 0], [0, 0], [0, 0], [0, 0], [0, 0], [0, 0], [0, 0], [0, 0], [0, 0], [0, 0], [0, 0], [0, 0], [0, 0], [0, 0], [0, 0], [0, 0], [0, 0], [0, 0], [0, 0], [0, 0], [0, 0], [0, 0], [0, 0], [0, 0], [0, 0], [0, 0], [0, 0], [0, 0], [0, 0], [0, 0], [0, 0], [0, 0], [0, 0], [0, 0], [0, 0], [0, 0], [0, 0], [0, 0], [0, 0], [0, 0], [0, 0], [0, 0], [0, 0], [0, 0], [0, 0], [0, 0], [0, 0], [0, 0], [0, 0], [0, 0], [0, 0], [0, 0], [0, 0], [0, 0], [0, 0], [0, 0], [1.0658365488052368, -1.1288636922836304]]\n"
     ]
    }
   ],
   "source": [
    "Electron_Muon=[[0] * w for i in range(h)]\n",
    "\n",
    "for i in range(n_events):\n",
    "    \n",
    "    #if Muon_eta[i][0]!=0 + Electron_eta[i][0]!=0\n",
    "    if (Yes_2Protons[i]==1) and (Muon_eta[i][0]!=0) and (Muon_eta[i][1]==0) and (TElectron_eta[i][0]!=0) and (TElectron_eta[i][1]==0):\n",
    "        \n",
    "        Electron_Muon[_ev][0]=Muon_eta[i][0]\n",
    "        Electron_Muon[_ev][1]=TElectron_eta[i][0]\n",
    "        \n",
    "    #if Muon_eta[i][1]!=0 + Electron_eta[i][1]!=0\n",
    "    if (Yes_2Protons[i]==1) and (Muon_eta[i][0]==0) and (Muon_eta[i][1]!=0) and (TElectron_eta[i][0]==0) and (TElectron_eta[i][1]!=0):\n",
    "               \n",
    "        Electron_Muon[_ev][0]=Muon_eta[i][1]\n",
    "        Electron_Muon[_ev][1]=TElectron_eta[i][1]\n",
    "     \n",
    "    #if Muon_eta[i][0]!=0 + Electron_eta[i][1]!=0\n",
    "    if (Yes_2Protons[i]==1) and (Muon_eta[i][0]==0) and (Muon_eta[i][1]!=0) and (TElectron_eta[i][0]==0) and (TElectron_eta[i][1]!=0):\n",
    "               \n",
    "        Electron_Muon[_ev][0]=Muon_eta[i][0]\n",
    "        Electron_Muon[_ev][1]=TElectron_eta[i][1]\n",
    "    \n",
    "    #if Muon_eta[i][1]!=0 + Electron_eta[i][0]!=0\n",
    "    if (Yes_2Protons[i]==1) and (Muon_eta[i][0]==0) and (Muon_eta[i][1]!=0) and (TElectron_eta[i][0]==0) and (TElectron_eta[i][1]!=0):\n",
    "               \n",
    "        Electron_Muon[_ev][0]=Muon_eta[i][1]\n",
    "        Electron_Muon[_ev][1]=TElectron_eta[i][0]\n",
    "        \n",
    "print(Electron_Muon)"
   ]
  },
  {
   "cell_type": "markdown",
   "id": "e0752cf6",
   "metadata": {},
   "source": [
    "We now have an array named 'Electron_Muon' in which each component has an ordered pair with the 'eta' of 1 Electron and 1 Muon. We can now use the vectors containing the information about the presence of leptons and protons to check wich events are available with 1 electron + 1 muon and 2 protons. Then we must check the kinematics as we did before. "
   ]
  }
 ],
 "metadata": {
  "@webio": {
   "lastCommId": null,
   "lastKernelId": null
  },
  "kernelspec": {
   "display_name": "Python 3",
   "language": "python",
   "name": "python3"
  },
  "language_info": {
   "codemirror_mode": {
    "name": "ipython",
    "version": 3
   },
   "file_extension": ".py",
   "mimetype": "text/x-python",
   "name": "python",
   "nbconvert_exporter": "python",
   "pygments_lexer": "ipython3",
   "version": "3.9.12"
  }
 },
 "nbformat": 4,
 "nbformat_minor": 5
}
